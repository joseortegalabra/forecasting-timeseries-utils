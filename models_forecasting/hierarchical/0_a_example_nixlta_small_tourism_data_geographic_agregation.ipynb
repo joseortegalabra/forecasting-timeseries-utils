{
 "cells": [
  {
   "cell_type": "markdown",
   "id": "0c30ba1d-a06c-4524-b979-5fa9b214a8fc",
   "metadata": {},
   "source": [
    "## NOTEBOOK COPIA EJEMPLO NIXTLA hierarchicalforecast\n",
    "Ejecución de notebook ejemplo base de nixtla - replicar código ejemplo y análisis extra para entender código y modelos ya hechos\n",
    "\n",
    "LINK CÓDIGO ORIGINAL: https://nixtlaverse.nixtla.io/hierarchicalforecast/index.html"
   ]
  },
  {
   "cell_type": "code",
   "execution_count": null,
   "id": "77c2be27-9351-4b88-8cf1-9c43913aeb08",
   "metadata": {},
   "outputs": [],
   "source": []
  },
  {
   "cell_type": "markdown",
   "id": "5ba8c4dc-c9b4-42e2-b181-aa45fd575333",
   "metadata": {},
   "source": [
    "## Pararse en la raíz del repo"
   ]
  },
  {
   "cell_type": "code",
   "execution_count": 1,
   "id": "43384a44-a92e-402e-9f81-cb785fc5504f",
   "metadata": {},
   "outputs": [],
   "source": [
    "import os\n",
    "from pathlib import Path\n",
    "\n",
    "# Buscar el path al root del repo (buscando el archivo .git)\n",
    "def find_repo_root(current_path: Path) -> Path:\n",
    "    for parent in [current_path] + list(current_path.parents):\n",
    "        if (parent / \".git\").exists():\n",
    "            return parent\n",
    "    raise FileNotFoundError(\"No se encontró la raíz del repositorio (.git)\")\n",
    "\n",
    "# Cambiar el directorio de trabajo al root del repo\n",
    "repo_root = find_repo_root(Path.cwd())\n",
    "os.chdir(repo_root)\n",
    "# print(f\"Working directory set to repo root: {repo_root}\")"
   ]
  },
  {
   "cell_type": "code",
   "execution_count": null,
   "id": "13fa0fd3-61b0-43ba-9cfc-aad57572c157",
   "metadata": {},
   "outputs": [],
   "source": []
  },
  {
   "cell_type": "markdown",
   "id": "c573898f-74f5-4104-9e9c-de3f5514b975",
   "metadata": {},
   "source": [
    "## RUN CODE"
   ]
  },
  {
   "cell_type": "code",
   "execution_count": 2,
   "id": "71b20080-a745-4719-aa3e-89f549be8020",
   "metadata": {
    "tags": []
   },
   "outputs": [],
   "source": [
    "# pip install hierarchicalforecast\n",
    "# pip install datasetsforecast\n",
    "# pip install statsforecast"
   ]
  },
  {
   "cell_type": "code",
   "execution_count": 3,
   "id": "843ecc5b-61e4-4ac4-b691-701d1614d79e",
   "metadata": {
    "tags": []
   },
   "outputs": [],
   "source": [
    "import hierarchicalforecast"
   ]
  },
  {
   "cell_type": "code",
   "execution_count": 4,
   "id": "13ddc8b6-190f-4dbd-834c-aa17aa0b2558",
   "metadata": {
    "tags": []
   },
   "outputs": [],
   "source": [
    "import pandas as pd\n",
    "#obtain hierarchical dataset\n",
    "from datasetsforecast.hierarchical import HierarchicalData\n",
    "\n",
    "# compute base forecast no coherent\n",
    "from statsforecast.core import StatsForecast\n",
    "from statsforecast.models import AutoARIMA, Naive\n",
    "\n",
    "#obtain hierarchical reconciliation methods and evaluation\n",
    "from hierarchicalforecast.core import HierarchicalReconciliation\n",
    "from hierarchicalforecast.evaluation import evaluate\n",
    "from hierarchicalforecast.methods import BottomUp, TopDown, MiddleOut, MinTrace\n",
    "from utilsforecast.losses import mse"
   ]
  },
  {
   "cell_type": "markdown",
   "id": "3506d2af-8fde-41ff-99fd-748aa679bcc4",
   "metadata": {},
   "source": [
    "### 1. Load data"
   ]
  },
  {
   "cell_type": "code",
   "execution_count": 5,
   "id": "6ff8e3a4-3c3b-4229-89b2-bbe6c3aa8bc2",
   "metadata": {
    "tags": []
   },
   "outputs": [
    {
     "name": "stderr",
     "output_type": "stream",
     "text": [
      "100%|█████████████████████████████████████| 1.30M/1.30M [00:00<00:00, 2.12MiB/s]\n",
      "INFO:datasetsforecast.utils:Successfully downloaded datasets.zip, 1297274, bytes.\n",
      "INFO:datasetsforecast.utils:Decompressing zip file...\n",
      "INFO:datasetsforecast.utils:Successfully decompressed data/hierarchical/datasets.zip\n",
      "100%|████████████████████████████████████████| 335k/335k [00:00<00:00, 709kiB/s]\n",
      "INFO:datasetsforecast.utils:Successfully downloaded OldTraffic.zip, 335471, bytes.\n",
      "INFO:datasetsforecast.utils:Decompressing zip file...\n",
      "INFO:datasetsforecast.utils:Successfully decompressed data/hierarchical/OldTraffic.zip\n",
      "100%|███████████████████████████████████████| 968k/968k [00:00<00:00, 1.64MiB/s]\n",
      "INFO:datasetsforecast.utils:Successfully downloaded OldTourismLarge.zip, 967629, bytes.\n",
      "INFO:datasetsforecast.utils:Decompressing zip file...\n",
      "INFO:datasetsforecast.utils:Successfully decompressed data/hierarchical/OldTourismLarge.zip\n"
     ]
    }
   ],
   "source": [
    "# Load TourismSmall dataset\n",
    "Y_df, S, tags = HierarchicalData.load('./data', 'TourismSmall')\n",
    "Y_df['ds'] = pd.to_datetime(Y_df['ds'])\n",
    "S = S.reset_index(names=\"unique_id\")"
   ]
  },
  {
   "cell_type": "code",
   "execution_count": 6,
   "id": "0ff25030-9e8e-451a-af0f-d38527605239",
   "metadata": {
    "tags": []
   },
   "outputs": [
    {
     "data": {
      "text/plain": [
       "(89, 57)"
      ]
     },
     "execution_count": 6,
     "metadata": {},
     "output_type": "execute_result"
    }
   ],
   "source": [
    "# matriz S\n",
    "S.shape"
   ]
  },
  {
   "cell_type": "code",
   "execution_count": 7,
   "id": "910f29e7-9d95-4d46-984a-c7c9cf13acb8",
   "metadata": {
    "tags": []
   },
   "outputs": [
    {
     "data": {
      "text/html": [
       "<div>\n",
       "<style scoped>\n",
       "    .dataframe tbody tr th:only-of-type {\n",
       "        vertical-align: middle;\n",
       "    }\n",
       "\n",
       "    .dataframe tbody tr th {\n",
       "        vertical-align: top;\n",
       "    }\n",
       "\n",
       "    .dataframe thead th {\n",
       "        text-align: right;\n",
       "    }\n",
       "</style>\n",
       "<table border=\"1\" class=\"dataframe\">\n",
       "  <thead>\n",
       "    <tr style=\"text-align: right;\">\n",
       "      <th></th>\n",
       "      <th>unique_id</th>\n",
       "      <th>nsw-hol-city</th>\n",
       "      <th>nsw-hol-noncity</th>\n",
       "      <th>vic-hol-city</th>\n",
       "      <th>vic-hol-noncity</th>\n",
       "      <th>qld-hol-city</th>\n",
       "      <th>qld-hol-noncity</th>\n",
       "      <th>sa-hol-city</th>\n",
       "      <th>sa-hol-noncity</th>\n",
       "      <th>wa-hol-city</th>\n",
       "      <th>...</th>\n",
       "      <th>qld-oth-city</th>\n",
       "      <th>qld-oth-noncity</th>\n",
       "      <th>sa-oth-city</th>\n",
       "      <th>sa-oth-noncity</th>\n",
       "      <th>wa-oth-city</th>\n",
       "      <th>wa-oth-noncity</th>\n",
       "      <th>tas-oth-city</th>\n",
       "      <th>tas-oth-noncity</th>\n",
       "      <th>nt-oth-city</th>\n",
       "      <th>nt-oth-noncity</th>\n",
       "    </tr>\n",
       "  </thead>\n",
       "  <tbody>\n",
       "    <tr>\n",
       "      <th>0</th>\n",
       "      <td>total</td>\n",
       "      <td>1.0</td>\n",
       "      <td>1.0</td>\n",
       "      <td>1.0</td>\n",
       "      <td>1.0</td>\n",
       "      <td>1.0</td>\n",
       "      <td>1.0</td>\n",
       "      <td>1.0</td>\n",
       "      <td>1.0</td>\n",
       "      <td>1.0</td>\n",
       "      <td>...</td>\n",
       "      <td>1.0</td>\n",
       "      <td>1.0</td>\n",
       "      <td>1.0</td>\n",
       "      <td>1.0</td>\n",
       "      <td>1.0</td>\n",
       "      <td>1.0</td>\n",
       "      <td>1.0</td>\n",
       "      <td>1.0</td>\n",
       "      <td>1.0</td>\n",
       "      <td>1.0</td>\n",
       "    </tr>\n",
       "    <tr>\n",
       "      <th>1</th>\n",
       "      <td>hol</td>\n",
       "      <td>1.0</td>\n",
       "      <td>1.0</td>\n",
       "      <td>1.0</td>\n",
       "      <td>1.0</td>\n",
       "      <td>1.0</td>\n",
       "      <td>1.0</td>\n",
       "      <td>1.0</td>\n",
       "      <td>1.0</td>\n",
       "      <td>1.0</td>\n",
       "      <td>...</td>\n",
       "      <td>0.0</td>\n",
       "      <td>0.0</td>\n",
       "      <td>0.0</td>\n",
       "      <td>0.0</td>\n",
       "      <td>0.0</td>\n",
       "      <td>0.0</td>\n",
       "      <td>0.0</td>\n",
       "      <td>0.0</td>\n",
       "      <td>0.0</td>\n",
       "      <td>0.0</td>\n",
       "    </tr>\n",
       "    <tr>\n",
       "      <th>2</th>\n",
       "      <td>vfr</td>\n",
       "      <td>0.0</td>\n",
       "      <td>0.0</td>\n",
       "      <td>0.0</td>\n",
       "      <td>0.0</td>\n",
       "      <td>0.0</td>\n",
       "      <td>0.0</td>\n",
       "      <td>0.0</td>\n",
       "      <td>0.0</td>\n",
       "      <td>0.0</td>\n",
       "      <td>...</td>\n",
       "      <td>0.0</td>\n",
       "      <td>0.0</td>\n",
       "      <td>0.0</td>\n",
       "      <td>0.0</td>\n",
       "      <td>0.0</td>\n",
       "      <td>0.0</td>\n",
       "      <td>0.0</td>\n",
       "      <td>0.0</td>\n",
       "      <td>0.0</td>\n",
       "      <td>0.0</td>\n",
       "    </tr>\n",
       "    <tr>\n",
       "      <th>3</th>\n",
       "      <td>bus</td>\n",
       "      <td>0.0</td>\n",
       "      <td>0.0</td>\n",
       "      <td>0.0</td>\n",
       "      <td>0.0</td>\n",
       "      <td>0.0</td>\n",
       "      <td>0.0</td>\n",
       "      <td>0.0</td>\n",
       "      <td>0.0</td>\n",
       "      <td>0.0</td>\n",
       "      <td>...</td>\n",
       "      <td>0.0</td>\n",
       "      <td>0.0</td>\n",
       "      <td>0.0</td>\n",
       "      <td>0.0</td>\n",
       "      <td>0.0</td>\n",
       "      <td>0.0</td>\n",
       "      <td>0.0</td>\n",
       "      <td>0.0</td>\n",
       "      <td>0.0</td>\n",
       "      <td>0.0</td>\n",
       "    </tr>\n",
       "    <tr>\n",
       "      <th>4</th>\n",
       "      <td>oth</td>\n",
       "      <td>0.0</td>\n",
       "      <td>0.0</td>\n",
       "      <td>0.0</td>\n",
       "      <td>0.0</td>\n",
       "      <td>0.0</td>\n",
       "      <td>0.0</td>\n",
       "      <td>0.0</td>\n",
       "      <td>0.0</td>\n",
       "      <td>0.0</td>\n",
       "      <td>...</td>\n",
       "      <td>1.0</td>\n",
       "      <td>1.0</td>\n",
       "      <td>1.0</td>\n",
       "      <td>1.0</td>\n",
       "      <td>1.0</td>\n",
       "      <td>1.0</td>\n",
       "      <td>1.0</td>\n",
       "      <td>1.0</td>\n",
       "      <td>1.0</td>\n",
       "      <td>1.0</td>\n",
       "    </tr>\n",
       "  </tbody>\n",
       "</table>\n",
       "<p>5 rows × 57 columns</p>\n",
       "</div>"
      ],
      "text/plain": [
       "  unique_id  nsw-hol-city  nsw-hol-noncity  vic-hol-city  vic-hol-noncity  \\\n",
       "0     total           1.0              1.0           1.0              1.0   \n",
       "1       hol           1.0              1.0           1.0              1.0   \n",
       "2       vfr           0.0              0.0           0.0              0.0   \n",
       "3       bus           0.0              0.0           0.0              0.0   \n",
       "4       oth           0.0              0.0           0.0              0.0   \n",
       "\n",
       "   qld-hol-city  qld-hol-noncity  sa-hol-city  sa-hol-noncity  wa-hol-city  \\\n",
       "0           1.0              1.0          1.0             1.0          1.0   \n",
       "1           1.0              1.0          1.0             1.0          1.0   \n",
       "2           0.0              0.0          0.0             0.0          0.0   \n",
       "3           0.0              0.0          0.0             0.0          0.0   \n",
       "4           0.0              0.0          0.0             0.0          0.0   \n",
       "\n",
       "   ...  qld-oth-city  qld-oth-noncity  sa-oth-city  sa-oth-noncity  \\\n",
       "0  ...           1.0              1.0          1.0             1.0   \n",
       "1  ...           0.0              0.0          0.0             0.0   \n",
       "2  ...           0.0              0.0          0.0             0.0   \n",
       "3  ...           0.0              0.0          0.0             0.0   \n",
       "4  ...           1.0              1.0          1.0             1.0   \n",
       "\n",
       "   wa-oth-city  wa-oth-noncity  tas-oth-city  tas-oth-noncity  nt-oth-city  \\\n",
       "0          1.0             1.0           1.0              1.0          1.0   \n",
       "1          0.0             0.0           0.0              0.0          0.0   \n",
       "2          0.0             0.0           0.0              0.0          0.0   \n",
       "3          0.0             0.0           0.0              0.0          0.0   \n",
       "4          1.0             1.0           1.0              1.0          1.0   \n",
       "\n",
       "   nt-oth-noncity  \n",
       "0             1.0  \n",
       "1             0.0  \n",
       "2             0.0  \n",
       "3             0.0  \n",
       "4             1.0  \n",
       "\n",
       "[5 rows x 57 columns]"
      ]
     },
     "execution_count": 7,
     "metadata": {},
     "output_type": "execute_result"
    }
   ],
   "source": [
    "S.head()"
   ]
  },
  {
   "cell_type": "code",
   "execution_count": 8,
   "id": "1521ca26-a1ec-415d-ab5a-8b05848580b0",
   "metadata": {
    "tags": []
   },
   "outputs": [
    {
     "data": {
      "text/plain": [
       "(3204, 3)"
      ]
     },
     "execution_count": 8,
     "metadata": {},
     "output_type": "execute_result"
    }
   ],
   "source": [
    "# matriz datos\n",
    "Y_df.shape"
   ]
  },
  {
   "cell_type": "code",
   "execution_count": 9,
   "id": "c06c685f-498e-4096-b07e-a8ae5c74800c",
   "metadata": {
    "tags": []
   },
   "outputs": [
    {
     "data": {
      "text/html": [
       "<div>\n",
       "<style scoped>\n",
       "    .dataframe tbody tr th:only-of-type {\n",
       "        vertical-align: middle;\n",
       "    }\n",
       "\n",
       "    .dataframe tbody tr th {\n",
       "        vertical-align: top;\n",
       "    }\n",
       "\n",
       "    .dataframe thead th {\n",
       "        text-align: right;\n",
       "    }\n",
       "</style>\n",
       "<table border=\"1\" class=\"dataframe\">\n",
       "  <thead>\n",
       "    <tr style=\"text-align: right;\">\n",
       "      <th></th>\n",
       "      <th>unique_id</th>\n",
       "      <th>ds</th>\n",
       "      <th>y</th>\n",
       "    </tr>\n",
       "  </thead>\n",
       "  <tbody>\n",
       "    <tr>\n",
       "      <th>0</th>\n",
       "      <td>total</td>\n",
       "      <td>1998-03-31</td>\n",
       "      <td>84503</td>\n",
       "    </tr>\n",
       "    <tr>\n",
       "      <th>1</th>\n",
       "      <td>total</td>\n",
       "      <td>1998-06-30</td>\n",
       "      <td>65312</td>\n",
       "    </tr>\n",
       "    <tr>\n",
       "      <th>2</th>\n",
       "      <td>total</td>\n",
       "      <td>1998-09-30</td>\n",
       "      <td>72753</td>\n",
       "    </tr>\n",
       "    <tr>\n",
       "      <th>3</th>\n",
       "      <td>total</td>\n",
       "      <td>1998-12-31</td>\n",
       "      <td>70880</td>\n",
       "    </tr>\n",
       "    <tr>\n",
       "      <th>4</th>\n",
       "      <td>total</td>\n",
       "      <td>1999-03-31</td>\n",
       "      <td>86893</td>\n",
       "    </tr>\n",
       "  </tbody>\n",
       "</table>\n",
       "</div>"
      ],
      "text/plain": [
       "  unique_id         ds      y\n",
       "0     total 1998-03-31  84503\n",
       "1     total 1998-06-30  65312\n",
       "2     total 1998-09-30  72753\n",
       "3     total 1998-12-31  70880\n",
       "4     total 1999-03-31  86893"
      ]
     },
     "execution_count": 9,
     "metadata": {},
     "output_type": "execute_result"
    }
   ],
   "source": [
    "Y_df.head()"
   ]
  },
  {
   "cell_type": "code",
   "execution_count": 10,
   "id": "40bc2796-dc3d-4a6a-9eac-e36f54a3138a",
   "metadata": {
    "tags": []
   },
   "outputs": [
    {
     "data": {
      "text/plain": [
       "{'Country': array(['total'], dtype=object),\n",
       " 'Country/Purpose': array(['hol', 'vfr', 'bus', 'oth'], dtype=object),\n",
       " 'Country/Purpose/State': array(['nsw-hol', 'vic-hol', 'qld-hol', 'sa-hol', 'wa-hol', 'tas-hol',\n",
       "        'nt-hol', 'nsw-vfr', 'vic-vfr', 'qld-vfr', 'sa-vfr', 'wa-vfr',\n",
       "        'tas-vfr', 'nt-vfr', 'nsw-bus', 'vic-bus', 'qld-bus', 'sa-bus',\n",
       "        'wa-bus', 'tas-bus', 'nt-bus', 'nsw-oth', 'vic-oth', 'qld-oth',\n",
       "        'sa-oth', 'wa-oth', 'tas-oth', 'nt-oth'], dtype=object),\n",
       " 'Country/Purpose/State/CityNonCity': array(['nsw-hol-city', 'nsw-hol-noncity', 'vic-hol-city',\n",
       "        'vic-hol-noncity', 'qld-hol-city', 'qld-hol-noncity',\n",
       "        'sa-hol-city', 'sa-hol-noncity', 'wa-hol-city', 'wa-hol-noncity',\n",
       "        'tas-hol-city', 'tas-hol-noncity', 'nt-hol-city', 'nt-hol-noncity',\n",
       "        'nsw-vfr-city', 'nsw-vfr-noncity', 'vic-vfr-city',\n",
       "        'vic-vfr-noncity', 'qld-vfr-city', 'qld-vfr-noncity',\n",
       "        'sa-vfr-city', 'sa-vfr-noncity', 'wa-vfr-city', 'wa-vfr-noncity',\n",
       "        'tas-vfr-city', 'tas-vfr-noncity', 'nt-vfr-city', 'nt-vfr-noncity',\n",
       "        'nsw-bus-city', 'nsw-bus-noncity', 'vic-bus-city',\n",
       "        'vic-bus-noncity', 'qld-bus-city', 'qld-bus-noncity',\n",
       "        'sa-bus-city', 'sa-bus-noncity', 'wa-bus-city', 'wa-bus-noncity',\n",
       "        'tas-bus-city', 'tas-bus-noncity', 'nt-bus-city', 'nt-bus-noncity',\n",
       "        'nsw-oth-city', 'nsw-oth-noncity', 'vic-oth-city',\n",
       "        'vic-oth-noncity', 'qld-oth-city', 'qld-oth-noncity',\n",
       "        'sa-oth-city', 'sa-oth-noncity', 'wa-oth-city', 'wa-oth-noncity',\n",
       "        'tas-oth-city', 'tas-oth-noncity', 'nt-oth-city', 'nt-oth-noncity'],\n",
       "       dtype=object)}"
      ]
     },
     "execution_count": 10,
     "metadata": {},
     "output_type": "execute_result"
    }
   ],
   "source": [
    "# tags - composición agregaciones de las series.\n",
    "# esta configuración de agregaciones es la que debe reflejarse en la matriz S\n",
    "tags"
   ]
  },
  {
   "cell_type": "code",
   "execution_count": 11,
   "id": "5163d94e-f82f-4b1d-a2dd-7b852847992d",
   "metadata": {
    "tags": []
   },
   "outputs": [
    {
     "data": {
      "text/plain": [
       "dict_keys(['Country', 'Country/Purpose', 'Country/Purpose/State', 'Country/Purpose/State/CityNonCity'])"
      ]
     },
     "execution_count": 11,
     "metadata": {},
     "output_type": "execute_result"
    }
   ],
   "source": [
    "tags.keys()"
   ]
  },
  {
   "cell_type": "code",
   "execution_count": 12,
   "id": "fe71ac2a-5d6d-451c-8e4e-e12023b959c6",
   "metadata": {
    "tags": []
   },
   "outputs": [
    {
     "data": {
      "text/plain": [
       "array(['total'], dtype=object)"
      ]
     },
     "execution_count": 12,
     "metadata": {},
     "output_type": "execute_result"
    }
   ],
   "source": [
    "tags['Country']"
   ]
  },
  {
   "cell_type": "code",
   "execution_count": 13,
   "id": "5cc6bf9e-ce8e-4b5c-be3e-54676447dbae",
   "metadata": {
    "tags": []
   },
   "outputs": [
    {
     "data": {
      "text/plain": [
       "array(['hol', 'vfr', 'bus', 'oth'], dtype=object)"
      ]
     },
     "execution_count": 13,
     "metadata": {},
     "output_type": "execute_result"
    }
   ],
   "source": [
    "tags['Country/Purpose']"
   ]
  },
  {
   "cell_type": "code",
   "execution_count": 14,
   "id": "b7177c22-2c3f-43cb-b49e-519491ccbea6",
   "metadata": {
    "tags": []
   },
   "outputs": [
    {
     "data": {
      "text/plain": [
       "array(['nsw-hol', 'vic-hol', 'qld-hol', 'sa-hol', 'wa-hol', 'tas-hol',\n",
       "       'nt-hol', 'nsw-vfr', 'vic-vfr', 'qld-vfr', 'sa-vfr', 'wa-vfr',\n",
       "       'tas-vfr', 'nt-vfr', 'nsw-bus', 'vic-bus', 'qld-bus', 'sa-bus',\n",
       "       'wa-bus', 'tas-bus', 'nt-bus', 'nsw-oth', 'vic-oth', 'qld-oth',\n",
       "       'sa-oth', 'wa-oth', 'tas-oth', 'nt-oth'], dtype=object)"
      ]
     },
     "execution_count": 14,
     "metadata": {},
     "output_type": "execute_result"
    }
   ],
   "source": [
    "tags['Country/Purpose/State']"
   ]
  },
  {
   "cell_type": "code",
   "execution_count": 15,
   "id": "c836e4fa-be8b-474d-996e-c3029c94f601",
   "metadata": {
    "tags": []
   },
   "outputs": [
    {
     "data": {
      "text/plain": [
       "array(['nsw-hol-city', 'nsw-hol-noncity', 'vic-hol-city',\n",
       "       'vic-hol-noncity', 'qld-hol-city', 'qld-hol-noncity',\n",
       "       'sa-hol-city', 'sa-hol-noncity', 'wa-hol-city', 'wa-hol-noncity',\n",
       "       'tas-hol-city', 'tas-hol-noncity', 'nt-hol-city', 'nt-hol-noncity',\n",
       "       'nsw-vfr-city', 'nsw-vfr-noncity', 'vic-vfr-city',\n",
       "       'vic-vfr-noncity', 'qld-vfr-city', 'qld-vfr-noncity',\n",
       "       'sa-vfr-city', 'sa-vfr-noncity', 'wa-vfr-city', 'wa-vfr-noncity',\n",
       "       'tas-vfr-city', 'tas-vfr-noncity', 'nt-vfr-city', 'nt-vfr-noncity',\n",
       "       'nsw-bus-city', 'nsw-bus-noncity', 'vic-bus-city',\n",
       "       'vic-bus-noncity', 'qld-bus-city', 'qld-bus-noncity',\n",
       "       'sa-bus-city', 'sa-bus-noncity', 'wa-bus-city', 'wa-bus-noncity',\n",
       "       'tas-bus-city', 'tas-bus-noncity', 'nt-bus-city', 'nt-bus-noncity',\n",
       "       'nsw-oth-city', 'nsw-oth-noncity', 'vic-oth-city',\n",
       "       'vic-oth-noncity', 'qld-oth-city', 'qld-oth-noncity',\n",
       "       'sa-oth-city', 'sa-oth-noncity', 'wa-oth-city', 'wa-oth-noncity',\n",
       "       'tas-oth-city', 'tas-oth-noncity', 'nt-oth-city', 'nt-oth-noncity'],\n",
       "      dtype=object)"
      ]
     },
     "execution_count": 15,
     "metadata": {},
     "output_type": "execute_result"
    }
   ],
   "source": [
    "tags['Country/Purpose/State/CityNonCity']"
   ]
  },
  {
   "cell_type": "code",
   "execution_count": null,
   "id": "03fd16bf-edad-4496-8c65-182938c7e716",
   "metadata": {},
   "outputs": [],
   "source": []
  },
  {
   "cell_type": "code",
   "execution_count": null,
   "id": "73d4d00f-6a3d-46bd-b0df-2a4a910525bb",
   "metadata": {},
   "outputs": [],
   "source": []
  },
  {
   "cell_type": "code",
   "execution_count": null,
   "id": "542cd277-bd2d-4327-915e-848554084f9e",
   "metadata": {},
   "outputs": [],
   "source": []
  },
  {
   "cell_type": "markdown",
   "id": "99b4ebce-adbb-4634-b5de-c576933f94c8",
   "metadata": {},
   "source": [
    "### 2. Entender matriz S"
   ]
  },
  {
   "cell_type": "code",
   "execution_count": 16,
   "id": "9b4db392-c4eb-4c8e-94b1-1b3d30a93a9c",
   "metadata": {
    "tags": []
   },
   "outputs": [],
   "source": [
    "# se ve que hay 87 filas y 57 columnas (cada fila y cada columna valor único), \n",
    "# entonces, la intuiación es que en las filas primero aparecen las agregaciones y luego aparecen las series individuales que conforman las agregaciones\n",
    "\n",
    "#\n",
    "# filas que representan agregaciones de series: tienen más de un valor 1 (en las columnas)\n",
    "# filas que representan series individuales: tienen un único valor 1 (en las columnas) ya que corresponde a una serie individual"
   ]
  },
  {
   "cell_type": "code",
   "execution_count": null,
   "id": "a2c2c6ca-53dc-406c-a68b-62e226061254",
   "metadata": {},
   "outputs": [],
   "source": []
  },
  {
   "cell_type": "code",
   "execution_count": 17,
   "id": "bc48e761-b94f-420e-bc0f-e62f73bc6b4b",
   "metadata": {
    "tags": []
   },
   "outputs": [
    {
     "name": "stdout",
     "output_type": "stream",
     "text": [
      "list_columns:  56\n",
      "list_rows:  89\n"
     ]
    }
   ],
   "source": [
    "# obtener listado de series en columnas y filas\n",
    "list_columns = S.set_index('unique_id').columns.tolist()\n",
    "list_rows = S['unique_id'].values.tolist()\n",
    "print('list_columns: ', len(list_columns))\n",
    "print('list_rows: ', len(list_rows))"
   ]
  },
  {
   "cell_type": "code",
   "execution_count": 18,
   "id": "7594ada9-9270-480b-8180-070500c9bb96",
   "metadata": {
    "tags": []
   },
   "outputs": [
    {
     "data": {
      "text/plain": [
       "0"
      ]
     },
     "execution_count": 18,
     "metadata": {},
     "output_type": "execute_result"
    }
   ],
   "source": [
    "# valores que están en las columnas que no están en las filas. deberían estar todos porque en las columnas estan las series individuales\n",
    "list_columns_minus_list_rows = list(set(list_columns) - set(list_rows))\n",
    "len(list_columns_minus_list_rows)"
   ]
  },
  {
   "cell_type": "code",
   "execution_count": 19,
   "id": "2a41013c-18d5-46af-90cf-6aed80fa1c3a",
   "metadata": {
    "tags": []
   },
   "outputs": [
    {
     "data": {
      "text/plain": [
       "33"
      ]
     },
     "execution_count": 19,
     "metadata": {},
     "output_type": "execute_result"
    }
   ],
   "source": [
    "# valores las filas que no están en las columnas. se deberían retornar las series agregadas, ya que las series agregadas están en las filas\n",
    "list_rows_minus_list_columns = list(set(list_rows) - set(list_columns))\n",
    "len(list_rows_minus_list_columns)"
   ]
  },
  {
   "cell_type": "code",
   "execution_count": 20,
   "id": "dfd1c446-303d-4c51-98c4-befefd237b98",
   "metadata": {
    "tags": []
   },
   "outputs": [
    {
     "data": {
      "text/plain": [
       "89"
      ]
     },
     "execution_count": 20,
     "metadata": {},
     "output_type": "execute_result"
    }
   ],
   "source": [
    "# validar: al sumar las series individuales en las columnas más las series de las filas que representan la agregación de series debe ser igual al total de filas\n",
    "len(list_rows_minus_list_columns) + len(list_columns)"
   ]
  },
  {
   "cell_type": "code",
   "execution_count": 21,
   "id": "6e5ff795-926d-4d93-882d-92d99a067f1a",
   "metadata": {
    "tags": []
   },
   "outputs": [],
   "source": [
    "# mostrar el valor de ejemplo de una serie agregación de series individuales\n",
    "show_serie_example = S[S['unique_id'] == 'wa-oth'].reset_index(drop = True).iloc[0]\n",
    "# show_serie_example"
   ]
  },
  {
   "cell_type": "code",
   "execution_count": 22,
   "id": "cef15f20-6337-46fa-925d-3d8864da456e",
   "metadata": {
    "tags": []
   },
   "outputs": [],
   "source": [
    "# mostrar el valor de ejemplo de una serie individual\n",
    "show_serie_example = S[S['unique_id'] == 'nt-oth-noncity'].reset_index(drop = True).iloc[0]\n",
    "# show_serie_example"
   ]
  },
  {
   "cell_type": "code",
   "execution_count": null,
   "id": "18bcc410-b790-44b8-ae73-bf5861547d58",
   "metadata": {},
   "outputs": [],
   "source": []
  },
  {
   "cell_type": "markdown",
   "id": "909df138-90ff-4d87-b243-623cfd6d5267",
   "metadata": {},
   "source": [
    "### 3. Entender datos series"
   ]
  },
  {
   "cell_type": "code",
   "execution_count": 23,
   "id": "b9416e8f-7d63-44fa-943a-a501ade15852",
   "metadata": {
    "tags": []
   },
   "outputs": [
    {
     "data": {
      "text/html": [
       "<div>\n",
       "<style scoped>\n",
       "    .dataframe tbody tr th:only-of-type {\n",
       "        vertical-align: middle;\n",
       "    }\n",
       "\n",
       "    .dataframe tbody tr th {\n",
       "        vertical-align: top;\n",
       "    }\n",
       "\n",
       "    .dataframe thead th {\n",
       "        text-align: right;\n",
       "    }\n",
       "</style>\n",
       "<table border=\"1\" class=\"dataframe\">\n",
       "  <thead>\n",
       "    <tr style=\"text-align: right;\">\n",
       "      <th></th>\n",
       "      <th>unique_id</th>\n",
       "      <th>ds</th>\n",
       "      <th>y</th>\n",
       "    </tr>\n",
       "  </thead>\n",
       "  <tbody>\n",
       "    <tr>\n",
       "      <th>0</th>\n",
       "      <td>total</td>\n",
       "      <td>1998-03-31</td>\n",
       "      <td>84503</td>\n",
       "    </tr>\n",
       "    <tr>\n",
       "      <th>1</th>\n",
       "      <td>total</td>\n",
       "      <td>1998-06-30</td>\n",
       "      <td>65312</td>\n",
       "    </tr>\n",
       "    <tr>\n",
       "      <th>2</th>\n",
       "      <td>total</td>\n",
       "      <td>1998-09-30</td>\n",
       "      <td>72753</td>\n",
       "    </tr>\n",
       "  </tbody>\n",
       "</table>\n",
       "</div>"
      ],
      "text/plain": [
       "  unique_id         ds      y\n",
       "0     total 1998-03-31  84503\n",
       "1     total 1998-06-30  65312\n",
       "2     total 1998-09-30  72753"
      ]
     },
     "execution_count": 23,
     "metadata": {},
     "output_type": "execute_result"
    }
   ],
   "source": [
    "Y_df.head(3)"
   ]
  },
  {
   "cell_type": "code",
   "execution_count": 24,
   "id": "0710ff59-145f-4bba-95ac-14cf8d656002",
   "metadata": {
    "tags": []
   },
   "outputs": [
    {
     "data": {
      "text/plain": [
       "(89,)"
      ]
     },
     "execution_count": 24,
     "metadata": {},
     "output_type": "execute_result"
    }
   ],
   "source": [
    "# se ve que hay 89 series en los datos, lo que corresponde al total de series que existen en la matriz S\n",
    "cantidad_series = Y_df['unique_id'].unique().shape\n",
    "cantidad_series"
   ]
  },
  {
   "cell_type": "code",
   "execution_count": 25,
   "id": "6551f1d5-ccd0-48bb-8f99-0b10f64b5699",
   "metadata": {
    "tags": []
   },
   "outputs": [
    {
     "data": {
      "text/plain": [
       "(36,)"
      ]
     },
     "execution_count": 25,
     "metadata": {},
     "output_type": "execute_result"
    }
   ],
   "source": [
    "# cantidad de datos en cada serie\n",
    "cantidad_datos_cada_serie = Y_df[Y_df['unique_id'] == 'total']['ds'].unique().shape\n",
    "cantidad_datos_cada_serie"
   ]
  },
  {
   "cell_type": "code",
   "execution_count": 26,
   "id": "c57005fe-97e2-47a7-ada8-99870415bc1c",
   "metadata": {
    "tags": []
   },
   "outputs": [
    {
     "name": "stdout",
     "output_type": "stream",
     "text": [
      "3204\n",
      "3204\n",
      "True\n"
     ]
    }
   ],
   "source": [
    "# validar que todas las series tienen la misma cantidad de datos\n",
    "# cantidad de datos (de una serie) * cantidad de series = tamaño dataframe\n",
    "print( cantidad_datos_cada_serie[0] * cantidad_series[0] )\n",
    "print( Y_df.shape[0] )\n",
    "print( cantidad_datos_cada_serie[0] * cantidad_series[0] == Y_df.shape[0] )"
   ]
  },
  {
   "cell_type": "code",
   "execution_count": null,
   "id": "11dd381f-159d-4408-b1f0-c31214baa310",
   "metadata": {
    "tags": []
   },
   "outputs": [],
   "source": []
  },
  {
   "cell_type": "code",
   "execution_count": null,
   "id": "25431726-0956-4a46-b8b8-63667761f2df",
   "metadata": {},
   "outputs": [],
   "source": []
  },
  {
   "cell_type": "code",
   "execution_count": null,
   "id": "c98b4490-622e-4fbe-95b6-6d735ad60750",
   "metadata": {},
   "outputs": [],
   "source": []
  },
  {
   "cell_type": "markdown",
   "id": "3a7bd583-46cd-4f7c-b6d5-f3494af0b846",
   "metadata": {},
   "source": [
    "### 4. split train/test datos series\n",
    "Para test las últimas 4 observaciones"
   ]
  },
  {
   "cell_type": "code",
   "execution_count": 27,
   "id": "a6455ab0-25ee-4278-b22a-75e47fcd0489",
   "metadata": {
    "tags": []
   },
   "outputs": [
    {
     "data": {
      "text/plain": [
       "36"
      ]
     },
     "execution_count": 27,
     "metadata": {},
     "output_type": "execute_result"
    }
   ],
   "source": [
    "# print cantidad de observaciones en cada serie\n",
    "cantidad_datos_cada_serie[0]"
   ]
  },
  {
   "cell_type": "code",
   "execution_count": 28,
   "id": "ab068d33-c1cc-4532-adf3-858256250f33",
   "metadata": {
    "tags": []
   },
   "outputs": [
    {
     "name": "stdout",
     "output_type": "stream",
     "text": [
      "shape train:  (2848, 3)\n",
      "shape test:  (356, 3)\n"
     ]
    }
   ],
   "source": [
    "#split train/test sets\n",
    "Y_test_df  = Y_df.groupby('unique_id').tail(4)\n",
    "Y_train_df = Y_df.drop(Y_test_df.index)\n",
    "\n",
    "print('shape train: ', Y_train_df.shape)\n",
    "print('shape test: ', Y_test_df.shape)"
   ]
  },
  {
   "cell_type": "code",
   "execution_count": 29,
   "id": "b7dea119-6785-4b66-bfbe-0c4de05516f3",
   "metadata": {
    "tags": []
   },
   "outputs": [
    {
     "data": {
      "text/plain": [
       "356"
      ]
     },
     "execution_count": 29,
     "metadata": {},
     "output_type": "execute_result"
    }
   ],
   "source": [
    "89*4 # 89 series, 4 observaciones por serie -> 356 datos de tests"
   ]
  },
  {
   "cell_type": "code",
   "execution_count": null,
   "id": "93309113-4ecc-417a-b586-643469ce861c",
   "metadata": {
    "tags": []
   },
   "outputs": [],
   "source": []
  },
  {
   "cell_type": "markdown",
   "id": "213b8117-db9c-43af-b612-fee781fc1651",
   "metadata": {},
   "source": [
    "### 5. Compute base auto-ARIMA predictions"
   ]
  },
  {
   "cell_type": "code",
   "execution_count": 30,
   "id": "2c8389b0-500a-48ff-a7d9-0f7f48acffec",
   "metadata": {
    "tags": []
   },
   "outputs": [
    {
     "data": {
      "text/plain": [
       "StatsForecast(models=[AutoARIMA,Naive])"
      ]
     },
     "execution_count": 30,
     "metadata": {},
     "output_type": "execute_result"
    }
   ],
   "source": [
    "# definir modelo\n",
    "fcst = StatsForecast(models = [AutoARIMA(season_length=4), Naive()],\n",
    "                     freq = 'QE', \n",
    "                     n_jobs = -1)\n",
    "fcst"
   ]
  },
  {
   "cell_type": "code",
   "execution_count": 31,
   "id": "87e58f18-0ca9-4f1c-a669-cf7c08630c35",
   "metadata": {
    "tags": []
   },
   "outputs": [],
   "source": [
    "# entrenar y predecir 4 observaciones futuras\n",
    "Y_hat_df = fcst.forecast(df = Y_train_df, h = 4)"
   ]
  },
  {
   "cell_type": "code",
   "execution_count": 32,
   "id": "394c5072-1bfb-48ab-9994-471ced97b214",
   "metadata": {
    "tags": []
   },
   "outputs": [
    {
     "data": {
      "text/plain": [
       "StatsForecast(models=[AutoARIMA,Naive])"
      ]
     },
     "execution_count": 32,
     "metadata": {},
     "output_type": "execute_result"
    }
   ],
   "source": [
    "fcst"
   ]
  },
  {
   "cell_type": "code",
   "execution_count": 33,
   "id": "24de2eda-f1d4-4d44-85e0-8b3e6b0900a0",
   "metadata": {
    "tags": []
   },
   "outputs": [
    {
     "data": {
      "text/plain": [
       "(356, 4)"
      ]
     },
     "execution_count": 33,
     "metadata": {},
     "output_type": "execute_result"
    }
   ],
   "source": [
    "Y_hat_df.shape"
   ]
  },
  {
   "cell_type": "code",
   "execution_count": 34,
   "id": "387b30a6-a060-470b-bdec-d2c9816bd8f8",
   "metadata": {
    "tags": []
   },
   "outputs": [
    {
     "data": {
      "text/html": [
       "<div>\n",
       "<style scoped>\n",
       "    .dataframe tbody tr th:only-of-type {\n",
       "        vertical-align: middle;\n",
       "    }\n",
       "\n",
       "    .dataframe tbody tr th {\n",
       "        vertical-align: top;\n",
       "    }\n",
       "\n",
       "    .dataframe thead th {\n",
       "        text-align: right;\n",
       "    }\n",
       "</style>\n",
       "<table border=\"1\" class=\"dataframe\">\n",
       "  <thead>\n",
       "    <tr style=\"text-align: right;\">\n",
       "      <th></th>\n",
       "      <th>unique_id</th>\n",
       "      <th>ds</th>\n",
       "      <th>AutoARIMA</th>\n",
       "      <th>Naive</th>\n",
       "    </tr>\n",
       "  </thead>\n",
       "  <tbody>\n",
       "    <tr>\n",
       "      <th>0</th>\n",
       "      <td>bus</td>\n",
       "      <td>2006-03-31</td>\n",
       "      <td>8918.476562</td>\n",
       "      <td>11547.0</td>\n",
       "    </tr>\n",
       "    <tr>\n",
       "      <th>1</th>\n",
       "      <td>bus</td>\n",
       "      <td>2006-06-30</td>\n",
       "      <td>9581.923828</td>\n",
       "      <td>11547.0</td>\n",
       "    </tr>\n",
       "    <tr>\n",
       "      <th>2</th>\n",
       "      <td>bus</td>\n",
       "      <td>2006-09-30</td>\n",
       "      <td>11194.674805</td>\n",
       "      <td>11547.0</td>\n",
       "    </tr>\n",
       "    <tr>\n",
       "      <th>3</th>\n",
       "      <td>bus</td>\n",
       "      <td>2006-12-31</td>\n",
       "      <td>10678.956055</td>\n",
       "      <td>11547.0</td>\n",
       "    </tr>\n",
       "    <tr>\n",
       "      <th>4</th>\n",
       "      <td>hol</td>\n",
       "      <td>2006-03-31</td>\n",
       "      <td>42805.335938</td>\n",
       "      <td>26418.0</td>\n",
       "    </tr>\n",
       "  </tbody>\n",
       "</table>\n",
       "</div>"
      ],
      "text/plain": [
       "  unique_id         ds     AutoARIMA    Naive\n",
       "0       bus 2006-03-31   8918.476562  11547.0\n",
       "1       bus 2006-06-30   9581.923828  11547.0\n",
       "2       bus 2006-09-30  11194.674805  11547.0\n",
       "3       bus 2006-12-31  10678.956055  11547.0\n",
       "4       hol 2006-03-31  42805.335938  26418.0"
      ]
     },
     "execution_count": 34,
     "metadata": {},
     "output_type": "execute_result"
    }
   ],
   "source": [
    "Y_hat_df.head()"
   ]
  },
  {
   "cell_type": "code",
   "execution_count": null,
   "id": "a149c264-752e-4e61-967c-8d599241b726",
   "metadata": {},
   "outputs": [],
   "source": []
  },
  {
   "cell_type": "markdown",
   "id": "3f34d04c-e0de-4398-a3b8-06265cea930b",
   "metadata": {},
   "source": [
    "### 6. Calcular métricas de las series"
   ]
  },
  {
   "cell_type": "code",
   "execution_count": 35,
   "id": "8f0d8f7d-e57b-44b7-94bd-484d92f07d31",
   "metadata": {
    "tags": []
   },
   "outputs": [],
   "source": [
    "from sklearn.metrics import mean_absolute_error"
   ]
  },
  {
   "cell_type": "code",
   "execution_count": null,
   "id": "1e370781-1f74-443c-81d7-771c5744e17b",
   "metadata": {
    "tags": []
   },
   "outputs": [],
   "source": []
  },
  {
   "cell_type": "code",
   "execution_count": 36,
   "id": "9901d779-f18e-4e3a-aaa2-3d152c8b8a9a",
   "metadata": {
    "tags": []
   },
   "outputs": [],
   "source": [
    "# definir lista con el orden usado en las series\n",
    "list_series = Y_test_df['unique_id'].unique().tolist()\n",
    "\n",
    "# ordenar Y_PRED por unique_id. ordenar las series transformando a tipo categorical y luego regresar a formato string\n",
    "Y_hat_df['unique_id'] = pd.Categorical(Y_hat_df['unique_id'], categories=list_series, ordered=True)\n",
    "Y_hat_df = Y_hat_df.sort_values(['unique_id', 'ds'], ascending = [True, True]).reset_index(drop=True) # ordenar por orden de las series y en fecha ascendente\n",
    "Y_hat_df['unique_id'] = Y_hat_df['unique_id'].astype(str)"
   ]
  },
  {
   "cell_type": "code",
   "execution_count": null,
   "id": "3894ed7d-6880-4e8e-a3b4-39d137d6cd07",
   "metadata": {},
   "outputs": [],
   "source": []
  },
  {
   "cell_type": "code",
   "execution_count": 37,
   "id": "97067fdb-a0f3-4c65-b3bf-8041f6ef21ad",
   "metadata": {
    "tags": []
   },
   "outputs": [
    {
     "data": {
      "text/plain": [
       "312.42621037933264"
      ]
     },
     "execution_count": 37,
     "metadata": {},
     "output_type": "execute_result"
    }
   ],
   "source": [
    "# calcular MAE considerando todos los volumenes de cada serie iguales\n",
    "mae_arima = mean_absolute_error(y_true = Y_test_df['y'], \n",
    "                    y_pred = Y_hat_df['AutoARIMA'])\n",
    "mae_arima"
   ]
  },
  {
   "cell_type": "code",
   "execution_count": 38,
   "id": "0b1c3bdf-a937-4c36-a635-c65748223bce",
   "metadata": {
    "tags": []
   },
   "outputs": [
    {
     "data": {
      "text/plain": [
       "629.7078651685393"
      ]
     },
     "execution_count": 38,
     "metadata": {},
     "output_type": "execute_result"
    }
   ],
   "source": [
    "mae_naive = mean_absolute_error(y_true = Y_test_df['y'], \n",
    "                    y_pred = Y_hat_df['Naive'])\n",
    "mae_naive"
   ]
  },
  {
   "cell_type": "code",
   "execution_count": null,
   "id": "14a961ed-5dcb-4029-b7de-56845f7e2489",
   "metadata": {},
   "outputs": [],
   "source": []
  },
  {
   "cell_type": "code",
   "execution_count": null,
   "id": "2a88d9c5-2ae5-4f74-ab9e-86c38e89a654",
   "metadata": {},
   "outputs": [],
   "source": []
  },
  {
   "cell_type": "markdown",
   "id": "9df9d8fd-0f80-4794-b92f-503072578d27",
   "metadata": {},
   "source": [
    "### 7. Reconciliar forecast"
   ]
  },
  {
   "cell_type": "code",
   "execution_count": 39,
   "id": "0acf6e2f-9cb1-4473-8ebc-f71983f9073b",
   "metadata": {
    "tags": []
   },
   "outputs": [],
   "source": [
    "# Reconcile the base predictions\n",
    "reconcilers = [\n",
    "    BottomUp(),\n",
    "    TopDown(method='forecast_proportions'),\n",
    "    MiddleOut(middle_level='Country/Purpose/State',\n",
    "              top_down_method='forecast_proportions'),\n",
    "    MinTrace(method = 'ols', nonnegative = True)\n",
    "]\n",
    "hrec = HierarchicalReconciliation(reconcilers=reconcilers)\n",
    "Y_rec_df = hrec.reconcile(Y_hat_df=Y_hat_df, Y_df=Y_train_df,\n",
    "                          S=S, tags=tags)"
   ]
  },
  {
   "cell_type": "code",
   "execution_count": null,
   "id": "51583437-9f89-41de-bb91-4944f54a32e1",
   "metadata": {},
   "outputs": [],
   "source": []
  },
  {
   "cell_type": "code",
   "execution_count": null,
   "id": "0f97f042-605c-4a5e-bbc7-236564457470",
   "metadata": {},
   "outputs": [],
   "source": []
  },
  {
   "cell_type": "markdown",
   "id": "8c058cfc-8f79-4ccf-9148-7b090300e9f3",
   "metadata": {},
   "source": [
    "### 8. Analizar fcst conciliados"
   ]
  },
  {
   "cell_type": "markdown",
   "id": "46a496b6-a640-40c0-bc6f-ebdce3a8b62b",
   "metadata": {},
   "source": [
    "#### 8.1 Definir variables. Validar resultados serie agregada y series individuales que la componen"
   ]
  },
  {
   "cell_type": "code",
   "execution_count": 40,
   "id": "349c6d26-c641-4b0f-94d7-240f448af536",
   "metadata": {
    "tags": []
   },
   "outputs": [
    {
     "data": {
      "text/plain": [
       "89"
      ]
     },
     "execution_count": 40,
     "metadata": {},
     "output_type": "execute_result"
    }
   ],
   "source": [
    "# generar lista con el id de todas las series - individuales y agregadas\n",
    "list_all_series = S['unique_id'].unique().tolist()\n",
    "len(list_all_series)"
   ]
  },
  {
   "cell_type": "code",
   "execution_count": 41,
   "id": "42b30d42-9e44-4bb1-9fb2-655d01a5716c",
   "metadata": {
    "tags": []
   },
   "outputs": [],
   "source": [
    "# defir variable nombre del modelo obtenido con nixtla. Naive ES EL MÁS SIMPLE DE ANALIZAR PARA VER \n",
    "name_model = 'AutoARIMA'"
   ]
  },
  {
   "cell_type": "code",
   "execution_count": null,
   "id": "275b7968-c0e6-420d-9197-44d7039dcccc",
   "metadata": {
    "tags": []
   },
   "outputs": [],
   "source": []
  },
  {
   "cell_type": "code",
   "execution_count": null,
   "id": "bbbc72c3-7387-4574-9c80-4399ec9e108a",
   "metadata": {
    "tags": []
   },
   "outputs": [],
   "source": []
  },
  {
   "cell_type": "code",
   "execution_count": null,
   "id": "f523d091-f2e1-4da7-9ad7-dc4ac98194f4",
   "metadata": {
    "tags": []
   },
   "outputs": [],
   "source": []
  },
  {
   "cell_type": "code",
   "execution_count": null,
   "id": "8b9ff94b-93e5-4517-adcd-eeef3a6f0add",
   "metadata": {},
   "outputs": [],
   "source": []
  },
  {
   "cell_type": "markdown",
   "id": "110ae3ab-aa15-4903-a53f-1a201c6053db",
   "metadata": {},
   "source": [
    "#### 8.2 Validar bottomUp"
   ]
  },
  {
   "cell_type": "code",
   "execution_count": 42,
   "id": "31860b2a-c183-497d-8d80-d29cd030d6c0",
   "metadata": {
    "tags": []
   },
   "outputs": [],
   "source": [
    "## SERIES A ANALIZAR - TOMO DE EJEMPLO\n",
    "# SERIE AGREGADA: 'nsw-hol'\n",
    "# SERIES INDIVIDUALES QUE LA COMPONEN de menor nivel: 'nsw-hol-city', 'nsw-hol-noncity'\n",
    "\n",
    "\n",
    "# definir serie agregada a analizar\n",
    "id_serie_agregada = 'nsw-hol'\n",
    "list_id_series_individuales = ['nsw-hol-city', 'nsw-hol-noncity']\n",
    "\n",
    "# filtrar forecast serie agregada\n",
    "Y_rec_df_serie_agregada = Y_rec_df[Y_rec_df['unique_id'] == id_serie_agregada]\n",
    "\n",
    "# filtrar forecast series individuales\n",
    "Y_rec_df_series_individuales = Y_rec_df[Y_rec_df['unique_id'].isin(list_id_series_individuales)]"
   ]
  },
  {
   "cell_type": "code",
   "execution_count": null,
   "id": "902a6054-722e-4ea4-97a8-7bb79905c3f2",
   "metadata": {},
   "outputs": [],
   "source": []
  },
  {
   "cell_type": "code",
   "execution_count": 43,
   "id": "f735abf1-4f58-49da-be87-f5870c0c65d4",
   "metadata": {
    "tags": []
   },
   "outputs": [
    {
     "data": {
      "text/plain": [
       "132    True\n",
       "133    True\n",
       "134    True\n",
       "135    True\n",
       "136    True\n",
       "137    True\n",
       "138    True\n",
       "139    True\n",
       "dtype: bool"
      ]
     },
     "execution_count": 43,
     "metadata": {},
     "output_type": "execute_result"
    }
   ],
   "source": [
    "### validar que el forecast bottom/up es el mismo que el forecast original por las series univariadas\n",
    "Y_rec_df_series_individuales[f'{name_model}/BottomUp'] == Y_rec_df_series_individuales[f'{name_model}']"
   ]
  },
  {
   "cell_type": "code",
   "execution_count": null,
   "id": "6edafa4c-c9a2-4069-845f-e9a5952223f0",
   "metadata": {},
   "outputs": [],
   "source": []
  },
  {
   "cell_type": "code",
   "execution_count": 44,
   "id": "2428a478-46e9-4157-ab00-cf483321ceae",
   "metadata": {},
   "outputs": [
    {
     "data": {
      "text/plain": [
       "array([False, False,  True, False])"
      ]
     },
     "execution_count": 44,
     "metadata": {},
     "output_type": "execute_result"
    }
   ],
   "source": [
    "### validar que la suma de los forecast individuales bottom/up es corresponde al forecast bottom/up de la serie agregada\n",
    "suma_forecast_series_individuales = Y_rec_df_series_individuales[Y_rec_df_series_individuales['unique_id'] == list_id_series_individuales[0]][f'{name_model}'].values + \\\n",
    "                                    Y_rec_df_series_individuales[Y_rec_df_series_individuales['unique_id'] == list_id_series_individuales[1]][f'{name_model}'].values\n",
    "Y_rec_df_serie_agregada[f'{name_model}/BottomUp'].values == suma_forecast_series_individuales\n",
    "\n",
    "# obs se ve que diferencia es por calculo de decimales. [True, True,  True, True]"
   ]
  },
  {
   "cell_type": "code",
   "execution_count": 45,
   "id": "c072546d-7244-4d34-91c3-9f308c682b17",
   "metadata": {
    "tags": []
   },
   "outputs": [
    {
     "data": {
      "text/plain": [
       "array([13671.03051758,  8038.72875977,  7902.36767578,  7828.56530762])"
      ]
     },
     "execution_count": 45,
     "metadata": {},
     "output_type": "execute_result"
    }
   ],
   "source": [
    "Y_rec_df_serie_agregada[f'{name_model}/BottomUp'].values"
   ]
  },
  {
   "cell_type": "code",
   "execution_count": 46,
   "id": "eb852c7d-b5ea-44ab-ae35-cb8dcaebbc79",
   "metadata": {
    "tags": []
   },
   "outputs": [
    {
     "data": {
      "text/plain": [
       "array([13671.03  ,  8038.7285,  7902.3677,  7828.5654], dtype=float32)"
      ]
     },
     "execution_count": 46,
     "metadata": {},
     "output_type": "execute_result"
    }
   ],
   "source": [
    "suma_forecast_series_individuales"
   ]
  },
  {
   "cell_type": "code",
   "execution_count": null,
   "id": "a76e1e46-c02a-4233-a4cb-8b25aca03286",
   "metadata": {},
   "outputs": [],
   "source": []
  },
  {
   "cell_type": "markdown",
   "id": "a4b21a40-6a7a-407b-af49-0685061e8812",
   "metadata": {},
   "source": [
    "### 8.3 Validar TopDown"
   ]
  },
  {
   "cell_type": "code",
   "execution_count": 47,
   "id": "93df781a-d0bd-4063-97a9-c169da090a4f",
   "metadata": {
    "tags": []
   },
   "outputs": [],
   "source": [
    "## SERIES A ANALIZAR - TOMO DE EJEMPLO\n",
    "# SERIE AGREGADA la más agregada - total: 'total'\n",
    "# SERIES INDIVIDUALES QUE LA COMPONEN de menor nivel: 'hol', 'vfr', 'bus', 'oth'\n",
    "\n",
    "\n",
    "# definir serie agregada a analizar\n",
    "id_serie_agregada = 'total'\n",
    "list_id_series_individuales = ['hol', 'vfr', 'bus', 'oth']\n",
    "\n",
    "# filtrar forecast serie agregada\n",
    "Y_rec_df_serie_agregada = Y_rec_df[Y_rec_df['unique_id'] == id_serie_agregada]\n",
    "\n",
    "# filtrar forecast series individuales\n",
    "Y_rec_df_series_individuales = Y_rec_df[Y_rec_df['unique_id'].isin(list_id_series_individuales)]"
   ]
  },
  {
   "cell_type": "code",
   "execution_count": null,
   "id": "3558c27a-f9b5-4806-a05d-9ae988f76c80",
   "metadata": {},
   "outputs": [],
   "source": []
  },
  {
   "cell_type": "code",
   "execution_count": 48,
   "id": "e189c29e-7aa5-435b-b05c-8f3a9d0eeeff",
   "metadata": {
    "tags": []
   },
   "outputs": [
    {
     "data": {
      "text/plain": [
       "0    True\n",
       "1    True\n",
       "2    True\n",
       "3    True\n",
       "dtype: bool"
      ]
     },
     "execution_count": 48,
     "metadata": {},
     "output_type": "execute_result"
    }
   ],
   "source": [
    "### validar que el forecast agregado top/down sea el mismo que el forecast de la serie individual\n",
    "Y_rec_df_serie_agregada[f'{name_model}/TopDown_method-forecast_proportions'] == Y_rec_df_serie_agregada[f'{name_model}']"
   ]
  },
  {
   "cell_type": "code",
   "execution_count": 49,
   "id": "1270b644-6ef8-4258-8419-ca1da47a1deb",
   "metadata": {
    "tags": []
   },
   "outputs": [],
   "source": [
    "### validar que las series individuales se calcula un share y con eso se apertura.\n",
    "# falta validar si el share es por horizonte o se mantiene para todos los horizontes\n",
    "# con el modelo arima no me cuadró - REVISAR POR QUÉ NO CUADRA CON EL MODELO ARIMA"
   ]
  },
  {
   "cell_type": "code",
   "execution_count": 50,
   "id": "f021cc63-26fb-49e2-8e94-7a4e57e79187",
   "metadata": {
    "tags": []
   },
   "outputs": [
    {
     "data": {
      "text/plain": [
       "63392.0"
      ]
     },
     "execution_count": 50,
     "metadata": {},
     "output_type": "execute_result"
    }
   ],
   "source": [
    "26418.0 + 19954.0 + 11547.0 + 5473.0 # OBTENER total de forecast series individuales"
   ]
  },
  {
   "cell_type": "code",
   "execution_count": 51,
   "id": "671817e9-e8d2-43fc-a512-1162077661fc",
   "metadata": {
    "tags": []
   },
   "outputs": [
    {
     "data": {
      "text/plain": [
       "0.4167402826855124"
      ]
     },
     "execution_count": 51,
     "metadata": {},
     "output_type": "execute_result"
    }
   ],
   "source": [
    "26418.0 / 63392.0 # calcular share primera serie individuale dado el total forecastado por todas las series individuales"
   ]
  },
  {
   "cell_type": "code",
   "execution_count": 52,
   "id": "d5409390-f6a1-44bf-8cc2-138bca17c0ab",
   "metadata": {
    "tags": []
   },
   "outputs": [
    {
     "data": {
      "text/plain": [
       "26418.0"
      ]
     },
     "execution_count": 52,
     "metadata": {},
     "output_type": "execute_result"
    }
   ],
   "source": [
    "0.4167402826855124 * 63392.0 # multiplicar ratio calculado por fcst inviduales por forecast agregado"
   ]
  },
  {
   "cell_type": "code",
   "execution_count": null,
   "id": "b726b09d-8811-4b28-9a4d-6c15178bf739",
   "metadata": {},
   "outputs": [],
   "source": []
  },
  {
   "cell_type": "markdown",
   "id": "82ccb08e-c8bb-4cf6-ae92-f2b635501594",
   "metadata": {},
   "source": [
    "#### 8.4 Validar MiddleOut"
   ]
  },
  {
   "cell_type": "code",
   "execution_count": 53,
   "id": "28bde5d7-f5cd-4afa-b9f6-a88a437cec00",
   "metadata": {
    "tags": []
   },
   "outputs": [],
   "source": [
    "# MiddleOut"
   ]
  },
  {
   "cell_type": "code",
   "execution_count": null,
   "id": "477f0998-c3e2-4142-8a56-fa537fc36b89",
   "metadata": {},
   "outputs": [],
   "source": []
  },
  {
   "cell_type": "code",
   "execution_count": null,
   "id": "15686fc2-0631-4933-b1d1-8b2d3f3fe52e",
   "metadata": {},
   "outputs": [],
   "source": []
  },
  {
   "cell_type": "markdown",
   "id": "0ec9ca6d-682a-4954-a7ac-cfb24c8cdd43",
   "metadata": {},
   "source": [
    "#### 8.5 Validar MinTrace"
   ]
  },
  {
   "cell_type": "code",
   "execution_count": 54,
   "id": "bcea8d81-57c2-48d2-978f-3625d57a7ce7",
   "metadata": {
    "tags": []
   },
   "outputs": [],
   "source": [
    "## SERIES A ANALIZAR - TOMO DE EJEMPLO\n",
    "# SERIE AGREGADA: 'nsw-hol'\n",
    "# SERIES INDIVIDUALES QUE LA COMPONEN de menor nivel: 'nsw-hol-city', 'nsw-hol-noncity'\n",
    "\n",
    "\n",
    "# definir serie agregada a analizar\n",
    "id_serie_agregada = 'nsw-hol'\n",
    "list_id_series_individuales = ['nsw-hol-city', 'nsw-hol-noncity']\n",
    "\n",
    "# filtrar forecast serie agregada\n",
    "Y_rec_df_serie_agregada = Y_rec_df[Y_rec_df['unique_id'] == id_serie_agregada]\n",
    "\n",
    "# filtrar forecast series individuales\n",
    "Y_rec_df_series_individuales = Y_rec_df[Y_rec_df['unique_id'].isin(list_id_series_individuales)]"
   ]
  },
  {
   "cell_type": "code",
   "execution_count": null,
   "id": "340ce821-2e0b-4a02-af88-ad1bec0c07c2",
   "metadata": {},
   "outputs": [],
   "source": []
  },
  {
   "cell_type": "code",
   "execution_count": 55,
   "id": "f33c4569-0c0a-45e8-96dd-6ffea1f8f614",
   "metadata": {
    "tags": []
   },
   "outputs": [],
   "source": [
    "# validar que sumar el forecast mintrace de las series individuales se obtiene el forecast mintrace de las series agregadas\n",
    "# OJO AHORA AL SER NO SER TOP/DOWN Y BOTTON-UP EL FORECAST ORIGINAL NO SE MANTIENE PARA NINGUNO DE LOS 2"
   ]
  },
  {
   "cell_type": "code",
   "execution_count": 56,
   "id": "0f624a32-623e-4a5d-9dd4-6f71aa74c404",
   "metadata": {
    "tags": []
   },
   "outputs": [
    {
     "data": {
      "text/plain": [
       "0    True\n",
       "1    True\n",
       "2    True\n",
       "3    True\n",
       "Name: AutoARIMA/MinTrace_method-ols_nonnegative-True, dtype: bool"
      ]
     },
     "execution_count": 56,
     "metadata": {},
     "output_type": "execute_result"
    }
   ],
   "source": [
    "\n",
    "fcst_mintrace_agregada = Y_rec_df_serie_agregada[f'{name_model}/MinTrace_method-ols_nonnegative-True'].reset_index(drop = True)\n",
    "\n",
    "fcst_mintrace_serie_individuales = Y_rec_df_series_individuales[Y_rec_df_series_individuales['unique_id'] == list_id_series_individuales[0]][f'{name_model}/MinTrace_method-ols_nonnegative-True'].reset_index(drop = True) + \\\n",
    "                                    Y_rec_df_series_individuales[Y_rec_df_series_individuales['unique_id'] == list_id_series_individuales[1]][f'{name_model}/MinTrace_method-ols_nonnegative-True'].reset_index(drop = True)\n",
    "\n",
    "fcst_mintrace_agregada == fcst_mintrace_serie_individuales"
   ]
  },
  {
   "cell_type": "code",
   "execution_count": 57,
   "id": "705ae7ef-0874-4794-a8ff-ae40b012f1ed",
   "metadata": {
    "tags": []
   },
   "outputs": [
    {
     "data": {
      "text/plain": [
       "0    13803.899292\n",
       "1     8147.614502\n",
       "2     7989.051270\n",
       "3     7837.082153\n",
       "Name: AutoARIMA/MinTrace_method-ols_nonnegative-True, dtype: float64"
      ]
     },
     "execution_count": 57,
     "metadata": {},
     "output_type": "execute_result"
    }
   ],
   "source": [
    "fcst_mintrace_agregada"
   ]
  },
  {
   "cell_type": "code",
   "execution_count": 58,
   "id": "0364e456-d543-4ea8-9db4-721b1d30b385",
   "metadata": {
    "tags": []
   },
   "outputs": [
    {
     "data": {
      "text/plain": [
       "0    13803.899292\n",
       "1     8147.614502\n",
       "2     7989.051270\n",
       "3     7837.082153\n",
       "Name: AutoARIMA/MinTrace_method-ols_nonnegative-True, dtype: float64"
      ]
     },
     "execution_count": 58,
     "metadata": {},
     "output_type": "execute_result"
    }
   ],
   "source": [
    "fcst_mintrace_serie_individuales"
   ]
  },
  {
   "cell_type": "code",
   "execution_count": 59,
   "id": "2a0f735b-291b-447d-845c-83605f0e1cc2",
   "metadata": {
    "tags": []
   },
   "outputs": [],
   "source": [
    "# se puede observar que sí se conserva el volumen"
   ]
  },
  {
   "cell_type": "code",
   "execution_count": null,
   "id": "929d9b8d-05a3-4222-a7aa-bd02356ae3f4",
   "metadata": {
    "tags": []
   },
   "outputs": [],
   "source": []
  },
  {
   "cell_type": "code",
   "execution_count": null,
   "id": "c98bbaa1-4744-46cd-b0fc-7ae5ef1df153",
   "metadata": {},
   "outputs": [],
   "source": []
  },
  {
   "cell_type": "markdown",
   "id": "f8fb69b5-b280-4665-9c0f-8087739d756b",
   "metadata": {},
   "source": [
    "### 8. Calcular métricas luego de reconciliar forecast"
   ]
  },
  {
   "cell_type": "code",
   "execution_count": null,
   "id": "6d1912ed-4a72-4fde-96f0-f1d9af68994c",
   "metadata": {
    "tags": []
   },
   "outputs": [],
   "source": []
  },
  {
   "cell_type": "code",
   "execution_count": 60,
   "id": "2abba354-34ad-41bf-886c-a097a59e2a14",
   "metadata": {
    "tags": []
   },
   "outputs": [
    {
     "data": {
      "text/plain": [
       "312.42621037933264"
      ]
     },
     "execution_count": 60,
     "metadata": {},
     "output_type": "execute_result"
    }
   ],
   "source": [
    "# BASELINE\n",
    "# calcular MAE considerando todos los volumenes de cada serie iguales\n",
    "mae_arima = mean_absolute_error(y_true = Y_test_df['y'], \n",
    "                    y_pred = Y_hat_df['AutoARIMA'])\n",
    "mae_arima"
   ]
  },
  {
   "cell_type": "code",
   "execution_count": 61,
   "id": "6544371d-6049-436f-b1af-1b9fcffe9a3a",
   "metadata": {
    "tags": []
   },
   "outputs": [
    {
     "data": {
      "text/plain": [
       "312.42621037933264"
      ]
     },
     "execution_count": 61,
     "metadata": {},
     "output_type": "execute_result"
    }
   ],
   "source": [
    "# BASELINE\n",
    "# calcular MAE considerando todos los volumenes de cada serie iguales\n",
    "mean_absolute_error(y_true = Y_test_df['y'], \n",
    "                    y_pred = Y_rec_df['AutoARIMA']) # CAMBIAR DF POR EL DF CON LOS FORECAST RECONCILIADOS"
   ]
  },
  {
   "cell_type": "code",
   "execution_count": null,
   "id": "30068b89-5873-4062-8e82-d09a3d0aec83",
   "metadata": {},
   "outputs": [],
   "source": []
  },
  {
   "cell_type": "code",
   "execution_count": 62,
   "id": "72575796-6301-40d2-8344-8c027a506a36",
   "metadata": {
    "tags": []
   },
   "outputs": [
    {
     "data": {
      "text/plain": [
       "266.671261835634"
      ]
     },
     "execution_count": 62,
     "metadata": {},
     "output_type": "execute_result"
    }
   ],
   "source": [
    "# calcular MAE: AutoARIMA/BottomUp\n",
    "mean_absolute_error(y_true = Y_test_df['y'], \n",
    "                    y_pred = Y_rec_df['AutoARIMA/BottomUp'])"
   ]
  },
  {
   "cell_type": "code",
   "execution_count": 63,
   "id": "018b944e-756c-47e0-9e10-db0759817b5e",
   "metadata": {
    "tags": []
   },
   "outputs": [
    {
     "data": {
      "text/plain": [
       "319.8625555868647"
      ]
     },
     "execution_count": 63,
     "metadata": {},
     "output_type": "execute_result"
    }
   ],
   "source": [
    "# calcular MAE: AutoARIMA/TopDown_method-forecast_proportions\n",
    "mean_absolute_error(y_true = Y_test_df['y'], \n",
    "                    y_pred = Y_rec_df['AutoARIMA/TopDown_method-forecast_proportions'])"
   ]
  },
  {
   "cell_type": "code",
   "execution_count": 64,
   "id": "a913f126-8913-4872-ac5b-0e237b18a566",
   "metadata": {
    "tags": []
   },
   "outputs": [
    {
     "data": {
      "text/plain": [
       "301.61157307052514"
      ]
     },
     "execution_count": 64,
     "metadata": {},
     "output_type": "execute_result"
    }
   ],
   "source": [
    "# calcular MAE: AutoARIMA/MiddleOut_middle_level-Country/Purpose/State_top_down_method-forecast_proportions\n",
    "mean_absolute_error(y_true = Y_test_df['y'], \n",
    "                    y_pred = Y_rec_df['AutoARIMA/MiddleOut_middle_level-Country/Purpose/State_top_down_method-forecast_proportions'])"
   ]
  },
  {
   "cell_type": "code",
   "execution_count": 65,
   "id": "78a9da57-0349-4390-bc24-86fc1b44b460",
   "metadata": {
    "tags": []
   },
   "outputs": [
    {
     "data": {
      "text/plain": [
       "332.9575600249044"
      ]
     },
     "execution_count": 65,
     "metadata": {},
     "output_type": "execute_result"
    }
   ],
   "source": [
    "# calcular MAE: AutoARIMA/MinTrace_method-ols_nonnegative-True\n",
    "mean_absolute_error(y_true = Y_test_df['y'], \n",
    "                    y_pred = Y_rec_df['AutoARIMA/MinTrace_method-ols_nonnegative-True'])"
   ]
  },
  {
   "cell_type": "code",
   "execution_count": null,
   "id": "c550394b-eff0-4a60-b86d-400f82e2e239",
   "metadata": {},
   "outputs": [],
   "source": []
  },
  {
   "cell_type": "code",
   "execution_count": null,
   "id": "f0d8e0c8-0237-46b4-afaf-aeb5daa19b4d",
   "metadata": {},
   "outputs": [],
   "source": []
  },
  {
   "cell_type": "code",
   "execution_count": null,
   "id": "bcffbf2d-41dd-404d-ad01-183a718628db",
   "metadata": {},
   "outputs": [],
   "source": []
  },
  {
   "cell_type": "code",
   "execution_count": null,
   "id": "700afe02-bd44-4121-9b5a-a8e587758a79",
   "metadata": {},
   "outputs": [],
   "source": []
  },
  {
   "cell_type": "code",
   "execution_count": null,
   "id": "3e1999ea-bd4f-46ec-8a27-176296882ec2",
   "metadata": {},
   "outputs": [],
   "source": []
  },
  {
   "cell_type": "code",
   "execution_count": null,
   "id": "6ca47cc8-69c1-417a-94fa-04f7e01da4de",
   "metadata": {},
   "outputs": [],
   "source": []
  },
  {
   "cell_type": "code",
   "execution_count": null,
   "id": "70b67adc-0c7b-40eb-9172-c60546aa79ee",
   "metadata": {},
   "outputs": [],
   "source": []
  },
  {
   "cell_type": "code",
   "execution_count": null,
   "id": "17e3e461-04d1-4f41-ac61-c0975ab1542a",
   "metadata": {},
   "outputs": [],
   "source": []
  }
 ],
 "metadata": {
  "kernelspec": {
   "display_name": "Python 3 (ipykernel)",
   "language": "python",
   "name": "python3"
  },
  "language_info": {
   "codemirror_mode": {
    "name": "ipython",
    "version": 3
   },
   "file_extension": ".py",
   "mimetype": "text/x-python",
   "name": "python",
   "nbconvert_exporter": "python",
   "pygments_lexer": "ipython3",
   "version": "3.11.7"
  }
 },
 "nbformat": 4,
 "nbformat_minor": 5
}
