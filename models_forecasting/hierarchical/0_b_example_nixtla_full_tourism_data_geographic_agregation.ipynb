{
 "cells": [
  {
   "cell_type": "markdown",
   "id": "f8fb4180-59f4-4a86-8e76-2f29ba57b3e5",
   "metadata": {},
   "source": [
    "# NOTEBOOK COPIA EJEMPLO NIXTLA hierarchicalforecast\n",
    "\n",
    "----\n",
    "### ejemplo conciliacion GEOGRÁFICA (POINT RECONCILIATION) de los datos\n",
    "- Ejecución de notebook ejemplo base de nixtla - replicar código ejemplo y análisis extra para entender código y modelos ya hechos\n",
    "\n",
    "- EJEMPLO LA DATA FULL DE TOURISM\n",
    "\n",
    "- FUENTES:\n",
    "    - geographical aggregation (POINT CONCILIATION): https://nixtlaverse.nixtla.io/hierarchicalforecast/examples/australiandomestictourism.html\n",
    "\n",
    "    - temporal aggregation (TEMPORAL CONCILIATION): https://nixtlaverse.nixtla.io/hierarchicalforecast/examples/australiandomestictourismtemporal.html\n",
    " \n",
    "    - geographical and temporal aggregation: https://nixtlaverse.nixtla.io/hierarchicalforecast/examples/australiandomestictourismcrosstemporal.html\n",
    " \n",
    "    - paper base investigación (los códigos de nixtla replican lo obtenido por el paper): https://robjhyndman.com/seminars/fr_overview.html"
   ]
  },
  {
   "cell_type": "code",
   "execution_count": null,
   "id": "28bcb702-3a9f-4706-8158-c3a17f82df77",
   "metadata": {},
   "outputs": [],
   "source": []
  },
  {
   "cell_type": "markdown",
   "id": "fcd3162f-e064-457f-a035-39c9df95fc4f",
   "metadata": {},
   "source": [
    "# POINT RECONCILIATION: Geographical Aggregation (Tourism)\n",
    "FUENTE BASE: https://nixtlaverse.nixtla.io/hierarchicalforecast/examples/australiandomestictourism.html"
   ]
  },
  {
   "cell_type": "markdown",
   "id": "b882413c-1bdd-4873-8256-414448fe3804",
   "metadata": {},
   "source": [
    "### 0. Install nixtla package"
   ]
  },
  {
   "cell_type": "code",
   "execution_count": 1,
   "id": "bbf1d8cc-24d6-42df-8b78-1e641f401183",
   "metadata": {},
   "outputs": [],
   "source": [
    "# pip install hierarchicalforecast\n",
    "# pip install datasetsforecast\n",
    "# pip install statsforecast"
   ]
  },
  {
   "cell_type": "code",
   "execution_count": 2,
   "id": "53106d44-db6e-44c5-8bdd-35ac85c9463b",
   "metadata": {},
   "outputs": [],
   "source": [
    "import hierarchicalforecast\n",
    "from datasetsforecast.hierarchical import HierarchicalData\n",
    "import pandas as pd"
   ]
  },
  {
   "cell_type": "code",
   "execution_count": null,
   "id": "51911eae-4371-487d-b207-0a4ba0ae813b",
   "metadata": {},
   "outputs": [],
   "source": []
  },
  {
   "cell_type": "markdown",
   "id": "2b909d75-3fdd-4ed0-81e9-35217f22a6cc",
   "metadata": {},
   "source": [
    "## run code - example nixtla"
   ]
  },
  {
   "cell_type": "code",
   "execution_count": 3,
   "id": "8fab535e-2063-410a-af87-23efd97bc097",
   "metadata": {},
   "outputs": [],
   "source": [
    "import numpy as np\n",
    "import pandas as pd"
   ]
  },
  {
   "cell_type": "code",
   "execution_count": null,
   "id": "e01c5a25-5698-4165-8283-c1bbf0e05abf",
   "metadata": {},
   "outputs": [],
   "source": []
  },
  {
   "cell_type": "markdown",
   "id": "f4c51386-3915-4e19-b4a4-fbe69f566bbc",
   "metadata": {},
   "source": [
    "### 1. Read data - download data example hyndman"
   ]
  },
  {
   "cell_type": "markdown",
   "id": "70d6790f-8d6f-4ced-961f-fd370ccf5d75",
   "metadata": {},
   "source": [
    "#### 1.1 read raw data"
   ]
  },
  {
   "cell_type": "code",
   "execution_count": 4,
   "id": "74044d56-1986-4d0f-a060-e3eefc0cf9c0",
   "metadata": {},
   "outputs": [],
   "source": [
    "data_raw = pd.read_csv('https://raw.githubusercontent.com/Nixtla/transfer-learning-time-series/main/datasets/tourism.csv')\n",
    "data_raw = data_raw.rename({'Trips': 'y', 'Quarter': 'ds'}, axis=1)\n",
    "data_raw.insert(0, 'Country', 'Australia')\n",
    "data_raw = data_raw[['Country', 'Region', 'State', 'Purpose', 'ds', 'y']]\n",
    "data_raw['ds'] = data_raw['ds'].str.replace(r'(\\d+) (Q\\d)', r'\\1-\\2', regex=True)\n",
    "data_raw['ds'] = pd.PeriodIndex(data_raw[\"ds\"], freq='Q').to_timestamp()"
   ]
  },
  {
   "cell_type": "code",
   "execution_count": 5,
   "id": "9069b1f4-1a44-405b-acf6-9587c06b994d",
   "metadata": {},
   "outputs": [
    {
     "data": {
      "text/html": [
       "<div>\n",
       "<style scoped>\n",
       "    .dataframe tbody tr th:only-of-type {\n",
       "        vertical-align: middle;\n",
       "    }\n",
       "\n",
       "    .dataframe tbody tr th {\n",
       "        vertical-align: top;\n",
       "    }\n",
       "\n",
       "    .dataframe thead th {\n",
       "        text-align: right;\n",
       "    }\n",
       "</style>\n",
       "<table border=\"1\" class=\"dataframe\">\n",
       "  <thead>\n",
       "    <tr style=\"text-align: right;\">\n",
       "      <th></th>\n",
       "      <th>Country</th>\n",
       "      <th>Region</th>\n",
       "      <th>State</th>\n",
       "      <th>Purpose</th>\n",
       "      <th>ds</th>\n",
       "      <th>y</th>\n",
       "    </tr>\n",
       "  </thead>\n",
       "  <tbody>\n",
       "    <tr>\n",
       "      <th>0</th>\n",
       "      <td>Australia</td>\n",
       "      <td>Adelaide</td>\n",
       "      <td>South Australia</td>\n",
       "      <td>Business</td>\n",
       "      <td>1998-01-01</td>\n",
       "      <td>135.077690</td>\n",
       "    </tr>\n",
       "    <tr>\n",
       "      <th>1</th>\n",
       "      <td>Australia</td>\n",
       "      <td>Adelaide</td>\n",
       "      <td>South Australia</td>\n",
       "      <td>Business</td>\n",
       "      <td>1998-04-01</td>\n",
       "      <td>109.987316</td>\n",
       "    </tr>\n",
       "    <tr>\n",
       "      <th>2</th>\n",
       "      <td>Australia</td>\n",
       "      <td>Adelaide</td>\n",
       "      <td>South Australia</td>\n",
       "      <td>Business</td>\n",
       "      <td>1998-07-01</td>\n",
       "      <td>166.034687</td>\n",
       "    </tr>\n",
       "    <tr>\n",
       "      <th>3</th>\n",
       "      <td>Australia</td>\n",
       "      <td>Adelaide</td>\n",
       "      <td>South Australia</td>\n",
       "      <td>Business</td>\n",
       "      <td>1998-10-01</td>\n",
       "      <td>127.160464</td>\n",
       "    </tr>\n",
       "    <tr>\n",
       "      <th>4</th>\n",
       "      <td>Australia</td>\n",
       "      <td>Adelaide</td>\n",
       "      <td>South Australia</td>\n",
       "      <td>Business</td>\n",
       "      <td>1999-01-01</td>\n",
       "      <td>137.448533</td>\n",
       "    </tr>\n",
       "  </tbody>\n",
       "</table>\n",
       "</div>"
      ],
      "text/plain": [
       "     Country    Region            State   Purpose         ds           y\n",
       "0  Australia  Adelaide  South Australia  Business 1998-01-01  135.077690\n",
       "1  Australia  Adelaide  South Australia  Business 1998-04-01  109.987316\n",
       "2  Australia  Adelaide  South Australia  Business 1998-07-01  166.034687\n",
       "3  Australia  Adelaide  South Australia  Business 1998-10-01  127.160464\n",
       "4  Australia  Adelaide  South Australia  Business 1999-01-01  137.448533"
      ]
     },
     "execution_count": 5,
     "metadata": {},
     "output_type": "execute_result"
    }
   ],
   "source": [
    "# print data - se observa que a diferencia del ejemplo small que se carga la matriz S para realizar la reconciliación de forecast\n",
    "# aquí estan todas las series y hay que armar la matriz de cómo se relacionan los forecasts\n",
    "data_raw.head()"
   ]
  },
  {
   "cell_type": "code",
   "execution_count": 6,
   "id": "ce8e3a2b-7ec1-4b33-8e22-17b4b73c1a25",
   "metadata": {},
   "outputs": [],
   "source": [
    "# OBS: NOTAR ADEMÁS QUE AQUÍ ESTÁN TODAS LAS SERIES AL NIVEL MÁS DESAGREGADO POSIBLE \n",
    "# (EN LOS SIGUIENTES PASOS SE GENERA LA DATA CON MAYOR NIVEL DE AGREGACIÓN, EJ A NIVEL COUNTRY)"
   ]
  },
  {
   "cell_type": "code",
   "execution_count": null,
   "id": "4175e764-9bb9-4b2a-bf29-45e73b00a405",
   "metadata": {},
   "outputs": [],
   "source": []
  },
  {
   "cell_type": "code",
   "execution_count": null,
   "id": "c37549eb-c48b-4b5a-8eb1-dafd2ea88d1e",
   "metadata": {},
   "outputs": [],
   "source": []
  },
  {
   "cell_type": "markdown",
   "id": "9f697143-d479-4392-9e3d-48fb7dc8db6b",
   "metadata": {},
   "source": [
    "#### 1.2 Cargar agregación de los datos - cómo se agrupan las series en los diferentes niveles"
   ]
  },
  {
   "cell_type": "code",
   "execution_count": 7,
   "id": "e1d5bfc9-ef7e-4f16-ba5e-ac438a33e0a7",
   "metadata": {},
   "outputs": [],
   "source": [
    "# generar lista/matriz de python con las columnas del dataframe que corresponde al \"unique_id\" todos los diferentes grados de desagregación\n",
    "# que pueden tener los datos\n",
    "# EN ESTE EJEMPLO DESAGREGACIÓN GEOGRÁFICA DE LOS DATOS (no considera desagregaciones temporales)\n",
    "spec = [\n",
    "    ['Country'],\n",
    "    ['Country', 'State'], \n",
    "    ['Country', 'Purpose'], \n",
    "    ['Country', 'State', 'Region'], \n",
    "    ['Country', 'State', 'Purpose'], \n",
    "    ['Country', 'State', 'Region', 'Purpose']\n",
    "]"
   ]
  },
  {
   "cell_type": "code",
   "execution_count": null,
   "id": "d5012686-11b7-4f76-9a9c-84323b07fb67",
   "metadata": {},
   "outputs": [],
   "source": []
  },
  {
   "cell_type": "markdown",
   "id": "9c438675-cffb-4795-9316-b97355c8de69",
   "metadata": {},
   "source": [
    "#### 1.3 Generar el conjunto completo de series y las matrices para realizar la consolidación de los resultados (S, tags)\n",
    "**nixtla tiene la función para generar la agregación**"
   ]
  },
  {
   "cell_type": "code",
   "execution_count": 8,
   "id": "1e84cd0e-3b6b-49dc-b6da-5b87f6f29f96",
   "metadata": {},
   "outputs": [],
   "source": [
    "from hierarchicalforecast.utils import aggregate"
   ]
  },
  {
   "cell_type": "code",
   "execution_count": 9,
   "id": "c4cb3b71-3c43-48bd-b24b-08d3df253f7e",
   "metadata": {},
   "outputs": [],
   "source": [
    "Y_df, S_df, tags = aggregate(data_raw, spec)"
   ]
  },
  {
   "cell_type": "code",
   "execution_count": null,
   "id": "8ce837a5-bcf5-47fb-bf85-022059d717a8",
   "metadata": {},
   "outputs": [],
   "source": []
  },
  {
   "cell_type": "code",
   "execution_count": 10,
   "id": "e0211ace-dddf-4210-bea6-e60c494a89fe",
   "metadata": {},
   "outputs": [],
   "source": [
    "# print head diferentes dataframes generados en la agregación de las series"
   ]
  },
  {
   "cell_type": "code",
   "execution_count": 11,
   "id": "111277d2-4deb-4112-9868-f195a6fe3314",
   "metadata": {},
   "outputs": [
    {
     "data": {
      "text/html": [
       "<div>\n",
       "<style scoped>\n",
       "    .dataframe tbody tr th:only-of-type {\n",
       "        vertical-align: middle;\n",
       "    }\n",
       "\n",
       "    .dataframe tbody tr th {\n",
       "        vertical-align: top;\n",
       "    }\n",
       "\n",
       "    .dataframe thead th {\n",
       "        text-align: right;\n",
       "    }\n",
       "</style>\n",
       "<table border=\"1\" class=\"dataframe\">\n",
       "  <thead>\n",
       "    <tr style=\"text-align: right;\">\n",
       "      <th></th>\n",
       "      <th>unique_id</th>\n",
       "      <th>ds</th>\n",
       "      <th>y</th>\n",
       "    </tr>\n",
       "  </thead>\n",
       "  <tbody>\n",
       "    <tr>\n",
       "      <th>0</th>\n",
       "      <td>Australia</td>\n",
       "      <td>1998-01-01</td>\n",
       "      <td>23182.197269</td>\n",
       "    </tr>\n",
       "    <tr>\n",
       "      <th>1</th>\n",
       "      <td>Australia</td>\n",
       "      <td>1998-04-01</td>\n",
       "      <td>20323.380067</td>\n",
       "    </tr>\n",
       "    <tr>\n",
       "      <th>2</th>\n",
       "      <td>Australia</td>\n",
       "      <td>1998-07-01</td>\n",
       "      <td>19826.640511</td>\n",
       "    </tr>\n",
       "  </tbody>\n",
       "</table>\n",
       "</div>"
      ],
      "text/plain": [
       "   unique_id         ds             y\n",
       "0  Australia 1998-01-01  23182.197269\n",
       "1  Australia 1998-04-01  20323.380067\n",
       "2  Australia 1998-07-01  19826.640511"
      ]
     },
     "execution_count": 11,
     "metadata": {},
     "output_type": "execute_result"
    }
   ],
   "source": [
    "Y_df.head(3)"
   ]
  },
  {
   "cell_type": "code",
   "execution_count": 12,
   "id": "1b67bfef-b04f-4925-be8e-2395cb258d88",
   "metadata": {},
   "outputs": [
    {
     "data": {
      "text/html": [
       "<div>\n",
       "<style scoped>\n",
       "    .dataframe tbody tr th:only-of-type {\n",
       "        vertical-align: middle;\n",
       "    }\n",
       "\n",
       "    .dataframe tbody tr th {\n",
       "        vertical-align: top;\n",
       "    }\n",
       "\n",
       "    .dataframe thead th {\n",
       "        text-align: right;\n",
       "    }\n",
       "</style>\n",
       "<table border=\"1\" class=\"dataframe\">\n",
       "  <thead>\n",
       "    <tr style=\"text-align: right;\">\n",
       "      <th></th>\n",
       "      <th>unique_id</th>\n",
       "      <th>ds</th>\n",
       "      <th>y</th>\n",
       "    </tr>\n",
       "  </thead>\n",
       "  <tbody>\n",
       "    <tr>\n",
       "      <th>33997</th>\n",
       "      <td>Australia/Western Australia/Experience Perth/V...</td>\n",
       "      <td>2017-04-01</td>\n",
       "      <td>302.296119</td>\n",
       "    </tr>\n",
       "    <tr>\n",
       "      <th>33998</th>\n",
       "      <td>Australia/Western Australia/Experience Perth/V...</td>\n",
       "      <td>2017-07-01</td>\n",
       "      <td>373.442070</td>\n",
       "    </tr>\n",
       "    <tr>\n",
       "      <th>33999</th>\n",
       "      <td>Australia/Western Australia/Experience Perth/V...</td>\n",
       "      <td>2017-10-01</td>\n",
       "      <td>455.316702</td>\n",
       "    </tr>\n",
       "  </tbody>\n",
       "</table>\n",
       "</div>"
      ],
      "text/plain": [
       "                                               unique_id         ds  \\\n",
       "33997  Australia/Western Australia/Experience Perth/V... 2017-04-01   \n",
       "33998  Australia/Western Australia/Experience Perth/V... 2017-07-01   \n",
       "33999  Australia/Western Australia/Experience Perth/V... 2017-10-01   \n",
       "\n",
       "                y  \n",
       "33997  302.296119  \n",
       "33998  373.442070  \n",
       "33999  455.316702  "
      ]
     },
     "execution_count": 12,
     "metadata": {},
     "output_type": "execute_result"
    }
   ],
   "source": [
    "Y_df.tail(3)"
   ]
  },
  {
   "cell_type": "code",
   "execution_count": 13,
   "id": "ba76c77f-141c-4a18-9fa6-c5356d1c39e1",
   "metadata": {},
   "outputs": [],
   "source": [
    "# ----->OJO\n",
    "# SE PUEDE OBSERVAR QUE AL CREAR LAS NUEVAS SERIES CON LA AGREGACIÓN GEOGRÁFICA (POINT AGREGATION), LAS NUEVAS SERIES CREADAS\n",
    "# SE GUARDAN EN LA MISMA COLUMNA \"UNIQUE_ID\"\n",
    "\n",
    "# EN EL NOTEBOOK DE AGREGACIÓN TEMPORAL SE PUEDE VER AL CREAR LAS NUEVAS SERIES TEMPORALES AGREGAS SE CREA UNA NUEVA COLUMNA \"TEMPORAL_ID\"\n",
    "# PARA INDENTIFICAR LAS NUEVAS SERIES AGREGADAS TEMPORALMENTE"
   ]
  },
  {
   "cell_type": "code",
   "execution_count": null,
   "id": "abc48efc-27bc-4611-a3e6-ddd358ad0394",
   "metadata": {},
   "outputs": [],
   "source": []
  },
  {
   "cell_type": "code",
   "execution_count": null,
   "id": "9c312da2-1cd7-4efd-9e7a-2b4986819b52",
   "metadata": {},
   "outputs": [],
   "source": []
  },
  {
   "cell_type": "code",
   "execution_count": 14,
   "id": "9a8ed5b5-08e7-458c-ae61-55a75ce61d66",
   "metadata": {},
   "outputs": [
    {
     "data": {
      "text/html": [
       "<div>\n",
       "<style scoped>\n",
       "    .dataframe tbody tr th:only-of-type {\n",
       "        vertical-align: middle;\n",
       "    }\n",
       "\n",
       "    .dataframe tbody tr th {\n",
       "        vertical-align: top;\n",
       "    }\n",
       "\n",
       "    .dataframe thead th {\n",
       "        text-align: right;\n",
       "    }\n",
       "</style>\n",
       "<table border=\"1\" class=\"dataframe\">\n",
       "  <thead>\n",
       "    <tr style=\"text-align: right;\">\n",
       "      <th></th>\n",
       "      <th>unique_id</th>\n",
       "      <th>Australia/ACT/Canberra/Business</th>\n",
       "      <th>Australia/ACT/Canberra/Holiday</th>\n",
       "      <th>Australia/ACT/Canberra/Other</th>\n",
       "      <th>Australia/ACT/Canberra/Visiting</th>\n",
       "    </tr>\n",
       "  </thead>\n",
       "  <tbody>\n",
       "    <tr>\n",
       "      <th>0</th>\n",
       "      <td>Australia</td>\n",
       "      <td>1.0</td>\n",
       "      <td>1.0</td>\n",
       "      <td>1.0</td>\n",
       "      <td>1.0</td>\n",
       "    </tr>\n",
       "    <tr>\n",
       "      <th>1</th>\n",
       "      <td>Australia/ACT</td>\n",
       "      <td>1.0</td>\n",
       "      <td>1.0</td>\n",
       "      <td>1.0</td>\n",
       "      <td>1.0</td>\n",
       "    </tr>\n",
       "    <tr>\n",
       "      <th>2</th>\n",
       "      <td>Australia/New South Wales</td>\n",
       "      <td>0.0</td>\n",
       "      <td>0.0</td>\n",
       "      <td>0.0</td>\n",
       "      <td>0.0</td>\n",
       "    </tr>\n",
       "    <tr>\n",
       "      <th>3</th>\n",
       "      <td>Australia/Northern Territory</td>\n",
       "      <td>0.0</td>\n",
       "      <td>0.0</td>\n",
       "      <td>0.0</td>\n",
       "      <td>0.0</td>\n",
       "    </tr>\n",
       "    <tr>\n",
       "      <th>4</th>\n",
       "      <td>Australia/Queensland</td>\n",
       "      <td>0.0</td>\n",
       "      <td>0.0</td>\n",
       "      <td>0.0</td>\n",
       "      <td>0.0</td>\n",
       "    </tr>\n",
       "  </tbody>\n",
       "</table>\n",
       "</div>"
      ],
      "text/plain": [
       "                      unique_id  Australia/ACT/Canberra/Business  \\\n",
       "0                     Australia                              1.0   \n",
       "1                 Australia/ACT                              1.0   \n",
       "2     Australia/New South Wales                              0.0   \n",
       "3  Australia/Northern Territory                              0.0   \n",
       "4          Australia/Queensland                              0.0   \n",
       "\n",
       "   Australia/ACT/Canberra/Holiday  Australia/ACT/Canberra/Other  \\\n",
       "0                             1.0                           1.0   \n",
       "1                             1.0                           1.0   \n",
       "2                             0.0                           0.0   \n",
       "3                             0.0                           0.0   \n",
       "4                             0.0                           0.0   \n",
       "\n",
       "   Australia/ACT/Canberra/Visiting  \n",
       "0                              1.0  \n",
       "1                              1.0  \n",
       "2                              0.0  \n",
       "3                              0.0  \n",
       "4                              0.0  "
      ]
     },
     "execution_count": 14,
     "metadata": {},
     "output_type": "execute_result"
    }
   ],
   "source": [
    "S_df.iloc[:5, :5]"
   ]
  },
  {
   "cell_type": "code",
   "execution_count": 15,
   "id": "272880a8-05d8-42d8-8fed-eb34232fd3cc",
   "metadata": {},
   "outputs": [
    {
     "data": {
      "text/plain": [
       "array(['Australia/Business', 'Australia/Holiday', 'Australia/Other',\n",
       "       'Australia/Visiting'], dtype=object)"
      ]
     },
     "execution_count": 15,
     "metadata": {},
     "output_type": "execute_result"
    }
   ],
   "source": [
    "tags['Country/Purpose']"
   ]
  },
  {
   "cell_type": "code",
   "execution_count": 16,
   "id": "c24ff66a-101f-48e4-9d3a-e8c8755b6813",
   "metadata": {},
   "outputs": [
    {
     "data": {
      "text/plain": [
       "(24320, 6)"
      ]
     },
     "execution_count": 16,
     "metadata": {},
     "output_type": "execute_result"
    }
   ],
   "source": [
    "# shape data raw\n",
    "data_raw.shape"
   ]
  },
  {
   "cell_type": "code",
   "execution_count": 17,
   "id": "d6da515e-3f9f-4e18-8051-ef5d9cb342f7",
   "metadata": {},
   "outputs": [
    {
     "data": {
      "text/plain": [
       "(34000, 3)"
      ]
     },
     "execution_count": 17,
     "metadata": {},
     "output_type": "execute_result"
    }
   ],
   "source": [
    "# shape y_df - se generan más series\n",
    "Y_df.shape"
   ]
  },
  {
   "cell_type": "code",
   "execution_count": 18,
   "id": "c71d639e-e4ba-4b41-b752-bdf466ed8187",
   "metadata": {},
   "outputs": [
    {
     "data": {
      "text/plain": [
       "(425, 305)"
      ]
     },
     "execution_count": 18,
     "metadata": {},
     "output_type": "execute_result"
    }
   ],
   "source": [
    "# matriz matriz S\n",
    "S_df.shape"
   ]
  },
  {
   "cell_type": "code",
   "execution_count": 19,
   "id": "652050b0-1085-4f56-8ac6-816946283376",
   "metadata": {},
   "outputs": [
    {
     "data": {
      "text/plain": [
       "dict_keys(['Country', 'Country/State', 'Country/Purpose', 'Country/State/Region', 'Country/State/Purpose', 'Country/State/Region/Purpose'])"
      ]
     },
     "execution_count": 19,
     "metadata": {},
     "output_type": "execute_result"
    }
   ],
   "source": [
    "tags.keys()"
   ]
  },
  {
   "cell_type": "code",
   "execution_count": null,
   "id": "e1913621-3c6d-47fe-bf05-30be01c12082",
   "metadata": {},
   "outputs": [],
   "source": []
  },
  {
   "cell_type": "markdown",
   "id": "6a2eb91e-8d1e-4319-8439-f5c26d527f3d",
   "metadata": {},
   "source": [
    "### 2. Discovery Data (fuente origen propia)"
   ]
  },
  {
   "cell_type": "markdown",
   "id": "beee6848-bed8-4f2c-b8c5-81928f9b6d57",
   "metadata": {},
   "source": [
    "#### 2.1 discovery data_raw"
   ]
  },
  {
   "cell_type": "code",
   "execution_count": 20,
   "id": "0ee3ca0f-5833-49df-a6fc-7a9ce5485f3d",
   "metadata": {},
   "outputs": [
    {
     "data": {
      "text/html": [
       "<div>\n",
       "<style scoped>\n",
       "    .dataframe tbody tr th:only-of-type {\n",
       "        vertical-align: middle;\n",
       "    }\n",
       "\n",
       "    .dataframe tbody tr th {\n",
       "        vertical-align: top;\n",
       "    }\n",
       "\n",
       "    .dataframe thead th {\n",
       "        text-align: right;\n",
       "    }\n",
       "</style>\n",
       "<table border=\"1\" class=\"dataframe\">\n",
       "  <thead>\n",
       "    <tr style=\"text-align: right;\">\n",
       "      <th></th>\n",
       "      <th>Country</th>\n",
       "      <th>Region</th>\n",
       "      <th>State</th>\n",
       "      <th>Purpose</th>\n",
       "      <th>ds</th>\n",
       "      <th>y</th>\n",
       "      <th>unique_id</th>\n",
       "    </tr>\n",
       "  </thead>\n",
       "  <tbody>\n",
       "    <tr>\n",
       "      <th>0</th>\n",
       "      <td>Australia</td>\n",
       "      <td>Adelaide</td>\n",
       "      <td>South Australia</td>\n",
       "      <td>Business</td>\n",
       "      <td>1998-01-01</td>\n",
       "      <td>135.077690</td>\n",
       "      <td>Australia/South Australia/Adelaide/Business</td>\n",
       "    </tr>\n",
       "    <tr>\n",
       "      <th>1</th>\n",
       "      <td>Australia</td>\n",
       "      <td>Adelaide</td>\n",
       "      <td>South Australia</td>\n",
       "      <td>Business</td>\n",
       "      <td>1998-04-01</td>\n",
       "      <td>109.987316</td>\n",
       "      <td>Australia/South Australia/Adelaide/Business</td>\n",
       "    </tr>\n",
       "    <tr>\n",
       "      <th>2</th>\n",
       "      <td>Australia</td>\n",
       "      <td>Adelaide</td>\n",
       "      <td>South Australia</td>\n",
       "      <td>Business</td>\n",
       "      <td>1998-07-01</td>\n",
       "      <td>166.034687</td>\n",
       "      <td>Australia/South Australia/Adelaide/Business</td>\n",
       "    </tr>\n",
       "  </tbody>\n",
       "</table>\n",
       "</div>"
      ],
      "text/plain": [
       "     Country    Region            State   Purpose         ds           y  \\\n",
       "0  Australia  Adelaide  South Australia  Business 1998-01-01  135.077690   \n",
       "1  Australia  Adelaide  South Australia  Business 1998-04-01  109.987316   \n",
       "2  Australia  Adelaide  South Australia  Business 1998-07-01  166.034687   \n",
       "\n",
       "                                     unique_id  \n",
       "0  Australia/South Australia/Adelaide/Business  \n",
       "1  Australia/South Australia/Adelaide/Business  \n",
       "2  Australia/South Australia/Adelaide/Business  "
      ]
     },
     "execution_count": 20,
     "metadata": {},
     "output_type": "execute_result"
    }
   ],
   "source": [
    "# generar columna unique_id\n",
    "data_raw['unique_id'] = data_raw['Country'] + '/' + data_raw['State'] + '/' + data_raw['Region'] + '/' + data_raw['Purpose']\n",
    "data_raw.head(3)"
   ]
  },
  {
   "cell_type": "code",
   "execution_count": 21,
   "id": "6ca41a3a-5518-48ec-b38d-7ab3596ec9dd",
   "metadata": {},
   "outputs": [
    {
     "data": {
      "text/plain": [
       "(24320, 7)"
      ]
     },
     "execution_count": 21,
     "metadata": {},
     "output_type": "execute_result"
    }
   ],
   "source": [
    "# print tamaño data RAW\n",
    "data_raw.shape"
   ]
  },
  {
   "cell_type": "code",
   "execution_count": 22,
   "id": "56469db2-7085-4ce2-a1ae-4d5372cefc37",
   "metadata": {},
   "outputs": [
    {
     "name": "stdout",
     "output_type": "stream",
     "text": [
      "\n",
      "unique_values_country:  ['Australia']\n",
      "\n",
      "unique_values_state:  ['South Australia', 'Northern Territory', 'Western Australia', 'Victoria', 'New South Wales', 'Queensland', 'ACT', 'Tasmania']\n",
      "\n",
      "unique_values_region (example 10):  ['Adelaide', 'Adelaide Hills', 'Alice Springs', \"Australia's Coral Coast\", \"Australia's Golden Outback\", \"Australia's North West\", \"Australia's South West\", 'Ballarat', 'Barkly', 'Barossa']\n",
      "\n",
      "unique_values_purpose:  ['Business', 'Holiday', 'Other', 'Visiting']\n"
     ]
    }
   ],
   "source": [
    "# print algunos ejemplo de cada serie\n",
    "unique_values_country = data_raw['Country'].unique().tolist()\n",
    "unique_values_state = data_raw['State'].unique().tolist()\n",
    "unique_values_region = data_raw['Region'].unique().tolist()\n",
    "unique_values_purpose = data_raw['Purpose'].unique().tolist()\n",
    "print('\\nunique_values_country: ', unique_values_country)\n",
    "print('\\nunique_values_state: ', unique_values_state)\n",
    "print('\\nunique_values_region (example 10): ', unique_values_region[0:10])\n",
    "print('\\nunique_values_purpose: ', unique_values_purpose)"
   ]
  },
  {
   "cell_type": "code",
   "execution_count": 23,
   "id": "b89b9310-a788-4327-bd5c-b610a38a0584",
   "metadata": {},
   "outputs": [
    {
     "name": "stdout",
     "output_type": "stream",
     "text": [
      "shape_unique_values_country:  1\n",
      "shape_unique_values_state:  8\n",
      "shape_unique_values_region:  76\n",
      "shape_unique_values_purpose:  4\n"
     ]
    }
   ],
   "source": [
    "# combinaciones únicas de cada columna\n",
    "print('shape_unique_values_country: ', len(unique_values_country))\n",
    "print('shape_unique_values_state: ', len(unique_values_state))\n",
    "print('shape_unique_values_region: ', len(unique_values_region))\n",
    "print('shape_unique_values_purpose: ', len(unique_values_purpose))"
   ]
  },
  {
   "cell_type": "code",
   "execution_count": 24,
   "id": "fe1ea1bb-8f1f-4adf-a1da-4bf01bfab943",
   "metadata": {},
   "outputs": [
    {
     "data": {
      "text/plain": [
       "(304,)"
      ]
     },
     "execution_count": 24,
     "metadata": {},
     "output_type": "execute_result"
    }
   ],
   "source": [
    "# cantidad de series únicas en los datos\n",
    "data_raw['unique_id'].unique().shape"
   ]
  },
  {
   "cell_type": "code",
   "execution_count": 25,
   "id": "0ae638f9-5f78-4bf6-972a-bba0e54ec12f",
   "metadata": {},
   "outputs": [
    {
     "data": {
      "text/plain": [
       "2432"
      ]
     },
     "execution_count": 25,
     "metadata": {},
     "output_type": "execute_result"
    }
   ],
   "source": [
    "# se ve que no todas las combinaciones existen como series\n",
    "len(unique_values_country) * len(unique_values_state) * len(unique_values_region) * len(unique_values_purpose)"
   ]
  },
  {
   "cell_type": "code",
   "execution_count": 26,
   "id": "1bfefd8a-9cee-4ed1-8716-2059638e8120",
   "metadata": {},
   "outputs": [
    {
     "name": "stdout",
     "output_type": "stream",
     "text": [
      "fecha inicio data:  1998-01-01 00:00:00\n",
      "fecha fin data:  2017-10-01 00:00:00\n",
      "shape serie individual:  (80, 7)\n"
     ]
    }
   ],
   "source": [
    "# print fecha de inicio y fin de los datos (OJO TODAS LAS SERIES TIENEN LA MISMA CANTIDAD DE DATOS y las mismas fechas de inicio y fin)\n",
    "example_unique_id = data_raw['unique_id'][0]\n",
    "fecha_inicio_raw = data_raw[data_raw['unique_id'] == example_unique_id]['ds'].min()\n",
    "fecha_fin_raw = data_raw[data_raw['unique_id'] == example_unique_id]['ds'].max()\n",
    "shape_unique_serie = data_raw[data_raw['unique_id'] == example_unique_id].shape\n",
    "\n",
    "print('fecha inicio data: ', fecha_inicio_raw)\n",
    "print('fecha fin data: ', fecha_fin_raw)\n",
    "print('shape serie individual: ', shape_unique_serie)"
   ]
  },
  {
   "cell_type": "code",
   "execution_count": 27,
   "id": "23a25770-159f-4fc4-896e-3733055ff2ff",
   "metadata": {},
   "outputs": [
    {
     "data": {
      "text/plain": [
       "True"
      ]
     },
     "execution_count": 27,
     "metadata": {},
     "output_type": "execute_result"
    }
   ],
   "source": [
    "# cantidad de series por tamaño de serie, igual al tamaño del dataframe (validar que todas las series tienen la misma cantidad de datos)\n",
    "(80 * 304) == data_raw.shape[0]"
   ]
  },
  {
   "cell_type": "code",
   "execution_count": null,
   "id": "89e65d69-4e32-4801-b59a-ca1b58b00772",
   "metadata": {},
   "outputs": [],
   "source": []
  },
  {
   "cell_type": "markdown",
   "id": "dc5a6fac-6946-4af8-927a-4e0c75233fe9",
   "metadata": {},
   "source": [
    "#### 2.2 discovery data_agregada (data luego de aplicar función de agregación)"
   ]
  },
  {
   "cell_type": "code",
   "execution_count": 28,
   "id": "cd28b07d-a4eb-45ca-a983-9772207a98d0",
   "metadata": {},
   "outputs": [
    {
     "data": {
      "text/plain": [
       "(34000, 3)"
      ]
     },
     "execution_count": 28,
     "metadata": {},
     "output_type": "execute_result"
    }
   ],
   "source": [
    "# print tamaño data\n",
    "Y_df.shape"
   ]
  },
  {
   "cell_type": "code",
   "execution_count": 29,
   "id": "986f38b9-520a-4a8a-9010-61c4080f957c",
   "metadata": {},
   "outputs": [
    {
     "data": {
      "text/plain": [
       "(425,)"
      ]
     },
     "execution_count": 29,
     "metadata": {},
     "output_type": "execute_result"
    }
   ],
   "source": [
    "# cantidad de series únicas en los datos\n",
    "Y_df['unique_id'].unique().shape"
   ]
  },
  {
   "cell_type": "code",
   "execution_count": null,
   "id": "edec687c-001a-4686-b096-d32ee2b12540",
   "metadata": {},
   "outputs": [],
   "source": []
  },
  {
   "cell_type": "markdown",
   "id": "5806fa4e-c198-40e9-8043-1ac2228b2c36",
   "metadata": {},
   "source": [
    "#### 2.3 Validar qué series están en la data raw y cuales no"
   ]
  },
  {
   "cell_type": "code",
   "execution_count": 30,
   "id": "eaddbbd0-dda7-4824-a843-c704fc0588e9",
   "metadata": {},
   "outputs": [
    {
     "name": "stdout",
     "output_type": "stream",
     "text": [
      "list_unique_id_data_raw:  304\n",
      "list_unique_id_data_ydf:  425\n"
     ]
    }
   ],
   "source": [
    "# cantidad de series cada data\n",
    "list_unique_id_data_raw = data_raw['unique_id'].unique().tolist()\n",
    "list_unique_id_data_ydf = Y_df['unique_id'].unique().tolist()\n",
    "print('list_unique_id_data_raw: ', len(list_unique_id_data_raw))\n",
    "print('list_unique_id_data_ydf: ',len(list_unique_id_data_ydf))"
   ]
  },
  {
   "cell_type": "code",
   "execution_count": 31,
   "id": "39e55158-20a7-4c16-ae09-1b020f8dacf7",
   "metadata": {},
   "outputs": [],
   "source": [
    "# qué series están en cada data"
   ]
  },
  {
   "cell_type": "code",
   "execution_count": 32,
   "id": "16120b4e-063a-4e7a-a35d-f12f77b6a888",
   "metadata": {},
   "outputs": [
    {
     "data": {
      "text/plain": [
       "0"
      ]
     },
     "execution_count": 32,
     "metadata": {},
     "output_type": "execute_result"
    }
   ],
   "source": [
    "# cantidad de series que están en la data raw y no en la data agregada (DEBERÍA ESTAR TODA LA DATA)\n",
    "len(list(set(list_unique_id_data_raw) - set(list_unique_id_data_ydf)))"
   ]
  },
  {
   "cell_type": "code",
   "execution_count": 33,
   "id": "7463e392-4954-4682-8b0a-6c3adce5f854",
   "metadata": {},
   "outputs": [
    {
     "data": {
      "text/plain": [
       "121"
      ]
     },
     "execution_count": 33,
     "metadata": {},
     "output_type": "execute_result"
    }
   ],
   "source": [
    "# cantidad de series que están en la data agregada y NO están en la raw (DEBERÍAN ESTAR TODAS LAS SERIES AGREGADAS)\n",
    "len(list(set(list_unique_id_data_ydf) - set(list_unique_id_data_raw)))"
   ]
  },
  {
   "cell_type": "code",
   "execution_count": null,
   "id": "1aeacda3-abbb-4a84-ae3b-e06895d7281f",
   "metadata": {},
   "outputs": [],
   "source": []
  },
  {
   "cell_type": "code",
   "execution_count": 34,
   "id": "80cd557c-7735-4aa8-90f1-8bcdc3486547",
   "metadata": {},
   "outputs": [
    {
     "data": {
      "text/plain": [
       "121"
      ]
     },
     "execution_count": 34,
     "metadata": {},
     "output_type": "execute_result"
    }
   ],
   "source": [
    "# validar que restar la data agregada menos la data raw, se obtiene la diferencia\n",
    "len(list_unique_id_data_ydf) - len(list_unique_id_data_raw)"
   ]
  },
  {
   "cell_type": "markdown",
   "id": "8b5242de-efe3-45d6-9e2e-b941ff7e6d14",
   "metadata": {},
   "source": [
    "**---> ENTONCES LA DATA RAW QUE SE OBTUVO ES LA MÁS DESAGREGADA - LAS SERIES AL NIVEL MÁS INDIVIDUAL**"
   ]
  },
  {
   "cell_type": "code",
   "execution_count": null,
   "id": "fae37211-0c59-4f3d-80b5-1d7f313411ae",
   "metadata": {},
   "outputs": [],
   "source": []
  },
  {
   "cell_type": "code",
   "execution_count": null,
   "id": "4e4b08f2-085d-405a-a12a-f4b32bc63974",
   "metadata": {},
   "outputs": [],
   "source": []
  },
  {
   "cell_type": "markdown",
   "id": "185f17c7-f317-4418-b08f-032f736f55a3",
   "metadata": {},
   "source": [
    "### 3. Split Train/Test sets (continuación código base nixtla)\n",
    "We use the final two years (8 quarters) as test set"
   ]
  },
  {
   "cell_type": "code",
   "execution_count": 35,
   "id": "d40cc4b4-18f6-4265-84e0-3087297c1ef3",
   "metadata": {},
   "outputs": [],
   "source": [
    "# param - horizonte a forecastear\n",
    "horizon = 8"
   ]
  },
  {
   "cell_type": "code",
   "execution_count": 36,
   "id": "0d270643-1d5f-4743-b3a3-902e20fe14b5",
   "metadata": {},
   "outputs": [],
   "source": [
    "Y_test_df = Y_df.groupby('unique_id', as_index=False).tail(horizon)\n",
    "Y_train_df = Y_df.drop(Y_test_df.index)"
   ]
  },
  {
   "cell_type": "code",
   "execution_count": 37,
   "id": "8ca2499e-f1ad-46f4-bc3b-94d0d33ca514",
   "metadata": {},
   "outputs": [
    {
     "name": "stdout",
     "output_type": "stream",
     "text": [
      "Y_df:  (34000, 3)\n",
      "Y_train_df:  (30600, 3)\n",
      "Y_test_df:  (3400, 3)\n"
     ]
    }
   ],
   "source": [
    "# print informativo tamaño de la data original, data_train y data_test\n",
    "print('Y_df: ', Y_df.shape)\n",
    "print('Y_train_df: ', Y_train_df.shape)\n",
    "print('Y_test_df: ', Y_test_df.shape)"
   ]
  },
  {
   "cell_type": "code",
   "execution_count": null,
   "id": "5fb70ba8-357a-44b8-a230-2fdbf8c99084",
   "metadata": {},
   "outputs": [],
   "source": []
  },
  {
   "cell_type": "markdown",
   "id": "cb868b05-67d8-4d45-be1d-bc57f0847f2a",
   "metadata": {},
   "source": [
    "### 4. Computing base forecasts"
   ]
  },
  {
   "cell_type": "code",
   "execution_count": 38,
   "id": "816005d9-6ca4-4bc5-8b9a-878f8f7b0d70",
   "metadata": {},
   "outputs": [],
   "source": [
    "from statsforecast.models import AutoETS\n",
    "from statsforecast.core import StatsForecast"
   ]
  },
  {
   "cell_type": "code",
   "execution_count": 39,
   "id": "65d97ad2-49c5-41e8-a2b5-da98ceecc2a8",
   "metadata": {},
   "outputs": [],
   "source": [
    "fcst = StatsForecast(models=[AutoETS(season_length=4, model='ZZA')], \n",
    "                     freq='QS', n_jobs=-1)\n",
    "\n",
    "Y_hat_df = fcst.forecast(df=Y_train_df, h=8, fitted=True)\n",
    "\n",
    "Y_fitted_df = fcst.forecast_fitted_values()"
   ]
  },
  {
   "cell_type": "code",
   "execution_count": null,
   "id": "fb0c41a2-8e7f-427d-a379-3e1205ee298f",
   "metadata": {},
   "outputs": [],
   "source": []
  },
  {
   "cell_type": "code",
   "execution_count": 40,
   "id": "78dfa3c4-80cb-413b-a39c-40603a38213a",
   "metadata": {},
   "outputs": [],
   "source": [
    "# print dataframes generados"
   ]
  },
  {
   "cell_type": "code",
   "execution_count": 41,
   "id": "25fdc609-556c-4341-95f4-7e23340699e5",
   "metadata": {},
   "outputs": [
    {
     "data": {
      "text/plain": [
       "(30600, 3)"
      ]
     },
     "execution_count": 41,
     "metadata": {},
     "output_type": "execute_result"
    }
   ],
   "source": [
    "# TRAIN: shape\n",
    "Y_train_df.shape"
   ]
  },
  {
   "cell_type": "code",
   "execution_count": 42,
   "id": "cabb900f-cb66-4729-a1f1-e660c4a16da7",
   "metadata": {},
   "outputs": [
    {
     "name": "stdout",
     "output_type": "stream",
     "text": [
      "min_fecha_train:  1998-01-01 00:00:00\n",
      "max_fecha_train:  2015-10-01 00:00:00\n"
     ]
    }
   ],
   "source": [
    "# TRAIN: print fecha min y max (ojo, recordar que todas las series tienen la misma fecha de inicio y fin)\n",
    "min_fecha_train = Y_train_df['ds'].min()\n",
    "max_fecha_train = Y_train_df['ds'].max()\n",
    "print('min_fecha_train: ', min_fecha_train)\n",
    "print('max_fecha_train: ', max_fecha_train)"
   ]
  },
  {
   "cell_type": "code",
   "execution_count": 43,
   "id": "a888a082-1a37-47c4-8a09-8dfbf5249267",
   "metadata": {},
   "outputs": [
    {
     "data": {
      "text/plain": [
       "(3400, 3)"
      ]
     },
     "execution_count": 43,
     "metadata": {},
     "output_type": "execute_result"
    }
   ],
   "source": [
    "# Y_HAT: shape (debería el dataframe con los datos forecasteados)\n",
    "Y_hat_df.shape"
   ]
  },
  {
   "cell_type": "code",
   "execution_count": 44,
   "id": "d8b5bda5-37b4-4a11-987b-8af2fe6b2e49",
   "metadata": {},
   "outputs": [
    {
     "data": {
      "text/plain": [
       "3400"
      ]
     },
     "execution_count": 44,
     "metadata": {},
     "output_type": "execute_result"
    }
   ],
   "source": [
    "Y_hat_df['unique_id'].unique().shape[0] * 8 # multiplicar cantidad de series por horizonte (efectivamente y_hat_df corresponde al df de forecasts)"
   ]
  },
  {
   "cell_type": "code",
   "execution_count": 45,
   "id": "6e371fe5-64ea-441e-921c-2aa068df26f6",
   "metadata": {},
   "outputs": [
    {
     "name": "stdout",
     "output_type": "stream",
     "text": [
      "min_fecha_future_forecast:  2016-01-01 00:00:00\n",
      "max_fecha_future_forecast:  2017-10-01 00:00:00\n"
     ]
    }
   ],
   "source": [
    "# Y_HAT: fecha min y máximo\n",
    "min_fecha_future_forecast = Y_hat_df['ds'].min()\n",
    "max_fecha_future_forecast = Y_hat_df['ds'].max()\n",
    "print('min_fecha_future_forecast: ', min_fecha_future_forecast)\n",
    "print('max_fecha_future_forecast: ', max_fecha_future_forecast)"
   ]
  },
  {
   "cell_type": "code",
   "execution_count": 46,
   "id": "323d3adb-8f60-47c0-b121-2b06f961c4c1",
   "metadata": {},
   "outputs": [
    {
     "data": {
      "text/plain": [
       "(30600, 4)"
      ]
     },
     "execution_count": 46,
     "metadata": {},
     "output_type": "execute_result"
    }
   ],
   "source": [
    "# Y_fitted_df: shape (debería ser el dataframe que tiene el forecast para los datos de train y además el forecast test/future) FALSO\n",
    "# Y_fitted_df: shape (ES EL DATAFRAME DE TRAIN QUE SE LE AGREGA EL FORECAST GENERADO EN TRAIN)\n",
    "Y_fitted_df.shape"
   ]
  },
  {
   "cell_type": "code",
   "execution_count": 47,
   "id": "c4aceb21-7c8e-46ed-9546-d566108cb7c5",
   "metadata": {},
   "outputs": [
    {
     "data": {
      "text/plain": [
       "(30600, 3)"
      ]
     },
     "execution_count": 47,
     "metadata": {},
     "output_type": "execute_result"
    }
   ],
   "source": [
    "# mostrar tamaño de TRAIN y validar que SI coincide con Y_fitted_df\n",
    "Y_train_df.shape"
   ]
  },
  {
   "cell_type": "code",
   "execution_count": 48,
   "id": "ba9b03a8-be6b-4a5b-a46d-60d00415e33f",
   "metadata": {},
   "outputs": [
    {
     "name": "stdout",
     "output_type": "stream",
     "text": [
      "min_fecha_train_fcst:  1998-01-01 00:00:00\n",
      "max_fecha_train_fcst:  2015-10-01 00:00:00\n"
     ]
    }
   ],
   "source": [
    "# Y_fitted_df: print fecha min y max\n",
    "min_fecha_train_fcst = Y_fitted_df['ds'].min()\n",
    "max_fecha_train_fcst = Y_fitted_df['ds'].max()\n",
    "print('min_fecha_train_fcst: ', min_fecha_train_fcst)\n",
    "print('max_fecha_train_fcst: ', max_fecha_train_fcst)"
   ]
  },
  {
   "cell_type": "code",
   "execution_count": null,
   "id": "978d6e8f-8b27-46d0-a53b-b8fdf69bd3c7",
   "metadata": {},
   "outputs": [],
   "source": []
  },
  {
   "cell_type": "code",
   "execution_count": null,
   "id": "f45f49c9-2b5a-4a9a-bd44-59ef23628c8e",
   "metadata": {},
   "outputs": [],
   "source": []
  },
  {
   "cell_type": "code",
   "execution_count": null,
   "id": "9cb2450e-73dc-4d97-a8dc-5a6a6a7fd8ba",
   "metadata": {},
   "outputs": [],
   "source": []
  },
  {
   "cell_type": "markdown",
   "id": "b6b138d5-8d12-4308-adf9-93c48062f8e6",
   "metadata": {},
   "source": [
    "### 5. Validar que los forecast no son coherentes (al hacer la agregacion geográfica el volumen no coincide)"
   ]
  },
  {
   "cell_type": "code",
   "execution_count": 49,
   "id": "1f5ff3cd-ad24-44e3-8efc-6524f317d8e6",
   "metadata": {},
   "outputs": [
    {
     "data": {
      "text/plain": [
       "dict_keys(['Country', 'Country/State', 'Country/Purpose', 'Country/State/Region', 'Country/State/Purpose', 'Country/State/Region/Purpose'])"
      ]
     },
     "execution_count": 49,
     "metadata": {},
     "output_type": "execute_result"
    }
   ],
   "source": [
    "# consultar el diccionario de tags para saber los diferentes niveles de agregacion\n",
    "tags.keys()"
   ]
  },
  {
   "cell_type": "code",
   "execution_count": 50,
   "id": "776c6bc9-68e8-44dc-bef2-756b4b513e7b",
   "metadata": {},
   "outputs": [
    {
     "data": {
      "text/plain": [
       "['Australia']"
      ]
     },
     "execution_count": 50,
     "metadata": {},
     "output_type": "execute_result"
    }
   ],
   "source": [
    "# obtener las series de \"Country\"\n",
    "list_series_country = tags['Country'].tolist()\n",
    "list_series_country"
   ]
  },
  {
   "cell_type": "code",
   "execution_count": 51,
   "id": "66bcd460-251b-4083-aa34-41864e41d649",
   "metadata": {},
   "outputs": [
    {
     "data": {
      "text/plain": [
       "['Australia/ACT',\n",
       " 'Australia/New South Wales',\n",
       " 'Australia/Northern Territory',\n",
       " 'Australia/Queensland',\n",
       " 'Australia/South Australia',\n",
       " 'Australia/Tasmania',\n",
       " 'Australia/Victoria',\n",
       " 'Australia/Western Australia']"
      ]
     },
     "execution_count": 51,
     "metadata": {},
     "output_type": "execute_result"
    }
   ],
   "source": [
    "# obtener las series de \"Country/State\" (los diferentes estados que conforman el país) (si se sumara el forecast de cada estado debería dar el del país)\n",
    "list_series_country_state = tags['Country/State'].tolist()\n",
    "list_series_country_state"
   ]
  },
  {
   "cell_type": "code",
   "execution_count": null,
   "id": "8bb0a903-7ce4-40d2-b49d-ec979af17aa2",
   "metadata": {},
   "outputs": [],
   "source": []
  },
  {
   "cell_type": "code",
   "execution_count": 52,
   "id": "f637b77d-aa64-49c9-ae1e-d7ea31702114",
   "metadata": {},
   "outputs": [
    {
     "data": {
      "text/html": [
       "<div>\n",
       "<style scoped>\n",
       "    .dataframe tbody tr th:only-of-type {\n",
       "        vertical-align: middle;\n",
       "    }\n",
       "\n",
       "    .dataframe tbody tr th {\n",
       "        vertical-align: top;\n",
       "    }\n",
       "\n",
       "    .dataframe thead th {\n",
       "        text-align: right;\n",
       "    }\n",
       "</style>\n",
       "<table border=\"1\" class=\"dataframe\">\n",
       "  <thead>\n",
       "    <tr style=\"text-align: right;\">\n",
       "      <th></th>\n",
       "      <th>unique_id</th>\n",
       "      <th>ds</th>\n",
       "      <th>AutoETS</th>\n",
       "    </tr>\n",
       "  </thead>\n",
       "  <tbody>\n",
       "    <tr>\n",
       "      <th>0</th>\n",
       "      <td>Australia</td>\n",
       "      <td>2016-01-01</td>\n",
       "      <td>25990.068004</td>\n",
       "    </tr>\n",
       "  </tbody>\n",
       "</table>\n",
       "</div>"
      ],
      "text/plain": [
       "   unique_id         ds       AutoETS\n",
       "0  Australia 2016-01-01  25990.068004"
      ]
     },
     "execution_count": 52,
     "metadata": {},
     "output_type": "execute_result"
    }
   ],
   "source": [
    "# filtrar forecast país para una fecha en específico (para comparar vs la suma del forecast cada state por separado y luego sumándolo)\n",
    "fecha_example_filter = '2016-01-01'\n",
    "\n",
    "mask_example_country = (Y_hat_df['unique_id'].isin(list_series_country)) & (Y_hat_df['ds'] == fecha_example_filter)\n",
    "Y_hat_df[mask_example_country]"
   ]
  },
  {
   "cell_type": "code",
   "execution_count": 53,
   "id": "e2a1c677-c6c3-45a8-aa32-39feea1260be",
   "metadata": {},
   "outputs": [
    {
     "data": {
      "text/html": [
       "<div>\n",
       "<style scoped>\n",
       "    .dataframe tbody tr th:only-of-type {\n",
       "        vertical-align: middle;\n",
       "    }\n",
       "\n",
       "    .dataframe tbody tr th {\n",
       "        vertical-align: top;\n",
       "    }\n",
       "\n",
       "    .dataframe thead th {\n",
       "        text-align: right;\n",
       "    }\n",
       "</style>\n",
       "<table border=\"1\" class=\"dataframe\">\n",
       "  <thead>\n",
       "    <tr style=\"text-align: right;\">\n",
       "      <th></th>\n",
       "      <th>unique_id</th>\n",
       "      <th>ds</th>\n",
       "      <th>AutoETS</th>\n",
       "    </tr>\n",
       "  </thead>\n",
       "  <tbody>\n",
       "    <tr>\n",
       "      <th>8</th>\n",
       "      <td>Australia/ACT</td>\n",
       "      <td>2016-01-01</td>\n",
       "      <td>553.037571</td>\n",
       "    </tr>\n",
       "    <tr>\n",
       "      <th>104</th>\n",
       "      <td>Australia/New South Wales</td>\n",
       "      <td>2016-01-01</td>\n",
       "      <td>7950.122623</td>\n",
       "    </tr>\n",
       "    <tr>\n",
       "      <th>664</th>\n",
       "      <td>Australia/Northern Territory</td>\n",
       "      <td>2016-01-01</td>\n",
       "      <td>290.492099</td>\n",
       "    </tr>\n",
       "    <tr>\n",
       "      <th>992</th>\n",
       "      <td>Australia/Queensland</td>\n",
       "      <td>2016-01-01</td>\n",
       "      <td>5179.108984</td>\n",
       "    </tr>\n",
       "    <tr>\n",
       "      <th>1512</th>\n",
       "      <td>Australia/South Australia</td>\n",
       "      <td>2016-01-01</td>\n",
       "      <td>1715.447017</td>\n",
       "    </tr>\n",
       "    <tr>\n",
       "      <th>2032</th>\n",
       "      <td>Australia/Tasmania</td>\n",
       "      <td>2016-01-01</td>\n",
       "      <td>914.333862</td>\n",
       "    </tr>\n",
       "    <tr>\n",
       "      <th>2272</th>\n",
       "      <td>Australia/Victoria</td>\n",
       "      <td>2016-01-01</td>\n",
       "      <td>6301.092079</td>\n",
       "    </tr>\n",
       "    <tr>\n",
       "      <th>3160</th>\n",
       "      <td>Australia/Western Australia</td>\n",
       "      <td>2016-01-01</td>\n",
       "      <td>2732.699242</td>\n",
       "    </tr>\n",
       "  </tbody>\n",
       "</table>\n",
       "</div>"
      ],
      "text/plain": [
       "                         unique_id         ds      AutoETS\n",
       "8                    Australia/ACT 2016-01-01   553.037571\n",
       "104      Australia/New South Wales 2016-01-01  7950.122623\n",
       "664   Australia/Northern Territory 2016-01-01   290.492099\n",
       "992           Australia/Queensland 2016-01-01  5179.108984\n",
       "1512     Australia/South Australia 2016-01-01  1715.447017\n",
       "2032            Australia/Tasmania 2016-01-01   914.333862\n",
       "2272            Australia/Victoria 2016-01-01  6301.092079\n",
       "3160   Australia/Western Australia 2016-01-01  2732.699242"
      ]
     },
     "execution_count": 53,
     "metadata": {},
     "output_type": "execute_result"
    }
   ],
   "source": [
    "# filtrar forecast por cada state para una fecha en específico, luego sumar y comparar si coincide con forecast a nivel país\n",
    "fecha_example_filter = '2016-01-01'\n",
    "\n",
    "mask_example_country_state = (Y_hat_df['unique_id'].isin(list_series_country_state)) & (Y_hat_df['ds'] == fecha_example_filter)\n",
    "Y_hat_df[mask_example_country_state]"
   ]
  },
  {
   "cell_type": "code",
   "execution_count": 54,
   "id": "435ed7ee-ae0b-4bec-a2de-d4c251813b4b",
   "metadata": {},
   "outputs": [
    {
     "data": {
      "text/plain": [
       "25636.33347680661"
      ]
     },
     "execution_count": 54,
     "metadata": {},
     "output_type": "execute_result"
    }
   ],
   "source": [
    "# sumar forecast por cada state (SE PUEDE VER QUE LA SUMA DE FORECAST DA UN VOLUMEN DISTINTO VS FORECAST A NIVEL PAÍS)\n",
    "Y_hat_df[mask_example_country_state]['AutoETS'].sum()"
   ]
  },
  {
   "cell_type": "code",
   "execution_count": null,
   "id": "109b0795-39c1-4088-9ad2-abcd0cfe6690",
   "metadata": {},
   "outputs": [],
   "source": []
  },
  {
   "cell_type": "markdown",
   "id": "1d0ee248-a767-4364-94d3-26c5d977c8c2",
   "metadata": {},
   "source": [
    "### 6. RECONCILE FORECAST!!!\n",
    "The following cell makes the previous forecasts coherent using the HierarchicalReconciliation class. Since the hierarchy structure is not strict, we can’t use methods such as TopDown or MiddleOut. In this example we use BottomUp and MinTrace."
   ]
  },
  {
   "cell_type": "code",
   "execution_count": 55,
   "id": "79022270-b45e-43cd-ba98-6acaba32861e",
   "metadata": {},
   "outputs": [],
   "source": [
    "from hierarchicalforecast.methods import BottomUp, MinTrace\n",
    "from hierarchicalforecast.core import HierarchicalReconciliation"
   ]
  },
  {
   "cell_type": "code",
   "execution_count": 56,
   "id": "9d986348-dce2-4b58-b8d5-bef9a289f470",
   "metadata": {},
   "outputs": [
    {
     "data": {
      "text/plain": [
       "<hierarchicalforecast.core.HierarchicalReconciliation at 0x176a74bd0>"
      ]
     },
     "execution_count": 56,
     "metadata": {},
     "output_type": "execute_result"
    }
   ],
   "source": [
    "# cargar listado de posibles formas de reconciliar forecasts (bottomup y MinTrace)\n",
    "reconcilers = [\n",
    "    BottomUp(),\n",
    "    MinTrace(method='mint_shrink'),\n",
    "    MinTrace(method='ols')\n",
    "]\n",
    "\n",
    "# llamar instancia de objeto con los \"modelos\" para conciliar forecasts\n",
    "hrec = HierarchicalReconciliation(reconcilers=reconcilers)\n",
    "hrec"
   ]
  },
  {
   "cell_type": "code",
   "execution_count": 57,
   "id": "f0ae664c-82a8-4544-bee6-d815e82cece0",
   "metadata": {},
   "outputs": [],
   "source": [
    "# ---- OJO PARA RECONCILIAR FORECASTS SE NECESITA: ----\n",
    "# Y_hat_df: dataframe con los datos FUTURE. datos forecasteados\n",
    "# Y_fitted_df: dataframe con los datos de train y el forecast generado (sería el equivalente a y_train, y_train_pred) \n",
    "# S_df: matriz que se genera con nixtla (matriz binaria donde se muestra qué forecasts están relacionados)\n",
    "# tags: diccionario que se genera con nixtla (tiene las individuales y cómo se relacionan para generar las agregaciones)\n",
    "\n",
    "# (al final se ajusta el error (conciliación min_trace) en train con el real y el predicho y luego se aplica esa conciliación al forecast generado)"
   ]
  },
  {
   "cell_type": "code",
   "execution_count": 58,
   "id": "630191c6-f508-4d21-8be6-2a24c2f696a6",
   "metadata": {},
   "outputs": [],
   "source": [
    "# ---- OJO IMPORTANTE 2\n",
    "# para la reconciliación \"mint_shrink\" se necesita pasar los datos Y_df = Y_fitted_df (datos de train con real y predicho)\n",
    "# pero para las otras reconciliaciones solo se necesita pasar los forecast generados (NO SE NECESITA TRAIN)\n",
    "\n",
    "# ejemplo\n",
    "# reconcilers = [\n",
    "#     BottomUp(),\n",
    "#     MinTrace(method='ols')\n",
    "# ]\n",
    "\n",
    "# hrec = HierarchicalReconciliation(reconcilers=reconcilers)\n",
    "\n",
    "# hrec.reconcile(Y_hat_df = Y_hat_df,\n",
    "#                           S = S_df, \n",
    "#                           tags = tags) # ojo no se pasa Y_df = Y_fitted_df, ya que no se usa la conciliacion mint_shrink"
   ]
  },
  {
   "cell_type": "code",
   "execution_count": 59,
   "id": "f1a3f650-e51e-4826-974b-dd43d8f03c14",
   "metadata": {},
   "outputs": [],
   "source": [
    "# reconciliar forecasts\n",
    "Y_rec_df = hrec.reconcile(Y_hat_df = Y_hat_df, \n",
    "                          Y_df = Y_fitted_df, \n",
    "                          S = S_df, \n",
    "                          tags = tags)"
   ]
  },
  {
   "cell_type": "code",
   "execution_count": 60,
   "id": "3dac40c9-7286-43b1-bd2d-f509ed229e32",
   "metadata": {},
   "outputs": [
    {
     "data": {
      "text/html": [
       "<div>\n",
       "<style scoped>\n",
       "    .dataframe tbody tr th:only-of-type {\n",
       "        vertical-align: middle;\n",
       "    }\n",
       "\n",
       "    .dataframe tbody tr th {\n",
       "        vertical-align: top;\n",
       "    }\n",
       "\n",
       "    .dataframe thead th {\n",
       "        text-align: right;\n",
       "    }\n",
       "</style>\n",
       "<table border=\"1\" class=\"dataframe\">\n",
       "  <thead>\n",
       "    <tr style=\"text-align: right;\">\n",
       "      <th></th>\n",
       "      <th>unique_id</th>\n",
       "      <th>ds</th>\n",
       "      <th>AutoETS</th>\n",
       "      <th>AutoETS/BottomUp</th>\n",
       "      <th>AutoETS/MinTrace_method-mint_shrink</th>\n",
       "      <th>AutoETS/MinTrace_method-ols</th>\n",
       "    </tr>\n",
       "  </thead>\n",
       "  <tbody>\n",
       "    <tr>\n",
       "      <th>0</th>\n",
       "      <td>Australia</td>\n",
       "      <td>2016-01-01</td>\n",
       "      <td>25990.068004</td>\n",
       "      <td>24381.672902</td>\n",
       "      <td>25427.793552</td>\n",
       "      <td>25894.419896</td>\n",
       "    </tr>\n",
       "    <tr>\n",
       "      <th>1</th>\n",
       "      <td>Australia</td>\n",
       "      <td>2016-04-01</td>\n",
       "      <td>24458.490282</td>\n",
       "      <td>22903.194015</td>\n",
       "      <td>23913.800914</td>\n",
       "      <td>24357.231461</td>\n",
       "    </tr>\n",
       "    <tr>\n",
       "      <th>2</th>\n",
       "      <td>Australia</td>\n",
       "      <td>2016-07-01</td>\n",
       "      <td>23974.055984</td>\n",
       "      <td>22411.401316</td>\n",
       "      <td>23428.540858</td>\n",
       "      <td>23865.928094</td>\n",
       "    </tr>\n",
       "  </tbody>\n",
       "</table>\n",
       "</div>"
      ],
      "text/plain": [
       "   unique_id         ds       AutoETS  AutoETS/BottomUp  \\\n",
       "0  Australia 2016-01-01  25990.068004      24381.672902   \n",
       "1  Australia 2016-04-01  24458.490282      22903.194015   \n",
       "2  Australia 2016-07-01  23974.055984      22411.401316   \n",
       "\n",
       "   AutoETS/MinTrace_method-mint_shrink  AutoETS/MinTrace_method-ols  \n",
       "0                         25427.793552                 25894.419896  \n",
       "1                         23913.800914                 24357.231461  \n",
       "2                         23428.540858                 23865.928094  "
      ]
     },
     "execution_count": 60,
     "metadata": {},
     "output_type": "execute_result"
    }
   ],
   "source": [
    "# print dataframe con las reconciliaciones\n",
    "Y_rec_df.head(3)"
   ]
  },
  {
   "cell_type": "code",
   "execution_count": null,
   "id": "16bf41d6-c6c1-4811-ba33-b4fc2ceecdd2",
   "metadata": {},
   "outputs": [],
   "source": []
  },
  {
   "cell_type": "code",
   "execution_count": null,
   "id": "50474325-fb1d-4d7c-912b-51567abb0575",
   "metadata": {},
   "outputs": [],
   "source": []
  },
  {
   "cell_type": "markdown",
   "id": "816b050c-659b-4827-8664-6ce4d364fca5",
   "metadata": {},
   "source": [
    "### 7. VALIDAR QUE SE CONSERVA EL VOLUMEN CON LAS RECONCILIACIONES\n",
    "Volver a hacer print de una fecha de ejemplo (y una agregación de ejemplo) y ahora validar que se mantiene el volumen\n",
    "UTILIZAR EL DATAFRAME NUEVO CON LOS FORECAST RECONCILIADOS \"Y_rec_df\""
   ]
  },
  {
   "cell_type": "code",
   "execution_count": 61,
   "id": "82fe792f-861d-4e2b-a67b-e958202ae268",
   "metadata": {},
   "outputs": [
    {
     "data": {
      "text/plain": [
       "['Australia']"
      ]
     },
     "execution_count": 61,
     "metadata": {},
     "output_type": "execute_result"
    }
   ],
   "source": [
    "# obtener las series de \"Country\"\n",
    "list_series_country = tags['Country'].tolist()\n",
    "list_series_country"
   ]
  },
  {
   "cell_type": "code",
   "execution_count": 62,
   "id": "aaf246f6-2268-4575-acf7-703dd7e98a34",
   "metadata": {},
   "outputs": [
    {
     "data": {
      "text/plain": [
       "['Australia/ACT',\n",
       " 'Australia/New South Wales',\n",
       " 'Australia/Northern Territory',\n",
       " 'Australia/Queensland',\n",
       " 'Australia/South Australia',\n",
       " 'Australia/Tasmania',\n",
       " 'Australia/Victoria',\n",
       " 'Australia/Western Australia']"
      ]
     },
     "execution_count": 62,
     "metadata": {},
     "output_type": "execute_result"
    }
   ],
   "source": [
    "# obtener las series de \"Country/State\" (los diferentes estados que conforman el país) (si se sumara el forecast de cada estado debería dar el del país)\n",
    "list_series_country_state = tags['Country/State'].tolist()\n",
    "list_series_country_state"
   ]
  },
  {
   "cell_type": "code",
   "execution_count": 63,
   "id": "2bedd163-19e6-47ea-80c3-dc3b7b18c2f7",
   "metadata": {},
   "outputs": [
    {
     "data": {
      "text/plain": [
       "304"
      ]
     },
     "execution_count": 63,
     "metadata": {},
     "output_type": "execute_result"
    }
   ],
   "source": [
    "# obtener las series 'Country/State/Region/Purpose' (EL NIVEL DE MAYOR DESAGREGACIÓN DEL FORECAST)\n",
    "list_series_all_desagregacion = tags['Country/State/Region/Purpose'].tolist()\n",
    "len(list_series_all_desagregacion)"
   ]
  },
  {
   "cell_type": "code",
   "execution_count": null,
   "id": "70a66d8b-74e4-41c8-88ba-82d25bcd413d",
   "metadata": {},
   "outputs": [],
   "source": []
  },
  {
   "cell_type": "code",
   "execution_count": 64,
   "id": "0d64d022-4acf-46ef-84ef-2b1b9679a60a",
   "metadata": {},
   "outputs": [
    {
     "data": {
      "text/html": [
       "<div>\n",
       "<style scoped>\n",
       "    .dataframe tbody tr th:only-of-type {\n",
       "        vertical-align: middle;\n",
       "    }\n",
       "\n",
       "    .dataframe tbody tr th {\n",
       "        vertical-align: top;\n",
       "    }\n",
       "\n",
       "    .dataframe thead th {\n",
       "        text-align: right;\n",
       "    }\n",
       "</style>\n",
       "<table border=\"1\" class=\"dataframe\">\n",
       "  <thead>\n",
       "    <tr style=\"text-align: right;\">\n",
       "      <th></th>\n",
       "      <th>unique_id</th>\n",
       "      <th>ds</th>\n",
       "      <th>AutoETS</th>\n",
       "      <th>AutoETS/BottomUp</th>\n",
       "      <th>AutoETS/MinTrace_method-mint_shrink</th>\n",
       "      <th>AutoETS/MinTrace_method-ols</th>\n",
       "    </tr>\n",
       "  </thead>\n",
       "  <tbody>\n",
       "    <tr>\n",
       "      <th>0</th>\n",
       "      <td>Australia</td>\n",
       "      <td>2016-01-01</td>\n",
       "      <td>25990.068004</td>\n",
       "      <td>24381.672902</td>\n",
       "      <td>25427.793552</td>\n",
       "      <td>25894.419896</td>\n",
       "    </tr>\n",
       "  </tbody>\n",
       "</table>\n",
       "</div>"
      ],
      "text/plain": [
       "   unique_id         ds       AutoETS  AutoETS/BottomUp  \\\n",
       "0  Australia 2016-01-01  25990.068004      24381.672902   \n",
       "\n",
       "   AutoETS/MinTrace_method-mint_shrink  AutoETS/MinTrace_method-ols  \n",
       "0                         25427.793552                 25894.419896  "
      ]
     },
     "execution_count": 64,
     "metadata": {},
     "output_type": "execute_result"
    }
   ],
   "source": [
    "# filtrar forecast país para una fecha en específico (para comparar vs la suma del forecast cada state por separado y luego sumándolo)\n",
    "fecha_example_filter = '2016-01-01'\n",
    "\n",
    "mask_example_country = (Y_rec_df['unique_id'].isin(list_series_country)) & (Y_rec_df['ds'] == fecha_example_filter)\n",
    "Y_rec_df[mask_example_country]"
   ]
  },
  {
   "cell_type": "code",
   "execution_count": 65,
   "id": "0f4957ed-0d3e-41c0-9371-a0eb0b070a63",
   "metadata": {},
   "outputs": [
    {
     "data": {
      "text/html": [
       "<div>\n",
       "<style scoped>\n",
       "    .dataframe tbody tr th:only-of-type {\n",
       "        vertical-align: middle;\n",
       "    }\n",
       "\n",
       "    .dataframe tbody tr th {\n",
       "        vertical-align: top;\n",
       "    }\n",
       "\n",
       "    .dataframe thead th {\n",
       "        text-align: right;\n",
       "    }\n",
       "</style>\n",
       "<table border=\"1\" class=\"dataframe\">\n",
       "  <thead>\n",
       "    <tr style=\"text-align: right;\">\n",
       "      <th></th>\n",
       "      <th>AutoETS</th>\n",
       "      <th>AutoETS/BottomUp</th>\n",
       "      <th>AutoETS/MinTrace_method-mint_shrink</th>\n",
       "      <th>AutoETS/MinTrace_method-ols</th>\n",
       "    </tr>\n",
       "  </thead>\n",
       "  <tbody>\n",
       "    <tr>\n",
       "      <th>sum_result</th>\n",
       "      <td>25636.333477</td>\n",
       "      <td>24381.672902</td>\n",
       "      <td>25427.793552</td>\n",
       "      <td>25894.419896</td>\n",
       "    </tr>\n",
       "  </tbody>\n",
       "</table>\n",
       "</div>"
      ],
      "text/plain": [
       "                 AutoETS  AutoETS/BottomUp  \\\n",
       "sum_result  25636.333477      24381.672902   \n",
       "\n",
       "            AutoETS/MinTrace_method-mint_shrink  AutoETS/MinTrace_method-ols  \n",
       "sum_result                         25427.793552                 25894.419896  "
      ]
     },
     "execution_count": 65,
     "metadata": {},
     "output_type": "execute_result"
    }
   ],
   "source": [
    "# filtrar forecast por cada state para una fecha en específico, luego sumar y comparar si coincide con forecast a nivel país\n",
    "fecha_example_filter = '2016-01-01'\n",
    "\n",
    "mask_example_country_state = (Y_rec_df['unique_id'].isin(list_series_country_state)) & (Y_rec_df['ds'] == fecha_example_filter)\n",
    "Y_rec_df_example = Y_rec_df[mask_example_country_state]\n",
    "\n",
    "\n",
    "cols_to_sum = ['AutoETS', 'AutoETS/BottomUp', 'AutoETS/MinTrace_method-mint_shrink', 'AutoETS/MinTrace_method-ols']\n",
    "Y_rec_df_example[cols_to_sum].sum(axis=0).to_frame(name='sum_result').T"
   ]
  },
  {
   "cell_type": "code",
   "execution_count": 66,
   "id": "040ec15a-92e3-4cc3-97ba-2110abc00e4d",
   "metadata": {},
   "outputs": [
    {
     "data": {
      "text/html": [
       "<div>\n",
       "<style scoped>\n",
       "    .dataframe tbody tr th:only-of-type {\n",
       "        vertical-align: middle;\n",
       "    }\n",
       "\n",
       "    .dataframe tbody tr th {\n",
       "        vertical-align: top;\n",
       "    }\n",
       "\n",
       "    .dataframe thead th {\n",
       "        text-align: right;\n",
       "    }\n",
       "</style>\n",
       "<table border=\"1\" class=\"dataframe\">\n",
       "  <thead>\n",
       "    <tr style=\"text-align: right;\">\n",
       "      <th></th>\n",
       "      <th>AutoETS</th>\n",
       "      <th>AutoETS/BottomUp</th>\n",
       "      <th>AutoETS/MinTrace_method-mint_shrink</th>\n",
       "      <th>AutoETS/MinTrace_method-ols</th>\n",
       "    </tr>\n",
       "  </thead>\n",
       "  <tbody>\n",
       "    <tr>\n",
       "      <th>sum_result</th>\n",
       "      <td>24381.672902</td>\n",
       "      <td>24381.672902</td>\n",
       "      <td>25427.793552</td>\n",
       "      <td>25894.419896</td>\n",
       "    </tr>\n",
       "  </tbody>\n",
       "</table>\n",
       "</div>"
      ],
      "text/plain": [
       "                 AutoETS  AutoETS/BottomUp  \\\n",
       "sum_result  24381.672902      24381.672902   \n",
       "\n",
       "            AutoETS/MinTrace_method-mint_shrink  AutoETS/MinTrace_method-ols  \n",
       "sum_result                         25427.793552                 25894.419896  "
      ]
     },
     "execution_count": 66,
     "metadata": {},
     "output_type": "execute_result"
    }
   ],
   "source": [
    "# ojo BottomUp probablemente sumó desde lo más abajo.\n",
    "# FILTRAR FORECAST DEL NIVEL DE MAYOR DESEGREGACION Y SUMAR HASTA LLEGAR A COUNTRY. validar que bottom/up sumó desde el nivel de mayor desagregacion\n",
    "fecha_example_filter = '2016-01-01'\n",
    "\n",
    "mask_example_all_desagregation = (Y_rec_df['unique_id'].isin(list_series_all_desagregacion)) & (Y_rec_df['ds'] == fecha_example_filter)\n",
    "Y_rec_df_example = Y_rec_df[mask_example_all_desagregation]\n",
    "\n",
    "cols_to_sum = ['AutoETS', 'AutoETS/BottomUp', 'AutoETS/MinTrace_method-mint_shrink', 'AutoETS/MinTrace_method-ols']\n",
    "Y_rec_df_example[cols_to_sum].sum(axis=0).to_frame(name='sum_result').T"
   ]
  },
  {
   "cell_type": "code",
   "execution_count": 67,
   "id": "602621da-0ccd-44e4-b12a-295ba8227a95",
   "metadata": {},
   "outputs": [],
   "source": [
    "# SE PUEDE VER QUE PARA EL MAYOR NIVEL DE DESAGREGACION sumar los forecast individuales para llegar a country el total fue de 24381.672902\n",
    "# LUEGO AL OBSERVAR LA CONCILIACION BOTTOM/UP el forecast conciliado a nivel country fue efectivamente de 24381.672902\n",
    "# ASI LA CONCILACIÓN BOTTOM/UP TOMA DESDE EL MAYOR GRADO DE DESAGREGACIÓN Y COMIENZA A SUMAR AGUAS ARRIBA"
   ]
  },
  {
   "cell_type": "code",
   "execution_count": null,
   "id": "f6c19403-34b3-459a-ae54-7571f5d622da",
   "metadata": {},
   "outputs": [],
   "source": []
  },
  {
   "cell_type": "code",
   "execution_count": null,
   "id": "adcb6f59-dbd3-4155-92c6-f4e5ecf8e841",
   "metadata": {},
   "outputs": [],
   "source": []
  },
  {
   "cell_type": "markdown",
   "id": "05fca1d3-e690-4d6d-9242-48b854160bb8",
   "metadata": {},
   "source": [
    "## 8. Evaluation\n",
    "The HierarchicalForecast package includes an evaluate function to evaluate the different hierarchies and also is capable of compute scaled metrics compared to a benchmark model."
   ]
  },
  {
   "cell_type": "code",
   "execution_count": 68,
   "id": "14538505-6590-4d89-9b69-afaf027c7f14",
   "metadata": {},
   "outputs": [],
   "source": [
    "from hierarchicalforecast.evaluation import evaluate\n",
    "from utilsforecast.losses import rmse, mase\n",
    "from functools import partial"
   ]
  },
  {
   "cell_type": "code",
   "execution_count": 69,
   "id": "748de890-368b-47f8-b467-08d554d2a396",
   "metadata": {},
   "outputs": [],
   "source": [
    "#### crear diccionario con los diferentes nivel de desagregación de los datos (practicamente es el diccionatio TAGS solo que se cambian el nombre de las keys)\n",
    "eval_tags = {}\n",
    "eval_tags['Total'] = tags['Country']\n",
    "eval_tags['Purpose'] = tags['Country/Purpose']\n",
    "eval_tags['State'] = tags['Country/State']\n",
    "eval_tags['Regions'] = tags['Country/State/Region']\n",
    "eval_tags['Bottom'] = tags['Country/State/Region/Purpose']"
   ]
  },
  {
   "cell_type": "code",
   "execution_count": 70,
   "id": "952c2f7f-238a-4908-ad16-6bd8787ada16",
   "metadata": {},
   "outputs": [
    {
     "data": {
      "text/plain": [
       "dict_keys(['Total', 'Purpose', 'State', 'Regions', 'Bottom'])"
      ]
     },
     "execution_count": 70,
     "metadata": {},
     "output_type": "execute_result"
    }
   ],
   "source": [
    "eval_tags.keys()"
   ]
  },
  {
   "cell_type": "code",
   "execution_count": 71,
   "id": "f3522636-4552-4de1-aeb8-1bbe671da35a",
   "metadata": {},
   "outputs": [
    {
     "data": {
      "text/plain": [
       "dict_keys(['Country', 'Country/State', 'Country/Purpose', 'Country/State/Region', 'Country/State/Purpose', 'Country/State/Region/Purpose'])"
      ]
     },
     "execution_count": 71,
     "metadata": {},
     "output_type": "execute_result"
    }
   ],
   "source": [
    "tags.keys()"
   ]
  },
  {
   "cell_type": "code",
   "execution_count": null,
   "id": "28ce2b40-8b8d-41cf-9e4c-217e6ab6038f",
   "metadata": {},
   "outputs": [],
   "source": []
  },
  {
   "cell_type": "code",
   "execution_count": 72,
   "id": "2feae4c7-edd1-4d26-89ee-74b1de074dfe",
   "metadata": {},
   "outputs": [],
   "source": [
    "#### generar df con los reales y los forecasts"
   ]
  },
  {
   "cell_type": "code",
   "execution_count": 73,
   "id": "d7605838-3b81-4fb0-95f6-298ac950806c",
   "metadata": {},
   "outputs": [
    {
     "data": {
      "text/html": [
       "<div>\n",
       "<style scoped>\n",
       "    .dataframe tbody tr th:only-of-type {\n",
       "        vertical-align: middle;\n",
       "    }\n",
       "\n",
       "    .dataframe tbody tr th {\n",
       "        vertical-align: top;\n",
       "    }\n",
       "\n",
       "    .dataframe thead th {\n",
       "        text-align: right;\n",
       "    }\n",
       "</style>\n",
       "<table border=\"1\" class=\"dataframe\">\n",
       "  <thead>\n",
       "    <tr style=\"text-align: right;\">\n",
       "      <th></th>\n",
       "      <th>unique_id</th>\n",
       "      <th>ds</th>\n",
       "      <th>y</th>\n",
       "    </tr>\n",
       "  </thead>\n",
       "  <tbody>\n",
       "    <tr>\n",
       "      <th>72</th>\n",
       "      <td>Australia</td>\n",
       "      <td>2016-01-01</td>\n",
       "      <td>26660.637689</td>\n",
       "    </tr>\n",
       "    <tr>\n",
       "      <th>73</th>\n",
       "      <td>Australia</td>\n",
       "      <td>2016-04-01</td>\n",
       "      <td>24285.027757</td>\n",
       "    </tr>\n",
       "    <tr>\n",
       "      <th>74</th>\n",
       "      <td>Australia</td>\n",
       "      <td>2016-07-01</td>\n",
       "      <td>24191.320131</td>\n",
       "    </tr>\n",
       "  </tbody>\n",
       "</table>\n",
       "</div>"
      ],
      "text/plain": [
       "    unique_id         ds             y\n",
       "72  Australia 2016-01-01  26660.637689\n",
       "73  Australia 2016-04-01  24285.027757\n",
       "74  Australia 2016-07-01  24191.320131"
      ]
     },
     "execution_count": 73,
     "metadata": {},
     "output_type": "execute_result"
    }
   ],
   "source": [
    "# print data real\n",
    "Y_test_df.head(3)"
   ]
  },
  {
   "cell_type": "code",
   "execution_count": 74,
   "id": "a9229d91-a670-438f-931e-54d8cc10517d",
   "metadata": {},
   "outputs": [
    {
     "data": {
      "text/html": [
       "<div>\n",
       "<style scoped>\n",
       "    .dataframe tbody tr th:only-of-type {\n",
       "        vertical-align: middle;\n",
       "    }\n",
       "\n",
       "    .dataframe tbody tr th {\n",
       "        vertical-align: top;\n",
       "    }\n",
       "\n",
       "    .dataframe thead th {\n",
       "        text-align: right;\n",
       "    }\n",
       "</style>\n",
       "<table border=\"1\" class=\"dataframe\">\n",
       "  <thead>\n",
       "    <tr style=\"text-align: right;\">\n",
       "      <th></th>\n",
       "      <th>unique_id</th>\n",
       "      <th>ds</th>\n",
       "      <th>AutoETS</th>\n",
       "      <th>AutoETS/BottomUp</th>\n",
       "      <th>AutoETS/MinTrace_method-mint_shrink</th>\n",
       "      <th>AutoETS/MinTrace_method-ols</th>\n",
       "    </tr>\n",
       "  </thead>\n",
       "  <tbody>\n",
       "    <tr>\n",
       "      <th>0</th>\n",
       "      <td>Australia</td>\n",
       "      <td>2016-01-01</td>\n",
       "      <td>25990.068004</td>\n",
       "      <td>24381.672902</td>\n",
       "      <td>25427.793552</td>\n",
       "      <td>25894.419896</td>\n",
       "    </tr>\n",
       "    <tr>\n",
       "      <th>1</th>\n",
       "      <td>Australia</td>\n",
       "      <td>2016-04-01</td>\n",
       "      <td>24458.490282</td>\n",
       "      <td>22903.194015</td>\n",
       "      <td>23913.800914</td>\n",
       "      <td>24357.231461</td>\n",
       "    </tr>\n",
       "    <tr>\n",
       "      <th>2</th>\n",
       "      <td>Australia</td>\n",
       "      <td>2016-07-01</td>\n",
       "      <td>23974.055984</td>\n",
       "      <td>22411.401316</td>\n",
       "      <td>23428.540858</td>\n",
       "      <td>23865.928094</td>\n",
       "    </tr>\n",
       "  </tbody>\n",
       "</table>\n",
       "</div>"
      ],
      "text/plain": [
       "   unique_id         ds       AutoETS  AutoETS/BottomUp  \\\n",
       "0  Australia 2016-01-01  25990.068004      24381.672902   \n",
       "1  Australia 2016-04-01  24458.490282      22903.194015   \n",
       "2  Australia 2016-07-01  23974.055984      22411.401316   \n",
       "\n",
       "   AutoETS/MinTrace_method-mint_shrink  AutoETS/MinTrace_method-ols  \n",
       "0                         25427.793552                 25894.419896  \n",
       "1                         23913.800914                 24357.231461  \n",
       "2                         23428.540858                 23865.928094  "
      ]
     },
     "execution_count": 74,
     "metadata": {},
     "output_type": "execute_result"
    }
   ],
   "source": [
    "# print data con los forecast (diferentes conciliaciones)\n",
    "Y_rec_df.head(3)"
   ]
  },
  {
   "cell_type": "code",
   "execution_count": 75,
   "id": "29009386-f931-40eb-b94c-6e62ef7a2b71",
   "metadata": {},
   "outputs": [],
   "source": [
    "# generar dataframe con el real y los forecasts\n",
    "df = Y_rec_df.merge(Y_test_df, on=['unique_id', 'ds'])"
   ]
  },
  {
   "cell_type": "code",
   "execution_count": 76,
   "id": "fb351b7b-5537-499c-a435-c1c6e814084d",
   "metadata": {},
   "outputs": [
    {
     "data": {
      "text/html": [
       "<div>\n",
       "<style scoped>\n",
       "    .dataframe tbody tr th:only-of-type {\n",
       "        vertical-align: middle;\n",
       "    }\n",
       "\n",
       "    .dataframe tbody tr th {\n",
       "        vertical-align: top;\n",
       "    }\n",
       "\n",
       "    .dataframe thead th {\n",
       "        text-align: right;\n",
       "    }\n",
       "</style>\n",
       "<table border=\"1\" class=\"dataframe\">\n",
       "  <thead>\n",
       "    <tr style=\"text-align: right;\">\n",
       "      <th></th>\n",
       "      <th>unique_id</th>\n",
       "      <th>ds</th>\n",
       "      <th>AutoETS</th>\n",
       "      <th>AutoETS/BottomUp</th>\n",
       "      <th>AutoETS/MinTrace_method-mint_shrink</th>\n",
       "      <th>AutoETS/MinTrace_method-ols</th>\n",
       "      <th>y</th>\n",
       "    </tr>\n",
       "  </thead>\n",
       "  <tbody>\n",
       "    <tr>\n",
       "      <th>0</th>\n",
       "      <td>Australia</td>\n",
       "      <td>2016-01-01</td>\n",
       "      <td>25990.068004</td>\n",
       "      <td>24381.672902</td>\n",
       "      <td>25427.793552</td>\n",
       "      <td>25894.419896</td>\n",
       "      <td>26660.637689</td>\n",
       "    </tr>\n",
       "    <tr>\n",
       "      <th>1</th>\n",
       "      <td>Australia</td>\n",
       "      <td>2016-04-01</td>\n",
       "      <td>24458.490282</td>\n",
       "      <td>22903.194015</td>\n",
       "      <td>23913.800914</td>\n",
       "      <td>24357.231461</td>\n",
       "      <td>24285.027757</td>\n",
       "    </tr>\n",
       "    <tr>\n",
       "      <th>2</th>\n",
       "      <td>Australia</td>\n",
       "      <td>2016-07-01</td>\n",
       "      <td>23974.055984</td>\n",
       "      <td>22411.401316</td>\n",
       "      <td>23428.540858</td>\n",
       "      <td>23865.928094</td>\n",
       "      <td>24191.320131</td>\n",
       "    </tr>\n",
       "  </tbody>\n",
       "</table>\n",
       "</div>"
      ],
      "text/plain": [
       "   unique_id         ds       AutoETS  AutoETS/BottomUp  \\\n",
       "0  Australia 2016-01-01  25990.068004      24381.672902   \n",
       "1  Australia 2016-04-01  24458.490282      22903.194015   \n",
       "2  Australia 2016-07-01  23974.055984      22411.401316   \n",
       "\n",
       "   AutoETS/MinTrace_method-mint_shrink  AutoETS/MinTrace_method-ols  \\\n",
       "0                         25427.793552                 25894.419896   \n",
       "1                         23913.800914                 24357.231461   \n",
       "2                         23428.540858                 23865.928094   \n",
       "\n",
       "              y  \n",
       "0  26660.637689  \n",
       "1  24285.027757  \n",
       "2  24191.320131  "
      ]
     },
     "execution_count": 76,
     "metadata": {},
     "output_type": "execute_result"
    }
   ],
   "source": [
    "df.head(3)"
   ]
  },
  {
   "cell_type": "code",
   "execution_count": null,
   "id": "04c762d3-316a-4b05-9cd3-30c6afcdf793",
   "metadata": {},
   "outputs": [],
   "source": []
  },
  {
   "cell_type": "code",
   "execution_count": 77,
   "id": "9ca2f6d6-6772-4527-8c49-6388e0f3d475",
   "metadata": {},
   "outputs": [],
   "source": [
    "##### llamar funcion nixtla para evaluar forecasts\n",
    "evaluation = evaluate(df = df, # df con real y forecasts\n",
    "                      tags = eval_tags, # diccionario con las diferentes agregaciones (la verdad no entiendo para qué lo necesita)\n",
    "                      train_df = Y_train_df, # data train (tampoco entiendo para qué los nececesita)\n",
    "                      metrics = [rmse, partial(mase, seasonality=4)])\n",
    "\n",
    "\n",
    "# correguir tipo de dato y presentación de los resultados\n",
    "evaluation.columns = ['level', 'metric', 'Base', 'BottomUp', 'MinTrace(mint_shrink)', 'MinTrace(ols)']\n",
    "numeric_cols = evaluation.select_dtypes(include=\"number\").columns\n",
    "evaluation[numeric_cols] = evaluation[numeric_cols].map('{:.2f}'.format).astype(np.float64)"
   ]
  },
  {
   "cell_type": "code",
   "execution_count": 78,
   "id": "180a8c02-943a-41b8-b623-198ecefbc4ea",
   "metadata": {},
   "outputs": [
    {
     "data": {
      "text/html": [
       "<div>\n",
       "<style scoped>\n",
       "    .dataframe tbody tr th:only-of-type {\n",
       "        vertical-align: middle;\n",
       "    }\n",
       "\n",
       "    .dataframe tbody tr th {\n",
       "        vertical-align: top;\n",
       "    }\n",
       "\n",
       "    .dataframe thead th {\n",
       "        text-align: right;\n",
       "    }\n",
       "</style>\n",
       "<table border=\"1\" class=\"dataframe\">\n",
       "  <thead>\n",
       "    <tr style=\"text-align: right;\">\n",
       "      <th></th>\n",
       "      <th>level</th>\n",
       "      <th>metric</th>\n",
       "      <th>Base</th>\n",
       "      <th>BottomUp</th>\n",
       "      <th>MinTrace(mint_shrink)</th>\n",
       "      <th>MinTrace(ols)</th>\n",
       "    </tr>\n",
       "  </thead>\n",
       "  <tbody>\n",
       "    <tr>\n",
       "      <th>0</th>\n",
       "      <td>Total</td>\n",
       "      <td>rmse</td>\n",
       "      <td>1743.29</td>\n",
       "      <td>3029.02</td>\n",
       "      <td>2112.94</td>\n",
       "      <td>1818.94</td>\n",
       "    </tr>\n",
       "    <tr>\n",
       "      <th>1</th>\n",
       "      <td>Total</td>\n",
       "      <td>mase</td>\n",
       "      <td>1.59</td>\n",
       "      <td>3.16</td>\n",
       "      <td>2.06</td>\n",
       "      <td>1.67</td>\n",
       "    </tr>\n",
       "    <tr>\n",
       "      <th>2</th>\n",
       "      <td>Purpose</td>\n",
       "      <td>rmse</td>\n",
       "      <td>534.75</td>\n",
       "      <td>791.28</td>\n",
       "      <td>577.18</td>\n",
       "      <td>515.53</td>\n",
       "    </tr>\n",
       "    <tr>\n",
       "      <th>3</th>\n",
       "      <td>Purpose</td>\n",
       "      <td>mase</td>\n",
       "      <td>1.32</td>\n",
       "      <td>2.28</td>\n",
       "      <td>1.48</td>\n",
       "      <td>1.25</td>\n",
       "    </tr>\n",
       "    <tr>\n",
       "      <th>4</th>\n",
       "      <td>State</td>\n",
       "      <td>rmse</td>\n",
       "      <td>308.15</td>\n",
       "      <td>413.44</td>\n",
       "      <td>316.85</td>\n",
       "      <td>287.34</td>\n",
       "    </tr>\n",
       "    <tr>\n",
       "      <th>5</th>\n",
       "      <td>State</td>\n",
       "      <td>mase</td>\n",
       "      <td>1.39</td>\n",
       "      <td>1.90</td>\n",
       "      <td>1.40</td>\n",
       "      <td>1.25</td>\n",
       "    </tr>\n",
       "    <tr>\n",
       "      <th>6</th>\n",
       "      <td>Regions</td>\n",
       "      <td>rmse</td>\n",
       "      <td>51.66</td>\n",
       "      <td>55.13</td>\n",
       "      <td>46.55</td>\n",
       "      <td>46.29</td>\n",
       "    </tr>\n",
       "    <tr>\n",
       "      <th>7</th>\n",
       "      <td>Regions</td>\n",
       "      <td>mase</td>\n",
       "      <td>1.12</td>\n",
       "      <td>1.19</td>\n",
       "      <td>1.01</td>\n",
       "      <td>0.99</td>\n",
       "    </tr>\n",
       "    <tr>\n",
       "      <th>8</th>\n",
       "      <td>Bottom</td>\n",
       "      <td>rmse</td>\n",
       "      <td>19.37</td>\n",
       "      <td>19.37</td>\n",
       "      <td>17.80</td>\n",
       "      <td>18.19</td>\n",
       "    </tr>\n",
       "    <tr>\n",
       "      <th>9</th>\n",
       "      <td>Bottom</td>\n",
       "      <td>mase</td>\n",
       "      <td>0.98</td>\n",
       "      <td>0.98</td>\n",
       "      <td>0.94</td>\n",
       "      <td>1.01</td>\n",
       "    </tr>\n",
       "    <tr>\n",
       "      <th>10</th>\n",
       "      <td>Overall</td>\n",
       "      <td>rmse</td>\n",
       "      <td>41.13</td>\n",
       "      <td>49.82</td>\n",
       "      <td>40.47</td>\n",
       "      <td>38.75</td>\n",
       "    </tr>\n",
       "    <tr>\n",
       "      <th>11</th>\n",
       "      <td>Overall</td>\n",
       "      <td>mase</td>\n",
       "      <td>1.02</td>\n",
       "      <td>1.06</td>\n",
       "      <td>0.97</td>\n",
       "      <td>1.02</td>\n",
       "    </tr>\n",
       "  </tbody>\n",
       "</table>\n",
       "</div>"
      ],
      "text/plain": [
       "      level metric     Base  BottomUp  MinTrace(mint_shrink)  MinTrace(ols)\n",
       "0     Total   rmse  1743.29   3029.02                2112.94        1818.94\n",
       "1     Total   mase     1.59      3.16                   2.06           1.67\n",
       "2   Purpose   rmse   534.75    791.28                 577.18         515.53\n",
       "3   Purpose   mase     1.32      2.28                   1.48           1.25\n",
       "4     State   rmse   308.15    413.44                 316.85         287.34\n",
       "5     State   mase     1.39      1.90                   1.40           1.25\n",
       "6   Regions   rmse    51.66     55.13                  46.55          46.29\n",
       "7   Regions   mase     1.12      1.19                   1.01           0.99\n",
       "8    Bottom   rmse    19.37     19.37                  17.80          18.19\n",
       "9    Bottom   mase     0.98      0.98                   0.94           1.01\n",
       "10  Overall   rmse    41.13     49.82                  40.47          38.75\n",
       "11  Overall   mase     1.02      1.06                   0.97           1.02"
      ]
     },
     "execution_count": 78,
     "metadata": {},
     "output_type": "execute_result"
    }
   ],
   "source": [
    "evaluation"
   ]
  },
  {
   "cell_type": "code",
   "execution_count": 79,
   "id": "427058a6-ed41-4efe-9402-2a4ae1c4bd00",
   "metadata": {},
   "outputs": [],
   "source": [
    "# OBSERVACIONES\n",
    "# hacer conciliación bottomUp hace que se empeore mucho las métricas en total(country)\n",
    "# En todos los diferentes grados de desagregación de los datos funciona mejor MinTrace(ols). Excepto en el total"
   ]
  },
  {
   "cell_type": "code",
   "execution_count": null,
   "id": "443275ea-1a45-42a7-8ab1-81ea9bf632b9",
   "metadata": {},
   "outputs": [],
   "source": []
  },
  {
   "cell_type": "code",
   "execution_count": null,
   "id": "65003c4a-786d-4c06-b241-c2f42e15eb49",
   "metadata": {},
   "outputs": [],
   "source": []
  },
  {
   "cell_type": "code",
   "execution_count": null,
   "id": "bf1bd02c-8ffc-47dc-9f51-4149a613e43b",
   "metadata": {},
   "outputs": [],
   "source": []
  },
  {
   "cell_type": "code",
   "execution_count": null,
   "id": "7c20ebb5-32d7-46d0-a7b8-53ca7b418f9f",
   "metadata": {},
   "outputs": [],
   "source": []
  },
  {
   "cell_type": "code",
   "execution_count": null,
   "id": "9ad61b38-86dc-44e2-ba04-ecb61939e87c",
   "metadata": {},
   "outputs": [],
   "source": []
  }
 ],
 "metadata": {
  "kernelspec": {
   "display_name": "Python 3 (ipykernel)",
   "language": "python",
   "name": "python3"
  },
  "language_info": {
   "codemirror_mode": {
    "name": "ipython",
    "version": 3
   },
   "file_extension": ".py",
   "mimetype": "text/x-python",
   "name": "python",
   "nbconvert_exporter": "python",
   "pygments_lexer": "ipython3",
   "version": "3.11.7"
  }
 },
 "nbformat": 4,
 "nbformat_minor": 5
}
