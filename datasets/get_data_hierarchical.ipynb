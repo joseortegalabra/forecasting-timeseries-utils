{
 "cells": [
  {
   "cell_type": "markdown",
   "id": "80fbaf5d-1402-4ab9-863c-c3f2ab41ba89",
   "metadata": {},
   "source": [
    "## DOWNLOAD DATA HICHERICAL FORECASTING - NIXTLA EXAMPLE\n",
    "- Data para desarrollar forecasting j]erarquíco - reconciliación de forecasts\n",
    "- Descargar dataset ejemplo nixtla para forecasting jerárquico - reconciliación de forecasts\n",
    "\n",
    "links interés\n",
    "- https://nixtlaverse.nixtla.io/hierarchicalforecast/index.html"
   ]
  },
  {
   "cell_type": "code",
   "execution_count": null,
   "id": "f38dd694-d316-4e2a-a3a4-aadf419052d2",
   "metadata": {},
   "outputs": [],
   "source": []
  },
  {
   "cell_type": "markdown",
   "id": "e4e66614-0c61-464b-a67a-83ebaab5ea52",
   "metadata": {},
   "source": [
    "### 0. Install nixtla package"
   ]
  },
  {
   "cell_type": "code",
   "execution_count": 1,
   "id": "623a0948-d0b1-4321-8c48-a846b7f952a8",
   "metadata": {},
   "outputs": [],
   "source": [
    "# pip install hierarchicalforecast\n",
    "# pip install datasetsforecast\n",
    "# pip install statsforecast"
   ]
  },
  {
   "cell_type": "code",
   "execution_count": 2,
   "id": "6297bc87-db66-4636-ba84-8ba6a45b7889",
   "metadata": {},
   "outputs": [],
   "source": [
    "import hierarchicalforecast\n",
    "from datasetsforecast.hierarchical import HierarchicalData\n",
    "import pandas as pd"
   ]
  },
  {
   "cell_type": "code",
   "execution_count": null,
   "id": "4dd26b7d-3dab-4a08-b59a-aff700323fb5",
   "metadata": {},
   "outputs": [],
   "source": []
  },
  {
   "cell_type": "markdown",
   "id": "5f43d6d5-ecd0-494c-83f7-78a2f4e709cc",
   "metadata": {},
   "source": [
    "### 1. descargar data Tourism Data - small dataset\n",
    "link example nixtla: https://nixtlaverse.nixtla.io/hierarchicalforecast/index.html"
   ]
  },
  {
   "cell_type": "markdown",
   "id": "c299017f-fadd-449c-b222-00aa3f7b6c8f",
   "metadata": {},
   "source": [
    "#### 1.1 download data"
   ]
  },
  {
   "cell_type": "code",
   "execution_count": 3,
   "id": "082b4f6b-4b04-4262-8cfe-3b82d06ba8db",
   "metadata": {},
   "outputs": [],
   "source": [
    "# Load TourismSmall dataset\n",
    "Y_df, S, tags = HierarchicalData.load('./data', 'TourismSmall')\n",
    "Y_df['ds'] = pd.to_datetime(Y_df['ds'])\n",
    "S = S.reset_index(names=\"unique_id\")"
   ]
  },
  {
   "cell_type": "code",
   "execution_count": null,
   "id": "2469e358-5b75-45f7-b7b2-1b6620873899",
   "metadata": {},
   "outputs": [],
   "source": []
  },
  {
   "cell_type": "code",
   "execution_count": null,
   "id": "9df6d6b0-7a41-4515-8eaf-cb42611d2fe6",
   "metadata": {},
   "outputs": [],
   "source": []
  },
  {
   "cell_type": "markdown",
   "id": "bef4f0c5-498a-4766-a34c-672446c1d0c4",
   "metadata": {},
   "source": [
    "#### 1.2 fast eda - data time series"
   ]
  },
  {
   "cell_type": "code",
   "execution_count": 4,
   "id": "4df9c9d0-7644-46f7-86df-d313b38c821a",
   "metadata": {},
   "outputs": [
    {
     "data": {
      "text/html": [
       "<div>\n",
       "<style scoped>\n",
       "    .dataframe tbody tr th:only-of-type {\n",
       "        vertical-align: middle;\n",
       "    }\n",
       "\n",
       "    .dataframe tbody tr th {\n",
       "        vertical-align: top;\n",
       "    }\n",
       "\n",
       "    .dataframe thead th {\n",
       "        text-align: right;\n",
       "    }\n",
       "</style>\n",
       "<table border=\"1\" class=\"dataframe\">\n",
       "  <thead>\n",
       "    <tr style=\"text-align: right;\">\n",
       "      <th></th>\n",
       "      <th>unique_id</th>\n",
       "      <th>ds</th>\n",
       "      <th>y</th>\n",
       "    </tr>\n",
       "  </thead>\n",
       "  <tbody>\n",
       "    <tr>\n",
       "      <th>0</th>\n",
       "      <td>total</td>\n",
       "      <td>1998-03-31</td>\n",
       "      <td>84503</td>\n",
       "    </tr>\n",
       "    <tr>\n",
       "      <th>1</th>\n",
       "      <td>total</td>\n",
       "      <td>1998-06-30</td>\n",
       "      <td>65312</td>\n",
       "    </tr>\n",
       "    <tr>\n",
       "      <th>2</th>\n",
       "      <td>total</td>\n",
       "      <td>1998-09-30</td>\n",
       "      <td>72753</td>\n",
       "    </tr>\n",
       "    <tr>\n",
       "      <th>3</th>\n",
       "      <td>total</td>\n",
       "      <td>1998-12-31</td>\n",
       "      <td>70880</td>\n",
       "    </tr>\n",
       "    <tr>\n",
       "      <th>4</th>\n",
       "      <td>total</td>\n",
       "      <td>1999-03-31</td>\n",
       "      <td>86893</td>\n",
       "    </tr>\n",
       "  </tbody>\n",
       "</table>\n",
       "</div>"
      ],
      "text/plain": [
       "  unique_id         ds      y\n",
       "0     total 1998-03-31  84503\n",
       "1     total 1998-06-30  65312\n",
       "2     total 1998-09-30  72753\n",
       "3     total 1998-12-31  70880\n",
       "4     total 1999-03-31  86893"
      ]
     },
     "execution_count": 4,
     "metadata": {},
     "output_type": "execute_result"
    }
   ],
   "source": [
    "Y_df.head()"
   ]
  },
  {
   "cell_type": "code",
   "execution_count": 5,
   "id": "ed3e1da4-7173-4ca7-a314-48b4f21d39d0",
   "metadata": {},
   "outputs": [
    {
     "data": {
      "text/html": [
       "<div>\n",
       "<style scoped>\n",
       "    .dataframe tbody tr th:only-of-type {\n",
       "        vertical-align: middle;\n",
       "    }\n",
       "\n",
       "    .dataframe tbody tr th {\n",
       "        vertical-align: top;\n",
       "    }\n",
       "\n",
       "    .dataframe thead th {\n",
       "        text-align: right;\n",
       "    }\n",
       "</style>\n",
       "<table border=\"1\" class=\"dataframe\">\n",
       "  <thead>\n",
       "    <tr style=\"text-align: right;\">\n",
       "      <th></th>\n",
       "      <th>unique_id</th>\n",
       "      <th>ds</th>\n",
       "      <th>y</th>\n",
       "    </tr>\n",
       "  </thead>\n",
       "  <tbody>\n",
       "    <tr>\n",
       "      <th>3199</th>\n",
       "      <td>nt-oth-noncity</td>\n",
       "      <td>2005-12-31</td>\n",
       "      <td>59</td>\n",
       "    </tr>\n",
       "    <tr>\n",
       "      <th>3200</th>\n",
       "      <td>nt-oth-noncity</td>\n",
       "      <td>2006-03-31</td>\n",
       "      <td>25</td>\n",
       "    </tr>\n",
       "    <tr>\n",
       "      <th>3201</th>\n",
       "      <td>nt-oth-noncity</td>\n",
       "      <td>2006-06-30</td>\n",
       "      <td>52</td>\n",
       "    </tr>\n",
       "    <tr>\n",
       "      <th>3202</th>\n",
       "      <td>nt-oth-noncity</td>\n",
       "      <td>2006-09-30</td>\n",
       "      <td>72</td>\n",
       "    </tr>\n",
       "    <tr>\n",
       "      <th>3203</th>\n",
       "      <td>nt-oth-noncity</td>\n",
       "      <td>2006-12-31</td>\n",
       "      <td>138</td>\n",
       "    </tr>\n",
       "  </tbody>\n",
       "</table>\n",
       "</div>"
      ],
      "text/plain": [
       "           unique_id         ds    y\n",
       "3199  nt-oth-noncity 2005-12-31   59\n",
       "3200  nt-oth-noncity 2006-03-31   25\n",
       "3201  nt-oth-noncity 2006-06-30   52\n",
       "3202  nt-oth-noncity 2006-09-30   72\n",
       "3203  nt-oth-noncity 2006-12-31  138"
      ]
     },
     "execution_count": 5,
     "metadata": {},
     "output_type": "execute_result"
    }
   ],
   "source": [
    "Y_df.tail()"
   ]
  },
  {
   "cell_type": "code",
   "execution_count": 6,
   "id": "1df5a999-4321-4250-9568-9478c8e1e314",
   "metadata": {},
   "outputs": [
    {
     "data": {
      "text/plain": [
       "(3204, 3)"
      ]
     },
     "execution_count": 6,
     "metadata": {},
     "output_type": "execute_result"
    }
   ],
   "source": [
    "# shape data\n",
    "Y_df.shape"
   ]
  },
  {
   "cell_type": "code",
   "execution_count": 7,
   "id": "77d16a4f-ae32-4810-af34-d9df94b568bc",
   "metadata": {},
   "outputs": [
    {
     "data": {
      "text/plain": [
       "(89,)"
      ]
     },
     "execution_count": 7,
     "metadata": {},
     "output_type": "execute_result"
    }
   ],
   "source": [
    "# number unique series\n",
    "Y_df['unique_id'].unique().shape"
   ]
  },
  {
   "cell_type": "code",
   "execution_count": 8,
   "id": "a66da08b-5d93-4180-9670-6117832985b9",
   "metadata": {},
   "outputs": [
    {
     "name": "stdout",
     "output_type": "stream",
     "text": [
      "min_date:  1998-03-31\n",
      "max_date:  2006-12-31\n"
     ]
    }
   ],
   "source": [
    "# min y max date in data\n",
    "min_date_small_tourism = Y_df['ds'].min().strftime('%Y-%m-%d')\n",
    "max_date_small_tourism = Y_df['ds'].max().strftime('%Y-%m-%d')\n",
    "print('min_date: ', min_date_small_tourism)\n",
    "print('max_date: ', max_date_small_tourism)"
   ]
  },
  {
   "cell_type": "code",
   "execution_count": null,
   "id": "faaccea8-17d3-46ad-af35-db000627a2a9",
   "metadata": {},
   "outputs": [],
   "source": []
  },
  {
   "cell_type": "code",
   "execution_count": null,
   "id": "43098630-aa59-4bc8-be51-7a1c9a929b26",
   "metadata": {},
   "outputs": [],
   "source": []
  },
  {
   "cell_type": "markdown",
   "id": "ff062494-25e8-44b7-8ea9-e4ccd3f77b80",
   "metadata": {},
   "source": [
    "#### 1.3 fast eda - matriz S"
   ]
  },
  {
   "cell_type": "code",
   "execution_count": 9,
   "id": "3f6f1ce8-cea9-450f-97cd-8d6edbfadfb2",
   "metadata": {},
   "outputs": [
    {
     "data": {
      "text/html": [
       "<div>\n",
       "<style scoped>\n",
       "    .dataframe tbody tr th:only-of-type {\n",
       "        vertical-align: middle;\n",
       "    }\n",
       "\n",
       "    .dataframe tbody tr th {\n",
       "        vertical-align: top;\n",
       "    }\n",
       "\n",
       "    .dataframe thead th {\n",
       "        text-align: right;\n",
       "    }\n",
       "</style>\n",
       "<table border=\"1\" class=\"dataframe\">\n",
       "  <thead>\n",
       "    <tr style=\"text-align: right;\">\n",
       "      <th></th>\n",
       "      <th>unique_id</th>\n",
       "      <th>nsw-hol-city</th>\n",
       "      <th>nsw-hol-noncity</th>\n",
       "      <th>vic-hol-city</th>\n",
       "      <th>vic-hol-noncity</th>\n",
       "      <th>qld-hol-city</th>\n",
       "      <th>qld-hol-noncity</th>\n",
       "      <th>sa-hol-city</th>\n",
       "      <th>sa-hol-noncity</th>\n",
       "      <th>wa-hol-city</th>\n",
       "      <th>...</th>\n",
       "      <th>qld-oth-city</th>\n",
       "      <th>qld-oth-noncity</th>\n",
       "      <th>sa-oth-city</th>\n",
       "      <th>sa-oth-noncity</th>\n",
       "      <th>wa-oth-city</th>\n",
       "      <th>wa-oth-noncity</th>\n",
       "      <th>tas-oth-city</th>\n",
       "      <th>tas-oth-noncity</th>\n",
       "      <th>nt-oth-city</th>\n",
       "      <th>nt-oth-noncity</th>\n",
       "    </tr>\n",
       "  </thead>\n",
       "  <tbody>\n",
       "    <tr>\n",
       "      <th>0</th>\n",
       "      <td>total</td>\n",
       "      <td>1.0</td>\n",
       "      <td>1.0</td>\n",
       "      <td>1.0</td>\n",
       "      <td>1.0</td>\n",
       "      <td>1.0</td>\n",
       "      <td>1.0</td>\n",
       "      <td>1.0</td>\n",
       "      <td>1.0</td>\n",
       "      <td>1.0</td>\n",
       "      <td>...</td>\n",
       "      <td>1.0</td>\n",
       "      <td>1.0</td>\n",
       "      <td>1.0</td>\n",
       "      <td>1.0</td>\n",
       "      <td>1.0</td>\n",
       "      <td>1.0</td>\n",
       "      <td>1.0</td>\n",
       "      <td>1.0</td>\n",
       "      <td>1.0</td>\n",
       "      <td>1.0</td>\n",
       "    </tr>\n",
       "    <tr>\n",
       "      <th>1</th>\n",
       "      <td>hol</td>\n",
       "      <td>1.0</td>\n",
       "      <td>1.0</td>\n",
       "      <td>1.0</td>\n",
       "      <td>1.0</td>\n",
       "      <td>1.0</td>\n",
       "      <td>1.0</td>\n",
       "      <td>1.0</td>\n",
       "      <td>1.0</td>\n",
       "      <td>1.0</td>\n",
       "      <td>...</td>\n",
       "      <td>0.0</td>\n",
       "      <td>0.0</td>\n",
       "      <td>0.0</td>\n",
       "      <td>0.0</td>\n",
       "      <td>0.0</td>\n",
       "      <td>0.0</td>\n",
       "      <td>0.0</td>\n",
       "      <td>0.0</td>\n",
       "      <td>0.0</td>\n",
       "      <td>0.0</td>\n",
       "    </tr>\n",
       "    <tr>\n",
       "      <th>2</th>\n",
       "      <td>vfr</td>\n",
       "      <td>0.0</td>\n",
       "      <td>0.0</td>\n",
       "      <td>0.0</td>\n",
       "      <td>0.0</td>\n",
       "      <td>0.0</td>\n",
       "      <td>0.0</td>\n",
       "      <td>0.0</td>\n",
       "      <td>0.0</td>\n",
       "      <td>0.0</td>\n",
       "      <td>...</td>\n",
       "      <td>0.0</td>\n",
       "      <td>0.0</td>\n",
       "      <td>0.0</td>\n",
       "      <td>0.0</td>\n",
       "      <td>0.0</td>\n",
       "      <td>0.0</td>\n",
       "      <td>0.0</td>\n",
       "      <td>0.0</td>\n",
       "      <td>0.0</td>\n",
       "      <td>0.0</td>\n",
       "    </tr>\n",
       "    <tr>\n",
       "      <th>3</th>\n",
       "      <td>bus</td>\n",
       "      <td>0.0</td>\n",
       "      <td>0.0</td>\n",
       "      <td>0.0</td>\n",
       "      <td>0.0</td>\n",
       "      <td>0.0</td>\n",
       "      <td>0.0</td>\n",
       "      <td>0.0</td>\n",
       "      <td>0.0</td>\n",
       "      <td>0.0</td>\n",
       "      <td>...</td>\n",
       "      <td>0.0</td>\n",
       "      <td>0.0</td>\n",
       "      <td>0.0</td>\n",
       "      <td>0.0</td>\n",
       "      <td>0.0</td>\n",
       "      <td>0.0</td>\n",
       "      <td>0.0</td>\n",
       "      <td>0.0</td>\n",
       "      <td>0.0</td>\n",
       "      <td>0.0</td>\n",
       "    </tr>\n",
       "    <tr>\n",
       "      <th>4</th>\n",
       "      <td>oth</td>\n",
       "      <td>0.0</td>\n",
       "      <td>0.0</td>\n",
       "      <td>0.0</td>\n",
       "      <td>0.0</td>\n",
       "      <td>0.0</td>\n",
       "      <td>0.0</td>\n",
       "      <td>0.0</td>\n",
       "      <td>0.0</td>\n",
       "      <td>0.0</td>\n",
       "      <td>...</td>\n",
       "      <td>1.0</td>\n",
       "      <td>1.0</td>\n",
       "      <td>1.0</td>\n",
       "      <td>1.0</td>\n",
       "      <td>1.0</td>\n",
       "      <td>1.0</td>\n",
       "      <td>1.0</td>\n",
       "      <td>1.0</td>\n",
       "      <td>1.0</td>\n",
       "      <td>1.0</td>\n",
       "    </tr>\n",
       "  </tbody>\n",
       "</table>\n",
       "<p>5 rows × 57 columns</p>\n",
       "</div>"
      ],
      "text/plain": [
       "  unique_id  nsw-hol-city  nsw-hol-noncity  vic-hol-city  vic-hol-noncity  \\\n",
       "0     total           1.0              1.0           1.0              1.0   \n",
       "1       hol           1.0              1.0           1.0              1.0   \n",
       "2       vfr           0.0              0.0           0.0              0.0   \n",
       "3       bus           0.0              0.0           0.0              0.0   \n",
       "4       oth           0.0              0.0           0.0              0.0   \n",
       "\n",
       "   qld-hol-city  qld-hol-noncity  sa-hol-city  sa-hol-noncity  wa-hol-city  \\\n",
       "0           1.0              1.0          1.0             1.0          1.0   \n",
       "1           1.0              1.0          1.0             1.0          1.0   \n",
       "2           0.0              0.0          0.0             0.0          0.0   \n",
       "3           0.0              0.0          0.0             0.0          0.0   \n",
       "4           0.0              0.0          0.0             0.0          0.0   \n",
       "\n",
       "   ...  qld-oth-city  qld-oth-noncity  sa-oth-city  sa-oth-noncity  \\\n",
       "0  ...           1.0              1.0          1.0             1.0   \n",
       "1  ...           0.0              0.0          0.0             0.0   \n",
       "2  ...           0.0              0.0          0.0             0.0   \n",
       "3  ...           0.0              0.0          0.0             0.0   \n",
       "4  ...           1.0              1.0          1.0             1.0   \n",
       "\n",
       "   wa-oth-city  wa-oth-noncity  tas-oth-city  tas-oth-noncity  nt-oth-city  \\\n",
       "0          1.0             1.0           1.0              1.0          1.0   \n",
       "1          0.0             0.0           0.0              0.0          0.0   \n",
       "2          0.0             0.0           0.0              0.0          0.0   \n",
       "3          0.0             0.0           0.0              0.0          0.0   \n",
       "4          1.0             1.0           1.0              1.0          1.0   \n",
       "\n",
       "   nt-oth-noncity  \n",
       "0             1.0  \n",
       "1             0.0  \n",
       "2             0.0  \n",
       "3             0.0  \n",
       "4             1.0  \n",
       "\n",
       "[5 rows x 57 columns]"
      ]
     },
     "execution_count": 9,
     "metadata": {},
     "output_type": "execute_result"
    }
   ],
   "source": [
    "S.head()"
   ]
  },
  {
   "cell_type": "code",
   "execution_count": 10,
   "id": "a866bd75-584f-4a47-b90a-4853528ad3b1",
   "metadata": {},
   "outputs": [
    {
     "data": {
      "text/plain": [
       "(89, 57)"
      ]
     },
     "execution_count": 10,
     "metadata": {},
     "output_type": "execute_result"
    }
   ],
   "source": [
    "S.shape"
   ]
  },
  {
   "cell_type": "code",
   "execution_count": null,
   "id": "b4d4fdfb-54be-4b31-92f7-1fc3323e1fa8",
   "metadata": {},
   "outputs": [],
   "source": []
  },
  {
   "cell_type": "code",
   "execution_count": null,
   "id": "0ec37bcc-ca48-4021-adc6-1e1950b92bf1",
   "metadata": {},
   "outputs": [],
   "source": []
  },
  {
   "cell_type": "markdown",
   "id": "e5bfdfac-9501-4400-9237-12ec890e2f6d",
   "metadata": {},
   "source": [
    "#### 1.4 fast eda - tags"
   ]
  },
  {
   "cell_type": "code",
   "execution_count": 11,
   "id": "60617d4f-4c6e-44ef-b053-f93de5353b10",
   "metadata": {},
   "outputs": [
    {
     "data": {
      "text/plain": [
       "{'Country': array(['total'], dtype=object),\n",
       " 'Country/Purpose': array(['hol', 'vfr', 'bus', 'oth'], dtype=object),\n",
       " 'Country/Purpose/State': array(['nsw-hol', 'vic-hol', 'qld-hol', 'sa-hol', 'wa-hol', 'tas-hol',\n",
       "        'nt-hol', 'nsw-vfr', 'vic-vfr', 'qld-vfr', 'sa-vfr', 'wa-vfr',\n",
       "        'tas-vfr', 'nt-vfr', 'nsw-bus', 'vic-bus', 'qld-bus', 'sa-bus',\n",
       "        'wa-bus', 'tas-bus', 'nt-bus', 'nsw-oth', 'vic-oth', 'qld-oth',\n",
       "        'sa-oth', 'wa-oth', 'tas-oth', 'nt-oth'], dtype=object),\n",
       " 'Country/Purpose/State/CityNonCity': array(['nsw-hol-city', 'nsw-hol-noncity', 'vic-hol-city',\n",
       "        'vic-hol-noncity', 'qld-hol-city', 'qld-hol-noncity',\n",
       "        'sa-hol-city', 'sa-hol-noncity', 'wa-hol-city', 'wa-hol-noncity',\n",
       "        'tas-hol-city', 'tas-hol-noncity', 'nt-hol-city', 'nt-hol-noncity',\n",
       "        'nsw-vfr-city', 'nsw-vfr-noncity', 'vic-vfr-city',\n",
       "        'vic-vfr-noncity', 'qld-vfr-city', 'qld-vfr-noncity',\n",
       "        'sa-vfr-city', 'sa-vfr-noncity', 'wa-vfr-city', 'wa-vfr-noncity',\n",
       "        'tas-vfr-city', 'tas-vfr-noncity', 'nt-vfr-city', 'nt-vfr-noncity',\n",
       "        'nsw-bus-city', 'nsw-bus-noncity', 'vic-bus-city',\n",
       "        'vic-bus-noncity', 'qld-bus-city', 'qld-bus-noncity',\n",
       "        'sa-bus-city', 'sa-bus-noncity', 'wa-bus-city', 'wa-bus-noncity',\n",
       "        'tas-bus-city', 'tas-bus-noncity', 'nt-bus-city', 'nt-bus-noncity',\n",
       "        'nsw-oth-city', 'nsw-oth-noncity', 'vic-oth-city',\n",
       "        'vic-oth-noncity', 'qld-oth-city', 'qld-oth-noncity',\n",
       "        'sa-oth-city', 'sa-oth-noncity', 'wa-oth-city', 'wa-oth-noncity',\n",
       "        'tas-oth-city', 'tas-oth-noncity', 'nt-oth-city', 'nt-oth-noncity'],\n",
       "       dtype=object)}"
      ]
     },
     "execution_count": 11,
     "metadata": {},
     "output_type": "execute_result"
    }
   ],
   "source": [
    "tags"
   ]
  },
  {
   "cell_type": "code",
   "execution_count": 12,
   "id": "a096b48f-b9bb-4c20-8b8c-71458421bde4",
   "metadata": {},
   "outputs": [
    {
     "data": {
      "text/plain": [
       "dict_keys(['Country', 'Country/Purpose', 'Country/Purpose/State', 'Country/Purpose/State/CityNonCity'])"
      ]
     },
     "execution_count": 12,
     "metadata": {},
     "output_type": "execute_result"
    }
   ],
   "source": [
    "tags.keys()"
   ]
  },
  {
   "cell_type": "code",
   "execution_count": null,
   "id": "76e7bbf2-d941-4724-a096-51a300aaac85",
   "metadata": {},
   "outputs": [],
   "source": []
  },
  {
   "cell_type": "code",
   "execution_count": null,
   "id": "cd043d8d-a714-4e02-8c36-011f6b8245ae",
   "metadata": {},
   "outputs": [],
   "source": []
  },
  {
   "cell_type": "markdown",
   "id": "5d39a73b-7de6-4f9f-ac5c-31a47878b9dc",
   "metadata": {},
   "source": [
    "### 2. Descargar data TourismData - FULL dataset\n",
    "**link example nixtla tourism data - geographical agregation:** https://nixtlaverse.nixtla.io/hierarchicalforecast/examples/australiandomestictourism.html\n",
    "\n",
    "**link example nixtla tourism data - geographical agregation - temporal agregation:**\n",
    "https://nixtlaverse.nixtla.io/hierarchicalforecast/examples/australiandomestictourismcrosstemporal.html\n",
    "\n",
    "**link example hyndman:** https://robjhyndman.com/seminars/fr_overview.html"
   ]
  },
  {
   "cell_type": "code",
   "execution_count": null,
   "id": "abd43b0a-1357-4d0d-9dda-e0396a486b1b",
   "metadata": {},
   "outputs": [],
   "source": []
  },
  {
   "cell_type": "markdown",
   "id": "16948f49-892d-4eb1-bffe-68150961a165",
   "metadata": {},
   "source": [
    "#### 2.1 download data example hyndman"
   ]
  },
  {
   "cell_type": "code",
   "execution_count": 13,
   "id": "4c3293eb-07c9-4bba-8461-588cd8969f61",
   "metadata": {},
   "outputs": [],
   "source": [
    "# download data and get format\n",
    "Y_df = pd.read_csv('https://raw.githubusercontent.com/Nixtla/transfer-learning-time-series/main/datasets/tourism.csv')\n",
    "Y_df = Y_df.rename({'Trips': 'y', 'Quarter': 'ds'}, axis=1)\n",
    "Y_df.insert(0, 'Country', 'Australia')\n",
    "Y_df = Y_df[['Country', 'Region', 'State', 'Purpose', 'ds', 'y']]\n",
    "Y_df['ds'] = Y_df['ds'].str.replace(r'(\\d+) (Q\\d)', r'\\1-\\2', regex=True)\n",
    "Y_df['ds'] = pd.PeriodIndex(Y_df[\"ds\"], freq='Q').to_timestamp()"
   ]
  },
  {
   "cell_type": "code",
   "execution_count": 14,
   "id": "49fe1e23-707e-4aec-b1e8-239e8836797c",
   "metadata": {},
   "outputs": [],
   "source": [
    "# save in folder data\n",
    "Y_df.to_parquet('data/hierarchical/Tourism_hyndman/data.csv')"
   ]
  },
  {
   "cell_type": "code",
   "execution_count": null,
   "id": "4689652b-1938-45fa-b2d7-b243374d4d78",
   "metadata": {},
   "outputs": [],
   "source": []
  },
  {
   "cell_type": "markdown",
   "id": "dc129709-33e8-4840-9d5b-87703708b773",
   "metadata": {},
   "source": [
    "#### 2.2 fast eda data"
   ]
  },
  {
   "cell_type": "code",
   "execution_count": 15,
   "id": "7b9d5091-f776-4c60-b5e3-4348c45f7954",
   "metadata": {},
   "outputs": [
    {
     "data": {
      "text/html": [
       "<div>\n",
       "<style scoped>\n",
       "    .dataframe tbody tr th:only-of-type {\n",
       "        vertical-align: middle;\n",
       "    }\n",
       "\n",
       "    .dataframe tbody tr th {\n",
       "        vertical-align: top;\n",
       "    }\n",
       "\n",
       "    .dataframe thead th {\n",
       "        text-align: right;\n",
       "    }\n",
       "</style>\n",
       "<table border=\"1\" class=\"dataframe\">\n",
       "  <thead>\n",
       "    <tr style=\"text-align: right;\">\n",
       "      <th></th>\n",
       "      <th>Country</th>\n",
       "      <th>Region</th>\n",
       "      <th>State</th>\n",
       "      <th>Purpose</th>\n",
       "      <th>ds</th>\n",
       "      <th>y</th>\n",
       "    </tr>\n",
       "  </thead>\n",
       "  <tbody>\n",
       "    <tr>\n",
       "      <th>0</th>\n",
       "      <td>Australia</td>\n",
       "      <td>Adelaide</td>\n",
       "      <td>South Australia</td>\n",
       "      <td>Business</td>\n",
       "      <td>1998-01-01</td>\n",
       "      <td>135.077690</td>\n",
       "    </tr>\n",
       "    <tr>\n",
       "      <th>1</th>\n",
       "      <td>Australia</td>\n",
       "      <td>Adelaide</td>\n",
       "      <td>South Australia</td>\n",
       "      <td>Business</td>\n",
       "      <td>1998-04-01</td>\n",
       "      <td>109.987316</td>\n",
       "    </tr>\n",
       "    <tr>\n",
       "      <th>2</th>\n",
       "      <td>Australia</td>\n",
       "      <td>Adelaide</td>\n",
       "      <td>South Australia</td>\n",
       "      <td>Business</td>\n",
       "      <td>1998-07-01</td>\n",
       "      <td>166.034687</td>\n",
       "    </tr>\n",
       "    <tr>\n",
       "      <th>3</th>\n",
       "      <td>Australia</td>\n",
       "      <td>Adelaide</td>\n",
       "      <td>South Australia</td>\n",
       "      <td>Business</td>\n",
       "      <td>1998-10-01</td>\n",
       "      <td>127.160464</td>\n",
       "    </tr>\n",
       "    <tr>\n",
       "      <th>4</th>\n",
       "      <td>Australia</td>\n",
       "      <td>Adelaide</td>\n",
       "      <td>South Australia</td>\n",
       "      <td>Business</td>\n",
       "      <td>1999-01-01</td>\n",
       "      <td>137.448533</td>\n",
       "    </tr>\n",
       "  </tbody>\n",
       "</table>\n",
       "</div>"
      ],
      "text/plain": [
       "     Country    Region            State   Purpose         ds           y\n",
       "0  Australia  Adelaide  South Australia  Business 1998-01-01  135.077690\n",
       "1  Australia  Adelaide  South Australia  Business 1998-04-01  109.987316\n",
       "2  Australia  Adelaide  South Australia  Business 1998-07-01  166.034687\n",
       "3  Australia  Adelaide  South Australia  Business 1998-10-01  127.160464\n",
       "4  Australia  Adelaide  South Australia  Business 1999-01-01  137.448533"
      ]
     },
     "execution_count": 15,
     "metadata": {},
     "output_type": "execute_result"
    }
   ],
   "source": [
    "Y_df.head()"
   ]
  },
  {
   "cell_type": "code",
   "execution_count": 16,
   "id": "4505c119-7735-4768-83ba-f74d918568b2",
   "metadata": {},
   "outputs": [
    {
     "data": {
      "text/html": [
       "<div>\n",
       "<style scoped>\n",
       "    .dataframe tbody tr th:only-of-type {\n",
       "        vertical-align: middle;\n",
       "    }\n",
       "\n",
       "    .dataframe tbody tr th {\n",
       "        vertical-align: top;\n",
       "    }\n",
       "\n",
       "    .dataframe thead th {\n",
       "        text-align: right;\n",
       "    }\n",
       "</style>\n",
       "<table border=\"1\" class=\"dataframe\">\n",
       "  <thead>\n",
       "    <tr style=\"text-align: right;\">\n",
       "      <th></th>\n",
       "      <th>Country</th>\n",
       "      <th>Region</th>\n",
       "      <th>State</th>\n",
       "      <th>Purpose</th>\n",
       "      <th>ds</th>\n",
       "      <th>y</th>\n",
       "    </tr>\n",
       "  </thead>\n",
       "  <tbody>\n",
       "    <tr>\n",
       "      <th>24315</th>\n",
       "      <td>Australia</td>\n",
       "      <td>Yorke Peninsula</td>\n",
       "      <td>South Australia</td>\n",
       "      <td>Visiting</td>\n",
       "      <td>2016-10-01</td>\n",
       "      <td>33.672151</td>\n",
       "    </tr>\n",
       "    <tr>\n",
       "      <th>24316</th>\n",
       "      <td>Australia</td>\n",
       "      <td>Yorke Peninsula</td>\n",
       "      <td>South Australia</td>\n",
       "      <td>Visiting</td>\n",
       "      <td>2017-01-01</td>\n",
       "      <td>46.223014</td>\n",
       "    </tr>\n",
       "    <tr>\n",
       "      <th>24317</th>\n",
       "      <td>Australia</td>\n",
       "      <td>Yorke Peninsula</td>\n",
       "      <td>South Australia</td>\n",
       "      <td>Visiting</td>\n",
       "      <td>2017-04-01</td>\n",
       "      <td>50.582837</td>\n",
       "    </tr>\n",
       "    <tr>\n",
       "      <th>24318</th>\n",
       "      <td>Australia</td>\n",
       "      <td>Yorke Peninsula</td>\n",
       "      <td>South Australia</td>\n",
       "      <td>Visiting</td>\n",
       "      <td>2017-07-01</td>\n",
       "      <td>27.766728</td>\n",
       "    </tr>\n",
       "    <tr>\n",
       "      <th>24319</th>\n",
       "      <td>Australia</td>\n",
       "      <td>Yorke Peninsula</td>\n",
       "      <td>South Australia</td>\n",
       "      <td>Visiting</td>\n",
       "      <td>2017-10-01</td>\n",
       "      <td>46.281578</td>\n",
       "    </tr>\n",
       "  </tbody>\n",
       "</table>\n",
       "</div>"
      ],
      "text/plain": [
       "         Country           Region            State   Purpose         ds  \\\n",
       "24315  Australia  Yorke Peninsula  South Australia  Visiting 2016-10-01   \n",
       "24316  Australia  Yorke Peninsula  South Australia  Visiting 2017-01-01   \n",
       "24317  Australia  Yorke Peninsula  South Australia  Visiting 2017-04-01   \n",
       "24318  Australia  Yorke Peninsula  South Australia  Visiting 2017-07-01   \n",
       "24319  Australia  Yorke Peninsula  South Australia  Visiting 2017-10-01   \n",
       "\n",
       "               y  \n",
       "24315  33.672151  \n",
       "24316  46.223014  \n",
       "24317  50.582837  \n",
       "24318  27.766728  \n",
       "24319  46.281578  "
      ]
     },
     "execution_count": 16,
     "metadata": {},
     "output_type": "execute_result"
    }
   ],
   "source": [
    "Y_df.tail()"
   ]
  },
  {
   "cell_type": "code",
   "execution_count": 17,
   "id": "d54588c5-688e-4fc2-bf09-8db7cdaf07f2",
   "metadata": {},
   "outputs": [
    {
     "data": {
      "text/plain": [
       "(24320, 6)"
      ]
     },
     "execution_count": 17,
     "metadata": {},
     "output_type": "execute_result"
    }
   ],
   "source": [
    "Y_df.shape"
   ]
  },
  {
   "cell_type": "code",
   "execution_count": 18,
   "id": "a4cf4564-11b9-4a63-ba23-2d9509e2427b",
   "metadata": {},
   "outputs": [
    {
     "name": "stdout",
     "output_type": "stream",
     "text": [
      "number unique_country:  (1,)\n",
      "number unique_region:  (76,)\n",
      "number unique_state:  (8,)\n",
      "number unique_purpose:  (4,)\n"
     ]
    }
   ],
   "source": [
    "# number of differents combinations\n",
    "unique_country = Y_df['Country'].unique().shape\n",
    "unique_region = Y_df['Region'].unique().shape\n",
    "unique_state = Y_df['State'].unique().shape\n",
    "unique_purpose = Y_df['Purpose'].unique().shape\n",
    "print('number unique_country: ', unique_country)\n",
    "print('number unique_region: ', unique_region)\n",
    "print('number unique_state: ', unique_state)\n",
    "print('number unique_purpose: ', unique_purpose)"
   ]
  },
  {
   "cell_type": "code",
   "execution_count": 19,
   "id": "dec95a71-4e7e-499d-872c-8f20a486a96b",
   "metadata": {},
   "outputs": [
    {
     "data": {
      "text/plain": [
       "(304,)"
      ]
     },
     "execution_count": 19,
     "metadata": {},
     "output_type": "execute_result"
    }
   ],
   "source": [
    "# number unique series (generate unique combinations)\n",
    "Y_df['unique_id'] = Y_df['Country'] + '-' + Y_df['Region'] + '-' + Y_df['State'] + '-' + Y_df['Purpose']\n",
    "Y_df['unique_id'].unique().shape"
   ]
  },
  {
   "cell_type": "code",
   "execution_count": 20,
   "id": "d0c1a7e7-ebf1-4b95-b781-38c654eb83d7",
   "metadata": {},
   "outputs": [
    {
     "name": "stdout",
     "output_type": "stream",
     "text": [
      "min_date:  1998-01-01\n",
      "max_date:  2017-10-01\n"
     ]
    }
   ],
   "source": [
    "# min y max date in data\n",
    "min_date_full_tourism = Y_df['ds'].min().strftime('%Y-%m-%d')\n",
    "max_date_full_tourism = Y_df['ds'].max().strftime('%Y-%m-%d')\n",
    "print('min_date: ', min_date_full_tourism)\n",
    "print('max_date: ', max_date_full_tourism)"
   ]
  },
  {
   "cell_type": "code",
   "execution_count": null,
   "id": "41add2fc-d1d6-411a-8650-2f4528533db6",
   "metadata": {},
   "outputs": [],
   "source": []
  },
  {
   "cell_type": "code",
   "execution_count": null,
   "id": "0bba351c-7528-4564-8efd-96594c3888bb",
   "metadata": {},
   "outputs": [],
   "source": []
  }
 ],
 "metadata": {
  "kernelspec": {
   "display_name": "Python 3 (ipykernel)",
   "language": "python",
   "name": "python3"
  },
  "language_info": {
   "codemirror_mode": {
    "name": "ipython",
    "version": 3
   },
   "file_extension": ".py",
   "mimetype": "text/x-python",
   "name": "python",
   "nbconvert_exporter": "python",
   "pygments_lexer": "ipython3",
   "version": "3.11.7"
  }
 },
 "nbformat": 4,
 "nbformat_minor": 5
}
