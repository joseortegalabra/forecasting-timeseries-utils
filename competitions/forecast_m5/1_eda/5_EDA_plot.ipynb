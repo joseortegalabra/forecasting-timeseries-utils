{
 "cells": [
  {
   "cell_type": "code",
   "execution_count": null,
   "id": "d058e8eb-5f8e-4567-af2e-215f0b566b6d",
   "metadata": {},
   "outputs": [],
   "source": [
    "## POR HACER.\n",
    "## GRAFICAR LAS SERIES.\n",
    "### GRAFICOS TENDENCIA\n",
    "### OTROS GRÁFICOS"
   ]
  },
  {
   "cell_type": "markdown",
   "id": "0b8cea61-3e0f-48a4-8004-982c621064bf",
   "metadata": {},
   "source": [
    "## GRAFICAR\n",
    "### GRAFICAR TENDENCIA DE CADA SERIE"
   ]
  },
  {
   "cell_type": "code",
   "execution_count": null,
   "id": "42466ee5-ef49-4853-bcc1-aee5cac9f278",
   "metadata": {},
   "outputs": [],
   "source": []
  },
  {
   "cell_type": "code",
   "execution_count": 1,
   "id": "dda84bc5-db55-4dd5-b074-83301ecdee38",
   "metadata": {},
   "outputs": [
    {
     "name": "stdout",
     "output_type": "stream",
     "text": [
      "root path:  /Users/joseortega/Documents/GitHub/forecasting-m5-dataset\n"
     ]
    }
   ],
   "source": [
    "import os\n",
    "# set path root of repo\n",
    "actual_path = os.path.abspath(os.getcwd())\n",
    "list_root_path = actual_path.split('/')[:-1]\n",
    "root_path = '/'.join(list_root_path)\n",
    "os.chdir(root_path)\n",
    "print('root path: ', root_path)"
   ]
  },
  {
   "cell_type": "code",
   "execution_count": 2,
   "id": "dc07d5ab-1986-4156-bafd-e7da2085e341",
   "metadata": {},
   "outputs": [],
   "source": [
    "import numpy as np\n",
    "import pandas as pd\n",
    "import matplotlib.pyplot as plt\n",
    "\n",
    "from sklearn.metrics import root_mean_squared_error"
   ]
  },
  {
   "cell_type": "code",
   "execution_count": 3,
   "id": "528250cd-ec42-4ad4-b4e8-83d356fc7edb",
   "metadata": {},
   "outputs": [],
   "source": [
    "import warnings\n",
    "warnings.filterwarnings(\"ignore\")"
   ]
  },
  {
   "cell_type": "code",
   "execution_count": null,
   "id": "526ddc77-a99e-4094-97ff-c1d51abb119e",
   "metadata": {},
   "outputs": [],
   "source": []
  },
  {
   "cell_type": "markdown",
   "id": "a9a439ac-4c45-4f31-836b-5480eeaf4d14",
   "metadata": {},
   "source": [
    "### 1. Read raw files"
   ]
  },
  {
   "cell_type": "code",
   "execution_count": 35,
   "id": "6055b4e4-194a-4efb-a66f-684218d5eb15",
   "metadata": {},
   "outputs": [],
   "source": [
    "folder_data_raw_dtype = 'data/data_input_dtype/'\n",
    "\n",
    "df_calender = pd.read_pickle(folder_data_raw_dtype + 'calendar.pkl')\n",
    "df_prices = pd.read_pickle(folder_data_raw_dtype + 'sell_prices.pkl')\n",
    "df_sales = pd.read_pickle(folder_data_raw_dtype + 'sales_train_evaluation.pkl')\n",
    "df_sample_output = pd.read_pickle(folder_data_raw_dtype + 'sample_submission.pkl')"
   ]
  },
  {
   "cell_type": "code",
   "execution_count": 21,
   "id": "d9b49a81-8f29-42d9-8f42-f0b968a914c7",
   "metadata": {},
   "outputs": [
    {
     "data": {
      "text/html": [
       "<div>\n",
       "<style scoped>\n",
       "    .dataframe tbody tr th:only-of-type {\n",
       "        vertical-align: middle;\n",
       "    }\n",
       "\n",
       "    .dataframe tbody tr th {\n",
       "        vertical-align: top;\n",
       "    }\n",
       "\n",
       "    .dataframe thead th {\n",
       "        text-align: right;\n",
       "    }\n",
       "</style>\n",
       "<table border=\"1\" class=\"dataframe\">\n",
       "  <thead>\n",
       "    <tr style=\"text-align: right;\">\n",
       "      <th></th>\n",
       "      <th>id</th>\n",
       "      <th>item_id</th>\n",
       "      <th>dept_id</th>\n",
       "      <th>cat_id</th>\n",
       "      <th>store_id</th>\n",
       "      <th>state_id</th>\n",
       "      <th>d_1</th>\n",
       "      <th>d_2</th>\n",
       "      <th>d_3</th>\n",
       "      <th>d_4</th>\n",
       "      <th>...</th>\n",
       "      <th>d_1932</th>\n",
       "      <th>d_1933</th>\n",
       "      <th>d_1934</th>\n",
       "      <th>d_1935</th>\n",
       "      <th>d_1936</th>\n",
       "      <th>d_1937</th>\n",
       "      <th>d_1938</th>\n",
       "      <th>d_1939</th>\n",
       "      <th>d_1940</th>\n",
       "      <th>d_1941</th>\n",
       "    </tr>\n",
       "  </thead>\n",
       "  <tbody>\n",
       "    <tr>\n",
       "      <th>0</th>\n",
       "      <td>HOBBIES_1_001_CA_1_evaluation</td>\n",
       "      <td>HOBBIES_1_001</td>\n",
       "      <td>HOBBIES_1</td>\n",
       "      <td>HOBBIES</td>\n",
       "      <td>CA_1</td>\n",
       "      <td>CA</td>\n",
       "      <td>0.0</td>\n",
       "      <td>0.0</td>\n",
       "      <td>0.0</td>\n",
       "      <td>0.0</td>\n",
       "      <td>...</td>\n",
       "      <td>2.0</td>\n",
       "      <td>4.0</td>\n",
       "      <td>0.0</td>\n",
       "      <td>0.0</td>\n",
       "      <td>0.0</td>\n",
       "      <td>0.0</td>\n",
       "      <td>3.0</td>\n",
       "      <td>3.0</td>\n",
       "      <td>0.0</td>\n",
       "      <td>1.0</td>\n",
       "    </tr>\n",
       "    <tr>\n",
       "      <th>1</th>\n",
       "      <td>HOBBIES_1_002_CA_1_evaluation</td>\n",
       "      <td>HOBBIES_1_002</td>\n",
       "      <td>HOBBIES_1</td>\n",
       "      <td>HOBBIES</td>\n",
       "      <td>CA_1</td>\n",
       "      <td>CA</td>\n",
       "      <td>0.0</td>\n",
       "      <td>0.0</td>\n",
       "      <td>0.0</td>\n",
       "      <td>0.0</td>\n",
       "      <td>...</td>\n",
       "      <td>0.0</td>\n",
       "      <td>1.0</td>\n",
       "      <td>2.0</td>\n",
       "      <td>1.0</td>\n",
       "      <td>1.0</td>\n",
       "      <td>0.0</td>\n",
       "      <td>0.0</td>\n",
       "      <td>0.0</td>\n",
       "      <td>0.0</td>\n",
       "      <td>0.0</td>\n",
       "    </tr>\n",
       "    <tr>\n",
       "      <th>2</th>\n",
       "      <td>HOBBIES_1_003_CA_1_evaluation</td>\n",
       "      <td>HOBBIES_1_003</td>\n",
       "      <td>HOBBIES_1</td>\n",
       "      <td>HOBBIES</td>\n",
       "      <td>CA_1</td>\n",
       "      <td>CA</td>\n",
       "      <td>0.0</td>\n",
       "      <td>0.0</td>\n",
       "      <td>0.0</td>\n",
       "      <td>0.0</td>\n",
       "      <td>...</td>\n",
       "      <td>1.0</td>\n",
       "      <td>0.0</td>\n",
       "      <td>2.0</td>\n",
       "      <td>0.0</td>\n",
       "      <td>0.0</td>\n",
       "      <td>0.0</td>\n",
       "      <td>2.0</td>\n",
       "      <td>3.0</td>\n",
       "      <td>0.0</td>\n",
       "      <td>1.0</td>\n",
       "    </tr>\n",
       "  </tbody>\n",
       "</table>\n",
       "<p>3 rows × 1947 columns</p>\n",
       "</div>"
      ],
      "text/plain": [
       "                              id        item_id    dept_id   cat_id store_id  \\\n",
       "0  HOBBIES_1_001_CA_1_evaluation  HOBBIES_1_001  HOBBIES_1  HOBBIES     CA_1   \n",
       "1  HOBBIES_1_002_CA_1_evaluation  HOBBIES_1_002  HOBBIES_1  HOBBIES     CA_1   \n",
       "2  HOBBIES_1_003_CA_1_evaluation  HOBBIES_1_003  HOBBIES_1  HOBBIES     CA_1   \n",
       "\n",
       "  state_id  d_1  d_2  d_3  d_4  ...  d_1932  d_1933  d_1934  d_1935  d_1936  \\\n",
       "0       CA  0.0  0.0  0.0  0.0  ...     2.0     4.0     0.0     0.0     0.0   \n",
       "1       CA  0.0  0.0  0.0  0.0  ...     0.0     1.0     2.0     1.0     1.0   \n",
       "2       CA  0.0  0.0  0.0  0.0  ...     1.0     0.0     2.0     0.0     0.0   \n",
       "\n",
       "   d_1937  d_1938  d_1939  d_1940  d_1941  \n",
       "0     0.0     3.0     3.0     0.0     1.0  \n",
       "1     0.0     0.0     0.0     0.0     0.0  \n",
       "2     0.0     2.0     3.0     0.0     1.0  \n",
       "\n",
       "[3 rows x 1947 columns]"
      ]
     },
     "execution_count": 21,
     "metadata": {},
     "output_type": "execute_result"
    }
   ],
   "source": [
    "df_sales.head(3) # df con las ventas"
   ]
  },
  {
   "cell_type": "code",
   "execution_count": null,
   "id": "2dc72d13-ba7c-48a4-9b5c-52af3e05c1a1",
   "metadata": {},
   "outputs": [],
   "source": []
  },
  {
   "cell_type": "markdown",
   "id": "70736ee3-eb48-477b-8ecd-ef2ea24220c7",
   "metadata": {},
   "source": [
    "### 2. Eliminar columnas no utilizadas para tener dataframe solo con las series"
   ]
  },
  {
   "cell_type": "code",
   "execution_count": 22,
   "id": "962a7bea-3e48-4180-a829-64ad36918653",
   "metadata": {},
   "outputs": [],
   "source": [
    "# eliminar columnas no utilizadas\n",
    "df_sales = df_sales.drop(columns = ['item_id', 'dept_id', 'cat_id', 'store_id', 'state_id'])\n",
    "df_sales = df_sales.set_index('id')\n",
    "\n",
    "# transformar todas las columnas que están en formato string a float\n",
    "# data[data.select_dtypes(include=['object']).columns] = data.select_dtypes(include=['object']).apply(pd.to_numeric, errors='coerce')"
   ]
  },
  {
   "cell_type": "code",
   "execution_count": 23,
   "id": "14847fe8-9327-4c70-8ac7-16f6e311949a",
   "metadata": {},
   "outputs": [
    {
     "data": {
      "text/html": [
       "<div>\n",
       "<style scoped>\n",
       "    .dataframe tbody tr th:only-of-type {\n",
       "        vertical-align: middle;\n",
       "    }\n",
       "\n",
       "    .dataframe tbody tr th {\n",
       "        vertical-align: top;\n",
       "    }\n",
       "\n",
       "    .dataframe thead th {\n",
       "        text-align: right;\n",
       "    }\n",
       "</style>\n",
       "<table border=\"1\" class=\"dataframe\">\n",
       "  <thead>\n",
       "    <tr style=\"text-align: right;\">\n",
       "      <th></th>\n",
       "      <th>d_1</th>\n",
       "      <th>d_2</th>\n",
       "      <th>d_3</th>\n",
       "      <th>d_4</th>\n",
       "      <th>d_5</th>\n",
       "      <th>d_6</th>\n",
       "      <th>d_7</th>\n",
       "      <th>d_8</th>\n",
       "      <th>d_9</th>\n",
       "      <th>d_10</th>\n",
       "      <th>...</th>\n",
       "      <th>d_1932</th>\n",
       "      <th>d_1933</th>\n",
       "      <th>d_1934</th>\n",
       "      <th>d_1935</th>\n",
       "      <th>d_1936</th>\n",
       "      <th>d_1937</th>\n",
       "      <th>d_1938</th>\n",
       "      <th>d_1939</th>\n",
       "      <th>d_1940</th>\n",
       "      <th>d_1941</th>\n",
       "    </tr>\n",
       "    <tr>\n",
       "      <th>id</th>\n",
       "      <th></th>\n",
       "      <th></th>\n",
       "      <th></th>\n",
       "      <th></th>\n",
       "      <th></th>\n",
       "      <th></th>\n",
       "      <th></th>\n",
       "      <th></th>\n",
       "      <th></th>\n",
       "      <th></th>\n",
       "      <th></th>\n",
       "      <th></th>\n",
       "      <th></th>\n",
       "      <th></th>\n",
       "      <th></th>\n",
       "      <th></th>\n",
       "      <th></th>\n",
       "      <th></th>\n",
       "      <th></th>\n",
       "      <th></th>\n",
       "      <th></th>\n",
       "    </tr>\n",
       "  </thead>\n",
       "  <tbody>\n",
       "    <tr>\n",
       "      <th>HOBBIES_1_001_CA_1_evaluation</th>\n",
       "      <td>0.0</td>\n",
       "      <td>0.0</td>\n",
       "      <td>0.0</td>\n",
       "      <td>0.0</td>\n",
       "      <td>0.0</td>\n",
       "      <td>0.0</td>\n",
       "      <td>0.0</td>\n",
       "      <td>0.0</td>\n",
       "      <td>0.0</td>\n",
       "      <td>0.0</td>\n",
       "      <td>...</td>\n",
       "      <td>2.0</td>\n",
       "      <td>4.0</td>\n",
       "      <td>0.0</td>\n",
       "      <td>0.0</td>\n",
       "      <td>0.0</td>\n",
       "      <td>0.0</td>\n",
       "      <td>3.0</td>\n",
       "      <td>3.0</td>\n",
       "      <td>0.0</td>\n",
       "      <td>1.0</td>\n",
       "    </tr>\n",
       "    <tr>\n",
       "      <th>HOBBIES_1_002_CA_1_evaluation</th>\n",
       "      <td>0.0</td>\n",
       "      <td>0.0</td>\n",
       "      <td>0.0</td>\n",
       "      <td>0.0</td>\n",
       "      <td>0.0</td>\n",
       "      <td>0.0</td>\n",
       "      <td>0.0</td>\n",
       "      <td>0.0</td>\n",
       "      <td>0.0</td>\n",
       "      <td>0.0</td>\n",
       "      <td>...</td>\n",
       "      <td>0.0</td>\n",
       "      <td>1.0</td>\n",
       "      <td>2.0</td>\n",
       "      <td>1.0</td>\n",
       "      <td>1.0</td>\n",
       "      <td>0.0</td>\n",
       "      <td>0.0</td>\n",
       "      <td>0.0</td>\n",
       "      <td>0.0</td>\n",
       "      <td>0.0</td>\n",
       "    </tr>\n",
       "    <tr>\n",
       "      <th>HOBBIES_1_003_CA_1_evaluation</th>\n",
       "      <td>0.0</td>\n",
       "      <td>0.0</td>\n",
       "      <td>0.0</td>\n",
       "      <td>0.0</td>\n",
       "      <td>0.0</td>\n",
       "      <td>0.0</td>\n",
       "      <td>0.0</td>\n",
       "      <td>0.0</td>\n",
       "      <td>0.0</td>\n",
       "      <td>0.0</td>\n",
       "      <td>...</td>\n",
       "      <td>1.0</td>\n",
       "      <td>0.0</td>\n",
       "      <td>2.0</td>\n",
       "      <td>0.0</td>\n",
       "      <td>0.0</td>\n",
       "      <td>0.0</td>\n",
       "      <td>2.0</td>\n",
       "      <td>3.0</td>\n",
       "      <td>0.0</td>\n",
       "      <td>1.0</td>\n",
       "    </tr>\n",
       "  </tbody>\n",
       "</table>\n",
       "<p>3 rows × 1941 columns</p>\n",
       "</div>"
      ],
      "text/plain": [
       "                               d_1  d_2  d_3  d_4  d_5  d_6  d_7  d_8  d_9  \\\n",
       "id                                                                           \n",
       "HOBBIES_1_001_CA_1_evaluation  0.0  0.0  0.0  0.0  0.0  0.0  0.0  0.0  0.0   \n",
       "HOBBIES_1_002_CA_1_evaluation  0.0  0.0  0.0  0.0  0.0  0.0  0.0  0.0  0.0   \n",
       "HOBBIES_1_003_CA_1_evaluation  0.0  0.0  0.0  0.0  0.0  0.0  0.0  0.0  0.0   \n",
       "\n",
       "                               d_10  ...  d_1932  d_1933  d_1934  d_1935  \\\n",
       "id                                   ...                                   \n",
       "HOBBIES_1_001_CA_1_evaluation   0.0  ...     2.0     4.0     0.0     0.0   \n",
       "HOBBIES_1_002_CA_1_evaluation   0.0  ...     0.0     1.0     2.0     1.0   \n",
       "HOBBIES_1_003_CA_1_evaluation   0.0  ...     1.0     0.0     2.0     0.0   \n",
       "\n",
       "                               d_1936  d_1937  d_1938  d_1939  d_1940  d_1941  \n",
       "id                                                                             \n",
       "HOBBIES_1_001_CA_1_evaluation     0.0     0.0     3.0     3.0     0.0     1.0  \n",
       "HOBBIES_1_002_CA_1_evaluation     1.0     0.0     0.0     0.0     0.0     0.0  \n",
       "HOBBIES_1_003_CA_1_evaluation     0.0     0.0     2.0     3.0     0.0     1.0  \n",
       "\n",
       "[3 rows x 1941 columns]"
      ]
     },
     "execution_count": 23,
     "metadata": {},
     "output_type": "execute_result"
    }
   ],
   "source": [
    "df_sales.head(3)"
   ]
  },
  {
   "cell_type": "code",
   "execution_count": null,
   "id": "8fa59bab-5f31-4f8c-8e5e-b4f1cab688eb",
   "metadata": {},
   "outputs": [],
   "source": []
  },
  {
   "cell_type": "markdown",
   "id": "db4ad044-16c6-4c3d-b3ed-4810f759f034",
   "metadata": {},
   "source": [
    "### 3. Plotear tendencia - USANDO DATAFRAME DE LA FORMA (serie, timestamp)"
   ]
  },
  {
   "cell_type": "code",
   "execution_count": 24,
   "id": "aa33030d-a905-45c3-80c2-ebb4415ddcad",
   "metadata": {},
   "outputs": [
    {
     "data": {
      "text/plain": [
       "id\n",
       "FOODS_3_090_CA_3_evaluation        253859.0\n",
       "FOODS_3_586_TX_2_evaluation        195120.0\n",
       "FOODS_3_586_TX_3_evaluation        151862.0\n",
       "FOODS_3_586_CA_3_evaluation        136269.0\n",
       "FOODS_3_090_CA_1_evaluation        128855.0\n",
       "                                     ...   \n",
       "HOUSEHOLD_2_216_CA_4_evaluation        23.0\n",
       "FOODS_2_071_TX_3_evaluation            18.0\n",
       "HOBBIES_1_170_WI_3_evaluation          16.0\n",
       "FOODS_2_057_WI_2_evaluation            16.0\n",
       "FOODS_3_778_CA_2_evaluation            15.0\n",
       "Length: 30490, dtype: float32"
      ]
     },
     "execution_count": 24,
     "metadata": {},
     "output_type": "execute_result"
    }
   ],
   "source": [
    "# obtener listado de series por volumen. Usar para decidir qué serie plotear\n",
    "df_sales.sum(axis = 1).sort_values(ascending = False)"
   ]
  },
  {
   "cell_type": "code",
   "execution_count": 25,
   "id": "b7f9323c-c17d-4912-ad75-19a5f3457b28",
   "metadata": {},
   "outputs": [],
   "source": [
    "# DEFINIR SERIE A PLOTEAR\n",
    "id_serie_plot = 'FOODS_3_090_CA_3_evaluation'"
   ]
  },
  {
   "cell_type": "code",
   "execution_count": null,
   "id": "5d25f90a-e9fd-498c-b12c-934fc9398510",
   "metadata": {},
   "outputs": [],
   "source": []
  },
  {
   "cell_type": "code",
   "execution_count": 32,
   "id": "57374f0e-eaa7-4738-9fb7-afe122b4e7ec",
   "metadata": {},
   "outputs": [],
   "source": [
    "# filtrar serie a plotear\n",
    "serie_plot = df_sales[df_sales.index == id_serie_plot] # filtrar serie\n",
    "serie_plot = serie_plot.T # traspuesta"
   ]
  },
  {
   "cell_type": "code",
   "execution_count": 33,
   "id": "773f2255-5a38-4a06-9d52-9df479001f48",
   "metadata": {},
   "outputs": [
    {
     "data": {
      "text/html": [
       "<div>\n",
       "<style scoped>\n",
       "    .dataframe tbody tr th:only-of-type {\n",
       "        vertical-align: middle;\n",
       "    }\n",
       "\n",
       "    .dataframe tbody tr th {\n",
       "        vertical-align: top;\n",
       "    }\n",
       "\n",
       "    .dataframe thead th {\n",
       "        text-align: right;\n",
       "    }\n",
       "</style>\n",
       "<table border=\"1\" class=\"dataframe\">\n",
       "  <thead>\n",
       "    <tr style=\"text-align: right;\">\n",
       "      <th>id</th>\n",
       "      <th>FOODS_3_090_CA_3_evaluation</th>\n",
       "    </tr>\n",
       "  </thead>\n",
       "  <tbody>\n",
       "    <tr>\n",
       "      <th>d_1</th>\n",
       "      <td>108.0</td>\n",
       "    </tr>\n",
       "    <tr>\n",
       "      <th>d_2</th>\n",
       "      <td>132.0</td>\n",
       "    </tr>\n",
       "    <tr>\n",
       "      <th>d_3</th>\n",
       "      <td>102.0</td>\n",
       "    </tr>\n",
       "    <tr>\n",
       "      <th>d_4</th>\n",
       "      <td>120.0</td>\n",
       "    </tr>\n",
       "    <tr>\n",
       "      <th>d_5</th>\n",
       "      <td>106.0</td>\n",
       "    </tr>\n",
       "  </tbody>\n",
       "</table>\n",
       "</div>"
      ],
      "text/plain": [
       "id   FOODS_3_090_CA_3_evaluation\n",
       "d_1                        108.0\n",
       "d_2                        132.0\n",
       "d_3                        102.0\n",
       "d_4                        120.0\n",
       "d_5                        106.0"
      ]
     },
     "execution_count": 33,
     "metadata": {},
     "output_type": "execute_result"
    }
   ],
   "source": [
    "serie_plot.head()"
   ]
  },
  {
   "cell_type": "code",
   "execution_count": 34,
   "id": "e82b2c85-2a8d-496d-92b3-2caa7a1fd09c",
   "metadata": {},
   "outputs": [
    {
     "data": {
      "text/plain": [
       "[<matplotlib.lines.Line2D at 0x3375cb610>]"
      ]
     },
     "execution_count": 34,
     "metadata": {},
     "output_type": "execute_result"
    },
    {
     "data": {
      "image/png": "[encoded data removed]",
      "text/plain": [
       "<Figure size 640x480 with 1 Axes>"
      ]
     },
     "metadata": {},
     "output_type": "display_data"
    }
   ],
   "source": [
    "plt.plot(serie_plot)"
   ]
  },
  {
   "cell_type": "code",
   "execution_count": null,
   "id": "34623885-7b0a-4ca3-bb4f-8461cd5f1ab4",
   "metadata": {},
   "outputs": [],
   "source": []
  },
  {
   "cell_type": "code",
   "execution_count": null,
   "id": "dee89e0a-6352-4f95-a103-1ae16c7dd335",
   "metadata": {},
   "outputs": [],
   "source": []
  },
  {
   "cell_type": "code",
   "execution_count": null,
   "id": "0108844f-1c26-4d8f-8ebd-a9bb41a53461",
   "metadata": {},
   "outputs": [],
   "source": []
  },
  {
   "cell_type": "code",
   "execution_count": null,
   "id": "c0410174-8f67-4266-8fc9-6f976b68d0ad",
   "metadata": {},
   "outputs": [],
   "source": []
  },
  {
   "cell_type": "code",
   "execution_count": null,
   "id": "bdf11110-f78b-4af4-8f8c-b7c79aa859b4",
   "metadata": {},
   "outputs": [],
   "source": []
  }
 ],
 "metadata": {
  "kernelspec": {
   "display_name": "Python 3 (ipykernel)",
   "language": "python",
   "name": "python3"
  },
  "language_info": {
   "codemirror_mode": {
    "name": "ipython",
    "version": 3
   },
   "file_extension": ".py",
   "mimetype": "text/x-python",
   "name": "python",
   "nbconvert_exporter": "python",
   "pygments_lexer": "ipython3",
   "version": "3.11.7"
  }
 },
 "nbformat": 4,
 "nbformat_minor": 5
}
