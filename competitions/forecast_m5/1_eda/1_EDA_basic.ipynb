{
 "cells": [
  {
   "cell_type": "markdown",
   "id": "cb875013-a933-47a2-adfd-dcc969a810a9",
   "metadata": {},
   "source": [
    "# DISCOVERY EDA BASIC\n",
    "- Revisar fechas de inicio y fin de los datos. Revisar granularidad de las series y de las variables exógenas\n",
    "- Revisar cantidad de series\n",
    "- Revisar columnas en cada conjunto de datos\n",
    "- Hacer una idea global de las series existentes y variables exógenas existentes"
   ]
  },
  {
   "cell_type": "code",
   "execution_count": 1,
   "id": "9f2f1bb3-5318-4043-b5ca-3e230ced8c56",
   "metadata": {},
   "outputs": [
    {
     "name": "stdout",
     "output_type": "stream",
     "text": [
      "root path:  /Users/joseortega/Documents/GitHub/forecasting-m5-dataset\n"
     ]
    }
   ],
   "source": [
    "import os\n",
    "# set path root of repo\n",
    "actual_path = os.path.abspath(os.getcwd())\n",
    "list_root_path = actual_path.split('/')[:-1]\n",
    "root_path = '/'.join(list_root_path)\n",
    "os.chdir(root_path)\n",
    "print('root path: ', root_path)"
   ]
  },
  {
   "cell_type": "code",
   "execution_count": 2,
   "id": "79ebe2c8-5506-40f6-afcc-83556286acec",
   "metadata": {},
   "outputs": [],
   "source": [
    "import numpy as np\n",
    "import pandas as pd\n",
    "import matplotlib.pyplot as plt"
   ]
  },
  {
   "cell_type": "code",
   "execution_count": null,
   "id": "3d9ee314-ec9d-4ed3-9751-2f3d9e53f849",
   "metadata": {},
   "outputs": [],
   "source": []
  },
  {
   "cell_type": "markdown",
   "id": "740821db-6a72-44bd-84d1-3f98dcf65bab",
   "metadata": {},
   "source": [
    "### 1. Read raw files"
   ]
  },
  {
   "cell_type": "code",
   "execution_count": 3,
   "id": "d48989ab-3ff7-4843-b5c7-c4fd4dd1fed3",
   "metadata": {},
   "outputs": [],
   "source": [
    "# path_raw_data = 'data/data_input_raw/'\n",
    "# original_cal = pd.read_csv(path_raw_data + 'calendar.csv')\n",
    "# original_sales = pd.read_csv(path_raw_data + 'sales_train_evaluation.csv')\n",
    "# original_price = pd.read_csv(path_raw_data + 'sell_prices.csv')\n",
    "\n",
    "# original_cal['d'].max() # revisar si en el dataframe original sigue reconociendo mal el máximo valor en el contador de días en formato string"
   ]
  },
  {
   "cell_type": "code",
   "execution_count": null,
   "id": "82cbff1e-d504-437c-beb2-9c35fd2a2c8d",
   "metadata": {},
   "outputs": [],
   "source": []
  },
  {
   "cell_type": "code",
   "execution_count": 30,
   "id": "7c09dde6-a394-4a2a-b857-c6f99989a5c3",
   "metadata": {},
   "outputs": [],
   "source": [
    "folder_data_raw_dtype = 'data/data_input_dtype/'\n",
    "\n",
    "df_calender = pd.read_pickle(folder_data_raw_dtype + 'calendar.pkl')\n",
    "df_prices = pd.read_pickle(folder_data_raw_dtype + 'sell_prices.pkl')\n",
    "df_sales = pd.read_pickle(folder_data_raw_dtype + 'sales_train_evaluation.pkl')\n",
    "df_sample_output = pd.read_pickle(folder_data_raw_dtype + 'sample_submission.pkl')"
   ]
  },
  {
   "cell_type": "code",
   "execution_count": 31,
   "id": "6c1a3ad7-8f1d-4d7a-a235-1e29ff2a4237",
   "metadata": {},
   "outputs": [
    {
     "data": {
      "text/html": [
       "<div>\n",
       "<style scoped>\n",
       "    .dataframe tbody tr th:only-of-type {\n",
       "        vertical-align: middle;\n",
       "    }\n",
       "\n",
       "    .dataframe tbody tr th {\n",
       "        vertical-align: top;\n",
       "    }\n",
       "\n",
       "    .dataframe thead th {\n",
       "        text-align: right;\n",
       "    }\n",
       "</style>\n",
       "<table border=\"1\" class=\"dataframe\">\n",
       "  <thead>\n",
       "    <tr style=\"text-align: right;\">\n",
       "      <th></th>\n",
       "      <th>date</th>\n",
       "      <th>wm_yr_wk</th>\n",
       "      <th>d</th>\n",
       "      <th>event_name_1</th>\n",
       "      <th>event_type_1</th>\n",
       "      <th>event_name_2</th>\n",
       "      <th>event_type_2</th>\n",
       "      <th>snap_CA</th>\n",
       "      <th>snap_TX</th>\n",
       "      <th>snap_WI</th>\n",
       "    </tr>\n",
       "  </thead>\n",
       "  <tbody>\n",
       "    <tr>\n",
       "      <th>0</th>\n",
       "      <td>2011-01-29</td>\n",
       "      <td>11101</td>\n",
       "      <td>d_1</td>\n",
       "      <td>nan</td>\n",
       "      <td>nan</td>\n",
       "      <td>nan</td>\n",
       "      <td>nan</td>\n",
       "      <td>0</td>\n",
       "      <td>0</td>\n",
       "      <td>0</td>\n",
       "    </tr>\n",
       "    <tr>\n",
       "      <th>1</th>\n",
       "      <td>2011-01-30</td>\n",
       "      <td>11101</td>\n",
       "      <td>d_2</td>\n",
       "      <td>nan</td>\n",
       "      <td>nan</td>\n",
       "      <td>nan</td>\n",
       "      <td>nan</td>\n",
       "      <td>0</td>\n",
       "      <td>0</td>\n",
       "      <td>0</td>\n",
       "    </tr>\n",
       "    <tr>\n",
       "      <th>2</th>\n",
       "      <td>2011-01-31</td>\n",
       "      <td>11101</td>\n",
       "      <td>d_3</td>\n",
       "      <td>nan</td>\n",
       "      <td>nan</td>\n",
       "      <td>nan</td>\n",
       "      <td>nan</td>\n",
       "      <td>0</td>\n",
       "      <td>0</td>\n",
       "      <td>0</td>\n",
       "    </tr>\n",
       "    <tr>\n",
       "      <th>3</th>\n",
       "      <td>2011-02-01</td>\n",
       "      <td>11101</td>\n",
       "      <td>d_4</td>\n",
       "      <td>nan</td>\n",
       "      <td>nan</td>\n",
       "      <td>nan</td>\n",
       "      <td>nan</td>\n",
       "      <td>1</td>\n",
       "      <td>1</td>\n",
       "      <td>0</td>\n",
       "    </tr>\n",
       "    <tr>\n",
       "      <th>4</th>\n",
       "      <td>2011-02-02</td>\n",
       "      <td>11101</td>\n",
       "      <td>d_5</td>\n",
       "      <td>nan</td>\n",
       "      <td>nan</td>\n",
       "      <td>nan</td>\n",
       "      <td>nan</td>\n",
       "      <td>1</td>\n",
       "      <td>0</td>\n",
       "      <td>1</td>\n",
       "    </tr>\n",
       "  </tbody>\n",
       "</table>\n",
       "</div>"
      ],
      "text/plain": [
       "        date  wm_yr_wk    d event_name_1 event_type_1 event_name_2  \\\n",
       "0 2011-01-29     11101  d_1          nan          nan          nan   \n",
       "1 2011-01-30     11101  d_2          nan          nan          nan   \n",
       "2 2011-01-31     11101  d_3          nan          nan          nan   \n",
       "3 2011-02-01     11101  d_4          nan          nan          nan   \n",
       "4 2011-02-02     11101  d_5          nan          nan          nan   \n",
       "\n",
       "  event_type_2  snap_CA  snap_TX  snap_WI  \n",
       "0          nan        0        0        0  \n",
       "1          nan        0        0        0  \n",
       "2          nan        0        0        0  \n",
       "3          nan        1        1        0  \n",
       "4          nan        1        0        1  "
      ]
     },
     "execution_count": 31,
     "metadata": {},
     "output_type": "execute_result"
    }
   ],
   "source": [
    "df_calender.head()"
   ]
  },
  {
   "cell_type": "code",
   "execution_count": 6,
   "id": "a60ca032-095d-452f-aff5-f8775e528cf6",
   "metadata": {},
   "outputs": [
    {
     "data": {
      "text/html": [
       "<div>\n",
       "<style scoped>\n",
       "    .dataframe tbody tr th:only-of-type {\n",
       "        vertical-align: middle;\n",
       "    }\n",
       "\n",
       "    .dataframe tbody tr th {\n",
       "        vertical-align: top;\n",
       "    }\n",
       "\n",
       "    .dataframe thead th {\n",
       "        text-align: right;\n",
       "    }\n",
       "</style>\n",
       "<table border=\"1\" class=\"dataframe\">\n",
       "  <thead>\n",
       "    <tr style=\"text-align: right;\">\n",
       "      <th></th>\n",
       "      <th>store_id</th>\n",
       "      <th>item_id</th>\n",
       "      <th>wm_yr_wk</th>\n",
       "      <th>sell_price</th>\n",
       "    </tr>\n",
       "  </thead>\n",
       "  <tbody>\n",
       "    <tr>\n",
       "      <th>0</th>\n",
       "      <td>CA_1</td>\n",
       "      <td>HOBBIES_1_001</td>\n",
       "      <td>11325</td>\n",
       "      <td>9.58</td>\n",
       "    </tr>\n",
       "    <tr>\n",
       "      <th>1</th>\n",
       "      <td>CA_1</td>\n",
       "      <td>HOBBIES_1_001</td>\n",
       "      <td>11326</td>\n",
       "      <td>9.58</td>\n",
       "    </tr>\n",
       "    <tr>\n",
       "      <th>2</th>\n",
       "      <td>CA_1</td>\n",
       "      <td>HOBBIES_1_001</td>\n",
       "      <td>11327</td>\n",
       "      <td>8.26</td>\n",
       "    </tr>\n",
       "    <tr>\n",
       "      <th>3</th>\n",
       "      <td>CA_1</td>\n",
       "      <td>HOBBIES_1_001</td>\n",
       "      <td>11328</td>\n",
       "      <td>8.26</td>\n",
       "    </tr>\n",
       "    <tr>\n",
       "      <th>4</th>\n",
       "      <td>CA_1</td>\n",
       "      <td>HOBBIES_1_001</td>\n",
       "      <td>11329</td>\n",
       "      <td>8.26</td>\n",
       "    </tr>\n",
       "  </tbody>\n",
       "</table>\n",
       "</div>"
      ],
      "text/plain": [
       "  store_id        item_id  wm_yr_wk  sell_price\n",
       "0     CA_1  HOBBIES_1_001     11325        9.58\n",
       "1     CA_1  HOBBIES_1_001     11326        9.58\n",
       "2     CA_1  HOBBIES_1_001     11327        8.26\n",
       "3     CA_1  HOBBIES_1_001     11328        8.26\n",
       "4     CA_1  HOBBIES_1_001     11329        8.26"
      ]
     },
     "execution_count": 6,
     "metadata": {},
     "output_type": "execute_result"
    }
   ],
   "source": [
    "df_prices.head()"
   ]
  },
  {
   "cell_type": "code",
   "execution_count": 7,
   "id": "474d846c-4acd-4986-be03-980b17682454",
   "metadata": {},
   "outputs": [
    {
     "data": {
      "text/html": [
       "<div>\n",
       "<style scoped>\n",
       "    .dataframe tbody tr th:only-of-type {\n",
       "        vertical-align: middle;\n",
       "    }\n",
       "\n",
       "    .dataframe tbody tr th {\n",
       "        vertical-align: top;\n",
       "    }\n",
       "\n",
       "    .dataframe thead th {\n",
       "        text-align: right;\n",
       "    }\n",
       "</style>\n",
       "<table border=\"1\" class=\"dataframe\">\n",
       "  <thead>\n",
       "    <tr style=\"text-align: right;\">\n",
       "      <th></th>\n",
       "      <th>id</th>\n",
       "      <th>item_id</th>\n",
       "      <th>dept_id</th>\n",
       "      <th>cat_id</th>\n",
       "      <th>store_id</th>\n",
       "      <th>state_id</th>\n",
       "      <th>d_1</th>\n",
       "      <th>d_2</th>\n",
       "      <th>d_3</th>\n",
       "      <th>d_4</th>\n",
       "      <th>...</th>\n",
       "      <th>d_1932</th>\n",
       "      <th>d_1933</th>\n",
       "      <th>d_1934</th>\n",
       "      <th>d_1935</th>\n",
       "      <th>d_1936</th>\n",
       "      <th>d_1937</th>\n",
       "      <th>d_1938</th>\n",
       "      <th>d_1939</th>\n",
       "      <th>d_1940</th>\n",
       "      <th>d_1941</th>\n",
       "    </tr>\n",
       "  </thead>\n",
       "  <tbody>\n",
       "    <tr>\n",
       "      <th>0</th>\n",
       "      <td>HOBBIES_1_001_CA_1_evaluation</td>\n",
       "      <td>HOBBIES_1_001</td>\n",
       "      <td>HOBBIES_1</td>\n",
       "      <td>HOBBIES</td>\n",
       "      <td>CA_1</td>\n",
       "      <td>CA</td>\n",
       "      <td>0.0</td>\n",
       "      <td>0.0</td>\n",
       "      <td>0.0</td>\n",
       "      <td>0.0</td>\n",
       "      <td>...</td>\n",
       "      <td>2.0</td>\n",
       "      <td>4.0</td>\n",
       "      <td>0.0</td>\n",
       "      <td>0.0</td>\n",
       "      <td>0.0</td>\n",
       "      <td>0.0</td>\n",
       "      <td>3.0</td>\n",
       "      <td>3.0</td>\n",
       "      <td>0.0</td>\n",
       "      <td>1.0</td>\n",
       "    </tr>\n",
       "    <tr>\n",
       "      <th>1</th>\n",
       "      <td>HOBBIES_1_002_CA_1_evaluation</td>\n",
       "      <td>HOBBIES_1_002</td>\n",
       "      <td>HOBBIES_1</td>\n",
       "      <td>HOBBIES</td>\n",
       "      <td>CA_1</td>\n",
       "      <td>CA</td>\n",
       "      <td>0.0</td>\n",
       "      <td>0.0</td>\n",
       "      <td>0.0</td>\n",
       "      <td>0.0</td>\n",
       "      <td>...</td>\n",
       "      <td>0.0</td>\n",
       "      <td>1.0</td>\n",
       "      <td>2.0</td>\n",
       "      <td>1.0</td>\n",
       "      <td>1.0</td>\n",
       "      <td>0.0</td>\n",
       "      <td>0.0</td>\n",
       "      <td>0.0</td>\n",
       "      <td>0.0</td>\n",
       "      <td>0.0</td>\n",
       "    </tr>\n",
       "    <tr>\n",
       "      <th>2</th>\n",
       "      <td>HOBBIES_1_003_CA_1_evaluation</td>\n",
       "      <td>HOBBIES_1_003</td>\n",
       "      <td>HOBBIES_1</td>\n",
       "      <td>HOBBIES</td>\n",
       "      <td>CA_1</td>\n",
       "      <td>CA</td>\n",
       "      <td>0.0</td>\n",
       "      <td>0.0</td>\n",
       "      <td>0.0</td>\n",
       "      <td>0.0</td>\n",
       "      <td>...</td>\n",
       "      <td>1.0</td>\n",
       "      <td>0.0</td>\n",
       "      <td>2.0</td>\n",
       "      <td>0.0</td>\n",
       "      <td>0.0</td>\n",
       "      <td>0.0</td>\n",
       "      <td>2.0</td>\n",
       "      <td>3.0</td>\n",
       "      <td>0.0</td>\n",
       "      <td>1.0</td>\n",
       "    </tr>\n",
       "    <tr>\n",
       "      <th>3</th>\n",
       "      <td>HOBBIES_1_004_CA_1_evaluation</td>\n",
       "      <td>HOBBIES_1_004</td>\n",
       "      <td>HOBBIES_1</td>\n",
       "      <td>HOBBIES</td>\n",
       "      <td>CA_1</td>\n",
       "      <td>CA</td>\n",
       "      <td>0.0</td>\n",
       "      <td>0.0</td>\n",
       "      <td>0.0</td>\n",
       "      <td>0.0</td>\n",
       "      <td>...</td>\n",
       "      <td>1.0</td>\n",
       "      <td>1.0</td>\n",
       "      <td>0.0</td>\n",
       "      <td>4.0</td>\n",
       "      <td>0.0</td>\n",
       "      <td>1.0</td>\n",
       "      <td>3.0</td>\n",
       "      <td>0.0</td>\n",
       "      <td>2.0</td>\n",
       "      <td>6.0</td>\n",
       "    </tr>\n",
       "    <tr>\n",
       "      <th>4</th>\n",
       "      <td>HOBBIES_1_005_CA_1_evaluation</td>\n",
       "      <td>HOBBIES_1_005</td>\n",
       "      <td>HOBBIES_1</td>\n",
       "      <td>HOBBIES</td>\n",
       "      <td>CA_1</td>\n",
       "      <td>CA</td>\n",
       "      <td>0.0</td>\n",
       "      <td>0.0</td>\n",
       "      <td>0.0</td>\n",
       "      <td>0.0</td>\n",
       "      <td>...</td>\n",
       "      <td>0.0</td>\n",
       "      <td>0.0</td>\n",
       "      <td>0.0</td>\n",
       "      <td>2.0</td>\n",
       "      <td>1.0</td>\n",
       "      <td>0.0</td>\n",
       "      <td>0.0</td>\n",
       "      <td>2.0</td>\n",
       "      <td>1.0</td>\n",
       "      <td>0.0</td>\n",
       "    </tr>\n",
       "  </tbody>\n",
       "</table>\n",
       "<p>5 rows × 1947 columns</p>\n",
       "</div>"
      ],
      "text/plain": [
       "                              id        item_id    dept_id   cat_id store_id  \\\n",
       "0  HOBBIES_1_001_CA_1_evaluation  HOBBIES_1_001  HOBBIES_1  HOBBIES     CA_1   \n",
       "1  HOBBIES_1_002_CA_1_evaluation  HOBBIES_1_002  HOBBIES_1  HOBBIES     CA_1   \n",
       "2  HOBBIES_1_003_CA_1_evaluation  HOBBIES_1_003  HOBBIES_1  HOBBIES     CA_1   \n",
       "3  HOBBIES_1_004_CA_1_evaluation  HOBBIES_1_004  HOBBIES_1  HOBBIES     CA_1   \n",
       "4  HOBBIES_1_005_CA_1_evaluation  HOBBIES_1_005  HOBBIES_1  HOBBIES     CA_1   \n",
       "\n",
       "  state_id  d_1  d_2  d_3  d_4  ...  d_1932  d_1933  d_1934  d_1935  d_1936  \\\n",
       "0       CA  0.0  0.0  0.0  0.0  ...     2.0     4.0     0.0     0.0     0.0   \n",
       "1       CA  0.0  0.0  0.0  0.0  ...     0.0     1.0     2.0     1.0     1.0   \n",
       "2       CA  0.0  0.0  0.0  0.0  ...     1.0     0.0     2.0     0.0     0.0   \n",
       "3       CA  0.0  0.0  0.0  0.0  ...     1.0     1.0     0.0     4.0     0.0   \n",
       "4       CA  0.0  0.0  0.0  0.0  ...     0.0     0.0     0.0     2.0     1.0   \n",
       "\n",
       "   d_1937  d_1938  d_1939  d_1940  d_1941  \n",
       "0     0.0     3.0     3.0     0.0     1.0  \n",
       "1     0.0     0.0     0.0     0.0     0.0  \n",
       "2     0.0     2.0     3.0     0.0     1.0  \n",
       "3     1.0     3.0     0.0     2.0     6.0  \n",
       "4     0.0     0.0     2.0     1.0     0.0  \n",
       "\n",
       "[5 rows x 1947 columns]"
      ]
     },
     "execution_count": 7,
     "metadata": {},
     "output_type": "execute_result"
    }
   ],
   "source": [
    "df_sales.head()"
   ]
  },
  {
   "cell_type": "code",
   "execution_count": null,
   "id": "3f843eac-cfb2-4a33-b034-ad0628e0ebc9",
   "metadata": {},
   "outputs": [],
   "source": []
  },
  {
   "cell_type": "code",
   "execution_count": null,
   "id": "32ab8ebb-d966-4d06-af64-238264260ff5",
   "metadata": {},
   "outputs": [],
   "source": []
  },
  {
   "cell_type": "markdown",
   "id": "36bc2133-8230-493a-9e00-f08daaf986fd",
   "metadata": {},
   "source": [
    "### 2. Revisar fechas de inicio y fin de cada data"
   ]
  },
  {
   "cell_type": "code",
   "execution_count": 8,
   "id": "c817dfd5-997a-45fa-82a6-04d8e7dadb75",
   "metadata": {},
   "outputs": [
    {
     "name": "stdout",
     "output_type": "stream",
     "text": [
      "start_datetime_calender:  2011-01-29 00:00:00\n",
      "end_datetime_calender:  2016-06-19 00:00:00\n",
      "shape_datetime_calender:  1969\n",
      "\n",
      "\n",
      "start_date_code_calender:  1\n",
      "end_date_code_calender:  1969\n",
      "shape_date_code_calender:  1969\n",
      "\n",
      "\n",
      "start_week_calender:  11101\n",
      "end_week_calender:  11621\n",
      "shape_week_calender:  282\n"
     ]
    }
   ],
   "source": [
    "# calender (están los días en formato datetime // en formato day d_1, d_2, d_3 // en formato semana)\n",
    "# dias formato datetime\n",
    "start_datetime_calender = df_calender['date'].min()\n",
    "end_datetime_calender = df_calender['date'].max()\n",
    "shape_datetime_calender = df_calender['date'].unique().shape[0]\n",
    "\n",
    "# dias formato categories (generar columna integer para calcular)\n",
    "# df_calender['d'].cat.categories.min()\n",
    "df_calender['d_integer'] = df_calender['d'].str.extract(r'(\\d+)', expand=False).astype(int)\n",
    "\n",
    "start_date_code_calender = df_calender['d_integer'].min()\n",
    "end_date_code_calender = df_calender['d_integer'].max()\n",
    "shape_date_code_calender = df_calender['d_integer'].shape[0]\n",
    "\n",
    "# semana y año correspondiente a ese dia\n",
    "start_week_calender = df_calender['wm_yr_wk'].min()\n",
    "end_week_calender = df_calender['wm_yr_wk'].max()\n",
    "shape_week_calender = df_calender['wm_yr_wk'].unique().shape[0]\n",
    "\n",
    "\n",
    "print('start_datetime_calender: ', start_datetime_calender)\n",
    "print('end_datetime_calender: ', end_datetime_calender)\n",
    "print('shape_datetime_calender: ', shape_datetime_calender)\n",
    "\n",
    "print('\\n')\n",
    "print('start_date_code_calender: ', start_date_code_calender)\n",
    "print('end_date_code_calender: ', end_date_code_calender)\n",
    "print('shape_date_code_calender: ', shape_date_code_calender)\n",
    "\n",
    "print('\\n')\n",
    "print('start_week_calender: ', start_week_calender)\n",
    "print('end_week_calender: ', end_week_calender)\n",
    "print('shape_week_calender: ', shape_week_calender)"
   ]
  },
  {
   "cell_type": "code",
   "execution_count": null,
   "id": "5c34f28f-665b-4094-b4c9-70c1f5ff32af",
   "metadata": {},
   "outputs": [],
   "source": []
  },
  {
   "cell_type": "code",
   "execution_count": 9,
   "id": "88a4cc93-f9ea-4c3b-9958-5d9a039a7f61",
   "metadata": {},
   "outputs": [
    {
     "name": "stdout",
     "output_type": "stream",
     "text": [
      "start_week_prices:  11101\n",
      "end_week_prices:  11621\n",
      "shape_week_prices:  282\n"
     ]
    }
   ],
   "source": [
    "# prices (los precios solo se guarda información a nivel semanal) (ESTÁ INTERESANTE TENGO QUE USAR INFO DE DIFERENTE GRANULARIDAD)\n",
    "# usar variables exógenas de una granularidad mayor (fcst diario / info exógena semanal)\n",
    "\n",
    "start_week_prices = df_prices['wm_yr_wk'].min()\n",
    "end_week_prices = df_prices['wm_yr_wk'].max()\n",
    "shape_week_prices = df_prices['wm_yr_wk'].unique().shape[0]\n",
    "\n",
    "print('start_week_prices: ', start_week_prices)\n",
    "print('end_week_prices: ', end_week_prices)\n",
    "print('shape_week_prices: ', shape_week_prices)"
   ]
  },
  {
   "cell_type": "code",
   "execution_count": null,
   "id": "7613a815-3817-4962-92c6-4d317db32671",
   "metadata": {},
   "outputs": [],
   "source": []
  },
  {
   "cell_type": "code",
   "execution_count": 10,
   "id": "a39bd21c-2b1b-4415-91b3-9e2d1c2cf702",
   "metadata": {},
   "outputs": [
    {
     "name": "stdout",
     "output_type": "stream",
     "text": [
      "start_date_code_sales:  d_1\n",
      "end_date_code_sales:  d_1941\n"
     ]
    }
   ],
   "source": [
    "# sales (df sales tiene las fechas como columnas)(además de otras columnas informativas)\n",
    "df_sales.head(3)\n",
    "\n",
    "\n",
    "start_date_code_sales = 'd_1'\n",
    "end_date_code_sales = 'd_1941'\n",
    "\n",
    "print('start_date_code_sales: ', start_date_code_sales)\n",
    "print('end_date_code_sales: ', end_date_code_sales)\n",
    "\n",
    "# AQUÍ SE PUEDE VER QUE HASTA EL DÍA 1941 HAY DATOS. LUEGO DE ESO NO HAY MÁS DATOS"
   ]
  },
  {
   "cell_type": "code",
   "execution_count": null,
   "id": "1e754af1-4522-4eb1-921e-47f0bc99fb48",
   "metadata": {},
   "outputs": [],
   "source": []
  },
  {
   "cell_type": "markdown",
   "id": "de033cbf-1b3b-433f-b74d-98dea837b869",
   "metadata": {},
   "source": [
    "**PARA ENTRENAR HAY QUE USAR 1941 DÍAS - HORIZONTE DE FORECAST PARA PODER TENER DATOS CON QUÉ COMPARAR. 1941 - 28**"
   ]
  },
  {
   "cell_type": "code",
   "execution_count": null,
   "id": "5cd2034e-37ff-4689-b717-efc14c704030",
   "metadata": {},
   "outputs": [],
   "source": []
  },
  {
   "cell_type": "code",
   "execution_count": null,
   "id": "adde0947-aa44-4336-881b-b84094d82e5c",
   "metadata": {},
   "outputs": [],
   "source": []
  },
  {
   "cell_type": "markdown",
   "id": "0b442df9-961b-4569-b317-4a912f9cc730",
   "metadata": {},
   "source": [
    "### 3. Revisar dataframe calender"
   ]
  },
  {
   "cell_type": "code",
   "execution_count": 11,
   "id": "c722ce54-ef16-4c8f-8d2a-262f42d3db15",
   "metadata": {},
   "outputs": [
    {
     "data": {
      "text/html": [
       "<div>\n",
       "<style scoped>\n",
       "    .dataframe tbody tr th:only-of-type {\n",
       "        vertical-align: middle;\n",
       "    }\n",
       "\n",
       "    .dataframe tbody tr th {\n",
       "        vertical-align: top;\n",
       "    }\n",
       "\n",
       "    .dataframe thead th {\n",
       "        text-align: right;\n",
       "    }\n",
       "</style>\n",
       "<table border=\"1\" class=\"dataframe\">\n",
       "  <thead>\n",
       "    <tr style=\"text-align: right;\">\n",
       "      <th></th>\n",
       "      <th>date</th>\n",
       "      <th>wm_yr_wk</th>\n",
       "      <th>d</th>\n",
       "      <th>event_name_1</th>\n",
       "      <th>event_type_1</th>\n",
       "      <th>event_name_2</th>\n",
       "      <th>event_type_2</th>\n",
       "      <th>snap_CA</th>\n",
       "      <th>snap_TX</th>\n",
       "      <th>snap_WI</th>\n",
       "      <th>d_integer</th>\n",
       "    </tr>\n",
       "  </thead>\n",
       "  <tbody>\n",
       "    <tr>\n",
       "      <th>0</th>\n",
       "      <td>2011-01-29</td>\n",
       "      <td>11101</td>\n",
       "      <td>d_1</td>\n",
       "      <td>nan</td>\n",
       "      <td>nan</td>\n",
       "      <td>nan</td>\n",
       "      <td>nan</td>\n",
       "      <td>0</td>\n",
       "      <td>0</td>\n",
       "      <td>0</td>\n",
       "      <td>1</td>\n",
       "    </tr>\n",
       "    <tr>\n",
       "      <th>1</th>\n",
       "      <td>2011-01-30</td>\n",
       "      <td>11101</td>\n",
       "      <td>d_2</td>\n",
       "      <td>nan</td>\n",
       "      <td>nan</td>\n",
       "      <td>nan</td>\n",
       "      <td>nan</td>\n",
       "      <td>0</td>\n",
       "      <td>0</td>\n",
       "      <td>0</td>\n",
       "      <td>2</td>\n",
       "    </tr>\n",
       "    <tr>\n",
       "      <th>2</th>\n",
       "      <td>2011-01-31</td>\n",
       "      <td>11101</td>\n",
       "      <td>d_3</td>\n",
       "      <td>nan</td>\n",
       "      <td>nan</td>\n",
       "      <td>nan</td>\n",
       "      <td>nan</td>\n",
       "      <td>0</td>\n",
       "      <td>0</td>\n",
       "      <td>0</td>\n",
       "      <td>3</td>\n",
       "    </tr>\n",
       "    <tr>\n",
       "      <th>3</th>\n",
       "      <td>2011-02-01</td>\n",
       "      <td>11101</td>\n",
       "      <td>d_4</td>\n",
       "      <td>nan</td>\n",
       "      <td>nan</td>\n",
       "      <td>nan</td>\n",
       "      <td>nan</td>\n",
       "      <td>1</td>\n",
       "      <td>1</td>\n",
       "      <td>0</td>\n",
       "      <td>4</td>\n",
       "    </tr>\n",
       "    <tr>\n",
       "      <th>4</th>\n",
       "      <td>2011-02-02</td>\n",
       "      <td>11101</td>\n",
       "      <td>d_5</td>\n",
       "      <td>nan</td>\n",
       "      <td>nan</td>\n",
       "      <td>nan</td>\n",
       "      <td>nan</td>\n",
       "      <td>1</td>\n",
       "      <td>0</td>\n",
       "      <td>1</td>\n",
       "      <td>5</td>\n",
       "    </tr>\n",
       "  </tbody>\n",
       "</table>\n",
       "</div>"
      ],
      "text/plain": [
       "        date  wm_yr_wk    d event_name_1 event_type_1 event_name_2  \\\n",
       "0 2011-01-29     11101  d_1          nan          nan          nan   \n",
       "1 2011-01-30     11101  d_2          nan          nan          nan   \n",
       "2 2011-01-31     11101  d_3          nan          nan          nan   \n",
       "3 2011-02-01     11101  d_4          nan          nan          nan   \n",
       "4 2011-02-02     11101  d_5          nan          nan          nan   \n",
       "\n",
       "  event_type_2  snap_CA  snap_TX  snap_WI  d_integer  \n",
       "0          nan        0        0        0          1  \n",
       "1          nan        0        0        0          2  \n",
       "2          nan        0        0        0          3  \n",
       "3          nan        1        1        0          4  \n",
       "4          nan        1        0        1          5  "
      ]
     },
     "execution_count": 11,
     "metadata": {},
     "output_type": "execute_result"
    }
   ],
   "source": [
    "df_calender.head()"
   ]
  },
  {
   "cell_type": "code",
   "execution_count": 12,
   "id": "77197f30-17b3-4862-89fd-2e13593702c2",
   "metadata": {},
   "outputs": [
    {
     "name": "stdout",
     "output_type": "stream",
     "text": [
      "\n",
      "event_name_1\n",
      "Index(['Chanukah End', 'Christmas', 'Cinco De Mayo', 'ColumbusDay', 'Easter',\n",
      "       'Eid al-Fitr', 'EidAlAdha', 'Father's day', 'Halloween',\n",
      "       'IndependenceDay', 'LaborDay', 'LentStart', 'LentWeek2',\n",
      "       'MartinLutherKingDay', 'MemorialDay', 'Mother's day', 'NBAFinalsEnd',\n",
      "       'NBAFinalsStart', 'NewYear', 'OrthodoxChristmas', 'OrthodoxEaster',\n",
      "       'Pesach End', 'PresidentsDay', 'Purim End', 'Ramadan starts',\n",
      "       'StPatricksDay', 'SuperBowl', 'Thanksgiving', 'ValentinesDay',\n",
      "       'VeteransDay', 'nan'],\n",
      "      dtype='object')\n",
      "\n",
      "event_type_1\n",
      "Index(['Cultural', 'National', 'Religious', 'Sporting', 'nan'], dtype='object')\n",
      "\n",
      "event_name_2\n",
      "Index(['Cinco De Mayo', 'Easter', 'Father's day', 'OrthodoxEaster', 'nan'], dtype='object')\n",
      "\n",
      "event_type_2\n",
      "Index(['Cultural', 'Religious', 'nan'], dtype='object')\n"
     ]
    }
   ],
   "source": [
    "# explorar posibles valores en las columnas asociadas a eventos\n",
    "\n",
    "list_columns_event = ['event_name_1', 'event_type_1', 'event_name_2', 'event_type_2'] # guardado para que exista la posiblidad de tener 2 eventos en un día\n",
    "\n",
    "for index_col_event in list_columns_event:\n",
    "    list_unique_values = df_calender[index_col_event].cat.categories.unique()\n",
    "    print('\\n' + index_col_event)\n",
    "    print(list_unique_values)"
   ]
  },
  {
   "cell_type": "code",
   "execution_count": null,
   "id": "a00473cf-881d-4594-b477-a280a4d54814",
   "metadata": {},
   "outputs": [],
   "source": []
  },
  {
   "cell_type": "code",
   "execution_count": 13,
   "id": "744ee06d-7e3d-4d8c-ad16-2bff824b7ec2",
   "metadata": {},
   "outputs": [
    {
     "name": "stdout",
     "output_type": "stream",
     "text": [
      "total_snap_CA:  650\n",
      "total_snap_TX:  650\n",
      "total_snap_WI:  650\n",
      "\n",
      "total_snap_ca_tx:  390\n",
      "total_snap_ca_wi:  390\n",
      "total_snap_tx_wi:  455\n",
      "total_snap_ca_tx_wi:  260\n"
     ]
    }
   ],
   "source": [
    "# revisar columnas SNAP\n",
    "# https://www.kaggle.com/code/timetraveller98/m5-snap-categorical-feature-analysis\n",
    "\n",
    "# total de snap igual a 1\n",
    "total_snap_CA = df_calender['snap_CA'].sum()\n",
    "total_snap_TX = df_calender['snap_TX'].sum()\n",
    "total_snap_WI = df_calender['snap_WI'].sum()\n",
    "\n",
    "print('total_snap_CA: ', total_snap_CA)\n",
    "print('total_snap_TX: ', total_snap_TX)\n",
    "print('total_snap_WI: ', total_snap_WI)\n",
    "\n",
    "\n",
    "# contar días en que hay 2 snap igual a 1\n",
    "mask_snap_ca_tx = (df_calender['snap_CA'] == 1) & (df_calender['snap_TX'] == 1)\n",
    "mask_snap_ca_wi = (df_calender['snap_CA'] == 1) & (df_calender['snap_WI'] == 1)\n",
    "mask_snap_tx_wi = (df_calender['snap_TX'] == 1) & (df_calender['snap_WI'] == 1)\n",
    "mask_snap_ca_tx_wi = (df_calender['snap_CA'] == 1) & (df_calender['snap_TX'] == 1) & (df_calender['snap_WI'] == 1)\n",
    "\n",
    "total_snap_ca_tx = df_calender[mask_snap_ca_tx]['snap_CA'].sum()\n",
    "total_snap_ca_wi = df_calender[mask_snap_ca_wi]['snap_CA'].sum()\n",
    "total_snap_tx_wi = df_calender[mask_snap_tx_wi]['snap_TX'].sum()\n",
    "total_snap_ca_tx_wi = df_calender[mask_snap_ca_tx_wi]['snap_CA'].sum()\n",
    "\n",
    "print('\\ntotal_snap_ca_tx: ', total_snap_ca_tx)\n",
    "print('total_snap_ca_wi: ', total_snap_ca_wi)\n",
    "print('total_snap_tx_wi: ', total_snap_tx_wi)\n",
    "print('total_snap_ca_tx_wi: ', total_snap_ca_tx_wi)"
   ]
  },
  {
   "cell_type": "code",
   "execution_count": null,
   "id": "af86fcd3-3290-4cad-af8e-7244d98dd245",
   "metadata": {},
   "outputs": [],
   "source": [
    "\n"
   ]
  },
  {
   "cell_type": "code",
   "execution_count": null,
   "id": "d0533f16-5658-4d54-8bc2-07ace3306956",
   "metadata": {},
   "outputs": [],
   "source": []
  },
  {
   "cell_type": "markdown",
   "id": "b02077f9-0e88-4148-ac24-44037274bc66",
   "metadata": {},
   "source": [
    "### 4. Revisar dataframe prices"
   ]
  },
  {
   "cell_type": "code",
   "execution_count": 14,
   "id": "6343ef44-2921-4308-af1a-effcb8201674",
   "metadata": {},
   "outputs": [
    {
     "data": {
      "text/html": [
       "<div>\n",
       "<style scoped>\n",
       "    .dataframe tbody tr th:only-of-type {\n",
       "        vertical-align: middle;\n",
       "    }\n",
       "\n",
       "    .dataframe tbody tr th {\n",
       "        vertical-align: top;\n",
       "    }\n",
       "\n",
       "    .dataframe thead th {\n",
       "        text-align: right;\n",
       "    }\n",
       "</style>\n",
       "<table border=\"1\" class=\"dataframe\">\n",
       "  <thead>\n",
       "    <tr style=\"text-align: right;\">\n",
       "      <th></th>\n",
       "      <th>store_id</th>\n",
       "      <th>item_id</th>\n",
       "      <th>wm_yr_wk</th>\n",
       "      <th>sell_price</th>\n",
       "    </tr>\n",
       "  </thead>\n",
       "  <tbody>\n",
       "    <tr>\n",
       "      <th>0</th>\n",
       "      <td>CA_1</td>\n",
       "      <td>HOBBIES_1_001</td>\n",
       "      <td>11325</td>\n",
       "      <td>9.58</td>\n",
       "    </tr>\n",
       "    <tr>\n",
       "      <th>1</th>\n",
       "      <td>CA_1</td>\n",
       "      <td>HOBBIES_1_001</td>\n",
       "      <td>11326</td>\n",
       "      <td>9.58</td>\n",
       "    </tr>\n",
       "    <tr>\n",
       "      <th>2</th>\n",
       "      <td>CA_1</td>\n",
       "      <td>HOBBIES_1_001</td>\n",
       "      <td>11327</td>\n",
       "      <td>8.26</td>\n",
       "    </tr>\n",
       "    <tr>\n",
       "      <th>3</th>\n",
       "      <td>CA_1</td>\n",
       "      <td>HOBBIES_1_001</td>\n",
       "      <td>11328</td>\n",
       "      <td>8.26</td>\n",
       "    </tr>\n",
       "    <tr>\n",
       "      <th>4</th>\n",
       "      <td>CA_1</td>\n",
       "      <td>HOBBIES_1_001</td>\n",
       "      <td>11329</td>\n",
       "      <td>8.26</td>\n",
       "    </tr>\n",
       "  </tbody>\n",
       "</table>\n",
       "</div>"
      ],
      "text/plain": [
       "  store_id        item_id  wm_yr_wk  sell_price\n",
       "0     CA_1  HOBBIES_1_001     11325        9.58\n",
       "1     CA_1  HOBBIES_1_001     11326        9.58\n",
       "2     CA_1  HOBBIES_1_001     11327        8.26\n",
       "3     CA_1  HOBBIES_1_001     11328        8.26\n",
       "4     CA_1  HOBBIES_1_001     11329        8.26"
      ]
     },
     "execution_count": 14,
     "metadata": {},
     "output_type": "execute_result"
    }
   ],
   "source": [
    "df_prices.head()"
   ]
  },
  {
   "cell_type": "code",
   "execution_count": 15,
   "id": "283c1ecf-90ac-4644-8396-3a0f754e0b87",
   "metadata": {},
   "outputs": [
    {
     "name": "stdout",
     "output_type": "stream",
     "text": [
      "shape_unique_store_id:  10\n",
      "\n",
      "list_unique_store_id:  Index(['CA_1', 'CA_2', 'CA_3', 'CA_4', 'TX_1', 'TX_2', 'TX_3', 'WI_1', 'WI_2',\n",
      "       'WI_3'],\n",
      "      dtype='object')\n"
     ]
    }
   ],
   "source": [
    "# store id unicos (en total son 10)\n",
    "shape_unique_store_id = df_prices['store_id'].cat.categories.unique().shape[0]\n",
    "list_unique_store_id = df_prices['store_id'].cat.categories.unique()\n",
    "\n",
    "print('shape_unique_store_id: ', shape_unique_store_id)\n",
    "print('\\nlist_unique_store_id: ', list_unique_store_id)"
   ]
  },
  {
   "cell_type": "code",
   "execution_count": 16,
   "id": "377aaf75-909b-4853-afb0-84bb72c59497",
   "metadata": {},
   "outputs": [
    {
     "name": "stdout",
     "output_type": "stream",
     "text": [
      "shape_unique_item_id:  3049\n",
      "\n",
      "list_unique_item_id:  Index(['HOBBIES_1_001', 'HOBBIES_1_002', 'HOBBIES_1_003', 'HOBBIES_1_004',\n",
      "       'HOBBIES_1_005', 'HOBBIES_1_006', 'HOBBIES_1_007', 'HOBBIES_1_008',\n",
      "       'HOBBIES_1_009', 'HOBBIES_1_010',\n",
      "       ...\n",
      "       'FOODS_3_818', 'FOODS_3_819', 'FOODS_3_820', 'FOODS_3_821',\n",
      "       'FOODS_3_822', 'FOODS_3_823', 'FOODS_3_824', 'FOODS_3_825',\n",
      "       'FOODS_3_826', 'FOODS_3_827'],\n",
      "      dtype='object', length=3049)\n"
     ]
    }
   ],
   "source": [
    "# revisar item_id unicos ()\n",
    "shape_unique_item_id = df_prices['item_id'].cat.categories.unique().shape[0]\n",
    "list_unique_item_id = df_prices['item_id'].cat.categories.unique()\n",
    "\n",
    "print('shape_unique_item_id: ', shape_unique_item_id)\n",
    "print('\\nlist_unique_item_id: ', list_unique_item_id)"
   ]
  },
  {
   "cell_type": "markdown",
   "id": "ef21d2d2-8b91-4a87-9f3f-a215d7f2a3ca",
   "metadata": {},
   "source": [
    "**recordar que sell_price está a nivel semanal. ADEMÁS el precio está POR PRODUCTO Y POR TIENDA (item_id - store_id)**"
   ]
  },
  {
   "cell_type": "code",
   "execution_count": null,
   "id": "b5409d1b-74e2-4ff8-a2f1-0e3d908bc173",
   "metadata": {},
   "outputs": [],
   "source": []
  },
  {
   "cell_type": "code",
   "execution_count": 17,
   "id": "6615b090-26c6-4035-ac75-1c4d50e61ffd",
   "metadata": {},
   "outputs": [
    {
     "data": {
      "text/plain": [
       "item_id\n",
       "FOODS_1_178        2820\n",
       "FOODS_3_692        2820\n",
       "HOUSEHOLD_1_129    2820\n",
       "FOODS_1_172        2820\n",
       "FOODS_1_174        2820\n",
       "                   ... \n",
       "HOUSEHOLD_1_308     642\n",
       "HOUSEHOLD_1_159     623\n",
       "HOUSEHOLD_1_242     600\n",
       "FOODS_3_296         592\n",
       "FOODS_2_379         530\n",
       "Name: count, Length: 3049, dtype: int64"
      ]
     },
     "execution_count": 17,
     "metadata": {},
     "output_type": "execute_result"
    }
   ],
   "source": [
    "# print cuantas observaciones hay de cada item_id\n",
    "df_prices['item_id'].value_counts()"
   ]
  },
  {
   "cell_type": "code",
   "execution_count": null,
   "id": "7a18ff78-d2dd-4c57-a79f-e49ae65177ee",
   "metadata": {},
   "outputs": [],
   "source": []
  },
  {
   "cell_type": "markdown",
   "id": "53cf0bce-ff4a-4d80-af78-6b39c61958e8",
   "metadata": {},
   "source": [
    "### 5. Revisar dataframe con ventas - series a forecastear"
   ]
  },
  {
   "cell_type": "code",
   "execution_count": 18,
   "id": "456956ca-20d6-42b3-b785-e7c68e43c921",
   "metadata": {},
   "outputs": [
    {
     "data": {
      "text/html": [
       "<div>\n",
       "<style scoped>\n",
       "    .dataframe tbody tr th:only-of-type {\n",
       "        vertical-align: middle;\n",
       "    }\n",
       "\n",
       "    .dataframe tbody tr th {\n",
       "        vertical-align: top;\n",
       "    }\n",
       "\n",
       "    .dataframe thead th {\n",
       "        text-align: right;\n",
       "    }\n",
       "</style>\n",
       "<table border=\"1\" class=\"dataframe\">\n",
       "  <thead>\n",
       "    <tr style=\"text-align: right;\">\n",
       "      <th></th>\n",
       "      <th>id</th>\n",
       "      <th>item_id</th>\n",
       "      <th>dept_id</th>\n",
       "      <th>cat_id</th>\n",
       "      <th>store_id</th>\n",
       "      <th>state_id</th>\n",
       "      <th>d_1</th>\n",
       "      <th>d_2</th>\n",
       "      <th>d_3</th>\n",
       "      <th>d_4</th>\n",
       "      <th>...</th>\n",
       "      <th>d_1932</th>\n",
       "      <th>d_1933</th>\n",
       "      <th>d_1934</th>\n",
       "      <th>d_1935</th>\n",
       "      <th>d_1936</th>\n",
       "      <th>d_1937</th>\n",
       "      <th>d_1938</th>\n",
       "      <th>d_1939</th>\n",
       "      <th>d_1940</th>\n",
       "      <th>d_1941</th>\n",
       "    </tr>\n",
       "  </thead>\n",
       "  <tbody>\n",
       "    <tr>\n",
       "      <th>0</th>\n",
       "      <td>HOBBIES_1_001_CA_1_evaluation</td>\n",
       "      <td>HOBBIES_1_001</td>\n",
       "      <td>HOBBIES_1</td>\n",
       "      <td>HOBBIES</td>\n",
       "      <td>CA_1</td>\n",
       "      <td>CA</td>\n",
       "      <td>0.0</td>\n",
       "      <td>0.0</td>\n",
       "      <td>0.0</td>\n",
       "      <td>0.0</td>\n",
       "      <td>...</td>\n",
       "      <td>2.0</td>\n",
       "      <td>4.0</td>\n",
       "      <td>0.0</td>\n",
       "      <td>0.0</td>\n",
       "      <td>0.0</td>\n",
       "      <td>0.0</td>\n",
       "      <td>3.0</td>\n",
       "      <td>3.0</td>\n",
       "      <td>0.0</td>\n",
       "      <td>1.0</td>\n",
       "    </tr>\n",
       "    <tr>\n",
       "      <th>1</th>\n",
       "      <td>HOBBIES_1_002_CA_1_evaluation</td>\n",
       "      <td>HOBBIES_1_002</td>\n",
       "      <td>HOBBIES_1</td>\n",
       "      <td>HOBBIES</td>\n",
       "      <td>CA_1</td>\n",
       "      <td>CA</td>\n",
       "      <td>0.0</td>\n",
       "      <td>0.0</td>\n",
       "      <td>0.0</td>\n",
       "      <td>0.0</td>\n",
       "      <td>...</td>\n",
       "      <td>0.0</td>\n",
       "      <td>1.0</td>\n",
       "      <td>2.0</td>\n",
       "      <td>1.0</td>\n",
       "      <td>1.0</td>\n",
       "      <td>0.0</td>\n",
       "      <td>0.0</td>\n",
       "      <td>0.0</td>\n",
       "      <td>0.0</td>\n",
       "      <td>0.0</td>\n",
       "    </tr>\n",
       "    <tr>\n",
       "      <th>2</th>\n",
       "      <td>HOBBIES_1_003_CA_1_evaluation</td>\n",
       "      <td>HOBBIES_1_003</td>\n",
       "      <td>HOBBIES_1</td>\n",
       "      <td>HOBBIES</td>\n",
       "      <td>CA_1</td>\n",
       "      <td>CA</td>\n",
       "      <td>0.0</td>\n",
       "      <td>0.0</td>\n",
       "      <td>0.0</td>\n",
       "      <td>0.0</td>\n",
       "      <td>...</td>\n",
       "      <td>1.0</td>\n",
       "      <td>0.0</td>\n",
       "      <td>2.0</td>\n",
       "      <td>0.0</td>\n",
       "      <td>0.0</td>\n",
       "      <td>0.0</td>\n",
       "      <td>2.0</td>\n",
       "      <td>3.0</td>\n",
       "      <td>0.0</td>\n",
       "      <td>1.0</td>\n",
       "    </tr>\n",
       "  </tbody>\n",
       "</table>\n",
       "<p>3 rows × 1947 columns</p>\n",
       "</div>"
      ],
      "text/plain": [
       "                              id        item_id    dept_id   cat_id store_id  \\\n",
       "0  HOBBIES_1_001_CA_1_evaluation  HOBBIES_1_001  HOBBIES_1  HOBBIES     CA_1   \n",
       "1  HOBBIES_1_002_CA_1_evaluation  HOBBIES_1_002  HOBBIES_1  HOBBIES     CA_1   \n",
       "2  HOBBIES_1_003_CA_1_evaluation  HOBBIES_1_003  HOBBIES_1  HOBBIES     CA_1   \n",
       "\n",
       "  state_id  d_1  d_2  d_3  d_4  ...  d_1932  d_1933  d_1934  d_1935  d_1936  \\\n",
       "0       CA  0.0  0.0  0.0  0.0  ...     2.0     4.0     0.0     0.0     0.0   \n",
       "1       CA  0.0  0.0  0.0  0.0  ...     0.0     1.0     2.0     1.0     1.0   \n",
       "2       CA  0.0  0.0  0.0  0.0  ...     1.0     0.0     2.0     0.0     0.0   \n",
       "\n",
       "   d_1937  d_1938  d_1939  d_1940  d_1941  \n",
       "0     0.0     3.0     3.0     0.0     1.0  \n",
       "1     0.0     0.0     0.0     0.0     0.0  \n",
       "2     0.0     2.0     3.0     0.0     1.0  \n",
       "\n",
       "[3 rows x 1947 columns]"
      ]
     },
     "execution_count": 18,
     "metadata": {},
     "output_type": "execute_result"
    }
   ],
   "source": [
    "df_sales.head(3)"
   ]
  },
  {
   "cell_type": "code",
   "execution_count": 19,
   "id": "12c6eb55-8035-4873-8372-25d63152bb5b",
   "metadata": {},
   "outputs": [
    {
     "name": "stdout",
     "output_type": "stream",
     "text": [
      "shape_unique_item_id:  3049\n",
      "\n",
      "list_unique_item_id:  Index(['HOBBIES_1_001', 'HOBBIES_1_002', 'HOBBIES_1_003', 'HOBBIES_1_004',\n",
      "       'HOBBIES_1_005', 'HOBBIES_1_006', 'HOBBIES_1_007', 'HOBBIES_1_008',\n",
      "       'HOBBIES_1_009', 'HOBBIES_1_010',\n",
      "       ...\n",
      "       'FOODS_3_818', 'FOODS_3_819', 'FOODS_3_820', 'FOODS_3_821',\n",
      "       'FOODS_3_822', 'FOODS_3_823', 'FOODS_3_824', 'FOODS_3_825',\n",
      "       'FOODS_3_826', 'FOODS_3_827'],\n",
      "      dtype='object', length=3049)\n"
     ]
    }
   ],
   "source": [
    "# revisar \"item_id\" unicos\n",
    "shape_unique_item_id = df_sales['item_id'].cat.categories.unique().shape[0]\n",
    "list_unique_item_id = df_sales['item_id'].cat.categories.unique()\n",
    "\n",
    "print('shape_unique_item_id: ', shape_unique_item_id)\n",
    "print('\\nlist_unique_item_id: ', list_unique_item_id)"
   ]
  },
  {
   "cell_type": "code",
   "execution_count": 20,
   "id": "f9823200-0c46-422a-9a23-2b4481d87827",
   "metadata": {},
   "outputs": [
    {
     "name": "stdout",
     "output_type": "stream",
     "text": [
      "shape_unique_store_id:  10\n",
      "\n",
      "list_unique_store_id:  Index(['CA_1', 'CA_2', 'CA_3', 'CA_4', 'TX_1', 'TX_2', 'TX_3', 'WI_1', 'WI_2',\n",
      "       'WI_3'],\n",
      "      dtype='object')\n"
     ]
    }
   ],
   "source": [
    "# revisar \"store_id\" unicos\n",
    "shape_unique_store_id = df_sales['store_id'].cat.categories.unique().shape[0]\n",
    "list_unique_store_id = df_sales['store_id'].cat.categories.unique()\n",
    "\n",
    "print('shape_unique_store_id: ', shape_unique_store_id)\n",
    "print('\\nlist_unique_store_id: ', list_unique_store_id)"
   ]
  },
  {
   "cell_type": "code",
   "execution_count": null,
   "id": "5ee52f58-d94e-4f56-87be-a47e63d20a3d",
   "metadata": {},
   "outputs": [],
   "source": []
  },
  {
   "cell_type": "markdown",
   "id": "3ae485d5-139a-46e5-931f-7d85de9482b9",
   "metadata": {},
   "source": [
    "**se puede ver que existe una columna \"id\" el cual se construye a partir de las columnas \"item_id\" y \"store_id\" (las mismas columnas mencionadas en el dataframe con los precios)**\n",
    "\n",
    "valores únicos de cada producto en cada tienda"
   ]
  },
  {
   "cell_type": "code",
   "execution_count": 21,
   "id": "978d9372-2bc4-48b1-8781-dce502a8343c",
   "metadata": {},
   "outputs": [
    {
     "name": "stdout",
     "output_type": "stream",
     "text": [
      "shape_unique_id:  30490\n",
      "\n",
      "list_unique_id:  Index(['HOBBIES_1_001_CA_1_evaluation', 'HOBBIES_1_002_CA_1_evaluation',\n",
      "       'HOBBIES_1_003_CA_1_evaluation', 'HOBBIES_1_004_CA_1_evaluation',\n",
      "       'HOBBIES_1_005_CA_1_evaluation', 'HOBBIES_1_006_CA_1_evaluation',\n",
      "       'HOBBIES_1_007_CA_1_evaluation', 'HOBBIES_1_008_CA_1_evaluation',\n",
      "       'HOBBIES_1_009_CA_1_evaluation', 'HOBBIES_1_010_CA_1_evaluation',\n",
      "       ...\n",
      "       'FOODS_3_818_WI_3_evaluation', 'FOODS_3_819_WI_3_evaluation',\n",
      "       'FOODS_3_820_WI_3_evaluation', 'FOODS_3_821_WI_3_evaluation',\n",
      "       'FOODS_3_822_WI_3_evaluation', 'FOODS_3_823_WI_3_evaluation',\n",
      "       'FOODS_3_824_WI_3_evaluation', 'FOODS_3_825_WI_3_evaluation',\n",
      "       'FOODS_3_826_WI_3_evaluation', 'FOODS_3_827_WI_3_evaluation'],\n",
      "      dtype='object', length=30490)\n",
      "\n",
      "calculo multiplicar productos unicos por tienda:  30490\n"
     ]
    }
   ],
   "source": [
    "# revisar cantidad de \"id\" unicos\n",
    "shape_unique_id = df_sales['id'].cat.categories.unique().shape[0]\n",
    "list_unique_id = df_sales['id'].cat.categories.unique()\n",
    "\n",
    "print('shape_unique_id: ', shape_unique_id)\n",
    "print('\\nlist_unique_id: ', list_unique_id)\n",
    "\n",
    "print('\\ncalculo multiplicar productos unicos por tienda: ', shape_unique_item_id * shape_unique_store_id)"
   ]
  },
  {
   "cell_type": "markdown",
   "id": "82aedd88-4fb8-4976-b8e2-75251d3494c5",
   "metadata": {},
   "source": [
    "**SE PUEDE VER QUE EN TOTAL HAY 30K DE SERIES A FORECASTEAR (30490)**"
   ]
  },
  {
   "cell_type": "code",
   "execution_count": null,
   "id": "289ee051-79f2-4b49-89bf-646ee0d682fc",
   "metadata": {},
   "outputs": [],
   "source": []
  },
  {
   "cell_type": "code",
   "execution_count": null,
   "id": "a11e1074-7af3-4fc3-8dd2-a1c28ff26cad",
   "metadata": {},
   "outputs": [],
   "source": []
  },
  {
   "cell_type": "code",
   "execution_count": 22,
   "id": "f184fe15-8234-44bf-9c1b-5aa661070fe4",
   "metadata": {},
   "outputs": [
    {
     "name": "stdout",
     "output_type": "stream",
     "text": [
      "shape_unique_dept_id:  7\n",
      "\n",
      "list_unique_dept_id:  Index(['HOBBIES_1', 'HOBBIES_2', 'HOUSEHOLD_1', 'HOUSEHOLD_2', 'FOODS_1',\n",
      "       'FOODS_2', 'FOODS_3'],\n",
      "      dtype='object')\n"
     ]
    }
   ],
   "source": [
    "# revisar \"dept_id\" unicos. podría ser usada como variable exógena\n",
    "shape_unique_dept_id = df_sales['dept_id'].cat.categories.unique().shape[0]\n",
    "list_unique_dept_id = df_sales['dept_id'].cat.categories.unique()\n",
    "\n",
    "print('shape_unique_dept_id: ', shape_unique_dept_id)\n",
    "print('\\nlist_unique_dept_id: ', list_unique_dept_id)"
   ]
  },
  {
   "cell_type": "code",
   "execution_count": 23,
   "id": "676ec9cf-bc6b-4804-afb3-442e78eed0c8",
   "metadata": {},
   "outputs": [
    {
     "name": "stdout",
     "output_type": "stream",
     "text": [
      "shape_unique_cat_id:  3\n",
      "\n",
      "list_unique_cat_id:  Index(['HOBBIES', 'HOUSEHOLD', 'FOODS'], dtype='object')\n"
     ]
    }
   ],
   "source": [
    "# revisar \"cat_id\" unicos. podría ser usada como variable exógena\n",
    "shape_unique_cat_id = df_sales['cat_id'].cat.categories.unique().shape[0]\n",
    "list_unique_cat_id = df_sales['cat_id'].cat.categories.unique()\n",
    "\n",
    "print('shape_unique_cat_id: ', shape_unique_cat_id)\n",
    "print('\\nlist_unique_cat_id: ', list_unique_cat_id)"
   ]
  },
  {
   "cell_type": "code",
   "execution_count": 24,
   "id": "9d5d326c-b175-4502-9282-37f67899c8ef",
   "metadata": {},
   "outputs": [
    {
     "name": "stdout",
     "output_type": "stream",
     "text": [
      "shape_unique_state_id:  3\n",
      "\n",
      "list_unique_state_id:  Index(['CA', 'TX', 'WI'], dtype='object')\n"
     ]
    }
   ],
   "source": [
    "# revisar \"state_id\" unicos. podría ser usada como variable exógena\n",
    "shape_unique_state_id = df_sales['state_id'].cat.categories.unique().shape[0]\n",
    "list_unique_state_id = df_sales['state_id'].cat.categories.unique()\n",
    "\n",
    "print('shape_unique_state_id: ', shape_unique_state_id)\n",
    "print('\\nlist_unique_state_id: ', list_unique_state_id)"
   ]
  },
  {
   "cell_type": "code",
   "execution_count": null,
   "id": "8e8ee787-4851-4bed-8015-818c5f1734aa",
   "metadata": {},
   "outputs": [],
   "source": []
  },
  {
   "cell_type": "markdown",
   "id": "a0bca093-376c-453e-8657-f58fe6f124e3",
   "metadata": {},
   "source": [
    "### 6. Revisar sample output"
   ]
  },
  {
   "cell_type": "code",
   "execution_count": 25,
   "id": "c49f4e29-6e71-4658-a184-b82eeccdcb07",
   "metadata": {},
   "outputs": [
    {
     "data": {
      "text/html": [
       "<div>\n",
       "<style scoped>\n",
       "    .dataframe tbody tr th:only-of-type {\n",
       "        vertical-align: middle;\n",
       "    }\n",
       "\n",
       "    .dataframe tbody tr th {\n",
       "        vertical-align: top;\n",
       "    }\n",
       "\n",
       "    .dataframe thead th {\n",
       "        text-align: right;\n",
       "    }\n",
       "</style>\n",
       "<table border=\"1\" class=\"dataframe\">\n",
       "  <thead>\n",
       "    <tr style=\"text-align: right;\">\n",
       "      <th></th>\n",
       "      <th>id</th>\n",
       "      <th>F1</th>\n",
       "      <th>F2</th>\n",
       "      <th>F3</th>\n",
       "      <th>F4</th>\n",
       "      <th>F5</th>\n",
       "      <th>F6</th>\n",
       "      <th>F7</th>\n",
       "      <th>F8</th>\n",
       "      <th>F9</th>\n",
       "      <th>...</th>\n",
       "      <th>F19</th>\n",
       "      <th>F20</th>\n",
       "      <th>F21</th>\n",
       "      <th>F22</th>\n",
       "      <th>F23</th>\n",
       "      <th>F24</th>\n",
       "      <th>F25</th>\n",
       "      <th>F26</th>\n",
       "      <th>F27</th>\n",
       "      <th>F28</th>\n",
       "    </tr>\n",
       "  </thead>\n",
       "  <tbody>\n",
       "    <tr>\n",
       "      <th>0</th>\n",
       "      <td>HOBBIES_1_001_CA_1_validation</td>\n",
       "      <td>0</td>\n",
       "      <td>0</td>\n",
       "      <td>0</td>\n",
       "      <td>0</td>\n",
       "      <td>0</td>\n",
       "      <td>0</td>\n",
       "      <td>0</td>\n",
       "      <td>0</td>\n",
       "      <td>0</td>\n",
       "      <td>...</td>\n",
       "      <td>0</td>\n",
       "      <td>0</td>\n",
       "      <td>0</td>\n",
       "      <td>0</td>\n",
       "      <td>0</td>\n",
       "      <td>0</td>\n",
       "      <td>0</td>\n",
       "      <td>0</td>\n",
       "      <td>0</td>\n",
       "      <td>0</td>\n",
       "    </tr>\n",
       "    <tr>\n",
       "      <th>1</th>\n",
       "      <td>HOBBIES_1_002_CA_1_validation</td>\n",
       "      <td>0</td>\n",
       "      <td>0</td>\n",
       "      <td>0</td>\n",
       "      <td>0</td>\n",
       "      <td>0</td>\n",
       "      <td>0</td>\n",
       "      <td>0</td>\n",
       "      <td>0</td>\n",
       "      <td>0</td>\n",
       "      <td>...</td>\n",
       "      <td>0</td>\n",
       "      <td>0</td>\n",
       "      <td>0</td>\n",
       "      <td>0</td>\n",
       "      <td>0</td>\n",
       "      <td>0</td>\n",
       "      <td>0</td>\n",
       "      <td>0</td>\n",
       "      <td>0</td>\n",
       "      <td>0</td>\n",
       "    </tr>\n",
       "    <tr>\n",
       "      <th>2</th>\n",
       "      <td>HOBBIES_1_003_CA_1_validation</td>\n",
       "      <td>0</td>\n",
       "      <td>0</td>\n",
       "      <td>0</td>\n",
       "      <td>0</td>\n",
       "      <td>0</td>\n",
       "      <td>0</td>\n",
       "      <td>0</td>\n",
       "      <td>0</td>\n",
       "      <td>0</td>\n",
       "      <td>...</td>\n",
       "      <td>0</td>\n",
       "      <td>0</td>\n",
       "      <td>0</td>\n",
       "      <td>0</td>\n",
       "      <td>0</td>\n",
       "      <td>0</td>\n",
       "      <td>0</td>\n",
       "      <td>0</td>\n",
       "      <td>0</td>\n",
       "      <td>0</td>\n",
       "    </tr>\n",
       "    <tr>\n",
       "      <th>3</th>\n",
       "      <td>HOBBIES_1_004_CA_1_validation</td>\n",
       "      <td>0</td>\n",
       "      <td>0</td>\n",
       "      <td>0</td>\n",
       "      <td>0</td>\n",
       "      <td>0</td>\n",
       "      <td>0</td>\n",
       "      <td>0</td>\n",
       "      <td>0</td>\n",
       "      <td>0</td>\n",
       "      <td>...</td>\n",
       "      <td>0</td>\n",
       "      <td>0</td>\n",
       "      <td>0</td>\n",
       "      <td>0</td>\n",
       "      <td>0</td>\n",
       "      <td>0</td>\n",
       "      <td>0</td>\n",
       "      <td>0</td>\n",
       "      <td>0</td>\n",
       "      <td>0</td>\n",
       "    </tr>\n",
       "    <tr>\n",
       "      <th>4</th>\n",
       "      <td>HOBBIES_1_005_CA_1_validation</td>\n",
       "      <td>0</td>\n",
       "      <td>0</td>\n",
       "      <td>0</td>\n",
       "      <td>0</td>\n",
       "      <td>0</td>\n",
       "      <td>0</td>\n",
       "      <td>0</td>\n",
       "      <td>0</td>\n",
       "      <td>0</td>\n",
       "      <td>...</td>\n",
       "      <td>0</td>\n",
       "      <td>0</td>\n",
       "      <td>0</td>\n",
       "      <td>0</td>\n",
       "      <td>0</td>\n",
       "      <td>0</td>\n",
       "      <td>0</td>\n",
       "      <td>0</td>\n",
       "      <td>0</td>\n",
       "      <td>0</td>\n",
       "    </tr>\n",
       "  </tbody>\n",
       "</table>\n",
       "<p>5 rows × 29 columns</p>\n",
       "</div>"
      ],
      "text/plain": [
       "                              id  F1  F2  F3  F4  F5  F6  F7  F8  F9  ...  \\\n",
       "0  HOBBIES_1_001_CA_1_validation   0   0   0   0   0   0   0   0   0  ...   \n",
       "1  HOBBIES_1_002_CA_1_validation   0   0   0   0   0   0   0   0   0  ...   \n",
       "2  HOBBIES_1_003_CA_1_validation   0   0   0   0   0   0   0   0   0  ...   \n",
       "3  HOBBIES_1_004_CA_1_validation   0   0   0   0   0   0   0   0   0  ...   \n",
       "4  HOBBIES_1_005_CA_1_validation   0   0   0   0   0   0   0   0   0  ...   \n",
       "\n",
       "   F19  F20  F21  F22  F23  F24  F25  F26  F27  F28  \n",
       "0    0    0    0    0    0    0    0    0    0    0  \n",
       "1    0    0    0    0    0    0    0    0    0    0  \n",
       "2    0    0    0    0    0    0    0    0    0    0  \n",
       "3    0    0    0    0    0    0    0    0    0    0  \n",
       "4    0    0    0    0    0    0    0    0    0    0  \n",
       "\n",
       "[5 rows x 29 columns]"
      ]
     },
     "execution_count": 25,
     "metadata": {},
     "output_type": "execute_result"
    }
   ],
   "source": [
    "df_sample_output.head()"
   ]
  },
  {
   "cell_type": "code",
   "execution_count": 26,
   "id": "89e7e140-9d66-473d-9174-8fff69bf7834",
   "metadata": {},
   "outputs": [
    {
     "name": "stdout",
     "output_type": "stream",
     "text": [
      "shape_unique_id:  60980\n",
      "\n",
      "list_unique_id:  ['HOBBIES_1_001_CA_1_validation' 'HOBBIES_1_002_CA_1_validation'\n",
      " 'HOBBIES_1_003_CA_1_validation' ... 'FOODS_3_825_WI_3_evaluation'\n",
      " 'FOODS_3_826_WI_3_evaluation' 'FOODS_3_827_WI_3_evaluation']\n"
     ]
    }
   ],
   "source": [
    "# revisar todas las series únicas que se identifican\n",
    "shape_unique_id = df_sample_output['id'].unique().shape[0]\n",
    "list_unique_id = df_sample_output['id'].unique()\n",
    "\n",
    "print('shape_unique_id: ', shape_unique_id)\n",
    "print('\\nlist_unique_id: ', list_unique_id)"
   ]
  },
  {
   "cell_type": "code",
   "execution_count": 27,
   "id": "d1ca449f-3274-41e7-9d12-c92704eccf25",
   "metadata": {},
   "outputs": [
    {
     "data": {
      "text/plain": [
       "30490.0"
      ]
     },
     "execution_count": 27,
     "metadata": {},
     "output_type": "execute_result"
    }
   ],
   "source": [
    "shape_unique_id / 2"
   ]
  },
  {
   "cell_type": "markdown",
   "id": "0c141716-a644-41cc-8430-d8bc6629987c",
   "metadata": {},
   "source": [
    "**SE PUEDE VER QUE EL FORMATO DE OUTPUT HAY 2 ENTREGABLES, FORECAST DEL PRIMER MES QUE SE CONOCEN EL TRUE Y SE UTILIZA PARA VER QUÉ TAN BUENO ES EL MODELO. Y EL SEGUNDO MES ERA EL TRUE DESCONOCIDO QUE SE USABA PARA GENERAR EL RANKING PUBLICO**"
   ]
  },
  {
   "cell_type": "code",
   "execution_count": 28,
   "id": "7c323e35-9ee3-485a-8dc9-363bca2819b4",
   "metadata": {},
   "outputs": [],
   "source": [
    "# El resultado es consistente, hay 30490 series"
   ]
  },
  {
   "cell_type": "code",
   "execution_count": 29,
   "id": "7b238596-6e6a-4993-ba92-2dd07d692609",
   "metadata": {},
   "outputs": [],
   "source": [
    "# ahora falta ver, de estas series cuantos son nulos, rellenar con zeros asumiendo que no hubo ventas esos días y ver \n",
    "# cuando comienza cada serie"
   ]
  },
  {
   "cell_type": "code",
   "execution_count": null,
   "id": "361e24e2-0722-4bec-a53f-b19b1ed6b993",
   "metadata": {},
   "outputs": [],
   "source": []
  }
 ],
 "metadata": {
  "kernelspec": {
   "display_name": "Python 3 (ipykernel)",
   "language": "python",
   "name": "python3"
  },
  "language_info": {
   "codemirror_mode": {
    "name": "ipython",
    "version": 3
   },
   "file_extension": ".py",
   "mimetype": "text/x-python",
   "name": "python",
   "nbconvert_exporter": "python",
   "pygments_lexer": "ipython3",
   "version": "3.11.7"
  }
 },
 "nbformat": 4,
 "nbformat_minor": 5
}
