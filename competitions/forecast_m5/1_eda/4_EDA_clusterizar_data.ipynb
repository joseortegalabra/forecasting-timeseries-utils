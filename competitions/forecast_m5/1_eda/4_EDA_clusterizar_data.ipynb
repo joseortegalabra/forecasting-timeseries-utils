{
 "cells": [
  {
   "cell_type": "markdown",
   "id": "32286dc4-ff54-410d-85c8-b74568e75958",
   "metadata": {},
   "source": [
    "## DISCOVERY EDA CLUSTERIZAR DATA\n",
    "- El objetivo es poder identificar qué series son similares entre sí. Se probó utilizar correlaciones pero al ser 30k de datos el código se demora demasiado (y generaría una matriz de 30k x 30k). así que se prefiere utilizar un enfoque de clustering, sampleo para poder agrupar las series de forma más rápida"
   ]
  },
  {
   "cell_type": "code",
   "execution_count": 1,
   "id": "f975c4f8-3f12-4217-9abc-fc4edb99f58b",
   "metadata": {},
   "outputs": [
    {
     "name": "stdout",
     "output_type": "stream",
     "text": [
      "root path:  /Users/joseortega/Documents/GitHub/forecasting-m5-dataset\n"
     ]
    }
   ],
   "source": [
    "import os\n",
    "# set path root of repo\n",
    "actual_path = os.path.abspath(os.getcwd())\n",
    "list_root_path = actual_path.split('/')[:-1]\n",
    "root_path = '/'.join(list_root_path)\n",
    "os.chdir(root_path)\n",
    "print('root path: ', root_path)"
   ]
  },
  {
   "cell_type": "code",
   "execution_count": 2,
   "id": "50dfa1f4-fb9f-40a9-85fd-8ab2ca4f4e14",
   "metadata": {},
   "outputs": [],
   "source": [
    "import numpy as np\n",
    "import pandas as pd\n",
    "import matplotlib.pyplot as plt\n",
    "\n",
    "from scipy.stats import skew, kurtosis, variation\n",
    "from sklearn.preprocessing import StandardScaler\n",
    "from sklearn.preprocessing import MinMaxScaler\n",
    "\n",
    "from sklearn.cluster import KMeans\n",
    "from sklearn.decomposition import PCA\n",
    "from sklearn.metrics import silhouette_score\n",
    "from sklearn.metrics import calinski_harabasz_score"
   ]
  },
  {
   "cell_type": "code",
   "execution_count": null,
   "id": "03b14d2f-ef63-4173-9aa9-e7578045d420",
   "metadata": {},
   "outputs": [],
   "source": []
  },
  {
   "cell_type": "markdown",
   "id": "e3ee49aa-7102-4650-8483-5d69d246f97f",
   "metadata": {},
   "source": [
    "### 1. Read raw files"
   ]
  },
  {
   "cell_type": "code",
   "execution_count": 33,
   "id": "c56b4943-5c80-4cb6-8e98-a8bf2d6f1492",
   "metadata": {},
   "outputs": [],
   "source": [
    "folder_data_raw_dtype = 'data/data_input_dtype/'\n",
    "\n",
    "df_calender = pd.read_pickle(folder_data_raw_dtype + 'calendar.pkl')\n",
    "df_prices = pd.read_pickle(folder_data_raw_dtype + 'sell_prices.pkl')\n",
    "df_sales = pd.read_pickle(folder_data_raw_dtype + 'sales_train_evaluation.pkl')\n",
    "df_sample_output = pd.read_pickle(folder_data_raw_dtype + 'sample_submission.pkl')"
   ]
  },
  {
   "cell_type": "code",
   "execution_count": 4,
   "id": "31e3cd26-af6c-497a-b3f2-c0849b8d5ced",
   "metadata": {},
   "outputs": [
    {
     "data": {
      "text/html": [
       "<div>\n",
       "<style scoped>\n",
       "    .dataframe tbody tr th:only-of-type {\n",
       "        vertical-align: middle;\n",
       "    }\n",
       "\n",
       "    .dataframe tbody tr th {\n",
       "        vertical-align: top;\n",
       "    }\n",
       "\n",
       "    .dataframe thead th {\n",
       "        text-align: right;\n",
       "    }\n",
       "</style>\n",
       "<table border=\"1\" class=\"dataframe\">\n",
       "  <thead>\n",
       "    <tr style=\"text-align: right;\">\n",
       "      <th></th>\n",
       "      <th>id</th>\n",
       "      <th>item_id</th>\n",
       "      <th>dept_id</th>\n",
       "      <th>cat_id</th>\n",
       "      <th>store_id</th>\n",
       "      <th>state_id</th>\n",
       "      <th>d_1</th>\n",
       "      <th>d_2</th>\n",
       "      <th>d_3</th>\n",
       "      <th>d_4</th>\n",
       "      <th>...</th>\n",
       "      <th>d_1932</th>\n",
       "      <th>d_1933</th>\n",
       "      <th>d_1934</th>\n",
       "      <th>d_1935</th>\n",
       "      <th>d_1936</th>\n",
       "      <th>d_1937</th>\n",
       "      <th>d_1938</th>\n",
       "      <th>d_1939</th>\n",
       "      <th>d_1940</th>\n",
       "      <th>d_1941</th>\n",
       "    </tr>\n",
       "  </thead>\n",
       "  <tbody>\n",
       "    <tr>\n",
       "      <th>0</th>\n",
       "      <td>HOBBIES_1_001_CA_1_evaluation</td>\n",
       "      <td>HOBBIES_1_001</td>\n",
       "      <td>HOBBIES_1</td>\n",
       "      <td>HOBBIES</td>\n",
       "      <td>CA_1</td>\n",
       "      <td>CA</td>\n",
       "      <td>0.0</td>\n",
       "      <td>0.0</td>\n",
       "      <td>0.0</td>\n",
       "      <td>0.0</td>\n",
       "      <td>...</td>\n",
       "      <td>2.0</td>\n",
       "      <td>4.0</td>\n",
       "      <td>0.0</td>\n",
       "      <td>0.0</td>\n",
       "      <td>0.0</td>\n",
       "      <td>0.0</td>\n",
       "      <td>3.0</td>\n",
       "      <td>3.0</td>\n",
       "      <td>0.0</td>\n",
       "      <td>1.0</td>\n",
       "    </tr>\n",
       "    <tr>\n",
       "      <th>1</th>\n",
       "      <td>HOBBIES_1_002_CA_1_evaluation</td>\n",
       "      <td>HOBBIES_1_002</td>\n",
       "      <td>HOBBIES_1</td>\n",
       "      <td>HOBBIES</td>\n",
       "      <td>CA_1</td>\n",
       "      <td>CA</td>\n",
       "      <td>0.0</td>\n",
       "      <td>0.0</td>\n",
       "      <td>0.0</td>\n",
       "      <td>0.0</td>\n",
       "      <td>...</td>\n",
       "      <td>0.0</td>\n",
       "      <td>1.0</td>\n",
       "      <td>2.0</td>\n",
       "      <td>1.0</td>\n",
       "      <td>1.0</td>\n",
       "      <td>0.0</td>\n",
       "      <td>0.0</td>\n",
       "      <td>0.0</td>\n",
       "      <td>0.0</td>\n",
       "      <td>0.0</td>\n",
       "    </tr>\n",
       "    <tr>\n",
       "      <th>2</th>\n",
       "      <td>HOBBIES_1_003_CA_1_evaluation</td>\n",
       "      <td>HOBBIES_1_003</td>\n",
       "      <td>HOBBIES_1</td>\n",
       "      <td>HOBBIES</td>\n",
       "      <td>CA_1</td>\n",
       "      <td>CA</td>\n",
       "      <td>0.0</td>\n",
       "      <td>0.0</td>\n",
       "      <td>0.0</td>\n",
       "      <td>0.0</td>\n",
       "      <td>...</td>\n",
       "      <td>1.0</td>\n",
       "      <td>0.0</td>\n",
       "      <td>2.0</td>\n",
       "      <td>0.0</td>\n",
       "      <td>0.0</td>\n",
       "      <td>0.0</td>\n",
       "      <td>2.0</td>\n",
       "      <td>3.0</td>\n",
       "      <td>0.0</td>\n",
       "      <td>1.0</td>\n",
       "    </tr>\n",
       "    <tr>\n",
       "      <th>3</th>\n",
       "      <td>HOBBIES_1_004_CA_1_evaluation</td>\n",
       "      <td>HOBBIES_1_004</td>\n",
       "      <td>HOBBIES_1</td>\n",
       "      <td>HOBBIES</td>\n",
       "      <td>CA_1</td>\n",
       "      <td>CA</td>\n",
       "      <td>0.0</td>\n",
       "      <td>0.0</td>\n",
       "      <td>0.0</td>\n",
       "      <td>0.0</td>\n",
       "      <td>...</td>\n",
       "      <td>1.0</td>\n",
       "      <td>1.0</td>\n",
       "      <td>0.0</td>\n",
       "      <td>4.0</td>\n",
       "      <td>0.0</td>\n",
       "      <td>1.0</td>\n",
       "      <td>3.0</td>\n",
       "      <td>0.0</td>\n",
       "      <td>2.0</td>\n",
       "      <td>6.0</td>\n",
       "    </tr>\n",
       "    <tr>\n",
       "      <th>4</th>\n",
       "      <td>HOBBIES_1_005_CA_1_evaluation</td>\n",
       "      <td>HOBBIES_1_005</td>\n",
       "      <td>HOBBIES_1</td>\n",
       "      <td>HOBBIES</td>\n",
       "      <td>CA_1</td>\n",
       "      <td>CA</td>\n",
       "      <td>0.0</td>\n",
       "      <td>0.0</td>\n",
       "      <td>0.0</td>\n",
       "      <td>0.0</td>\n",
       "      <td>...</td>\n",
       "      <td>0.0</td>\n",
       "      <td>0.0</td>\n",
       "      <td>0.0</td>\n",
       "      <td>2.0</td>\n",
       "      <td>1.0</td>\n",
       "      <td>0.0</td>\n",
       "      <td>0.0</td>\n",
       "      <td>2.0</td>\n",
       "      <td>1.0</td>\n",
       "      <td>0.0</td>\n",
       "    </tr>\n",
       "  </tbody>\n",
       "</table>\n",
       "<p>5 rows × 1947 columns</p>\n",
       "</div>"
      ],
      "text/plain": [
       "                              id        item_id    dept_id   cat_id store_id  \\\n",
       "0  HOBBIES_1_001_CA_1_evaluation  HOBBIES_1_001  HOBBIES_1  HOBBIES     CA_1   \n",
       "1  HOBBIES_1_002_CA_1_evaluation  HOBBIES_1_002  HOBBIES_1  HOBBIES     CA_1   \n",
       "2  HOBBIES_1_003_CA_1_evaluation  HOBBIES_1_003  HOBBIES_1  HOBBIES     CA_1   \n",
       "3  HOBBIES_1_004_CA_1_evaluation  HOBBIES_1_004  HOBBIES_1  HOBBIES     CA_1   \n",
       "4  HOBBIES_1_005_CA_1_evaluation  HOBBIES_1_005  HOBBIES_1  HOBBIES     CA_1   \n",
       "\n",
       "  state_id  d_1  d_2  d_3  d_4  ...  d_1932  d_1933  d_1934  d_1935  d_1936  \\\n",
       "0       CA  0.0  0.0  0.0  0.0  ...     2.0     4.0     0.0     0.0     0.0   \n",
       "1       CA  0.0  0.0  0.0  0.0  ...     0.0     1.0     2.0     1.0     1.0   \n",
       "2       CA  0.0  0.0  0.0  0.0  ...     1.0     0.0     2.0     0.0     0.0   \n",
       "3       CA  0.0  0.0  0.0  0.0  ...     1.0     1.0     0.0     4.0     0.0   \n",
       "4       CA  0.0  0.0  0.0  0.0  ...     0.0     0.0     0.0     2.0     1.0   \n",
       "\n",
       "   d_1937  d_1938  d_1939  d_1940  d_1941  \n",
       "0     0.0     3.0     3.0     0.0     1.0  \n",
       "1     0.0     0.0     0.0     0.0     0.0  \n",
       "2     0.0     2.0     3.0     0.0     1.0  \n",
       "3     1.0     3.0     0.0     2.0     6.0  \n",
       "4     0.0     0.0     2.0     1.0     0.0  \n",
       "\n",
       "[5 rows x 1947 columns]"
      ]
     },
     "execution_count": 4,
     "metadata": {},
     "output_type": "execute_result"
    }
   ],
   "source": [
    "df_sales.head()"
   ]
  },
  {
   "cell_type": "code",
   "execution_count": 5,
   "id": "589e0a0e-33f4-4969-aff1-cfb1d589ed25",
   "metadata": {},
   "outputs": [
    {
     "data": {
      "text/plain": [
       "(30490, 1947)"
      ]
     },
     "execution_count": 5,
     "metadata": {},
     "output_type": "execute_result"
    }
   ],
   "source": [
    "df_sales.shape"
   ]
  },
  {
   "cell_type": "code",
   "execution_count": null,
   "id": "ffcd480f-1f31-435a-9983-1b5d64e8ad80",
   "metadata": {},
   "outputs": [],
   "source": []
  },
  {
   "cell_type": "markdown",
   "id": "749bf9e2-49e8-465f-bf7b-428ed83aa159",
   "metadata": {},
   "source": [
    "### 2. Eliminar columnas no utilizadas para tener dataframe solo con las series"
   ]
  },
  {
   "cell_type": "code",
   "execution_count": 6,
   "id": "3d458ab1-8478-4c1f-8ea0-af0b086ea03e",
   "metadata": {},
   "outputs": [],
   "source": [
    "# eliminar columnas no utilizadas\n",
    "df_sales = df_sales.drop(columns = ['item_id', 'dept_id', 'cat_id', 'store_id', 'state_id'])\n",
    "df_sales = df_sales.set_index('id')\n",
    "\n",
    "# transformar todas las columnas que están en formato string a float\n",
    "# data[data.select_dtypes(include=['object']).columns] = data.select_dtypes(include=['object']).apply(pd.to_numeric, errors='coerce')"
   ]
  },
  {
   "cell_type": "code",
   "execution_count": 7,
   "id": "e7d5bb01-6b11-4836-86f2-d38f4ea7e3b3",
   "metadata": {},
   "outputs": [
    {
     "data": {
      "text/html": [
       "<div>\n",
       "<style scoped>\n",
       "    .dataframe tbody tr th:only-of-type {\n",
       "        vertical-align: middle;\n",
       "    }\n",
       "\n",
       "    .dataframe tbody tr th {\n",
       "        vertical-align: top;\n",
       "    }\n",
       "\n",
       "    .dataframe thead th {\n",
       "        text-align: right;\n",
       "    }\n",
       "</style>\n",
       "<table border=\"1\" class=\"dataframe\">\n",
       "  <thead>\n",
       "    <tr style=\"text-align: right;\">\n",
       "      <th></th>\n",
       "      <th>d_1</th>\n",
       "      <th>d_2</th>\n",
       "      <th>d_3</th>\n",
       "      <th>d_4</th>\n",
       "      <th>d_5</th>\n",
       "      <th>d_6</th>\n",
       "      <th>d_7</th>\n",
       "      <th>d_8</th>\n",
       "      <th>d_9</th>\n",
       "      <th>d_10</th>\n",
       "      <th>...</th>\n",
       "      <th>d_1932</th>\n",
       "      <th>d_1933</th>\n",
       "      <th>d_1934</th>\n",
       "      <th>d_1935</th>\n",
       "      <th>d_1936</th>\n",
       "      <th>d_1937</th>\n",
       "      <th>d_1938</th>\n",
       "      <th>d_1939</th>\n",
       "      <th>d_1940</th>\n",
       "      <th>d_1941</th>\n",
       "    </tr>\n",
       "    <tr>\n",
       "      <th>id</th>\n",
       "      <th></th>\n",
       "      <th></th>\n",
       "      <th></th>\n",
       "      <th></th>\n",
       "      <th></th>\n",
       "      <th></th>\n",
       "      <th></th>\n",
       "      <th></th>\n",
       "      <th></th>\n",
       "      <th></th>\n",
       "      <th></th>\n",
       "      <th></th>\n",
       "      <th></th>\n",
       "      <th></th>\n",
       "      <th></th>\n",
       "      <th></th>\n",
       "      <th></th>\n",
       "      <th></th>\n",
       "      <th></th>\n",
       "      <th></th>\n",
       "      <th></th>\n",
       "    </tr>\n",
       "  </thead>\n",
       "  <tbody>\n",
       "    <tr>\n",
       "      <th>HOBBIES_1_001_CA_1_evaluation</th>\n",
       "      <td>0.0</td>\n",
       "      <td>0.0</td>\n",
       "      <td>0.0</td>\n",
       "      <td>0.0</td>\n",
       "      <td>0.0</td>\n",
       "      <td>0.0</td>\n",
       "      <td>0.0</td>\n",
       "      <td>0.0</td>\n",
       "      <td>0.0</td>\n",
       "      <td>0.0</td>\n",
       "      <td>...</td>\n",
       "      <td>2.0</td>\n",
       "      <td>4.0</td>\n",
       "      <td>0.0</td>\n",
       "      <td>0.0</td>\n",
       "      <td>0.0</td>\n",
       "      <td>0.0</td>\n",
       "      <td>3.0</td>\n",
       "      <td>3.0</td>\n",
       "      <td>0.0</td>\n",
       "      <td>1.0</td>\n",
       "    </tr>\n",
       "    <tr>\n",
       "      <th>HOBBIES_1_002_CA_1_evaluation</th>\n",
       "      <td>0.0</td>\n",
       "      <td>0.0</td>\n",
       "      <td>0.0</td>\n",
       "      <td>0.0</td>\n",
       "      <td>0.0</td>\n",
       "      <td>0.0</td>\n",
       "      <td>0.0</td>\n",
       "      <td>0.0</td>\n",
       "      <td>0.0</td>\n",
       "      <td>0.0</td>\n",
       "      <td>...</td>\n",
       "      <td>0.0</td>\n",
       "      <td>1.0</td>\n",
       "      <td>2.0</td>\n",
       "      <td>1.0</td>\n",
       "      <td>1.0</td>\n",
       "      <td>0.0</td>\n",
       "      <td>0.0</td>\n",
       "      <td>0.0</td>\n",
       "      <td>0.0</td>\n",
       "      <td>0.0</td>\n",
       "    </tr>\n",
       "    <tr>\n",
       "      <th>HOBBIES_1_003_CA_1_evaluation</th>\n",
       "      <td>0.0</td>\n",
       "      <td>0.0</td>\n",
       "      <td>0.0</td>\n",
       "      <td>0.0</td>\n",
       "      <td>0.0</td>\n",
       "      <td>0.0</td>\n",
       "      <td>0.0</td>\n",
       "      <td>0.0</td>\n",
       "      <td>0.0</td>\n",
       "      <td>0.0</td>\n",
       "      <td>...</td>\n",
       "      <td>1.0</td>\n",
       "      <td>0.0</td>\n",
       "      <td>2.0</td>\n",
       "      <td>0.0</td>\n",
       "      <td>0.0</td>\n",
       "      <td>0.0</td>\n",
       "      <td>2.0</td>\n",
       "      <td>3.0</td>\n",
       "      <td>0.0</td>\n",
       "      <td>1.0</td>\n",
       "    </tr>\n",
       "  </tbody>\n",
       "</table>\n",
       "<p>3 rows × 1941 columns</p>\n",
       "</div>"
      ],
      "text/plain": [
       "                               d_1  d_2  d_3  d_4  d_5  d_6  d_7  d_8  d_9  \\\n",
       "id                                                                           \n",
       "HOBBIES_1_001_CA_1_evaluation  0.0  0.0  0.0  0.0  0.0  0.0  0.0  0.0  0.0   \n",
       "HOBBIES_1_002_CA_1_evaluation  0.0  0.0  0.0  0.0  0.0  0.0  0.0  0.0  0.0   \n",
       "HOBBIES_1_003_CA_1_evaluation  0.0  0.0  0.0  0.0  0.0  0.0  0.0  0.0  0.0   \n",
       "\n",
       "                               d_10  ...  d_1932  d_1933  d_1934  d_1935  \\\n",
       "id                                   ...                                   \n",
       "HOBBIES_1_001_CA_1_evaluation   0.0  ...     2.0     4.0     0.0     0.0   \n",
       "HOBBIES_1_002_CA_1_evaluation   0.0  ...     0.0     1.0     2.0     1.0   \n",
       "HOBBIES_1_003_CA_1_evaluation   0.0  ...     1.0     0.0     2.0     0.0   \n",
       "\n",
       "                               d_1936  d_1937  d_1938  d_1939  d_1940  d_1941  \n",
       "id                                                                             \n",
       "HOBBIES_1_001_CA_1_evaluation     0.0     0.0     3.0     3.0     0.0     1.0  \n",
       "HOBBIES_1_002_CA_1_evaluation     1.0     0.0     0.0     0.0     0.0     0.0  \n",
       "HOBBIES_1_003_CA_1_evaluation     0.0     0.0     2.0     3.0     0.0     1.0  \n",
       "\n",
       "[3 rows x 1941 columns]"
      ]
     },
     "execution_count": 7,
     "metadata": {},
     "output_type": "execute_result"
    }
   ],
   "source": [
    "# EL DATAFRAME ESTÁ ORDENADO PARA QUE CADA FILA (CADA OBSERVACIÓN) REPRESENTE UNA SERIE DE TIEMPO Y PODER HACER CLUSTERING\n",
    "df_sales.head(3)"
   ]
  },
  {
   "cell_type": "code",
   "execution_count": null,
   "id": "5005438a-f4db-4c47-abe2-6c7e1878eacb",
   "metadata": {},
   "outputs": [],
   "source": []
  },
  {
   "cell_type": "markdown",
   "id": "16264470-657c-40da-89f0-0fb9bf24f3ee",
   "metadata": {},
   "source": [
    "### 3. Calcular estadísticos para cada serie\n",
    "Calcular media, desviacion estandar, min, max, etc"
   ]
  },
  {
   "cell_type": "code",
   "execution_count": 8,
   "id": "5234f10c-f9c1-4ad1-9eb6-4e0ae0f689f2",
   "metadata": {},
   "outputs": [],
   "source": [
    "# crear df donde guardar estadísticos\n",
    "estadisticos_series = pd.DataFrame(df_sales.index)"
   ]
  },
  {
   "cell_type": "code",
   "execution_count": 9,
   "id": "378eeb8d-bdf5-4fa2-910f-69adfdb7c464",
   "metadata": {},
   "outputs": [],
   "source": [
    "# calcular estadisticos básicos\n",
    "estadisticos_series['mean'] = df_sales.mean(axis = 1).values\n",
    "estadisticos_series['std'] = df_sales.std(axis = 1).values\n",
    "estadisticos_series['min'] = df_sales.min(axis = 1).values\n",
    "estadisticos_series['max'] = df_sales.max(axis = 1).values\n",
    "\n",
    "# calcular estadisticos skew, curtosis, coeficiente variacion (sicpy funciones necesitan data traspuesta)\n",
    "estadisticos_series['skew'] = skew(df_sales.T)\n",
    "estadisticos_series['kurtosis'] = kurtosis(df_sales.T)\n",
    "estadisticos_series['variation'] = variation(df_sales.T)\n",
    "\n",
    "# hay varias veces que no hay ventas. valor cero. calcular estadísticos sin considerar esas series\n",
    "df_dales_zero_null = df_sales.replace(0, np.nan)\n",
    "\n",
    "estadisticos_series['mean_no_zeros'] = df_dales_zero_null.mean(axis = 1).values\n",
    "estadisticos_series['std_no_zeros'] = df_dales_zero_null.std(axis = 1).values\n",
    "estadisticos_series['min_no_zeros'] = df_dales_zero_null.min(axis = 1).values\n",
    "\n",
    "# setear indice\n",
    "estadisticos_series = estadisticos_series.set_index('id')"
   ]
  },
  {
   "cell_type": "code",
   "execution_count": 10,
   "id": "2ada32e4-e0cd-4511-8a7f-f7918b65baf7",
   "metadata": {},
   "outputs": [
    {
     "data": {
      "text/html": [
       "<div>\n",
       "<style scoped>\n",
       "    .dataframe tbody tr th:only-of-type {\n",
       "        vertical-align: middle;\n",
       "    }\n",
       "\n",
       "    .dataframe tbody tr th {\n",
       "        vertical-align: top;\n",
       "    }\n",
       "\n",
       "    .dataframe thead th {\n",
       "        text-align: right;\n",
       "    }\n",
       "</style>\n",
       "<table border=\"1\" class=\"dataframe\">\n",
       "  <thead>\n",
       "    <tr style=\"text-align: right;\">\n",
       "      <th></th>\n",
       "      <th>mean</th>\n",
       "      <th>std</th>\n",
       "      <th>min</th>\n",
       "      <th>max</th>\n",
       "      <th>skew</th>\n",
       "      <th>kurtosis</th>\n",
       "      <th>variation</th>\n",
       "      <th>mean_no_zeros</th>\n",
       "      <th>std_no_zeros</th>\n",
       "      <th>min_no_zeros</th>\n",
       "    </tr>\n",
       "    <tr>\n",
       "      <th>id</th>\n",
       "      <th></th>\n",
       "      <th></th>\n",
       "      <th></th>\n",
       "      <th></th>\n",
       "      <th></th>\n",
       "      <th></th>\n",
       "      <th></th>\n",
       "      <th></th>\n",
       "      <th></th>\n",
       "      <th></th>\n",
       "    </tr>\n",
       "  </thead>\n",
       "  <tbody>\n",
       "    <tr>\n",
       "      <th>HOBBIES_1_001_CA_1_evaluation</th>\n",
       "      <td>0.326121</td>\n",
       "      <td>0.708043</td>\n",
       "      <td>0.0</td>\n",
       "      <td>5.0</td>\n",
       "      <td>2.672921</td>\n",
       "      <td>8.368169</td>\n",
       "      <td>2.170549</td>\n",
       "      <td>1.451835</td>\n",
       "      <td>0.773094</td>\n",
       "      <td>1.0</td>\n",
       "    </tr>\n",
       "    <tr>\n",
       "      <th>HOBBIES_1_002_CA_1_evaluation</th>\n",
       "      <td>0.257599</td>\n",
       "      <td>0.568590</td>\n",
       "      <td>0.0</td>\n",
       "      <td>5.0</td>\n",
       "      <td>2.894973</td>\n",
       "      <td>11.675778</td>\n",
       "      <td>2.206697</td>\n",
       "      <td>1.225490</td>\n",
       "      <td>0.593276</td>\n",
       "      <td>1.0</td>\n",
       "    </tr>\n",
       "    <tr>\n",
       "      <th>HOBBIES_1_003_CA_1_evaluation</th>\n",
       "      <td>0.159196</td>\n",
       "      <td>0.501445</td>\n",
       "      <td>0.0</td>\n",
       "      <td>6.0</td>\n",
       "      <td>4.278133</td>\n",
       "      <td>24.989683</td>\n",
       "      <td>3.149041</td>\n",
       "      <td>1.349345</td>\n",
       "      <td>0.725635</td>\n",
       "      <td>1.0</td>\n",
       "    </tr>\n",
       "  </tbody>\n",
       "</table>\n",
       "</div>"
      ],
      "text/plain": [
       "                                   mean       std  min  max      skew  \\\n",
       "id                                                                      \n",
       "HOBBIES_1_001_CA_1_evaluation  0.326121  0.708043  0.0  5.0  2.672921   \n",
       "HOBBIES_1_002_CA_1_evaluation  0.257599  0.568590  0.0  5.0  2.894973   \n",
       "HOBBIES_1_003_CA_1_evaluation  0.159196  0.501445  0.0  6.0  4.278133   \n",
       "\n",
       "                                kurtosis  variation  mean_no_zeros  \\\n",
       "id                                                                   \n",
       "HOBBIES_1_001_CA_1_evaluation   8.368169   2.170549       1.451835   \n",
       "HOBBIES_1_002_CA_1_evaluation  11.675778   2.206697       1.225490   \n",
       "HOBBIES_1_003_CA_1_evaluation  24.989683   3.149041       1.349345   \n",
       "\n",
       "                               std_no_zeros  min_no_zeros  \n",
       "id                                                         \n",
       "HOBBIES_1_001_CA_1_evaluation      0.773094           1.0  \n",
       "HOBBIES_1_002_CA_1_evaluation      0.593276           1.0  \n",
       "HOBBIES_1_003_CA_1_evaluation      0.725635           1.0  "
      ]
     },
     "execution_count": 10,
     "metadata": {},
     "output_type": "execute_result"
    }
   ],
   "source": [
    "estadisticos_series.head(3)"
   ]
  },
  {
   "cell_type": "code",
   "execution_count": null,
   "id": "27bb054a-5e10-4333-92a0-5e85f7982f1d",
   "metadata": {},
   "outputs": [],
   "source": []
  },
  {
   "cell_type": "markdown",
   "id": "81d49306-6ba5-4053-8997-ec7aed6fd023",
   "metadata": {},
   "source": [
    "### 4. Normalizar los datos"
   ]
  },
  {
   "cell_type": "code",
   "execution_count": 11,
   "id": "d13dfc99-cdd8-4e02-a1a1-cb70360b9cef",
   "metadata": {},
   "outputs": [],
   "source": [
    "# escalar los datos\n",
    "scaler_data = MinMaxScaler() # StandardScaler()\n",
    "df_sales_scaled = scaler_data.fit_transform(df_sales)\n",
    "\n",
    "# escalar los estadisticos\n",
    "scaler_estadisticos = MinMaxScaler() # StandardScaler()\n",
    "estadisticos_series_scaled = scaler_estadisticos.fit_transform(estadisticos_series)"
   ]
  },
  {
   "cell_type": "code",
   "execution_count": 12,
   "id": "684626fc-aee9-4535-b363-08265cde7e11",
   "metadata": {},
   "outputs": [
    {
     "data": {
      "text/plain": [
       "(30490, 1941)"
      ]
     },
     "execution_count": 12,
     "metadata": {},
     "output_type": "execute_result"
    }
   ],
   "source": [
    "df_sales_scaled.shape"
   ]
  },
  {
   "cell_type": "code",
   "execution_count": 13,
   "id": "fdeaafe1-4798-4894-806a-fe6d82fd4a8f",
   "metadata": {},
   "outputs": [
    {
     "data": {
      "text/plain": [
       "(30490, 10)"
      ]
     },
     "execution_count": 13,
     "metadata": {},
     "output_type": "execute_result"
    }
   ],
   "source": [
    "estadisticos_series_scaled.shape"
   ]
  },
  {
   "cell_type": "code",
   "execution_count": null,
   "id": "c0f428c0-e242-4dd1-9671-e47419f640d6",
   "metadata": {},
   "outputs": [],
   "source": []
  },
  {
   "cell_type": "markdown",
   "id": "ffd55a9a-43de-4ba3-886c-d69770e03401",
   "metadata": {},
   "source": [
    "### 5. Reducir dimensionalidad de las series. Evitar maldicion de dimensionalidad al hacer clustering\n",
    "Cada serie tiene 1900 observaciones. Entonces cada observación tiene 1900 features lo cual es mucho"
   ]
  },
  {
   "cell_type": "code",
   "execution_count": 14,
   "id": "14ebddc3-e79e-4539-b662-b1d2ace4d92c",
   "metadata": {},
   "outputs": [],
   "source": [
    "def calculate_pca(df, threshold):\n",
    "    \"\"\"\n",
    "    Dado un dataframe con la data lista para usar (ya escalada) se procede a calcular múltiples reducciones de dimensionalidad\n",
    "    con diferente cantidad de componentes para elegir la cantidad óptima\n",
    "    \n",
    "    Args\n",
    "        df (DataFrame): Dataframe de la forma (series, timestamp) donde cada fila es una serie.\n",
    "        threshold (float): threshold de variabilidad explicada por PCA para decidir cantidad de dimensiones de PCA\n",
    "\n",
    "    Return\n",
    "        output_dicc_pca (diccionario): Diccionario donde se guardan resultados de entrenamiento PCA históricos\n",
    "        pca (model): output con el modelo entrenado que cumple condición de variabilidad explicada\n",
    "    \"\"\"\n",
    "\n",
    "    # output del entrenamiento\n",
    "    output_dicc_pca = {}\n",
    "    \n",
    "    # definir cantidad máxima de componentes a probar. en base a la cantidad de features en los datos (reducir mínimo a un 10% las fechas)\n",
    "    max_n_components = int(df.shape[1] / 10)\n",
    "    \n",
    "    # calcular PCA para el rango de componentes definidos. terminar ejecución si se cumple la condición de variabilidad explicada\n",
    "    for n_components in range(5, max_n_components):\n",
    "        \n",
    "        if n_components % 10 == 0:\n",
    "            print('pca con dimensión: ', n_components)\n",
    "        \n",
    "        # definir modelo y reducir componentes\n",
    "        pca = PCA(n_components = n_components)\n",
    "        df_pca = pca.fit_transform(df)\n",
    "        \n",
    "        # obtener la varianza acumulada y el índice de la número de componente que supera el threshold de varianza explicada\n",
    "        explained_variance = pca.explained_variance_ratio_\n",
    "        cumulative_variance = np.cumsum(explained_variance)\n",
    "        c_over_threshold = np.argmax(cumulative_variance >= threshold) + 1\n",
    "        \n",
    "        # guardar en un diccionario. n_componentes, array varianza acumulada, índice de componente que supera el threshold de varianza\n",
    "        aux_one_output_dicc_pca = {}\n",
    "        aux_one_output_dicc_pca['n_components'] = n_components\n",
    "        aux_one_output_dicc_pca['cumulative_variance'] = cumulative_variance\n",
    "        aux_one_output_dicc_pca['c_over_threshold'] = c_over_threshold # index componente que supera criterio variabilidad\n",
    "        output_dicc_pca[n_components] = aux_one_output_dicc_pca\n",
    "    \n",
    "        # en PCA se puede aumentar la cantidad de dimensiones pero la varianza explicada de las dimensiones intermedias se debería mantener cercana \n",
    "        # si se cumple la condición del threshold terminar el for\n",
    "        if aux_one_output_dicc_pca['c_over_threshold'] != 1:\n",
    "            print('Cantidad de dimensiones PCA: ', n_components)\n",
    "            print('Cantidad de dimensiones que cumplen criterio variabilidad explicada: ', c_over_threshold)\n",
    "            break\n",
    "    \n",
    "    return output_dicc_pca, pca"
   ]
  },
  {
   "cell_type": "code",
   "execution_count": 15,
   "id": "cb31bb07-41b8-401b-9a8b-5fe341f8b104",
   "metadata": {},
   "outputs": [
    {
     "name": "stdout",
     "output_type": "stream",
     "text": [
      "pca con dimensión:  10\n",
      "Cantidad de dimensiones PCA:  18\n",
      "Cantidad de dimensiones que cumplen criterio variabilidad explicada:  18\n"
     ]
    }
   ],
   "source": [
    "# obtener mejor modelo PCA\n",
    "output_dicc_pca, pca_model = calculate_pca(df = df_sales_scaled, \n",
    "                                           threshold = 0.7)"
   ]
  },
  {
   "cell_type": "code",
   "execution_count": 16,
   "id": "9565d6bb-b2a3-4a78-9130-62ea2a515cf7",
   "metadata": {},
   "outputs": [],
   "source": [
    "# obtener datos reducido dimensionalidad\n",
    "df_sales_scaled_pca = pca_model.transform(df_sales_scaled)"
   ]
  },
  {
   "cell_type": "code",
   "execution_count": 17,
   "id": "f8cfc026-8f20-4a27-b4f8-836d2f523c46",
   "metadata": {},
   "outputs": [],
   "source": [
    "# reducir dimensionalidad datos reducido dimensionalidad\n",
    "scaler_data_pca = MinMaxScaler() # StandardScaler()\n",
    "df_sales_scaled_pca_scaled = scaler_data_pca.fit_transform(df_sales_scaled_pca)"
   ]
  },
  {
   "cell_type": "code",
   "execution_count": 18,
   "id": "4ab9a7a0-4eb1-45be-ad37-86ceac190801",
   "metadata": {},
   "outputs": [
    {
     "data": {
      "text/plain": [
       "array([1.        , 1.        , 1.        , 1.        , 1.        ,\n",
       "       1.        , 1.        , 1.        , 1.        , 1.        ,\n",
       "       1.        , 1.        , 0.9999999 , 1.        , 1.        ,\n",
       "       1.        , 0.99999994, 1.        ], dtype=float32)"
      ]
     },
     "execution_count": 18,
     "metadata": {},
     "output_type": "execute_result"
    }
   ],
   "source": [
    "df_sales_scaled_pca_scaled.max(axis = 0)"
   ]
  },
  {
   "cell_type": "code",
   "execution_count": null,
   "id": "8fedacd2-88af-427f-ada1-ded69f7fc2ac",
   "metadata": {},
   "outputs": [],
   "source": []
  },
  {
   "cell_type": "code",
   "execution_count": null,
   "id": "7cfc40f0-4758-43cc-aac6-26fb2c0c8cc5",
   "metadata": {},
   "outputs": [],
   "source": []
  },
  {
   "cell_type": "markdown",
   "id": "fab356e5-be2e-4eaf-a258-5eb80ef36beb",
   "metadata": {},
   "source": [
    "### 6.a Entrenar kmeans con la data sin reducir dimensionalidad"
   ]
  },
  {
   "cell_type": "code",
   "execution_count": 19,
   "id": "afa416ab-bd6a-45e1-946b-96c207bf55cf",
   "metadata": {},
   "outputs": [],
   "source": [
    "def calculate_kmeans(df, max_cluster):\n",
    "    \"\"\"\n",
    "    Dado un dataframe de entrada, clusterizar con kmeans. \n",
    "    Se hacen pruebas con diferentes cantidad de clusters (de 2 a 10). Se retorna el mejor modelo obtenido evaluado por sil score\n",
    "    \n",
    "    Args:\n",
    "        df (DataFrame): Dataframe con los datos YA escalados. Se que usará para calcular los clusters\n",
    "        max_cluster (integer): Cantidad máxima de clusters a probar\n",
    "    Return\n",
    "        best_n_cluster (integer): mejor cantidad de clusters\n",
    "        best_sil_score (float): mejor métrica\n",
    "        best_ch_score (float): mejor métrica\n",
    "        best_model (model): Modelo guardado como el mejor. Dado el valor de sil_score\n",
    "    \"\"\"\n",
    "\n",
    "    # inicializar métricas\n",
    "    best_sil_score = -1\n",
    "    best_ch_score = 0\n",
    "    best_n_cluster = 0\n",
    "    best_model = None\n",
    "\n",
    "    # inicializar para guardar inercia\n",
    "    inertia = [] \n",
    "\n",
    "    # clusterizar data y evaluar modelo. retornar el que calcula la mejor métrica\n",
    "    for n_cluster in range(2, max_cluster):\n",
    "        print(n_cluster)\n",
    "\n",
    "        # definir modelo y entrenar\n",
    "        kmeans = KMeans(n_clusters = n_cluster, random_state=0, n_init=\"auto\")\n",
    "        kmeans.fit(df)\n",
    "        labels = kmeans.labels_\n",
    "        \n",
    "        # obtener silhouette_score. Esta métrica se demora. Se podria usar ch-score para evaluar qué cluster tiene la mejor\n",
    "        # métrica y para ese cluster seleccionado calcular el sil_score que tiene valores interpretables\n",
    "        sil_score = silhouette_score(df, labels)\n",
    "        \n",
    "        # Calcular el Calinski-Harabasz Index. Sigue al sil_score, un sil_score mayor también es ch_mayor. Se demora muy poco\n",
    "        # en calcular. Pero su valor no es interpretable. No tiene cota superior. Entre más alto mejor\n",
    "        ch_score = calinski_harabasz_score(df, labels)\n",
    "\n",
    "        # obtener inecia y guardarla\n",
    "        inercia_cluster = kmeans.inertia_\n",
    "        inertia.append(inercia_cluster)\n",
    "        \n",
    "        # print\n",
    "        print('cantidad de clusters: ', n_cluster)\n",
    "        print('sil_score: ', sil_score)\n",
    "        print('ch_score: ', ch_score)\n",
    "        \n",
    "        # si sil_score es mejor que la mejor métrica guarda. se reemplaza. Conservar el modelo que mejor clusterize\n",
    "        if sil_score >= best_sil_score:\n",
    "            print('se actualizan los mejores resultados')\n",
    "            best_sil_score = sil_score\n",
    "            best_ch_score = ch_score\n",
    "            best_model = kmeans\n",
    "            best_n_cluster = n_cluster\n",
    "\n",
    "    return inertia, best_n_cluster, best_sil_score, best_ch_score, best_model"
   ]
  },
  {
   "cell_type": "code",
   "execution_count": 20,
   "id": "b6044c60-c731-4a73-9c4b-30f778dbed33",
   "metadata": {},
   "outputs": [],
   "source": [
    "# definir cantidad máxima de clusters \n",
    "param_max_cluster_inter = 16"
   ]
  },
  {
   "cell_type": "code",
   "execution_count": 21,
   "id": "a4098c6d-b2be-4d68-8556-eb0e52873951",
   "metadata": {},
   "outputs": [
    {
     "data": {
      "text/plain": [
       "(30490, 1941)"
      ]
     },
     "execution_count": 21,
     "metadata": {},
     "output_type": "execute_result"
    }
   ],
   "source": [
    "# datos usados para esta prueba\n",
    "df_sales_scaled.shape"
   ]
  },
  {
   "cell_type": "code",
   "execution_count": 22,
   "id": "85468750-dc98-4fa4-a81b-577991dd516a",
   "metadata": {},
   "outputs": [
    {
     "name": "stdout",
     "output_type": "stream",
     "text": [
      "2\n",
      "cantidad de clusters:  2\n",
      "sil_score:  0.85751885\n",
      "ch_score:  10742.817994975729\n",
      "se actualizan los mejores resultados\n",
      "3\n",
      "cantidad de clusters:  3\n",
      "sil_score:  0.7653184\n",
      "ch_score:  9197.926140234249\n",
      "4\n",
      "cantidad de clusters:  4\n",
      "sil_score:  0.65142596\n",
      "ch_score:  7765.6940197854265\n",
      "5\n",
      "cantidad de clusters:  5\n",
      "sil_score:  0.5189279\n",
      "ch_score:  6460.2894861173445\n",
      "6\n",
      "cantidad de clusters:  6\n",
      "sil_score:  0.48973554\n",
      "ch_score:  5446.153499748978\n",
      "7\n",
      "cantidad de clusters:  7\n",
      "sil_score:  0.40739876\n",
      "ch_score:  4765.809885069409\n",
      "8\n",
      "cantidad de clusters:  8\n",
      "sil_score:  0.41975594\n",
      "ch_score:  4371.689029213159\n",
      "9\n",
      "cantidad de clusters:  9\n",
      "sil_score:  0.40145054\n",
      "ch_score:  3948.206772484786\n",
      "10\n",
      "cantidad de clusters:  10\n",
      "sil_score:  0.32434055\n",
      "ch_score:  3607.42937380315\n",
      "11\n",
      "cantidad de clusters:  11\n",
      "sil_score:  0.32438406\n",
      "ch_score:  3332.0014426078474\n",
      "12\n",
      "cantidad de clusters:  12\n",
      "sil_score:  0.32439676\n",
      "ch_score:  3081.5012118850805\n",
      "13\n",
      "cantidad de clusters:  13\n",
      "sil_score:  0.2636451\n",
      "ch_score:  2883.7691768817544\n",
      "14\n",
      "cantidad de clusters:  14\n",
      "sil_score:  0.25907037\n",
      "ch_score:  2767.3046273725363\n",
      "15\n",
      "cantidad de clusters:  15\n",
      "sil_score:  0.25239775\n",
      "ch_score:  2621.1695117976587\n"
     ]
    }
   ],
   "source": [
    "# entrenar mejor kmeans\n",
    "inercia_cluster_a, best_n_cluster_a, best_sil_score_a, best_ch_score_a, best_model_a = calculate_kmeans(df = df_sales_scaled,\n",
    "                                                                                                        max_cluster = param_max_cluster_inter\n",
    "                                                                                                       )"
   ]
  },
  {
   "cell_type": "code",
   "execution_count": 23,
   "id": "f5ac6864-9c74-4bac-8755-400b93fdf54e",
   "metadata": {},
   "outputs": [
    {
     "data": {
      "image/png": "[encoded data removed]",
      "text/plain": [
       "<Figure size 640x480 with 1 Axes>"
      ]
     },
     "metadata": {},
     "output_type": "display_data"
    }
   ],
   "source": [
    "# plotear inercia\n",
    "array_index_clusters = np.arange(2, param_max_cluster_inter)\n",
    "plt.plot(array_index_clusters, inercia_cluster_a, marker='o')\n",
    "plt.title(\"Método del Codo: Inercia vs. Número de Clusters\")\n",
    "plt.xlabel(\"Número de Clusters (k)\")\n",
    "plt.ylabel(\"Inercia\")\n",
    "plt.show()"
   ]
  },
  {
   "cell_type": "code",
   "execution_count": null,
   "id": "4ef6c9f1-21ce-46c6-bc9b-751cbaa4f4ea",
   "metadata": {},
   "outputs": [],
   "source": []
  },
  {
   "cell_type": "markdown",
   "id": "c09df58f-da5b-4f56-839e-2b8ffa2d008f",
   "metadata": {},
   "source": [
    "### 6.b Entrenar kmeans con la data reducida dimensionalidad"
   ]
  },
  {
   "cell_type": "code",
   "execution_count": 24,
   "id": "f8fa2142-9b29-4707-90c7-31a58bb3aee6",
   "metadata": {},
   "outputs": [
    {
     "data": {
      "text/plain": [
       "(30490, 18)"
      ]
     },
     "execution_count": 24,
     "metadata": {},
     "output_type": "execute_result"
    }
   ],
   "source": [
    "# datos usados para esta prueba\n",
    "df_sales_scaled_pca_scaled.shape"
   ]
  },
  {
   "cell_type": "code",
   "execution_count": 25,
   "id": "4e25e6ff-765d-46c2-9639-536ef4e7b7da",
   "metadata": {},
   "outputs": [
    {
     "name": "stdout",
     "output_type": "stream",
     "text": [
      "2\n",
      "cantidad de clusters:  2\n",
      "sil_score:  0.8708321\n",
      "ch_score:  2354.1449920753726\n",
      "se actualizan los mejores resultados\n",
      "3\n",
      "cantidad de clusters:  3\n",
      "sil_score:  0.83268464\n",
      "ch_score:  2054.717538331416\n",
      "4\n",
      "cantidad de clusters:  4\n",
      "sil_score:  0.761674\n",
      "ch_score:  1909.933248671125\n",
      "5\n",
      "cantidad de clusters:  5\n",
      "sil_score:  0.7695245\n",
      "ch_score:  1669.6226470989538\n",
      "6\n",
      "cantidad de clusters:  6\n",
      "sil_score:  0.7605339\n",
      "ch_score:  1566.2747150478142\n",
      "7\n",
      "cantidad de clusters:  7\n",
      "sil_score:  0.7619696\n",
      "ch_score:  1534.6356301109909\n",
      "8\n",
      "cantidad de clusters:  8\n",
      "sil_score:  0.7414561\n",
      "ch_score:  1462.8433095993062\n",
      "9\n",
      "cantidad de clusters:  9\n",
      "sil_score:  0.7370349\n",
      "ch_score:  1423.175717744054\n",
      "10\n",
      "cantidad de clusters:  10\n",
      "sil_score:  0.6999527\n",
      "ch_score:  1416.209990540556\n",
      "11\n",
      "cantidad de clusters:  11\n",
      "sil_score:  0.6848544\n",
      "ch_score:  1385.4215159449993\n",
      "12\n",
      "cantidad de clusters:  12\n",
      "sil_score:  0.66854817\n",
      "ch_score:  1335.0136270016\n",
      "13\n",
      "cantidad de clusters:  13\n",
      "sil_score:  0.63809055\n",
      "ch_score:  1284.8795782948794\n",
      "14\n",
      "cantidad de clusters:  14\n",
      "sil_score:  0.668162\n",
      "ch_score:  1223.060371220155\n",
      "15\n",
      "cantidad de clusters:  15\n",
      "sil_score:  0.5937781\n",
      "ch_score:  1209.315997575321\n"
     ]
    }
   ],
   "source": [
    "# entrenar mejor kmeans\n",
    "inercia_cluster_b, best_n_cluster_b, best_sil_score_b, best_ch_score_b, best_model_b = calculate_kmeans(df = df_sales_scaled_pca_scaled,\n",
    "                                                                                                        max_cluster = param_max_cluster_inter\n",
    "                                                                                                       )"
   ]
  },
  {
   "cell_type": "code",
   "execution_count": 26,
   "id": "61801381-1c5d-4a2c-9de1-805f6993c8f5",
   "metadata": {},
   "outputs": [
    {
     "data": {
      "image/png": "[encoded data removed]",
      "text/plain": [
       "<Figure size 640x480 with 1 Axes>"
      ]
     },
     "metadata": {},
     "output_type": "display_data"
    }
   ],
   "source": [
    "# plotear inercia\n",
    "array_index_clusters = np.arange(2, param_max_cluster_inter)\n",
    "plt.plot(array_index_clusters, inercia_cluster_b, marker='o')\n",
    "plt.title(\"Método del Codo: Inercia vs. Número de Clusters\")\n",
    "plt.xlabel(\"Número de Clusters (k)\")\n",
    "plt.ylabel(\"Inercia\")\n",
    "plt.show()"
   ]
  },
  {
   "cell_type": "code",
   "execution_count": null,
   "id": "074cc4fc-6fef-4c67-8efe-2d62368def9e",
   "metadata": {},
   "outputs": [],
   "source": []
  },
  {
   "cell_type": "code",
   "execution_count": null,
   "id": "9e7c5613-2262-416a-ae44-c623593a7f40",
   "metadata": {},
   "outputs": [],
   "source": []
  },
  {
   "cell_type": "code",
   "execution_count": null,
   "id": "8be225ad-8c19-441a-a491-b52fd1535ad1",
   "metadata": {},
   "outputs": [],
   "source": []
  },
  {
   "cell_type": "markdown",
   "id": "bc5a010a-0d0c-47e4-a994-ed2d89400e6b",
   "metadata": {},
   "source": [
    "### 6.c Entrenar kmeans con la data con indicadores técnicos"
   ]
  },
  {
   "cell_type": "code",
   "execution_count": 27,
   "id": "cc8e87a3-8796-4757-92b0-f8712308f8f7",
   "metadata": {},
   "outputs": [
    {
     "data": {
      "text/plain": [
       "(30490, 10)"
      ]
     },
     "execution_count": 27,
     "metadata": {},
     "output_type": "execute_result"
    }
   ],
   "source": [
    "# datos usados para esta prueba\n",
    "estadisticos_series_scaled.shape"
   ]
  },
  {
   "cell_type": "code",
   "execution_count": 28,
   "id": "cc2abfd9-bb85-41cd-a8f4-a108aa3db654",
   "metadata": {},
   "outputs": [
    {
     "name": "stdout",
     "output_type": "stream",
     "text": [
      "2\n",
      "cantidad de clusters:  2\n",
      "sil_score:  0.5132054\n",
      "ch_score:  17599.17971889765\n",
      "se actualizan los mejores resultados\n",
      "3\n",
      "cantidad de clusters:  3\n",
      "sil_score:  0.4156925\n",
      "ch_score:  14111.151050809363\n",
      "4\n",
      "cantidad de clusters:  4\n",
      "sil_score:  0.4699562\n",
      "ch_score:  16130.237626406277\n",
      "5\n",
      "cantidad de clusters:  5\n",
      "sil_score:  0.4769358\n",
      "ch_score:  15174.67833538051\n",
      "6\n",
      "cantidad de clusters:  6\n",
      "sil_score:  0.44485664\n",
      "ch_score:  15881.007925928516\n",
      "7\n",
      "cantidad de clusters:  7\n",
      "sil_score:  0.4021118\n",
      "ch_score:  15892.504597187957\n",
      "8\n",
      "cantidad de clusters:  8\n",
      "sil_score:  0.3994698\n",
      "ch_score:  15276.780765748184\n",
      "9\n",
      "cantidad de clusters:  9\n",
      "sil_score:  0.400579\n",
      "ch_score:  14337.498854823001\n",
      "10\n",
      "cantidad de clusters:  10\n",
      "sil_score:  0.40499446\n",
      "ch_score:  14367.965188179105\n",
      "11\n",
      "cantidad de clusters:  11\n",
      "sil_score:  0.40126\n",
      "ch_score:  14195.449041823746\n",
      "12\n",
      "cantidad de clusters:  12\n",
      "sil_score:  0.39288458\n",
      "ch_score:  13797.534202430177\n",
      "13\n",
      "cantidad de clusters:  13\n",
      "sil_score:  0.3728683\n",
      "ch_score:  14252.740789508476\n",
      "14\n",
      "cantidad de clusters:  14\n",
      "sil_score:  0.3788346\n",
      "ch_score:  13996.245126298814\n",
      "15\n",
      "cantidad de clusters:  15\n",
      "sil_score:  0.35826966\n",
      "ch_score:  14059.851643088936\n"
     ]
    }
   ],
   "source": [
    "# entrenar mejor kmeans\n",
    "inercia_cluster_c, best_n_cluster_c, best_sil_score_c, best_ch_score_c, best_model_c = calculate_kmeans(df = estadisticos_series_scaled,\n",
    "                                                                                                        max_cluster = param_max_cluster_inter\n",
    "                                                                                                       )"
   ]
  },
  {
   "cell_type": "code",
   "execution_count": 29,
   "id": "4a27ad49-76f1-411d-bb1f-d426891a7580",
   "metadata": {},
   "outputs": [
    {
     "data": {
      "image/png": "[encoded data removed]",
      "text/plain": [
       "<Figure size 640x480 with 1 Axes>"
      ]
     },
     "metadata": {},
     "output_type": "display_data"
    }
   ],
   "source": [
    "# plotear inercia\n",
    "array_index_clusters = np.arange(2, param_max_cluster_inter)\n",
    "plt.plot(array_index_clusters, inercia_cluster_c, marker='o')\n",
    "plt.title(\"Método del Codo: Inercia vs. Número de Clusters\")\n",
    "plt.xlabel(\"Número de Clusters (k)\")\n",
    "plt.ylabel(\"Inercia\")\n",
    "plt.show()"
   ]
  },
  {
   "cell_type": "code",
   "execution_count": null,
   "id": "c336c84e-c5e4-418e-9c43-77af60d183e9",
   "metadata": {},
   "outputs": [],
   "source": []
  },
  {
   "cell_type": "code",
   "execution_count": null,
   "id": "3f06c7cf-f9d5-4eaf-b763-c50279a1b184",
   "metadata": {},
   "outputs": [],
   "source": []
  },
  {
   "cell_type": "markdown",
   "id": "113b4824-d6e3-42fa-bf1b-4096d9da58a2",
   "metadata": {},
   "source": [
    "### 6.d Entrenar kmeans con la data reducida de dimensionalidad y además agregar indicadores técnicos series"
   ]
  },
  {
   "cell_type": "code",
   "execution_count": 30,
   "id": "93317880-4c07-4f88-93df-234e15fe0f62",
   "metadata": {},
   "outputs": [
    {
     "data": {
      "text/plain": [
       "(30490, 28)"
      ]
     },
     "execution_count": 30,
     "metadata": {},
     "output_type": "execute_result"
    }
   ],
   "source": [
    "# unir data pca reducida + data estadisticos\n",
    "df_combined = pd.concat([pd.DataFrame(df_sales_scaled_pca_scaled), \n",
    "                         pd.DataFrame(estadisticos_series_scaled)\n",
    "                        ], axis=1)\n",
    "df_combined.shape"
   ]
  },
  {
   "cell_type": "code",
   "execution_count": 31,
   "id": "313c4c44-d506-42b9-ad81-780442067bfc",
   "metadata": {},
   "outputs": [
    {
     "name": "stdout",
     "output_type": "stream",
     "text": [
      "2\n",
      "cantidad de clusters:  2\n",
      "sil_score:  0.64016664\n",
      "ch_score:  4359.750024568706\n",
      "se actualizan los mejores resultados\n",
      "3\n",
      "cantidad de clusters:  3\n",
      "sil_score:  0.44654548\n",
      "ch_score:  7701.644006615062\n",
      "4\n",
      "cantidad de clusters:  4\n",
      "sil_score:  0.33538964\n",
      "ch_score:  6807.26059395758\n",
      "5\n",
      "cantidad de clusters:  5\n",
      "sil_score:  0.36604473\n",
      "ch_score:  6098.683953694328\n",
      "6\n",
      "cantidad de clusters:  6\n",
      "sil_score:  0.30696982\n",
      "ch_score:  5616.13824164531\n",
      "7\n",
      "cantidad de clusters:  7\n",
      "sil_score:  0.30751377\n",
      "ch_score:  4994.8383294225005\n",
      "8\n",
      "cantidad de clusters:  8\n",
      "sil_score:  0.2561823\n",
      "ch_score:  4794.2408278750845\n",
      "9\n",
      "cantidad de clusters:  9\n",
      "sil_score:  0.26999825\n",
      "ch_score:  4412.9286475814\n",
      "10\n",
      "cantidad de clusters:  10\n",
      "sil_score:  0.26611316\n",
      "ch_score:  4133.21106339607\n",
      "11\n",
      "cantidad de clusters:  11\n",
      "sil_score:  0.266568\n",
      "ch_score:  3875.1734270008733\n",
      "12\n",
      "cantidad de clusters:  12\n",
      "sil_score:  0.24563241\n",
      "ch_score:  3660.1394562472833\n",
      "13\n",
      "cantidad de clusters:  13\n",
      "sil_score:  0.24793199\n",
      "ch_score:  3488.425260203174\n",
      "14\n",
      "cantidad de clusters:  14\n",
      "sil_score:  0.2601943\n",
      "ch_score:  3340.051738670452\n",
      "15\n",
      "cantidad de clusters:  15\n",
      "sil_score:  0.21862195\n",
      "ch_score:  3232.8700180371993\n"
     ]
    }
   ],
   "source": [
    "# entrenar mejor kmeans\n",
    "inercia_cluster_d, best_n_cluster_d, best_sil_score_d, best_ch_score_d, best_model_d = calculate_kmeans(df = df_combined,\n",
    "                                                                                                        max_cluster = param_max_cluster_inter\n",
    "                                                                                                       )"
   ]
  },
  {
   "cell_type": "code",
   "execution_count": 32,
   "id": "b459b699-df2d-4e3e-b7c7-83cbb404038d",
   "metadata": {},
   "outputs": [
    {
     "data": {
      "image/png": "[encoded data removed]",
      "text/plain": [
       "<Figure size 640x480 with 1 Axes>"
      ]
     },
     "metadata": {},
     "output_type": "display_data"
    }
   ],
   "source": [
    "# plotear inercia\n",
    "array_index_clusters = np.arange(2, param_max_cluster_inter)\n",
    "plt.plot(array_index_clusters, inercia_cluster_d, marker='o')\n",
    "plt.title(\"Método del Codo: Inercia vs. Número de Clusters\")\n",
    "plt.xlabel(\"Número de Clusters (k)\")\n",
    "plt.ylabel(\"Inercia\")\n",
    "plt.show()"
   ]
  },
  {
   "cell_type": "code",
   "execution_count": null,
   "id": "7eb60bd1-6556-4f2d-9bae-1e6506f9403e",
   "metadata": {},
   "outputs": [],
   "source": []
  },
  {
   "cell_type": "code",
   "execution_count": null,
   "id": "fe440d3a-e0bd-465d-8534-05747066a21c",
   "metadata": {},
   "outputs": [],
   "source": []
  },
  {
   "cell_type": "code",
   "execution_count": null,
   "id": "c1152ce4-6a50-499e-98a8-0e838f6d93d5",
   "metadata": {},
   "outputs": [],
   "source": []
  },
  {
   "cell_type": "code",
   "execution_count": null,
   "id": "6ce636e4-2f2a-48c4-9a3c-ea93651a1d7a",
   "metadata": {},
   "outputs": [],
   "source": []
  }
 ],
 "metadata": {
  "kernelspec": {
   "display_name": "Python 3 (ipykernel)",
   "language": "python",
   "name": "python3"
  },
  "language_info": {
   "codemirror_mode": {
    "name": "ipython",
    "version": 3
   },
   "file_extension": ".py",
   "mimetype": "text/x-python",
   "name": "python",
   "nbconvert_exporter": "python",
   "pygments_lexer": "ipython3",
   "version": "3.11.7"
  }
 },
 "nbformat": 4,
 "nbformat_minor": 5
}
