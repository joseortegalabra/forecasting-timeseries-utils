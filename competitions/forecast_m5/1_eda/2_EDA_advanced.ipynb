{
 "cells": [
  {
   "cell_type": "markdown",
   "id": "74e2e433-15fb-426e-aaf4-772420b45c3a",
   "metadata": {},
   "source": [
    "## DISCOVERY EDA ADVANCED\n",
    "- Revisar fecha de inicio y fin de cada serie. Revisar largo de cada serie. Hay series de distinto largo?\n",
    "- Revisar cantidad de nulos. Ej día domingo. Que no hay ventas. Rellenar esos datos con ceros\n",
    "- Revisar qué series tienen más volumen. Qué productos se venden más"
   ]
  },
  {
   "cell_type": "code",
   "execution_count": 3,
   "id": "e367f770-d588-4711-9473-de21afc0a256",
   "metadata": {},
   "outputs": [
    {
     "name": "stdout",
     "output_type": "stream",
     "text": [
      "root path:  /Users/joseortega/Documents/GitHub/forecasting-m5-dataset\n"
     ]
    }
   ],
   "source": [
    "import os\n",
    "# set path root of repo\n",
    "actual_path = os.path.abspath(os.getcwd())\n",
    "list_root_path = actual_path.split('/')[:-1]\n",
    "root_path = '/'.join(list_root_path)\n",
    "os.chdir(root_path)\n",
    "print('root path: ', root_path)"
   ]
  },
  {
   "cell_type": "code",
   "execution_count": 4,
   "id": "adfa3966-0aad-415b-bb99-bc7bb3987e40",
   "metadata": {},
   "outputs": [],
   "source": [
    "import numpy as np\n",
    "import pandas as pd\n",
    "import matplotlib.pyplot as plt"
   ]
  },
  {
   "cell_type": "code",
   "execution_count": null,
   "id": "bf919bd9-5bd0-4649-a2e1-99266dcdc873",
   "metadata": {},
   "outputs": [],
   "source": []
  },
  {
   "cell_type": "markdown",
   "id": "d3074def-2c81-4a1f-b94a-6502fb1a782c",
   "metadata": {},
   "source": [
    "### 1. Read raw files"
   ]
  },
  {
   "cell_type": "code",
   "execution_count": 5,
   "id": "78ee2517-3054-433f-87a6-4fc3230d47f2",
   "metadata": {},
   "outputs": [],
   "source": [
    "folder_data_raw_dtype = 'data/data_input_dtype/'\n",
    "\n",
    "df_calender = pd.read_pickle(folder_data_raw_dtype + 'calendar.pkl')\n",
    "df_prices = pd.read_pickle(folder_data_raw_dtype + 'sell_prices.pkl')\n",
    "df_sales = pd.read_pickle(folder_data_raw_dtype + 'sales_train_evaluation.pkl')\n",
    "df_sample_output = pd.read_pickle(folder_data_raw_dtype + 'sample_submission.pkl')"
   ]
  },
  {
   "cell_type": "code",
   "execution_count": 6,
   "id": "015cf5ca-c40e-4592-a199-138985f6c4ac",
   "metadata": {},
   "outputs": [
    {
     "data": {
      "text/html": [
       "<div>\n",
       "<style scoped>\n",
       "    .dataframe tbody tr th:only-of-type {\n",
       "        vertical-align: middle;\n",
       "    }\n",
       "\n",
       "    .dataframe tbody tr th {\n",
       "        vertical-align: top;\n",
       "    }\n",
       "\n",
       "    .dataframe thead th {\n",
       "        text-align: right;\n",
       "    }\n",
       "</style>\n",
       "<table border=\"1\" class=\"dataframe\">\n",
       "  <thead>\n",
       "    <tr style=\"text-align: right;\">\n",
       "      <th></th>\n",
       "      <th>id</th>\n",
       "      <th>item_id</th>\n",
       "      <th>dept_id</th>\n",
       "      <th>cat_id</th>\n",
       "      <th>store_id</th>\n",
       "      <th>state_id</th>\n",
       "      <th>d_1</th>\n",
       "      <th>d_2</th>\n",
       "      <th>d_3</th>\n",
       "      <th>d_4</th>\n",
       "      <th>...</th>\n",
       "      <th>d_1932</th>\n",
       "      <th>d_1933</th>\n",
       "      <th>d_1934</th>\n",
       "      <th>d_1935</th>\n",
       "      <th>d_1936</th>\n",
       "      <th>d_1937</th>\n",
       "      <th>d_1938</th>\n",
       "      <th>d_1939</th>\n",
       "      <th>d_1940</th>\n",
       "      <th>d_1941</th>\n",
       "    </tr>\n",
       "  </thead>\n",
       "  <tbody>\n",
       "    <tr>\n",
       "      <th>0</th>\n",
       "      <td>HOBBIES_1_001_CA_1_evaluation</td>\n",
       "      <td>HOBBIES_1_001</td>\n",
       "      <td>HOBBIES_1</td>\n",
       "      <td>HOBBIES</td>\n",
       "      <td>CA_1</td>\n",
       "      <td>CA</td>\n",
       "      <td>0.0</td>\n",
       "      <td>0.0</td>\n",
       "      <td>0.0</td>\n",
       "      <td>0.0</td>\n",
       "      <td>...</td>\n",
       "      <td>2.0</td>\n",
       "      <td>4.0</td>\n",
       "      <td>0.0</td>\n",
       "      <td>0.0</td>\n",
       "      <td>0.0</td>\n",
       "      <td>0.0</td>\n",
       "      <td>3.0</td>\n",
       "      <td>3.0</td>\n",
       "      <td>0.0</td>\n",
       "      <td>1.0</td>\n",
       "    </tr>\n",
       "    <tr>\n",
       "      <th>1</th>\n",
       "      <td>HOBBIES_1_002_CA_1_evaluation</td>\n",
       "      <td>HOBBIES_1_002</td>\n",
       "      <td>HOBBIES_1</td>\n",
       "      <td>HOBBIES</td>\n",
       "      <td>CA_1</td>\n",
       "      <td>CA</td>\n",
       "      <td>0.0</td>\n",
       "      <td>0.0</td>\n",
       "      <td>0.0</td>\n",
       "      <td>0.0</td>\n",
       "      <td>...</td>\n",
       "      <td>0.0</td>\n",
       "      <td>1.0</td>\n",
       "      <td>2.0</td>\n",
       "      <td>1.0</td>\n",
       "      <td>1.0</td>\n",
       "      <td>0.0</td>\n",
       "      <td>0.0</td>\n",
       "      <td>0.0</td>\n",
       "      <td>0.0</td>\n",
       "      <td>0.0</td>\n",
       "    </tr>\n",
       "    <tr>\n",
       "      <th>2</th>\n",
       "      <td>HOBBIES_1_003_CA_1_evaluation</td>\n",
       "      <td>HOBBIES_1_003</td>\n",
       "      <td>HOBBIES_1</td>\n",
       "      <td>HOBBIES</td>\n",
       "      <td>CA_1</td>\n",
       "      <td>CA</td>\n",
       "      <td>0.0</td>\n",
       "      <td>0.0</td>\n",
       "      <td>0.0</td>\n",
       "      <td>0.0</td>\n",
       "      <td>...</td>\n",
       "      <td>1.0</td>\n",
       "      <td>0.0</td>\n",
       "      <td>2.0</td>\n",
       "      <td>0.0</td>\n",
       "      <td>0.0</td>\n",
       "      <td>0.0</td>\n",
       "      <td>2.0</td>\n",
       "      <td>3.0</td>\n",
       "      <td>0.0</td>\n",
       "      <td>1.0</td>\n",
       "    </tr>\n",
       "    <tr>\n",
       "      <th>3</th>\n",
       "      <td>HOBBIES_1_004_CA_1_evaluation</td>\n",
       "      <td>HOBBIES_1_004</td>\n",
       "      <td>HOBBIES_1</td>\n",
       "      <td>HOBBIES</td>\n",
       "      <td>CA_1</td>\n",
       "      <td>CA</td>\n",
       "      <td>0.0</td>\n",
       "      <td>0.0</td>\n",
       "      <td>0.0</td>\n",
       "      <td>0.0</td>\n",
       "      <td>...</td>\n",
       "      <td>1.0</td>\n",
       "      <td>1.0</td>\n",
       "      <td>0.0</td>\n",
       "      <td>4.0</td>\n",
       "      <td>0.0</td>\n",
       "      <td>1.0</td>\n",
       "      <td>3.0</td>\n",
       "      <td>0.0</td>\n",
       "      <td>2.0</td>\n",
       "      <td>6.0</td>\n",
       "    </tr>\n",
       "    <tr>\n",
       "      <th>4</th>\n",
       "      <td>HOBBIES_1_005_CA_1_evaluation</td>\n",
       "      <td>HOBBIES_1_005</td>\n",
       "      <td>HOBBIES_1</td>\n",
       "      <td>HOBBIES</td>\n",
       "      <td>CA_1</td>\n",
       "      <td>CA</td>\n",
       "      <td>0.0</td>\n",
       "      <td>0.0</td>\n",
       "      <td>0.0</td>\n",
       "      <td>0.0</td>\n",
       "      <td>...</td>\n",
       "      <td>0.0</td>\n",
       "      <td>0.0</td>\n",
       "      <td>0.0</td>\n",
       "      <td>2.0</td>\n",
       "      <td>1.0</td>\n",
       "      <td>0.0</td>\n",
       "      <td>0.0</td>\n",
       "      <td>2.0</td>\n",
       "      <td>1.0</td>\n",
       "      <td>0.0</td>\n",
       "    </tr>\n",
       "  </tbody>\n",
       "</table>\n",
       "<p>5 rows × 1947 columns</p>\n",
       "</div>"
      ],
      "text/plain": [
       "                              id        item_id    dept_id   cat_id store_id  \\\n",
       "0  HOBBIES_1_001_CA_1_evaluation  HOBBIES_1_001  HOBBIES_1  HOBBIES     CA_1   \n",
       "1  HOBBIES_1_002_CA_1_evaluation  HOBBIES_1_002  HOBBIES_1  HOBBIES     CA_1   \n",
       "2  HOBBIES_1_003_CA_1_evaluation  HOBBIES_1_003  HOBBIES_1  HOBBIES     CA_1   \n",
       "3  HOBBIES_1_004_CA_1_evaluation  HOBBIES_1_004  HOBBIES_1  HOBBIES     CA_1   \n",
       "4  HOBBIES_1_005_CA_1_evaluation  HOBBIES_1_005  HOBBIES_1  HOBBIES     CA_1   \n",
       "\n",
       "  state_id  d_1  d_2  d_3  d_4  ...  d_1932  d_1933  d_1934  d_1935  d_1936  \\\n",
       "0       CA  0.0  0.0  0.0  0.0  ...     2.0     4.0     0.0     0.0     0.0   \n",
       "1       CA  0.0  0.0  0.0  0.0  ...     0.0     1.0     2.0     1.0     1.0   \n",
       "2       CA  0.0  0.0  0.0  0.0  ...     1.0     0.0     2.0     0.0     0.0   \n",
       "3       CA  0.0  0.0  0.0  0.0  ...     1.0     1.0     0.0     4.0     0.0   \n",
       "4       CA  0.0  0.0  0.0  0.0  ...     0.0     0.0     0.0     2.0     1.0   \n",
       "\n",
       "   d_1937  d_1938  d_1939  d_1940  d_1941  \n",
       "0     0.0     3.0     3.0     0.0     1.0  \n",
       "1     0.0     0.0     0.0     0.0     0.0  \n",
       "2     0.0     2.0     3.0     0.0     1.0  \n",
       "3     1.0     3.0     0.0     2.0     6.0  \n",
       "4     0.0     0.0     2.0     1.0     0.0  \n",
       "\n",
       "[5 rows x 1947 columns]"
      ]
     },
     "execution_count": 6,
     "metadata": {},
     "output_type": "execute_result"
    }
   ],
   "source": [
    "df_sales.head()"
   ]
  },
  {
   "cell_type": "code",
   "execution_count": 7,
   "id": "e5d286a1-5c6e-4e75-9570-16c019537ea7",
   "metadata": {},
   "outputs": [
    {
     "data": {
      "text/plain": [
       "(30490, 1947)"
      ]
     },
     "execution_count": 7,
     "metadata": {},
     "output_type": "execute_result"
    }
   ],
   "source": [
    "df_sales.shape"
   ]
  },
  {
   "cell_type": "code",
   "execution_count": 14,
   "id": "f568ccda-fdbc-4a14-a263-b31e4dab7394",
   "metadata": {},
   "outputs": [
    {
     "data": {
      "text/plain": [
       "(30490,)"
      ]
     },
     "execution_count": 14,
     "metadata": {},
     "output_type": "execute_result"
    }
   ],
   "source": [
    "# cantidad única de series\n",
    "df_sales['id'].unique().shape"
   ]
  },
  {
   "cell_type": "code",
   "execution_count": null,
   "id": "7b59c0ec-b450-4bc6-94d1-3574889824ed",
   "metadata": {},
   "outputs": [],
   "source": []
  },
  {
   "cell_type": "code",
   "execution_count": 25,
   "id": "4c81330d-24f3-4676-955d-ea53a3c01cb9",
   "metadata": {},
   "outputs": [
    {
     "data": {
      "text/plain": [
       "59181090"
      ]
     },
     "execution_count": 25,
     "metadata": {},
     "output_type": "execute_result"
    }
   ],
   "source": [
    "# si en total hay 30490 series y la cantidad de observaciones son hasta el dia 1941.\n",
    "# Se puede obtener la cantidad teórica de filas que debería haber si no existieran los nulos\n",
    "shape_teorico = 30490 * 1941\n",
    "shape_teorico"
   ]
  },
  {
   "cell_type": "code",
   "execution_count": null,
   "id": "47be5e1f-2607-45f4-ae6e-dad638d6333a",
   "metadata": {},
   "outputs": [],
   "source": []
  },
  {
   "cell_type": "markdown",
   "id": "a0dfc1ac-9342-48af-9fc4-3c3ea8a07034",
   "metadata": {},
   "source": [
    "### 2. Transformar dataframe con las ventas a formato \"id\", \"date\", \"value\""
   ]
  },
  {
   "cell_type": "code",
   "execution_count": 12,
   "id": "d29e6d80-5b7e-4f57-8aaf-a0dbb6334681",
   "metadata": {},
   "outputs": [],
   "source": [
    "df_sales_long = df_sales.melt(\n",
    "    id_vars=['id', 'item_id', 'dept_id', 'cat_id', 'store_id', 'state_id'],\n",
    "    var_name='d',\n",
    "    value_name='y'\n",
    ")"
   ]
  },
  {
   "cell_type": "code",
   "execution_count": 15,
   "id": "98f859ff-0a17-4428-ad3e-a3486875c674",
   "metadata": {},
   "outputs": [
    {
     "data": {
      "text/html": [
       "<div>\n",
       "<style scoped>\n",
       "    .dataframe tbody tr th:only-of-type {\n",
       "        vertical-align: middle;\n",
       "    }\n",
       "\n",
       "    .dataframe tbody tr th {\n",
       "        vertical-align: top;\n",
       "    }\n",
       "\n",
       "    .dataframe thead th {\n",
       "        text-align: right;\n",
       "    }\n",
       "</style>\n",
       "<table border=\"1\" class=\"dataframe\">\n",
       "  <thead>\n",
       "    <tr style=\"text-align: right;\">\n",
       "      <th></th>\n",
       "      <th>id</th>\n",
       "      <th>item_id</th>\n",
       "      <th>dept_id</th>\n",
       "      <th>cat_id</th>\n",
       "      <th>store_id</th>\n",
       "      <th>state_id</th>\n",
       "      <th>d</th>\n",
       "      <th>y</th>\n",
       "    </tr>\n",
       "  </thead>\n",
       "  <tbody>\n",
       "    <tr>\n",
       "      <th>0</th>\n",
       "      <td>HOBBIES_1_001_CA_1_evaluation</td>\n",
       "      <td>HOBBIES_1_001</td>\n",
       "      <td>HOBBIES_1</td>\n",
       "      <td>HOBBIES</td>\n",
       "      <td>CA_1</td>\n",
       "      <td>CA</td>\n",
       "      <td>d_1</td>\n",
       "      <td>0.0</td>\n",
       "    </tr>\n",
       "    <tr>\n",
       "      <th>1</th>\n",
       "      <td>HOBBIES_1_002_CA_1_evaluation</td>\n",
       "      <td>HOBBIES_1_002</td>\n",
       "      <td>HOBBIES_1</td>\n",
       "      <td>HOBBIES</td>\n",
       "      <td>CA_1</td>\n",
       "      <td>CA</td>\n",
       "      <td>d_1</td>\n",
       "      <td>0.0</td>\n",
       "    </tr>\n",
       "    <tr>\n",
       "      <th>2</th>\n",
       "      <td>HOBBIES_1_003_CA_1_evaluation</td>\n",
       "      <td>HOBBIES_1_003</td>\n",
       "      <td>HOBBIES_1</td>\n",
       "      <td>HOBBIES</td>\n",
       "      <td>CA_1</td>\n",
       "      <td>CA</td>\n",
       "      <td>d_1</td>\n",
       "      <td>0.0</td>\n",
       "    </tr>\n",
       "    <tr>\n",
       "      <th>3</th>\n",
       "      <td>HOBBIES_1_004_CA_1_evaluation</td>\n",
       "      <td>HOBBIES_1_004</td>\n",
       "      <td>HOBBIES_1</td>\n",
       "      <td>HOBBIES</td>\n",
       "      <td>CA_1</td>\n",
       "      <td>CA</td>\n",
       "      <td>d_1</td>\n",
       "      <td>0.0</td>\n",
       "    </tr>\n",
       "    <tr>\n",
       "      <th>4</th>\n",
       "      <td>HOBBIES_1_005_CA_1_evaluation</td>\n",
       "      <td>HOBBIES_1_005</td>\n",
       "      <td>HOBBIES_1</td>\n",
       "      <td>HOBBIES</td>\n",
       "      <td>CA_1</td>\n",
       "      <td>CA</td>\n",
       "      <td>d_1</td>\n",
       "      <td>0.0</td>\n",
       "    </tr>\n",
       "  </tbody>\n",
       "</table>\n",
       "</div>"
      ],
      "text/plain": [
       "                              id        item_id    dept_id   cat_id store_id  \\\n",
       "0  HOBBIES_1_001_CA_1_evaluation  HOBBIES_1_001  HOBBIES_1  HOBBIES     CA_1   \n",
       "1  HOBBIES_1_002_CA_1_evaluation  HOBBIES_1_002  HOBBIES_1  HOBBIES     CA_1   \n",
       "2  HOBBIES_1_003_CA_1_evaluation  HOBBIES_1_003  HOBBIES_1  HOBBIES     CA_1   \n",
       "3  HOBBIES_1_004_CA_1_evaluation  HOBBIES_1_004  HOBBIES_1  HOBBIES     CA_1   \n",
       "4  HOBBIES_1_005_CA_1_evaluation  HOBBIES_1_005  HOBBIES_1  HOBBIES     CA_1   \n",
       "\n",
       "  state_id    d    y  \n",
       "0       CA  d_1  0.0  \n",
       "1       CA  d_1  0.0  \n",
       "2       CA  d_1  0.0  \n",
       "3       CA  d_1  0.0  \n",
       "4       CA  d_1  0.0  "
      ]
     },
     "execution_count": 15,
     "metadata": {},
     "output_type": "execute_result"
    }
   ],
   "source": [
    "df_sales_long.head()"
   ]
  },
  {
   "cell_type": "code",
   "execution_count": 22,
   "id": "c80aef66-180e-44b7-ba66-fa815d4225e6",
   "metadata": {},
   "outputs": [
    {
     "data": {
      "text/html": [
       "<div>\n",
       "<style scoped>\n",
       "    .dataframe tbody tr th:only-of-type {\n",
       "        vertical-align: middle;\n",
       "    }\n",
       "\n",
       "    .dataframe tbody tr th {\n",
       "        vertical-align: top;\n",
       "    }\n",
       "\n",
       "    .dataframe thead th {\n",
       "        text-align: right;\n",
       "    }\n",
       "</style>\n",
       "<table border=\"1\" class=\"dataframe\">\n",
       "  <thead>\n",
       "    <tr style=\"text-align: right;\">\n",
       "      <th></th>\n",
       "      <th>id</th>\n",
       "      <th>item_id</th>\n",
       "      <th>dept_id</th>\n",
       "      <th>cat_id</th>\n",
       "      <th>store_id</th>\n",
       "      <th>state_id</th>\n",
       "      <th>d</th>\n",
       "      <th>y</th>\n",
       "    </tr>\n",
       "  </thead>\n",
       "  <tbody>\n",
       "    <tr>\n",
       "      <th>59181087</th>\n",
       "      <td>FOODS_3_825_WI_3_evaluation</td>\n",
       "      <td>FOODS_3_825</td>\n",
       "      <td>FOODS_3</td>\n",
       "      <td>FOODS</td>\n",
       "      <td>WI_3</td>\n",
       "      <td>WI</td>\n",
       "      <td>d_1941</td>\n",
       "      <td>2.0</td>\n",
       "    </tr>\n",
       "    <tr>\n",
       "      <th>59181088</th>\n",
       "      <td>FOODS_3_826_WI_3_evaluation</td>\n",
       "      <td>FOODS_3_826</td>\n",
       "      <td>FOODS_3</td>\n",
       "      <td>FOODS</td>\n",
       "      <td>WI_3</td>\n",
       "      <td>WI</td>\n",
       "      <td>d_1941</td>\n",
       "      <td>0.0</td>\n",
       "    </tr>\n",
       "    <tr>\n",
       "      <th>59181089</th>\n",
       "      <td>FOODS_3_827_WI_3_evaluation</td>\n",
       "      <td>FOODS_3_827</td>\n",
       "      <td>FOODS_3</td>\n",
       "      <td>FOODS</td>\n",
       "      <td>WI_3</td>\n",
       "      <td>WI</td>\n",
       "      <td>d_1941</td>\n",
       "      <td>1.0</td>\n",
       "    </tr>\n",
       "  </tbody>\n",
       "</table>\n",
       "</div>"
      ],
      "text/plain": [
       "                                   id      item_id  dept_id cat_id store_id  \\\n",
       "59181087  FOODS_3_825_WI_3_evaluation  FOODS_3_825  FOODS_3  FOODS     WI_3   \n",
       "59181088  FOODS_3_826_WI_3_evaluation  FOODS_3_826  FOODS_3  FOODS     WI_3   \n",
       "59181089  FOODS_3_827_WI_3_evaluation  FOODS_3_827  FOODS_3  FOODS     WI_3   \n",
       "\n",
       "         state_id       d    y  \n",
       "59181087       WI  d_1941  2.0  \n",
       "59181088       WI  d_1941  0.0  \n",
       "59181089       WI  d_1941  1.0  "
      ]
     },
     "execution_count": 22,
     "metadata": {},
     "output_type": "execute_result"
    }
   ],
   "source": [
    "df_sales_long.tail(3)"
   ]
  },
  {
   "cell_type": "code",
   "execution_count": 16,
   "id": "8d4857b6-62a6-4e5a-b769-1980adf137c0",
   "metadata": {},
   "outputs": [
    {
     "data": {
      "text/plain": [
       "(59181090, 8)"
      ]
     },
     "execution_count": 16,
     "metadata": {},
     "output_type": "execute_result"
    }
   ],
   "source": [
    "df_sales_long.shape"
   ]
  },
  {
   "cell_type": "code",
   "execution_count": 27,
   "id": "aa464fbc-f60b-48c6-8737-0a4a25bbe7ad",
   "metadata": {},
   "outputs": [
    {
     "data": {
      "text/plain": [
       "True"
      ]
     },
     "execution_count": 27,
     "metadata": {},
     "output_type": "execute_result"
    }
   ],
   "source": [
    "# revisar si todas las series parten desde la misma fecha (que la cantidad de filas coincida con el teórico)\n",
    "shape_teorico == df_sales_long.shape[0]"
   ]
  },
  {
   "cell_type": "code",
   "execution_count": null,
   "id": "54d6c381-0f0f-4b1f-9a79-247438a944ad",
   "metadata": {},
   "outputs": [],
   "source": []
  },
  {
   "cell_type": "markdown",
   "id": "d73f9e93-ef91-49a4-a4be-93a1647604be",
   "metadata": {},
   "source": [
    "### 2.b crear variable auxiliar que transformar el día (d_11) a integer (11)"
   ]
  },
  {
   "cell_type": "code",
   "execution_count": 30,
   "id": "6c415441-bcdf-400f-9513-28933c4b33c4",
   "metadata": {},
   "outputs": [],
   "source": [
    "df_sales_long['d_integer'] = df_sales_long['d'].str.extract(r'(\\d+)', expand=False).astype(int)"
   ]
  },
  {
   "cell_type": "code",
   "execution_count": 31,
   "id": "381d2abe-fa14-43e2-8dba-08469a93a34c",
   "metadata": {},
   "outputs": [
    {
     "data": {
      "text/html": [
       "<div>\n",
       "<style scoped>\n",
       "    .dataframe tbody tr th:only-of-type {\n",
       "        vertical-align: middle;\n",
       "    }\n",
       "\n",
       "    .dataframe tbody tr th {\n",
       "        vertical-align: top;\n",
       "    }\n",
       "\n",
       "    .dataframe thead th {\n",
       "        text-align: right;\n",
       "    }\n",
       "</style>\n",
       "<table border=\"1\" class=\"dataframe\">\n",
       "  <thead>\n",
       "    <tr style=\"text-align: right;\">\n",
       "      <th></th>\n",
       "      <th>id</th>\n",
       "      <th>item_id</th>\n",
       "      <th>dept_id</th>\n",
       "      <th>cat_id</th>\n",
       "      <th>store_id</th>\n",
       "      <th>state_id</th>\n",
       "      <th>d</th>\n",
       "      <th>y</th>\n",
       "      <th>d_integer</th>\n",
       "    </tr>\n",
       "  </thead>\n",
       "  <tbody>\n",
       "    <tr>\n",
       "      <th>0</th>\n",
       "      <td>HOBBIES_1_001_CA_1_evaluation</td>\n",
       "      <td>HOBBIES_1_001</td>\n",
       "      <td>HOBBIES_1</td>\n",
       "      <td>HOBBIES</td>\n",
       "      <td>CA_1</td>\n",
       "      <td>CA</td>\n",
       "      <td>d_1</td>\n",
       "      <td>0.0</td>\n",
       "      <td>1</td>\n",
       "    </tr>\n",
       "    <tr>\n",
       "      <th>1</th>\n",
       "      <td>HOBBIES_1_002_CA_1_evaluation</td>\n",
       "      <td>HOBBIES_1_002</td>\n",
       "      <td>HOBBIES_1</td>\n",
       "      <td>HOBBIES</td>\n",
       "      <td>CA_1</td>\n",
       "      <td>CA</td>\n",
       "      <td>d_1</td>\n",
       "      <td>0.0</td>\n",
       "      <td>1</td>\n",
       "    </tr>\n",
       "    <tr>\n",
       "      <th>2</th>\n",
       "      <td>HOBBIES_1_003_CA_1_evaluation</td>\n",
       "      <td>HOBBIES_1_003</td>\n",
       "      <td>HOBBIES_1</td>\n",
       "      <td>HOBBIES</td>\n",
       "      <td>CA_1</td>\n",
       "      <td>CA</td>\n",
       "      <td>d_1</td>\n",
       "      <td>0.0</td>\n",
       "      <td>1</td>\n",
       "    </tr>\n",
       "  </tbody>\n",
       "</table>\n",
       "</div>"
      ],
      "text/plain": [
       "                              id        item_id    dept_id   cat_id store_id  \\\n",
       "0  HOBBIES_1_001_CA_1_evaluation  HOBBIES_1_001  HOBBIES_1  HOBBIES     CA_1   \n",
       "1  HOBBIES_1_002_CA_1_evaluation  HOBBIES_1_002  HOBBIES_1  HOBBIES     CA_1   \n",
       "2  HOBBIES_1_003_CA_1_evaluation  HOBBIES_1_003  HOBBIES_1  HOBBIES     CA_1   \n",
       "\n",
       "  state_id    d    y  d_integer  \n",
       "0       CA  d_1  0.0          1  \n",
       "1       CA  d_1  0.0          1  \n",
       "2       CA  d_1  0.0          1  "
      ]
     },
     "execution_count": 31,
     "metadata": {},
     "output_type": "execute_result"
    }
   ],
   "source": [
    "df_sales_long.head(3)"
   ]
  },
  {
   "cell_type": "code",
   "execution_count": 32,
   "id": "de8dfc5c-ac97-4d25-a999-c6a7afff0ab4",
   "metadata": {},
   "outputs": [
    {
     "data": {
      "text/html": [
       "<div>\n",
       "<style scoped>\n",
       "    .dataframe tbody tr th:only-of-type {\n",
       "        vertical-align: middle;\n",
       "    }\n",
       "\n",
       "    .dataframe tbody tr th {\n",
       "        vertical-align: top;\n",
       "    }\n",
       "\n",
       "    .dataframe thead th {\n",
       "        text-align: right;\n",
       "    }\n",
       "</style>\n",
       "<table border=\"1\" class=\"dataframe\">\n",
       "  <thead>\n",
       "    <tr style=\"text-align: right;\">\n",
       "      <th></th>\n",
       "      <th>id</th>\n",
       "      <th>item_id</th>\n",
       "      <th>dept_id</th>\n",
       "      <th>cat_id</th>\n",
       "      <th>store_id</th>\n",
       "      <th>state_id</th>\n",
       "      <th>d</th>\n",
       "      <th>y</th>\n",
       "      <th>d_integer</th>\n",
       "    </tr>\n",
       "  </thead>\n",
       "  <tbody>\n",
       "    <tr>\n",
       "      <th>59181087</th>\n",
       "      <td>FOODS_3_825_WI_3_evaluation</td>\n",
       "      <td>FOODS_3_825</td>\n",
       "      <td>FOODS_3</td>\n",
       "      <td>FOODS</td>\n",
       "      <td>WI_3</td>\n",
       "      <td>WI</td>\n",
       "      <td>d_1941</td>\n",
       "      <td>2.0</td>\n",
       "      <td>1941</td>\n",
       "    </tr>\n",
       "    <tr>\n",
       "      <th>59181088</th>\n",
       "      <td>FOODS_3_826_WI_3_evaluation</td>\n",
       "      <td>FOODS_3_826</td>\n",
       "      <td>FOODS_3</td>\n",
       "      <td>FOODS</td>\n",
       "      <td>WI_3</td>\n",
       "      <td>WI</td>\n",
       "      <td>d_1941</td>\n",
       "      <td>0.0</td>\n",
       "      <td>1941</td>\n",
       "    </tr>\n",
       "    <tr>\n",
       "      <th>59181089</th>\n",
       "      <td>FOODS_3_827_WI_3_evaluation</td>\n",
       "      <td>FOODS_3_827</td>\n",
       "      <td>FOODS_3</td>\n",
       "      <td>FOODS</td>\n",
       "      <td>WI_3</td>\n",
       "      <td>WI</td>\n",
       "      <td>d_1941</td>\n",
       "      <td>1.0</td>\n",
       "      <td>1941</td>\n",
       "    </tr>\n",
       "  </tbody>\n",
       "</table>\n",
       "</div>"
      ],
      "text/plain": [
       "                                   id      item_id  dept_id cat_id store_id  \\\n",
       "59181087  FOODS_3_825_WI_3_evaluation  FOODS_3_825  FOODS_3  FOODS     WI_3   \n",
       "59181088  FOODS_3_826_WI_3_evaluation  FOODS_3_826  FOODS_3  FOODS     WI_3   \n",
       "59181089  FOODS_3_827_WI_3_evaluation  FOODS_3_827  FOODS_3  FOODS     WI_3   \n",
       "\n",
       "         state_id       d    y  d_integer  \n",
       "59181087       WI  d_1941  2.0       1941  \n",
       "59181088       WI  d_1941  0.0       1941  \n",
       "59181089       WI  d_1941  1.0       1941  "
      ]
     },
     "execution_count": 32,
     "metadata": {},
     "output_type": "execute_result"
    }
   ],
   "source": [
    "df_sales_long.tail(3)"
   ]
  },
  {
   "cell_type": "code",
   "execution_count": null,
   "id": "8929b0d0-0edb-4ccf-9e9e-3a379ccefa45",
   "metadata": {},
   "outputs": [],
   "source": []
  },
  {
   "cell_type": "code",
   "execution_count": null,
   "id": "8f2198a1-be4a-4439-a079-b82b05703903",
   "metadata": {},
   "outputs": [],
   "source": []
  },
  {
   "cell_type": "markdown",
   "id": "f4ffd410-6abb-4031-96e9-5cb39ae2cb16",
   "metadata": {},
   "source": [
    "### 3. Revisar fecha de inicio y fin de cada serie"
   ]
  },
  {
   "cell_type": "code",
   "execution_count": 121,
   "id": "78d5fecc-e169-493d-a76d-af46e41e8b3a",
   "metadata": {},
   "outputs": [],
   "source": [
    "# generar en dataframe donde se muestra información de cada una de las series\n",
    "df_analize_each_serie = pd.DataFrame()"
   ]
  },
  {
   "cell_type": "code",
   "execution_count": 122,
   "id": "1fa221b0-c1a5-47dc-ad93-01a64093055b",
   "metadata": {},
   "outputs": [
    {
     "name": "stderr",
     "output_type": "stream",
     "text": [
      "/var/folders/fx/0kx46vn52sg544t8x3s4hdl00000gn/T/ipykernel_31999/134287862.py:1: FutureWarning: The default of observed=False is deprecated and will be changed to True in a future version of pandas. Pass observed=False to retain current behavior or observed=True to adopt the future default and silence this warning.\n",
      "  df_analize_each_serie = df_sales_long.groupby('id')['d_integer'].agg(['min', 'max']).reset_index()\n"
     ]
    }
   ],
   "source": [
    "df_analize_each_serie = df_sales_long.groupby('id')['d_integer'].agg(['min', 'max']).reset_index()\n",
    "df_analize_each_serie.rename(columns = {'min':'min_date', 'max':'max_date'}, inplace = True)"
   ]
  },
  {
   "cell_type": "code",
   "execution_count": 123,
   "id": "8bed8ec5-9088-4d6b-b2a8-dac82dee5384",
   "metadata": {},
   "outputs": [
    {
     "data": {
      "text/plain": [
       "0"
      ]
     },
     "execution_count": 123,
     "metadata": {},
     "output_type": "execute_result"
    }
   ],
   "source": [
    "# revisar si hay alguna serie que el día de INICIO sea distinto a 1\n",
    "(df_start_end_date['min'] != 1).sum()"
   ]
  },
  {
   "cell_type": "code",
   "execution_count": 124,
   "id": "99002d2c-5ae2-442d-bc43-f2468e907091",
   "metadata": {},
   "outputs": [
    {
     "data": {
      "text/plain": [
       "0"
      ]
     },
     "execution_count": 124,
     "metadata": {},
     "output_type": "execute_result"
    }
   ],
   "source": [
    "# revisar si hay alguna serie que el día de FIN sea distinto a 1941\n",
    "(df_start_end_date['max'] != 1941).sum()"
   ]
  },
  {
   "cell_type": "code",
   "execution_count": 125,
   "id": "89efccc2-55fa-42fe-b0f3-fe2c2197cae2",
   "metadata": {},
   "outputs": [
    {
     "data": {
      "text/html": [
       "<div>\n",
       "<style scoped>\n",
       "    .dataframe tbody tr th:only-of-type {\n",
       "        vertical-align: middle;\n",
       "    }\n",
       "\n",
       "    .dataframe tbody tr th {\n",
       "        vertical-align: top;\n",
       "    }\n",
       "\n",
       "    .dataframe thead th {\n",
       "        text-align: right;\n",
       "    }\n",
       "</style>\n",
       "<table border=\"1\" class=\"dataframe\">\n",
       "  <thead>\n",
       "    <tr style=\"text-align: right;\">\n",
       "      <th></th>\n",
       "      <th>id</th>\n",
       "      <th>min_date</th>\n",
       "      <th>max_date</th>\n",
       "    </tr>\n",
       "  </thead>\n",
       "  <tbody>\n",
       "    <tr>\n",
       "      <th>0</th>\n",
       "      <td>HOBBIES_1_001_CA_1_evaluation</td>\n",
       "      <td>1</td>\n",
       "      <td>1941</td>\n",
       "    </tr>\n",
       "    <tr>\n",
       "      <th>1</th>\n",
       "      <td>HOBBIES_1_002_CA_1_evaluation</td>\n",
       "      <td>1</td>\n",
       "      <td>1941</td>\n",
       "    </tr>\n",
       "    <tr>\n",
       "      <th>2</th>\n",
       "      <td>HOBBIES_1_003_CA_1_evaluation</td>\n",
       "      <td>1</td>\n",
       "      <td>1941</td>\n",
       "    </tr>\n",
       "    <tr>\n",
       "      <th>3</th>\n",
       "      <td>HOBBIES_1_004_CA_1_evaluation</td>\n",
       "      <td>1</td>\n",
       "      <td>1941</td>\n",
       "    </tr>\n",
       "    <tr>\n",
       "      <th>4</th>\n",
       "      <td>HOBBIES_1_005_CA_1_evaluation</td>\n",
       "      <td>1</td>\n",
       "      <td>1941</td>\n",
       "    </tr>\n",
       "  </tbody>\n",
       "</table>\n",
       "</div>"
      ],
      "text/plain": [
       "                              id  min_date  max_date\n",
       "0  HOBBIES_1_001_CA_1_evaluation         1      1941\n",
       "1  HOBBIES_1_002_CA_1_evaluation         1      1941\n",
       "2  HOBBIES_1_003_CA_1_evaluation         1      1941\n",
       "3  HOBBIES_1_004_CA_1_evaluation         1      1941\n",
       "4  HOBBIES_1_005_CA_1_evaluation         1      1941"
      ]
     },
     "execution_count": 125,
     "metadata": {},
     "output_type": "execute_result"
    }
   ],
   "source": [
    "df_analize_each_serie.head()"
   ]
  },
  {
   "cell_type": "code",
   "execution_count": null,
   "id": "d9fff60b-0395-41f6-800c-ce49b670ccb3",
   "metadata": {},
   "outputs": [],
   "source": []
  },
  {
   "cell_type": "markdown",
   "id": "e6ec82e5-4a9d-4626-801d-bc4eda69c274",
   "metadata": {},
   "source": [
    "**POR LO TANTO, TODAS LAS SERIES TIENEN LAS MISMAS FECHA DE INICIO Y FIN. Además por el tamaño teórico NO hay nulos**"
   ]
  },
  {
   "cell_type": "code",
   "execution_count": null,
   "id": "5d03764c-a126-43f4-b833-294f38feedbf",
   "metadata": {},
   "outputs": [],
   "source": []
  },
  {
   "cell_type": "markdown",
   "id": "3184e9bb-7688-4149-b5e9-15a8901e7170",
   "metadata": {},
   "source": [
    "### 4. Revisar si hay nulos\n",
    "Por el tamaño teórico de la data que coincide, se sabe que no existen nulos. De todas formas se calculan cuantas observaciones hay en cada serie"
   ]
  },
  {
   "cell_type": "code",
   "execution_count": 126,
   "id": "5ae4826e-fc84-4c29-82d0-8a051db84821",
   "metadata": {},
   "outputs": [
    {
     "name": "stderr",
     "output_type": "stream",
     "text": [
      "/var/folders/fx/0kx46vn52sg544t8x3s4hdl00000gn/T/ipykernel_31999/1543969028.py:2: FutureWarning: The default of observed=False is deprecated and will be changed to True in a future version of pandas. Pass observed=False to retain current behavior or observed=True to adopt the future default and silence this warning.\n",
      "  df_aux_size_serie = df_sales_long.groupby('id').size().reset_index().rename(columns = {0:'size_serie'})\n"
     ]
    }
   ],
   "source": [
    "# calcular el tamaño de cada serie\n",
    "df_aux_size_serie = df_sales_long.groupby('id').size().reset_index().rename(columns = {0:'size_serie'})"
   ]
  },
  {
   "cell_type": "code",
   "execution_count": 127,
   "id": "84babcff-5e9a-476a-bee8-1736187c0ef0",
   "metadata": {},
   "outputs": [],
   "source": [
    "# hacer el join con el dataframe que tiene la info de cada serie\n",
    "df_analize_each_serie = pd.merge(df_analize_each_serie, df_aux_size_serie, on = 'id', how='inner')"
   ]
  },
  {
   "cell_type": "code",
   "execution_count": 128,
   "id": "8baaa17f-7d50-4276-a08c-34e862602267",
   "metadata": {},
   "outputs": [
    {
     "data": {
      "text/plain": [
       "0"
      ]
     },
     "execution_count": 128,
     "metadata": {},
     "output_type": "execute_result"
    }
   ],
   "source": [
    "# revisar si hay alguna serie con largo distinto a 1941\n",
    "(df_analize_each_serie['size_serie'] != 1941).sum()"
   ]
  },
  {
   "cell_type": "code",
   "execution_count": 129,
   "id": "7d251b1c-1d6c-4000-9401-f078e5630cfd",
   "metadata": {},
   "outputs": [
    {
     "data": {
      "text/html": [
       "<div>\n",
       "<style scoped>\n",
       "    .dataframe tbody tr th:only-of-type {\n",
       "        vertical-align: middle;\n",
       "    }\n",
       "\n",
       "    .dataframe tbody tr th {\n",
       "        vertical-align: top;\n",
       "    }\n",
       "\n",
       "    .dataframe thead th {\n",
       "        text-align: right;\n",
       "    }\n",
       "</style>\n",
       "<table border=\"1\" class=\"dataframe\">\n",
       "  <thead>\n",
       "    <tr style=\"text-align: right;\">\n",
       "      <th></th>\n",
       "      <th>id</th>\n",
       "      <th>min_date</th>\n",
       "      <th>max_date</th>\n",
       "      <th>size_serie</th>\n",
       "    </tr>\n",
       "  </thead>\n",
       "  <tbody>\n",
       "    <tr>\n",
       "      <th>0</th>\n",
       "      <td>HOBBIES_1_001_CA_1_evaluation</td>\n",
       "      <td>1</td>\n",
       "      <td>1941</td>\n",
       "      <td>1941</td>\n",
       "    </tr>\n",
       "    <tr>\n",
       "      <th>1</th>\n",
       "      <td>HOBBIES_1_002_CA_1_evaluation</td>\n",
       "      <td>1</td>\n",
       "      <td>1941</td>\n",
       "      <td>1941</td>\n",
       "    </tr>\n",
       "    <tr>\n",
       "      <th>2</th>\n",
       "      <td>HOBBIES_1_003_CA_1_evaluation</td>\n",
       "      <td>1</td>\n",
       "      <td>1941</td>\n",
       "      <td>1941</td>\n",
       "    </tr>\n",
       "    <tr>\n",
       "      <th>3</th>\n",
       "      <td>HOBBIES_1_004_CA_1_evaluation</td>\n",
       "      <td>1</td>\n",
       "      <td>1941</td>\n",
       "      <td>1941</td>\n",
       "    </tr>\n",
       "    <tr>\n",
       "      <th>4</th>\n",
       "      <td>HOBBIES_1_005_CA_1_evaluation</td>\n",
       "      <td>1</td>\n",
       "      <td>1941</td>\n",
       "      <td>1941</td>\n",
       "    </tr>\n",
       "  </tbody>\n",
       "</table>\n",
       "</div>"
      ],
      "text/plain": [
       "                              id  min_date  max_date  size_serie\n",
       "0  HOBBIES_1_001_CA_1_evaluation         1      1941        1941\n",
       "1  HOBBIES_1_002_CA_1_evaluation         1      1941        1941\n",
       "2  HOBBIES_1_003_CA_1_evaluation         1      1941        1941\n",
       "3  HOBBIES_1_004_CA_1_evaluation         1      1941        1941\n",
       "4  HOBBIES_1_005_CA_1_evaluation         1      1941        1941"
      ]
     },
     "execution_count": 129,
     "metadata": {},
     "output_type": "execute_result"
    }
   ],
   "source": [
    "df_analize_each_serie.head()"
   ]
  },
  {
   "cell_type": "markdown",
   "id": "0575dad3-ce6a-4384-9584-0786aae77341",
   "metadata": {},
   "source": [
    "**COMO SE MENCIONÓ, NO HAY VALORES NULOS. TODAS LAS SERIES TIENEN TODOS SUS DATOS**"
   ]
  },
  {
   "cell_type": "code",
   "execution_count": null,
   "id": "3aa83a3e-e20b-40da-8e85-bd2ba7a915ce",
   "metadata": {},
   "outputs": [],
   "source": []
  },
  {
   "cell_type": "markdown",
   "id": "13b72256-3bc3-4683-bab4-c0544b6e9ea0",
   "metadata": {},
   "source": [
    "### 5. Revisar qué series tienen más volumen (series de tiempo de ventas)"
   ]
  },
  {
   "cell_type": "code",
   "execution_count": 130,
   "id": "2030d06f-b27e-46ff-b9d8-f166ec41acfa",
   "metadata": {},
   "outputs": [
    {
     "name": "stderr",
     "output_type": "stream",
     "text": [
      "/var/folders/fx/0kx46vn52sg544t8x3s4hdl00000gn/T/ipykernel_31999/1407211194.py:2: FutureWarning: The default of observed=False is deprecated and will be changed to True in a future version of pandas. Pass observed=False to retain current behavior or observed=True to adopt the future default and silence this warning.\n",
      "  df_aux_volumen_serie = df_sales_long.groupby('id')['y'].sum().reset_index().rename(columns = {'y':'volumen'})\n"
     ]
    }
   ],
   "source": [
    "# calcular el volumen total de cada serie\n",
    "df_aux_volumen_serie = df_sales_long.groupby('id')['y'].sum().reset_index().rename(columns = {'y':'volumen'})\n",
    "\n",
    "# agregar columna donde se calcule el volumen porcentual con respecto al total de volumen\n",
    "total_volumen = df_aux_volumen_serie['volumen'].sum()\n",
    "df_aux_volumen_serie['volumen_percent'] = np.round( 100 * (df_aux_volumen_serie['volumen'] / total_volumen) , 5)"
   ]
  },
  {
   "cell_type": "code",
   "execution_count": 131,
   "id": "995234a0-5531-490b-ab17-fdbfaaced1f3",
   "metadata": {},
   "outputs": [],
   "source": [
    "# hacer el join con el dataframe que tiene la info de cada serie\n",
    "df_analize_each_serie = pd.merge(df_analize_each_serie, df_aux_volumen_serie, on = 'id', how='inner')"
   ]
  },
  {
   "cell_type": "code",
   "execution_count": 132,
   "id": "b2c9e688-2578-4b73-905e-5529f15e9a5a",
   "metadata": {},
   "outputs": [],
   "source": [
    "# ordenar por volumen (el resto de columnas fecha de incio, fecha fin, tamaño serie son todos iguales)\n",
    "df_analize_each_serie.sort_values(by = 'volumen', ascending = False, inplace = True)"
   ]
  },
  {
   "cell_type": "code",
   "execution_count": null,
   "id": "cd54ad8e-67cb-4523-bbe4-8e3ba9c8f9ce",
   "metadata": {},
   "outputs": [],
   "source": []
  },
  {
   "cell_type": "code",
   "execution_count": 138,
   "id": "0afa3fe6-f754-4292-843b-d28d8a405461",
   "metadata": {},
   "outputs": [
    {
     "data": {
      "text/html": [
       "<div>\n",
       "<style scoped>\n",
       "    .dataframe tbody tr th:only-of-type {\n",
       "        vertical-align: middle;\n",
       "    }\n",
       "\n",
       "    .dataframe tbody tr th {\n",
       "        vertical-align: top;\n",
       "    }\n",
       "\n",
       "    .dataframe thead th {\n",
       "        text-align: right;\n",
       "    }\n",
       "</style>\n",
       "<table border=\"1\" class=\"dataframe\">\n",
       "  <thead>\n",
       "    <tr style=\"text-align: right;\">\n",
       "      <th></th>\n",
       "      <th>id</th>\n",
       "      <th>min_date</th>\n",
       "      <th>max_date</th>\n",
       "      <th>size_serie</th>\n",
       "      <th>volumen</th>\n",
       "      <th>volumen_percent</th>\n",
       "    </tr>\n",
       "  </thead>\n",
       "  <tbody>\n",
       "    <tr>\n",
       "      <th>8412</th>\n",
       "      <td>FOODS_3_090_CA_3_evaluation</td>\n",
       "      <td>1</td>\n",
       "      <td>1941</td>\n",
       "      <td>1941</td>\n",
       "      <td>253859.0</td>\n",
       "      <td>0.37931</td>\n",
       "    </tr>\n",
       "    <tr>\n",
       "      <th>18055</th>\n",
       "      <td>FOODS_3_586_TX_2_evaluation</td>\n",
       "      <td>1</td>\n",
       "      <td>1941</td>\n",
       "      <td>1941</td>\n",
       "      <td>195120.0</td>\n",
       "      <td>0.29154</td>\n",
       "    </tr>\n",
       "    <tr>\n",
       "      <th>21104</th>\n",
       "      <td>FOODS_3_586_TX_3_evaluation</td>\n",
       "      <td>1</td>\n",
       "      <td>1941</td>\n",
       "      <td>1941</td>\n",
       "      <td>151862.0</td>\n",
       "      <td>0.22691</td>\n",
       "    </tr>\n",
       "    <tr>\n",
       "      <th>8908</th>\n",
       "      <td>FOODS_3_586_CA_3_evaluation</td>\n",
       "      <td>1</td>\n",
       "      <td>1941</td>\n",
       "      <td>1941</td>\n",
       "      <td>136269.0</td>\n",
       "      <td>0.20361</td>\n",
       "    </tr>\n",
       "    <tr>\n",
       "      <th>2314</th>\n",
       "      <td>FOODS_3_090_CA_1_evaluation</td>\n",
       "      <td>1</td>\n",
       "      <td>1941</td>\n",
       "      <td>1941</td>\n",
       "      <td>128855.0</td>\n",
       "      <td>0.19253</td>\n",
       "    </tr>\n",
       "    <tr>\n",
       "      <th>29755</th>\n",
       "      <td>FOODS_3_090_WI_3_evaluation</td>\n",
       "      <td>1</td>\n",
       "      <td>1941</td>\n",
       "      <td>1941</td>\n",
       "      <td>123500.0</td>\n",
       "      <td>0.18453</td>\n",
       "    </tr>\n",
       "    <tr>\n",
       "      <th>17559</th>\n",
       "      <td>FOODS_3_090_TX_2_evaluation</td>\n",
       "      <td>1</td>\n",
       "      <td>1941</td>\n",
       "      <td>1941</td>\n",
       "      <td>121275.0</td>\n",
       "      <td>0.18120</td>\n",
       "    </tr>\n",
       "    <tr>\n",
       "      <th>20608</th>\n",
       "      <td>FOODS_3_090_TX_3_evaluation</td>\n",
       "      <td>1</td>\n",
       "      <td>1941</td>\n",
       "      <td>1941</td>\n",
       "      <td>116773.0</td>\n",
       "      <td>0.17448</td>\n",
       "    </tr>\n",
       "    <tr>\n",
       "      <th>17721</th>\n",
       "      <td>FOODS_3_252_TX_2_evaluation</td>\n",
       "      <td>1</td>\n",
       "      <td>1941</td>\n",
       "      <td>1941</td>\n",
       "      <td>115613.0</td>\n",
       "      <td>0.17274</td>\n",
       "    </tr>\n",
       "    <tr>\n",
       "      <th>15006</th>\n",
       "      <td>FOODS_3_586_TX_1_evaluation</td>\n",
       "      <td>1</td>\n",
       "      <td>1941</td>\n",
       "      <td>1941</td>\n",
       "      <td>114010.0</td>\n",
       "      <td>0.17035</td>\n",
       "    </tr>\n",
       "  </tbody>\n",
       "</table>\n",
       "</div>"
      ],
      "text/plain": [
       "                                id  min_date  max_date  size_serie   volumen  \\\n",
       "8412   FOODS_3_090_CA_3_evaluation         1      1941        1941  253859.0   \n",
       "18055  FOODS_3_586_TX_2_evaluation         1      1941        1941  195120.0   \n",
       "21104  FOODS_3_586_TX_3_evaluation         1      1941        1941  151862.0   \n",
       "8908   FOODS_3_586_CA_3_evaluation         1      1941        1941  136269.0   \n",
       "2314   FOODS_3_090_CA_1_evaluation         1      1941        1941  128855.0   \n",
       "29755  FOODS_3_090_WI_3_evaluation         1      1941        1941  123500.0   \n",
       "17559  FOODS_3_090_TX_2_evaluation         1      1941        1941  121275.0   \n",
       "20608  FOODS_3_090_TX_3_evaluation         1      1941        1941  116773.0   \n",
       "17721  FOODS_3_252_TX_2_evaluation         1      1941        1941  115613.0   \n",
       "15006  FOODS_3_586_TX_1_evaluation         1      1941        1941  114010.0   \n",
       "\n",
       "       volumen_percent  \n",
       "8412           0.37931  \n",
       "18055          0.29154  \n",
       "21104          0.22691  \n",
       "8908           0.20361  \n",
       "2314           0.19253  \n",
       "29755          0.18453  \n",
       "17559          0.18120  \n",
       "20608          0.17448  \n",
       "17721          0.17274  \n",
       "15006          0.17035  "
      ]
     },
     "execution_count": 138,
     "metadata": {},
     "output_type": "execute_result"
    }
   ],
   "source": [
    "# mostrar las 10 series con más volumen\n",
    "df_analize_each_serie.head(10)"
   ]
  },
  {
   "cell_type": "code",
   "execution_count": 141,
   "id": "4abea85c-11d9-4482-86f5-f31f9d84a3c7",
   "metadata": {},
   "outputs": [
    {
     "data": {
      "text/html": [
       "<div>\n",
       "<style scoped>\n",
       "    .dataframe tbody tr th:only-of-type {\n",
       "        vertical-align: middle;\n",
       "    }\n",
       "\n",
       "    .dataframe tbody tr th {\n",
       "        vertical-align: top;\n",
       "    }\n",
       "\n",
       "    .dataframe thead th {\n",
       "        text-align: right;\n",
       "    }\n",
       "</style>\n",
       "<table border=\"1\" class=\"dataframe\">\n",
       "  <thead>\n",
       "    <tr style=\"text-align: right;\">\n",
       "      <th></th>\n",
       "      <th>id</th>\n",
       "      <th>min_date</th>\n",
       "      <th>max_date</th>\n",
       "      <th>size_serie</th>\n",
       "      <th>volumen</th>\n",
       "      <th>volumen_percent</th>\n",
       "    </tr>\n",
       "  </thead>\n",
       "  <tbody>\n",
       "    <tr>\n",
       "      <th>6992</th>\n",
       "      <td>HOUSEHOLD_1_336_CA_3_evaluation</td>\n",
       "      <td>1</td>\n",
       "      <td>1941</td>\n",
       "      <td>1941</td>\n",
       "      <td>24.0</td>\n",
       "      <td>0.00004</td>\n",
       "    </tr>\n",
       "    <tr>\n",
       "      <th>10549</th>\n",
       "      <td>HOUSEHOLD_2_307_CA_4_evaluation</td>\n",
       "      <td>1</td>\n",
       "      <td>1941</td>\n",
       "      <td>1941</td>\n",
       "      <td>24.0</td>\n",
       "      <td>0.00004</td>\n",
       "    </tr>\n",
       "    <tr>\n",
       "      <th>17280</th>\n",
       "      <td>FOODS_2_209_TX_2_evaluation</td>\n",
       "      <td>1</td>\n",
       "      <td>1941</td>\n",
       "      <td>1941</td>\n",
       "      <td>24.0</td>\n",
       "      <td>0.00004</td>\n",
       "    </tr>\n",
       "    <tr>\n",
       "      <th>10458</th>\n",
       "      <td>HOUSEHOLD_2_216_CA_4_evaluation</td>\n",
       "      <td>1</td>\n",
       "      <td>1941</td>\n",
       "      <td>1941</td>\n",
       "      <td>23.0</td>\n",
       "      <td>0.00003</td>\n",
       "    </tr>\n",
       "    <tr>\n",
       "      <th>6682</th>\n",
       "      <td>HOUSEHOLD_1_020_CA_3_evaluation</td>\n",
       "      <td>1</td>\n",
       "      <td>1941</td>\n",
       "      <td>1941</td>\n",
       "      <td>23.0</td>\n",
       "      <td>0.00003</td>\n",
       "    </tr>\n",
       "    <tr>\n",
       "      <th>935</th>\n",
       "      <td>HOUSEHOLD_1_378_CA_1_evaluation</td>\n",
       "      <td>1</td>\n",
       "      <td>1941</td>\n",
       "      <td>1941</td>\n",
       "      <td>23.0</td>\n",
       "      <td>0.00003</td>\n",
       "    </tr>\n",
       "    <tr>\n",
       "      <th>20192</th>\n",
       "      <td>FOODS_2_071_TX_3_evaluation</td>\n",
       "      <td>1</td>\n",
       "      <td>1941</td>\n",
       "      <td>1941</td>\n",
       "      <td>18.0</td>\n",
       "      <td>0.00003</td>\n",
       "    </tr>\n",
       "    <tr>\n",
       "      <th>27606</th>\n",
       "      <td>HOBBIES_1_170_WI_3_evaluation</td>\n",
       "      <td>1</td>\n",
       "      <td>1941</td>\n",
       "      <td>1941</td>\n",
       "      <td>16.0</td>\n",
       "      <td>0.00002</td>\n",
       "    </tr>\n",
       "    <tr>\n",
       "      <th>26276</th>\n",
       "      <td>FOODS_2_057_WI_2_evaluation</td>\n",
       "      <td>1</td>\n",
       "      <td>1941</td>\n",
       "      <td>1941</td>\n",
       "      <td>16.0</td>\n",
       "      <td>0.00002</td>\n",
       "    </tr>\n",
       "    <tr>\n",
       "      <th>6048</th>\n",
       "      <td>FOODS_3_778_CA_2_evaluation</td>\n",
       "      <td>1</td>\n",
       "      <td>1941</td>\n",
       "      <td>1941</td>\n",
       "      <td>15.0</td>\n",
       "      <td>0.00002</td>\n",
       "    </tr>\n",
       "  </tbody>\n",
       "</table>\n",
       "</div>"
      ],
      "text/plain": [
       "                                    id  min_date  max_date  size_serie  \\\n",
       "6992   HOUSEHOLD_1_336_CA_3_evaluation         1      1941        1941   \n",
       "10549  HOUSEHOLD_2_307_CA_4_evaluation         1      1941        1941   \n",
       "17280      FOODS_2_209_TX_2_evaluation         1      1941        1941   \n",
       "10458  HOUSEHOLD_2_216_CA_4_evaluation         1      1941        1941   \n",
       "6682   HOUSEHOLD_1_020_CA_3_evaluation         1      1941        1941   \n",
       "935    HOUSEHOLD_1_378_CA_1_evaluation         1      1941        1941   \n",
       "20192      FOODS_2_071_TX_3_evaluation         1      1941        1941   \n",
       "27606    HOBBIES_1_170_WI_3_evaluation         1      1941        1941   \n",
       "26276      FOODS_2_057_WI_2_evaluation         1      1941        1941   \n",
       "6048       FOODS_3_778_CA_2_evaluation         1      1941        1941   \n",
       "\n",
       "       volumen  volumen_percent  \n",
       "6992      24.0          0.00004  \n",
       "10549     24.0          0.00004  \n",
       "17280     24.0          0.00004  \n",
       "10458     23.0          0.00003  \n",
       "6682      23.0          0.00003  \n",
       "935       23.0          0.00003  \n",
       "20192     18.0          0.00003  \n",
       "27606     16.0          0.00002  \n",
       "26276     16.0          0.00002  \n",
       "6048      15.0          0.00002  "
      ]
     },
     "execution_count": 141,
     "metadata": {},
     "output_type": "execute_result"
    }
   ],
   "source": [
    "# mostrar las 10 series con menos volumen\n",
    "df_analize_each_serie.tail(10)"
   ]
  },
  {
   "cell_type": "code",
   "execution_count": 142,
   "id": "cb832799-115c-4021-82f7-bd09f40f882a",
   "metadata": {},
   "outputs": [
    {
     "data": {
      "text/plain": [
       "2.1772"
      ]
     },
     "execution_count": 142,
     "metadata": {},
     "output_type": "execute_result"
    }
   ],
   "source": [
    "# 10 series con más volumen, son el 2% de los datos\n",
    "df_analize_each_serie.head(10)['volumen_percent'].sum()"
   ]
  },
  {
   "cell_type": "code",
   "execution_count": null,
   "id": "8882f110-c741-4788-9675-2ecd9048edc8",
   "metadata": {},
   "outputs": [],
   "source": []
  },
  {
   "cell_type": "code",
   "execution_count": null,
   "id": "df225f07-4bcb-416d-adc8-bb66f9d812bf",
   "metadata": {},
   "outputs": [],
   "source": []
  },
  {
   "cell_type": "code",
   "execution_count": null,
   "id": "aaf9c91a-9bad-49e6-b2ad-3fbeeb59fa74",
   "metadata": {},
   "outputs": [],
   "source": []
  }
 ],
 "metadata": {
  "kernelspec": {
   "display_name": "Python 3 (ipykernel)",
   "language": "python",
   "name": "python3"
  },
  "language_info": {
   "codemirror_mode": {
    "name": "ipython",
    "version": 3
   },
   "file_extension": ".py",
   "mimetype": "text/x-python",
   "name": "python",
   "nbconvert_exporter": "python",
   "pygments_lexer": "ipython3",
   "version": "3.11.7"
  }
 },
 "nbformat": 4,
 "nbformat_minor": 5
}
